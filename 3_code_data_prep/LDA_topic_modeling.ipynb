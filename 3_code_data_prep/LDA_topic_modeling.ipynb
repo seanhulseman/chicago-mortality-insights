{
 "cells": [
  {
   "cell_type": "markdown",
   "id": "d9035df5",
   "metadata": {},
   "source": [
    "Author: Susan Hopper"
   ]
  },
  {
   "cell_type": "markdown",
   "id": "7a343a50",
   "metadata": {},
   "source": [
    "## refined LDA Topic Modeling on full primary cause\n",
    "Credit where credit is due! Based on the work of Selva Prabhakaran, https://www.machinelearningplus.com/nlp/topic-modeling-gensim-python/"
   ]
  },
  {
   "cell_type": "code",
   "execution_count": null,
   "id": "cc4d6f74",
   "metadata": {},
   "outputs": [],
   "source": [
    "# In CLI:\n",
    "# pip install pyLDAvis"
   ]
  },
  {
   "cell_type": "code",
   "execution_count": 1,
   "id": "51abad00",
   "metadata": {},
   "outputs": [],
   "source": [
    "# Imports\n",
    "import numpy as np\n",
    "import pandas as pd\n",
    "import matplotlib.pyplot as plt\n",
    "\n",
    "from nltk.corpus import stopwords\n",
    "from nltk.stem import PorterStemmer\n",
    "\n",
    "import gensim\n",
    "import gensim.corpora as corpora\n",
    "from gensim.utils import simple_preprocess\n",
    "from gensim.models import CoherenceModel\n",
    "\n",
    "import pyLDAvis\n",
    "import pyLDAvis.gensim\n",
    "\n",
    "from pprint import pprint\n",
    "\n",
    "import pickle"
   ]
  },
  {
   "cell_type": "code",
   "execution_count": 2,
   "id": "3695662e",
   "metadata": {},
   "outputs": [],
   "source": [
    "# Read in the cleaned data\n",
    "df = pd.read_csv('../1_data/cleaned_data_31OCT.csv')"
   ]
  },
  {
   "cell_type": "code",
   "execution_count": null,
   "id": "3cf98c29",
   "metadata": {},
   "outputs": [],
   "source": [
    "df.head()"
   ]
  },
  {
   "cell_type": "code",
   "execution_count": 3,
   "id": "3762319c",
   "metadata": {},
   "outputs": [],
   "source": [
    "# Define a funcion to stem the words\n",
    "# I'm not lemmatizing b/c we don't have many verbs\n",
    "# and when I lemmatized before it messed up non-verbs commonly found in our dataset, \n",
    "# like turning 'wound' into 'wind' and 'left' into 'leav'\n",
    "\n",
    "stop_words = stopwords.words('english')\n",
    "ps = PorterStemmer()\n",
    "\n",
    "def preprocess(text):\n",
    "    result = []\n",
    "    for token in gensim.utils.simple_preprocess(text):\n",
    "        if token not in stop_words and len(token) > 2:\n",
    "            result.append(ps.stem(token))\n",
    "    return result"
   ]
  },
  {
   "cell_type": "code",
   "execution_count": null,
   "id": "bd40b094",
   "metadata": {},
   "outputs": [],
   "source": [
    "# Test it's functioning as expected\n",
    "\n",
    "doc_sample = df[df.index == 10_001].values[0][8]\n",
    "\n",
    "print('original document: ')\n",
    "words = []\n",
    "for word in doc_sample.split(' '):\n",
    "    words.append(word)\n",
    "print(words)\n",
    "\n",
    "print('\\nstemmed document: ')\n",
    "print(preprocess(doc_sample))"
   ]
  },
  {
   "cell_type": "code",
   "execution_count": 4,
   "id": "10e13df7",
   "metadata": {},
   "outputs": [],
   "source": [
    "# Process the 'primary_cause' column\n",
    "\n",
    "data_words = df['primary_cause'].map(preprocess).tolist()"
   ]
  },
  {
   "cell_type": "code",
   "execution_count": 5,
   "id": "73de8b11",
   "metadata": {},
   "outputs": [
    {
     "data": {
      "text/plain": [
       "[['multipl', 'blunt', 'forc', 'injuri', 'motor', 'vehicl', 'collis'],\n",
       " ['multipl', 'gunshot', 'wound'],\n",
       " ['gunshot', 'wound', 'head'],\n",
       " ['multipl', 'gunshot', 'wound'],\n",
       " ['multipl', 'gunshot', 'wound'],\n",
       " ['multipl', 'injuri', 'bicyclist', 'struck', 'motor', 'vehicl'],\n",
       " ['multipl', 'gunshot', 'wound'],\n",
       " ['multipl', 'injuri', 'scooter', 'motor', 'vehicl', 'collis'],\n",
       " ['gunshot', 'wound', 'chest'],\n",
       " ['multipl', 'gunshot', 'wound']]"
      ]
     },
     "execution_count": 5,
     "metadata": {},
     "output_type": "execute_result"
    }
   ],
   "source": [
    "# Build bigram model and function, and make bigrams\n",
    "# I also tried trigrams but bigrams worked better\n",
    "\n",
    "bigram = gensim.models.Phrases(data_words, min_count=1, threshold=1) \n",
    "\n",
    "bigram_mod = gensim.models.phrases.Phraser(bigram)\n",
    "\n",
    "def make_bigrams(texts):\n",
    "    return [bigram_mod[doc] for doc in texts]\n",
    "\n",
    "data_words_bigrams = make_bigrams(data_words)\n",
    "\n",
    "data_words[:10]"
   ]
  },
  {
   "cell_type": "code",
   "execution_count": 6,
   "id": "c393531b",
   "metadata": {},
   "outputs": [],
   "source": [
    "# Create dictionary for the model\n",
    "id2word = corpora.Dictionary(data_words_bigrams)\n",
    "\n",
    "# Create corpus for the model\n",
    "texts = data_words_bigrams\n",
    "\n",
    "# Find term document frequency\n",
    "corpus = [id2word.doc2bow(text) for text in texts]"
   ]
  },
  {
   "cell_type": "code",
   "execution_count": null,
   "id": "4211bb2e",
   "metadata": {
    "scrolled": true
   },
   "outputs": [],
   "source": [
    "# Check the processing with human-readable format of corpus (term, frequency in doc)\n",
    "\n",
    "[[(id2word[id], freq) for id, freq in cp] for cp in corpus[25:30]]"
   ]
  },
  {
   "cell_type": "code",
   "execution_count": 7,
   "id": "44e0ef34",
   "metadata": {},
   "outputs": [],
   "source": [
    "# Build LDA model\n",
    "# I experimented with num_topics, chunk_size, & passes\n",
    "# This version gave my best results based on coherence score\n",
    "\n",
    "lda_model2 = gensim.models.ldamodel.LdaModel(corpus=corpus,\n",
    "                                           id2word=id2word,\n",
    "                                           num_topics=5,\n",
    "                                           random_state=42,\n",
    "                                           update_every=1,\n",
    "                                           chunksize=3000,\n",
    "                                           passes=20,\n",
    "                                           alpha='auto',\n",
    "                                           per_word_topics=True)\n"
   ]
  },
  {
   "cell_type": "code",
   "execution_count": null,
   "id": "5a4a0b3e",
   "metadata": {
    "scrolled": false
   },
   "outputs": [],
   "source": [
    "# Print keywords in each topic\n",
    "pprint(lda_model2.print_topics())\n",
    "doc_lda = lda_model2[corpus]"
   ]
  },
  {
   "cell_type": "code",
   "execution_count": 8,
   "id": "a40e0fd3",
   "metadata": {
    "scrolled": false
   },
   "outputs": [
    {
     "data": {
      "text/html": [
       "\n",
       "<link rel=\"stylesheet\" type=\"text/css\" href=\"https://cdn.jsdelivr.net/gh/bmabey/pyLDAvis@3.4.0/pyLDAvis/js/ldavis.v1.0.0.css\">\n",
       "\n",
       "\n",
       "<div id=\"ldavis_el553358791539365916878466\" style=\"background-color:white;\"></div>\n",
       "<script type=\"text/javascript\">\n",
       "\n",
       "var ldavis_el553358791539365916878466_data = {\"mdsDat\": {\"x\": [0.45888993192843736, -0.18106565849812672, -0.16458066441586117, -0.06569367765309901, -0.04754993136135003], \"y\": [-0.009567133456944885, -0.09715993799649612, 0.1171583923195869, -0.3077606155148113, 0.2973292946486654], \"topics\": [1, 2, 3, 4, 5], \"cluster\": [1, 1, 1, 1, 1], \"Freq\": [52.74970588748289, 17.86554978850245, 11.998977663527247, 10.210887507844948, 7.174879152642462]}, \"tinfo\": {\"Term\": [\"gunshot_wound\", \"toxic\", \"multipl\", \"fentanyl\", \"head\", \"heroin\", \"fall\", \"injuri\", \"injuri_motor\", \"combin_drug\", \"cocain\", \"complic\", \"ethanol\", \"blunt_forc\", \"despropionyl\", \"pedestrian\", \"vehicl_strike\", \"acut\", \"hang\", \"close_head\", \"vehicl_collis\", \"diseas\", \"combin\", \"anpp\", \"chest\", \"hypertens_cardiovascular\", \"motor_vehicl\", \"drown\", \"fall_stair\", \"neck\", \"toxic\", \"fentanyl\", \"heroin\", \"combin_drug\", \"cocain\", \"ethanol\", \"despropionyl\", \"combin\", \"anpp\", \"alprazolam\", \"acetyl\", \"methadon\", \"clonazepam\", \"furanyl\", \"hydrocodon\", \"diphenhydramin\", \"tramadol\", \"methamphetamin\", \"phencyclidin\", \"diazepam\", \"drug\", \"gabapentin\", \"morphin\", \"xylazin\", \"cyclopropyl\", \"amphetamin\", \"anox_encephalopathi\", \"lorazepam\", \"acryl\", \"acetaminophen\", \"intox\", \"probabl\", \"fall\", \"hang\", \"close_head\", \"alcohol\", \"asphyxi_hang\", \"fractur_fall\", \"fall_height\", \"subdur_hematoma\", \"subdur_hemorrhag\", \"abdomen\", \"fractur\", \"right_hip\", \"cervic_spine\", \"hip_fractur\", \"left_hip\", \"cervic\", \"left_femur\", \"right_femur\", \"delay_complic\", \"fall_home\", \"traumat\", \"intracrani_hemorrhag\", \"fractur_unwit\", \"shotgun_wound\", \"opiat_intox\", \"stair\", \"fall_stand\", \"sepsi\", \"fall_ladder\", \"femur_fractur\", \"complic\", \"multipl\", \"gunshot_wound\", \"injuri\", \"due\", \"complic_remot\", \"blunt_forc\", \"probabl\", \"craniocerebr_injuri\", \"injuri_motor\", \"pedestrian\", \"vehicl_strike\", \"vehicl_collis\", \"fix_object\", \"unwit_fall\", \"asphyxia_hang\", \"pedestrian_struck\", \"automobil_strike\", \"train_strike\", \"assault\", \"sport_util\", \"vehicl_crash\", \"vehicl\", \"bicyclist\", \"oxycodon\", \"asphyxia\", \"strike_pedestrian\", \"train\", \"cervic_spinal\", \"amitriptylin\", \"extrem\", \"bupropion\", \"truck_strike\", \"semi_truck\", \"strangul\", \"plastic_bag\", \"motorcycl\", \"hydrocodon_oxycodon\", \"topiram\", \"metoprolol\", \"blunt_forc\", \"multipl\", \"injuri\", \"motor_vehicl\", \"complic\", \"remot\", \"head\", \"acut\", \"chest\", \"opiat\", \"back\", \"torso\", \"thermal\", \"opioid\", \"sharp_forc\", \"benzodiazepin\", \"automobil\", \"hous_fire\", \"vehicl_accid\", \"wit_fall\", \"bag_head\", \"inhal\", \"choke_food\", \"complic_follow\", \"face\", \"inhal_smoke\", \"anox_brain\", \"thermal_inhal\", \"bolu\", \"pulmonari_thromboembol\", \"inhal_automobil\", \"hip\", \"opiat_benzodiazepin\", \"apart_fire\", \"hemorrhag\", \"asphyxia_vitiat\", \"carbon_monoxid\", \"gunshot_wound\", \"complic\", \"injuri\", \"intox\", \"diseas\", \"hypertens_cardiovascular\", \"drown\", \"fall_stair\", \"neck\", \"wound\", \"collis\", \"injuri_motorcycl\", \"stab\", \"blunt\", \"fire\", \"food_bolu\", \"trauma\", \"asphyxia_choke\", \"cardiovascular_diseas\", \"height\", \"inhal_product\", \"intraor_gunshot\", \"object\", \"crash\", \"exposur\", \"injuri_jump\", \"head_trauma\", \"strike_fix\", \"accid\", \"wound_chest\", \"hypertens_atherosclerot\", \"hypothermia_cold\", \"strike\", \"car\", \"motor_vehicl\", \"craniocerebr_injuri\", \"multipl\", \"complic\", \"blunt_forc\"], \"Freq\": [7471.0, 15495.0, 8448.0, 12785.0, 2473.0, 7461.0, 2691.0, 4614.0, 1847.0, 5910.0, 5242.0, 3745.0, 4067.0, 1817.0, 3439.0, 947.0, 884.0, 800.0, 1039.0, 970.0, 775.0, 606.0, 2504.0, 2404.0, 658.0, 532.0, 573.0, 353.0, 346.0, 345.0, 15494.308660151151, 12785.054914377812, 7460.487095316338, 5909.381930452878, 5242.276417222984, 4066.767195925653, 3439.17851929674, 2503.774822966897, 2404.1807643890884, 1324.0855968906692, 1215.9143001602574, 989.2202249368771, 471.95345714697567, 449.79960689022175, 445.2200541591383, 401.9513673984283, 345.94448547468596, 301.00852373025384, 267.45575702373975, 265.47056988228604, 259.13007896775224, 244.83138486868785, 242.36161759540678, 227.70285414516306, 180.86222059676317, 179.92431057825144, 215.68871928387983, 157.09946416150095, 152.07876651326782, 151.24190770762172, 1190.2818862012996, 1049.8304342880078, 2690.6370963981576, 1038.887159470283, 970.1664249940712, 526.4846840866275, 346.8218245982958, 340.66543579599977, 339.1064513510958, 285.8342278844936, 253.33313417949864, 200.86612472005424, 168.56618035216403, 116.43111117658346, 116.54806287818272, 114.14888090150954, 110.28741131372274, 109.05053618932571, 106.98477684925413, 93.43221277948803, 87.95465258992735, 75.43534174308697, 79.6032907241136, 65.10690673679707, 61.79640987340731, 59.29237219347508, 46.781822051314926, 45.47575070111869, 40.509311664952776, 39.26389818878617, 37.081027053019646, 36.3616709164336, 2396.8823139299125, 4842.178220840174, 4093.563998857082, 2295.651994832224, 110.61383724540207, 99.30836576141374, 439.79617419355174, 273.4393397970509, 108.98390146905737, 1847.191633554741, 946.9206628733857, 883.7191140611944, 774.3190573658292, 382.3287471593849, 375.33793907601364, 304.61952969437294, 245.67691289633277, 238.2462303776853, 224.26005840271196, 217.24113492938415, 191.19393854499526, 182.37140882359924, 131.44354986763148, 94.22504974840955, 81.26014342833707, 75.85826904190056, 73.93668169711064, 69.08034145222938, 68.61534635408533, 53.60417726239964, 46.220805059996486, 45.06647316713373, 44.12150933540133, 40.90647467036123, 35.74731654271752, 39.08777929870298, 31.42259212665799, 26.746787729977033, 25.537475515054595, 25.64885188454642, 1255.8348542247838, 3137.1815413808313, 1887.7367975877105, 294.54192259355284, 485.7097847117158, 55.706256649541494, 2472.468231951839, 799.392911561629, 657.8691172566059, 349.98873230773296, 327.4036979496625, 275.62644148497503, 205.61286750838948, 196.79533122676312, 183.599079562838, 135.20248054128004, 114.30384378164892, 108.01021732474656, 100.03453783823842, 92.9615255549204, 79.82258017724675, 71.63150903245523, 68.45234876070006, 68.30070229723576, 61.526624816415875, 61.258549330452695, 58.28586791196367, 54.73840207014279, 53.51961834527681, 51.76615104185802, 50.95386917046051, 46.81863603229598, 45.63494097022407, 45.086722128082364, 45.431969627677645, 40.753905997172694, 254.85970068400198, 3377.7758485449876, 638.1732686173992, 430.4422577466178, 173.55095263137227, 605.7977870631137, 531.8684220457459, 352.85600903423244, 345.40036686477373, 345.17351697680664, 330.4879395133204, 252.29435667831342, 236.3407973082861, 225.00527528639958, 209.14321406987463, 169.41558450867893, 163.21277932966004, 153.90118008006596, 149.22546822438233, 134.11132773564816, 132.58312950019487, 131.3615348524042, 121.37020509789285, 118.07721455715019, 109.02278360303913, 104.58568513933837, 103.34246850440941, 102.18868307531365, 97.91023475160198, 97.22334136812614, 94.65002009532752, 89.62203177606578, 88.03587327993563, 72.44728257518763, 68.69030514568723, 278.2432749220413, 135.77995458624673, 468.8276611487103, 224.72329409378207, 121.77634602722732], \"Total\": [7471.0, 15495.0, 8448.0, 12785.0, 2473.0, 7461.0, 2691.0, 4614.0, 1847.0, 5910.0, 5242.0, 3745.0, 4067.0, 1817.0, 3439.0, 947.0, 884.0, 800.0, 1039.0, 970.0, 775.0, 606.0, 2504.0, 2404.0, 658.0, 532.0, 573.0, 353.0, 346.0, 345.0, 15495.027602991124, 12785.769065896684, 7461.20204974484, 5910.096552009369, 5242.99228483215, 4067.482859662484, 3439.8925152821207, 2504.4896191340677, 2404.8948099106697, 1324.8002025752228, 1216.628385428464, 989.9351158110596, 472.66816284613753, 450.51431244451396, 445.93538577695057, 402.6659062577474, 346.6588668541984, 301.7235002883149, 268.17078167348575, 266.18513449385546, 259.84713753507896, 245.5462054106586, 243.07642879554473, 228.41680905563723, 181.5769893304516, 180.64041925086497, 216.59901098807083, 157.81460368982155, 152.79321415324367, 151.95964420156594, 1364.3782725477122, 1363.39678574898, 2691.428231652905, 1039.676618740338, 970.9596681397735, 527.2938403769838, 347.6111716238001, 341.4551906437369, 339.89690369068427, 286.6247673627695, 254.12671516412047, 201.6576871637947, 169.3602320223663, 117.2211706036447, 117.34082357595238, 114.94043393556787, 111.07742103413254, 109.85014654073309, 107.77429040205107, 94.22170036716423, 88.7651113020413, 76.22647343097506, 80.43851874890586, 65.89946388476442, 62.58644373859951, 60.09318429799548, 47.57497776388225, 46.277998439915535, 41.31077172328199, 40.083472296642434, 37.871187064378844, 37.15127733845626, 3745.7531796395847, 8448.622849892776, 7471.957228219908, 4614.261238943413, 143.3663497134799, 138.3230359139068, 1817.843701864597, 1363.39678574898, 245.39148401598018, 1847.9775592599303, 947.7067175918113, 884.5047413136812, 775.1047665152448, 383.1147712016946, 376.1316769995208, 305.4052429341658, 246.46308229083596, 239.03282009230696, 225.04572091390776, 218.02961709984294, 191.9803950476369, 183.15699557758577, 132.2340934601194, 95.01134996434826, 82.05685143373297, 76.65984867875774, 74.7241328374846, 69.86656360088897, 69.40677789225293, 54.40318070509256, 47.01543653152219, 45.868550822660765, 44.90769156934992, 41.69389331247906, 36.53329934283655, 39.97343913175797, 32.209720910000286, 27.549865764806743, 26.337537627852576, 26.45258312974993, 1817.843701864597, 8448.622849892776, 4614.261238943413, 573.4094383329501, 3745.7531796395847, 118.7999877009864, 2473.27683737946, 800.2099345016081, 658.6752496283663, 350.80002481317064, 328.20785483104856, 276.4338848105275, 206.42304814087566, 197.60251566343013, 184.40967665476018, 136.01205742764006, 115.13412617984109, 108.81549672780547, 100.87806914844354, 93.78018226145878, 80.62729921460856, 72.43806533628937, 69.25708620206495, 69.13945029419656, 62.33100893652112, 62.06493249852415, 59.092375265395404, 55.54517658544949, 54.32433261946876, 52.57961223085098, 51.7594035848892, 47.63869635741675, 46.44177950523345, 45.89252023821547, 46.250407836822376, 41.55857371903717, 295.5435518163013, 7471.957228219908, 3745.7531796395847, 4614.261238943413, 1364.3782725477122, 606.6106005047695, 532.6809887725531, 353.6693373282327, 346.2181169329726, 345.9911890776672, 331.30100722380297, 253.1142775212015, 237.15505378598465, 225.81789124199798, 209.96304409645956, 170.23903690787458, 164.0253329578253, 154.7202921678579, 150.0380002711563, 134.92439924154385, 133.3981203044141, 132.17685445689298, 122.18328573476522, 118.8917776547157, 109.83724775145888, 105.39936466783831, 104.15546560198592, 103.0050796902302, 98.72382780549428, 98.04109224601325, 95.4625294039759, 90.43466440685738, 88.8485988383548, 73.26347244097235, 69.51811175484207, 573.4094383329501, 245.39148401598018, 8448.622849892776, 3745.7531796395847, 1817.843701864597], \"Category\": [\"Default\", \"Default\", \"Default\", \"Default\", \"Default\", \"Default\", \"Default\", \"Default\", \"Default\", \"Default\", \"Default\", \"Default\", \"Default\", \"Default\", \"Default\", \"Default\", \"Default\", \"Default\", \"Default\", \"Default\", \"Default\", \"Default\", \"Default\", \"Default\", \"Default\", \"Default\", \"Default\", \"Default\", \"Default\", \"Default\", \"Topic1\", \"Topic1\", \"Topic1\", \"Topic1\", \"Topic1\", \"Topic1\", \"Topic1\", \"Topic1\", \"Topic1\", \"Topic1\", \"Topic1\", \"Topic1\", \"Topic1\", \"Topic1\", \"Topic1\", \"Topic1\", \"Topic1\", \"Topic1\", \"Topic1\", \"Topic1\", \"Topic1\", \"Topic1\", \"Topic1\", \"Topic1\", \"Topic1\", \"Topic1\", \"Topic1\", \"Topic1\", \"Topic1\", \"Topic1\", \"Topic1\", \"Topic1\", \"Topic2\", \"Topic2\", \"Topic2\", \"Topic2\", \"Topic2\", \"Topic2\", \"Topic2\", \"Topic2\", \"Topic2\", \"Topic2\", \"Topic2\", \"Topic2\", \"Topic2\", \"Topic2\", \"Topic2\", \"Topic2\", \"Topic2\", \"Topic2\", \"Topic2\", \"Topic2\", \"Topic2\", \"Topic2\", \"Topic2\", \"Topic2\", \"Topic2\", \"Topic2\", \"Topic2\", \"Topic2\", \"Topic2\", \"Topic2\", \"Topic2\", \"Topic2\", \"Topic2\", \"Topic2\", \"Topic2\", \"Topic2\", \"Topic2\", \"Topic2\", \"Topic2\", \"Topic3\", \"Topic3\", \"Topic3\", \"Topic3\", \"Topic3\", \"Topic3\", \"Topic3\", \"Topic3\", \"Topic3\", \"Topic3\", \"Topic3\", \"Topic3\", \"Topic3\", \"Topic3\", \"Topic3\", \"Topic3\", \"Topic3\", \"Topic3\", \"Topic3\", \"Topic3\", \"Topic3\", \"Topic3\", \"Topic3\", \"Topic3\", \"Topic3\", \"Topic3\", \"Topic3\", \"Topic3\", \"Topic3\", \"Topic3\", \"Topic3\", \"Topic3\", \"Topic3\", \"Topic3\", \"Topic3\", \"Topic3\", \"Topic3\", \"Topic4\", \"Topic4\", \"Topic4\", \"Topic4\", \"Topic4\", \"Topic4\", \"Topic4\", \"Topic4\", \"Topic4\", \"Topic4\", \"Topic4\", \"Topic4\", \"Topic4\", \"Topic4\", \"Topic4\", \"Topic4\", \"Topic4\", \"Topic4\", \"Topic4\", \"Topic4\", \"Topic4\", \"Topic4\", \"Topic4\", \"Topic4\", \"Topic4\", \"Topic4\", \"Topic4\", \"Topic4\", \"Topic4\", \"Topic4\", \"Topic4\", \"Topic4\", \"Topic4\", \"Topic4\", \"Topic4\", \"Topic5\", \"Topic5\", \"Topic5\", \"Topic5\", \"Topic5\", \"Topic5\", \"Topic5\", \"Topic5\", \"Topic5\", \"Topic5\", \"Topic5\", \"Topic5\", \"Topic5\", \"Topic5\", \"Topic5\", \"Topic5\", \"Topic5\", \"Topic5\", \"Topic5\", \"Topic5\", \"Topic5\", \"Topic5\", \"Topic5\", \"Topic5\", \"Topic5\", \"Topic5\", \"Topic5\", \"Topic5\", \"Topic5\", \"Topic5\", \"Topic5\", \"Topic5\", \"Topic5\", \"Topic5\", \"Topic5\"], \"logprob\": [30.0, 29.0, 28.0, 27.0, 26.0, 25.0, 24.0, 23.0, 22.0, 21.0, 20.0, 19.0, 18.0, 17.0, 16.0, 15.0, 14.0, 13.0, 12.0, 11.0, 10.0, 9.0, 8.0, 7.0, 6.0, 5.0, 4.0, 3.0, 2.0, 1.0, -1.5796, -1.7718, -2.3104, -2.5435, -2.6633, -2.9172, -3.0848, -3.4023, -3.4428, -4.0393, -4.1246, -4.3309, -5.0709, -5.119, -5.1292, -5.2315, -5.3815, -5.5207, -5.6389, -5.6463, -5.6705, -5.7272, -5.7374, -5.7998, -6.0301, -6.0353, -5.854, -6.1709, -6.2034, -6.2089, -4.1459, -4.2714, -2.2476, -3.1992, -3.2677, -3.8789, -4.2963, -4.3142, -4.3188, -4.4897, -4.6104, -4.8425, -5.0178, -5.3878, -5.3868, -5.4076, -5.442, -5.4533, -5.4724, -5.6079, -5.6683, -5.8218, -5.7681, -5.9691, -6.0213, -6.0626, -6.2996, -6.3279, -6.4436, -6.4748, -6.532, -6.5516, -2.3632, -1.66, -1.828, -2.4064, -5.4391, -5.5469, -4.0588, -4.534, -5.4539, -2.2256, -2.8939, -2.9629, -3.0951, -3.8008, -3.8192, -4.028, -4.2431, -4.2738, -4.3343, -4.3661, -4.4938, -4.541, -4.8685, -5.2014, -5.3494, -5.4182, -5.4439, -5.5118, -5.5186, -5.7654, -5.9136, -5.9389, -5.9601, -6.0358, -6.1706, -6.0813, -6.2995, -6.4607, -6.5069, -6.5026, -2.6115, -1.696, -2.2039, -4.0616, -3.5615, -5.727, -1.7727, -2.9019, -3.0967, -3.7278, -3.7945, -3.9667, -4.2597, -4.3035, -4.3729, -4.6789, -4.8468, -4.9035, -4.9802, -5.0535, -5.2059, -5.3142, -5.3596, -5.3618, -5.4662, -5.4706, -5.5203, -5.5831, -5.6057, -5.639, -5.6548, -5.7394, -5.765, -5.7771, -5.7695, -5.8782, -4.045, -1.4607, -3.1271, -3.5209, -4.4292, -2.8263, -2.9564, -3.3668, -3.3881, -3.3888, -3.4323, -3.7022, -3.7676, -3.8167, -3.8898, -4.1005, -4.1378, -4.1965, -4.2274, -4.3342, -4.3456, -4.3549, -4.434, -4.4615, -4.5413, -4.5828, -4.5948, -4.606, -4.6488, -4.6558, -4.6826, -4.7372, -4.7551, -4.95, -5.0032, -3.6043, -4.3218, -3.0826, -3.818, -4.4306], \"loglift\": [30.0, 29.0, 28.0, 27.0, 26.0, 25.0, 24.0, 23.0, 22.0, 21.0, 20.0, 19.0, 18.0, 17.0, 16.0, 15.0, 14.0, 13.0, 12.0, 11.0, 10.0, 9.0, 8.0, 7.0, 6.0, 5.0, 4.0, 3.0, 2.0, 1.0, 0.6396, 0.6396, 0.6395, 0.6395, 0.6395, 0.6394, 0.6394, 0.6393, 0.6393, 0.6391, 0.639, 0.6389, 0.6381, 0.638, 0.638, 0.6378, 0.6375, 0.6372, 0.6369, 0.6369, 0.6368, 0.6367, 0.6367, 0.6365, 0.6357, 0.6356, 0.6354, 0.6351, 0.6349, 0.6349, 0.5031, 0.3783, 1.722, 1.7215, 1.7215, 1.7208, 1.72, 1.72, 1.72, 1.7195, 1.7192, 1.7184, 1.7176, 1.7155, 1.7155, 1.7154, 1.7152, 1.715, 1.7149, 1.7139, 1.7131, 1.7119, 1.7119, 1.7102, 1.7096, 1.7089, 1.7055, 1.7048, 1.7027, 1.7016, 1.7012, 1.7008, 1.2758, 1.1657, 1.1206, 1.0242, 1.4629, 1.3909, 0.3032, 0.1156, 0.9106, 2.1199, 2.1195, 2.1195, 2.1193, 2.1183, 2.1182, 2.1178, 2.1172, 2.1171, 2.1169, 2.1167, 2.1162, 2.1161, 2.1144, 2.112, 2.1106, 2.1098, 2.1098, 2.109, 2.1089, 2.1056, 2.1033, 2.1027, 2.1027, 2.1013, 2.0986, 2.0979, 2.0956, 2.0908, 2.0895, 2.0895, 1.7505, 1.1297, 1.2266, 1.4542, 0.0776, 1.363, 2.2814, 2.2807, 2.2805, 2.2794, 2.2793, 2.2788, 2.2778, 2.2776, 2.2773, 2.2757, 2.2745, 2.2743, 2.2733, 2.2729, 2.2717, 2.2705, 2.27, 2.2695, 2.2687, 2.2686, 2.268, 2.2671, 2.2668, 2.2661, 2.266, 2.2644, 2.2642, 2.264, 2.2639, 2.2622, 2.1336, 1.4878, 0.5119, -0.0904, 0.2197, 2.6332, 2.6331, 2.6323, 2.6322, 2.6322, 2.6321, 2.6313, 2.6311, 2.631, 2.6307, 2.6297, 2.6296, 2.6293, 2.6292, 2.6285, 2.6285, 2.6284, 2.6279, 2.6277, 2.6271, 2.6268, 2.6267, 2.6266, 2.6263, 2.6262, 2.626, 2.6256, 2.6254, 2.6234, 2.6226, 1.9115, 2.0428, -0.2569, -0.1789, -0.0686]}, \"token.table\": {\"Topic\": [2, 5, 1, 1, 1, 4, 2, 1, 3, 1, 4, 1, 1, 4, 2, 3, 5, 3, 4, 3, 4, 3, 4, 4, 4, 3, 5, 2, 3, 5, 4, 3, 5, 4, 5, 5, 2, 3, 2, 4, 4, 1, 2, 1, 5, 1, 1, 2, 3, 4, 5, 4, 2, 3, 2, 5, 5, 1, 2, 1, 1, 1, 5, 5, 1, 2, 4, 1, 5, 3, 4, 2, 2, 2, 2, 5, 2, 2, 1, 5, 3, 5, 2, 2, 2, 1, 1, 2, 4, 2, 4, 5, 5, 4, 1, 4, 2, 4, 1, 3, 5, 5, 5, 4, 4, 5, 4, 2, 3, 4, 5, 3, 5, 1, 4, 2, 5, 2, 2, 1, 1, 1, 3, 1, 3, 5, 3, 2, 3, 5, 5, 5, 4, 4, 2, 4, 3, 3, 3, 1, 3, 1, 2, 4, 4, 2, 3, 2, 2, 3, 2, 4, 2, 3, 5, 2, 3, 5, 5, 3, 2, 2, 4, 4, 3, 4, 1, 3, 3, 1, 5, 2, 3, 3, 3, 4, 3, 3, 3, 4, 5, 5, 1], \"Freq\": [0.996738596117784, 0.9893810623467877, 0.9936848746480808, 0.9994835025748288, 0.9948085773465822, 0.9984879786547992, 0.9975462630550382, 0.9993959824480195, 0.9925890232911544, 0.9964547289387344, 0.9815141080301928, 0.9972344703452787, 0.9996279213930763, 0.9805519454241641, 0.9982417952192241, 0.9913925126369239, 0.993081750827921, 0.9986730976512634, 0.9865593626284316, 0.9952776273538496, 0.9901495219751825, 0.9956791703670311, 0.9963198478852058, 0.9922197664969671, 0.9925590609628232, 0.9893554826373085, 0.995413268555884, 0.24204501165236791, 0.6909284878076684, 0.0671124805036111, 0.9940296989612252, 0.9810643500375933, 0.9925470968390337, 0.8628169974708105, 0.1353438427405193, 0.9931487614787228, 0.9922608520106265, 0.9941392194738615, 0.9970954390333576, 0.9989748367974245, 0.9818489880097284, 0.9985864018382067, 0.9990116292455153, 0.9998107407414997, 0.9955977294836394, 0.9998045034284323, 0.999814461236002, 0.6399247054048123, 0.12974693651511837, 0.17032622530173977, 0.06006802616440666, 0.9835195349493224, 0.7157159279067463, 0.27471924505511475, 0.44418819355973166, 0.5542164616892065, 0.9923773786343099, 0.9968223433344765, 0.9913804952101298, 0.9997405397761251, 0.9955477059374147, 0.9983462561706897, 0.998993422626869, 0.9981074488015016, 0.9967398619699454, 0.7742402608550429, 0.22320439952577817, 0.9998812878433312, 0.9962109385659307, 0.9784020609732853, 0.9946894981780541, 0.9998408905547364, 0.9973612478344301, 0.9839101380954524, 0.976996045492372, 0.9964816487832484, 0.9924772230021827, 0.9690110967661254, 0.999939849852385, 0.9927217814998267, 0.9970902421793919, 0.993748935366655, 0.9978729834149098, 0.998666909579325, 0.9906298600213032, 0.9988583882236209, 0.997775549372693, 0.5479153419853475, 0.4520903823220576, 0.9993492026961636, 0.9994837466796426, 0.9902424259730412, 0.9970155478689985, 0.9729643932820229, 0.9998388932859845, 0.9865929085753139, 0.9918180756469474, 0.992505693101366, 0.9979024185862244, 0.9800410728131691, 0.9951936084497216, 0.9987215823599744, 0.9904489339229908, 0.9939525533397989, 0.9853282006303701, 0.991096365080493, 0.9828416393017189, 0.497587778650726, 0.40916625700895937, 0.0931893487891168, 0.9889063373169359, 0.9994710112928418, 0.9951295417595148, 0.8721921361133269, 0.12753061486026795, 0.986350968099873, 0.9903154860531915, 0.9928156297836657, 0.9903002696308418, 0.9948382236448623, 0.9990553766644661, 0.9976021082626195, 0.9828907775270941, 0.9955716446844374, 0.5144665927677115, 0.48481936538787723, 0.962442365974531, 0.5731111550400727, 0.37130311717486747, 0.055512005723625385, 0.9971352187311201, 0.9924992487091446, 0.9977194277178381, 0.9904874552624827, 0.9879142820258182, 0.9969508704815461, 0.9871204973714296, 0.9992542866071403, 0.9981210886168765, 0.9956341937545186, 0.9756478513507587, 0.770135305418946, 0.20023517940892596, 0.029338487825483657, 0.9889764833505011, 0.5218855759147962, 0.47138052018110627, 0.9870337686286333, 0.989582337410929, 0.9833574354095789, 0.9729695998234866, 0.9977784427466507, 0.9818085143803581, 0.9948932543482181, 0.996378093704181, 0.9723843190501247, 0.9854023766692422, 0.9827544013561421, 0.9926681549775362, 0.9903092507067363, 0.9978202603755496, 0.9955663253924609, 0.997950577008305, 0.9901849878069826, 0.9871841615331715, 0.9984304210360286, 0.9999336817579515, 0.9875968767286282, 0.9953532957229264, 0.9980993797730393, 0.9953445526907585, 0.9945483985070047, 0.9797876146016503, 0.9969912744160545, 0.9906673579571853, 0.9912957379551798, 0.9985746874964895, 0.9936830391111342, 0.9994293514889118, 0.9916807342164933, 0.9960730357124327, 0.995154859117355, 0.9981752259942669], \"Term\": [\"abdomen\", \"accid\", \"acetaminophen\", \"acetyl\", \"acryl\", \"acut\", \"alcohol\", \"alprazolam\", \"amitriptylin\", \"amphetamin\", \"anox_brain\", \"anox_encephalopathi\", \"anpp\", \"apart_fire\", \"asphyxi_hang\", \"asphyxia\", \"asphyxia_choke\", \"asphyxia_hang\", \"asphyxia_vitiat\", \"assault\", \"automobil\", \"automobil_strike\", \"back\", \"bag_head\", \"benzodiazepin\", \"bicyclist\", \"blunt\", \"blunt_forc\", \"blunt_forc\", \"blunt_forc\", \"bolu\", \"bupropion\", \"car\", \"carbon_monoxid\", \"carbon_monoxid\", \"cardiovascular_diseas\", \"cervic\", \"cervic_spinal\", \"cervic_spine\", \"chest\", \"choke_food\", \"clonazepam\", \"close_head\", \"cocain\", \"collis\", \"combin\", \"combin_drug\", \"complic\", \"complic\", \"complic\", \"complic\", \"complic_follow\", \"complic_remot\", \"complic_remot\", \"craniocerebr_injuri\", \"craniocerebr_injuri\", \"crash\", \"cyclopropyl\", \"delay_complic\", \"despropionyl\", \"diazepam\", \"diphenhydramin\", \"diseas\", \"drown\", \"drug\", \"due\", \"due\", \"ethanol\", \"exposur\", \"extrem\", \"face\", \"fall\", \"fall_height\", \"fall_home\", \"fall_ladder\", \"fall_stair\", \"fall_stand\", \"femur_fractur\", \"fentanyl\", \"fire\", \"fix_object\", \"food_bolu\", \"fractur\", \"fractur_fall\", \"fractur_unwit\", \"furanyl\", \"gabapentin\", \"gunshot_wound\", \"gunshot_wound\", \"hang\", \"head\", \"head_trauma\", \"height\", \"hemorrhag\", \"heroin\", \"hip\", \"hip_fractur\", \"hous_fire\", \"hydrocodon\", \"hydrocodon_oxycodon\", \"hypertens_atherosclerot\", \"hypertens_cardiovascular\", \"hypothermia_cold\", \"inhal\", \"inhal_automobil\", \"inhal_product\", \"inhal_smoke\", \"injuri\", \"injuri\", \"injuri\", \"injuri_jump\", \"injuri_motor\", \"injuri_motorcycl\", \"intox\", \"intox\", \"intracrani_hemorrhag\", \"intraor_gunshot\", \"left_femur\", \"left_hip\", \"lorazepam\", \"methadon\", \"methamphetamin\", \"metoprolol\", \"morphin\", \"motor_vehicl\", \"motor_vehicl\", \"motorcycl\", \"multipl\", \"multipl\", \"multipl\", \"neck\", \"object\", \"opiat\", \"opiat_benzodiazepin\", \"opiat_intox\", \"opioid\", \"oxycodon\", \"pedestrian\", \"pedestrian_struck\", \"phencyclidin\", \"plastic_bag\", \"probabl\", \"probabl\", \"probabl\", \"pulmonari_thromboembol\", \"remot\", \"remot\", \"right_femur\", \"right_hip\", \"semi_truck\", \"sepsi\", \"sharp_forc\", \"shotgun_wound\", \"sport_util\", \"stab\", \"stair\", \"strangul\", \"strike\", \"strike_fix\", \"strike_pedestrian\", \"subdur_hematoma\", \"subdur_hemorrhag\", \"thermal\", \"thermal_inhal\", \"topiram\", \"torso\", \"toxic\", \"train\", \"train_strike\", \"tramadol\", \"trauma\", \"traumat\", \"truck_strike\", \"unwit_fall\", \"vehicl\", \"vehicl_accid\", \"vehicl_collis\", \"vehicl_crash\", \"vehicl_strike\", \"wit_fall\", \"wound\", \"wound_chest\", \"xylazin\"]}, \"R\": 30, \"lambda.step\": 0.01, \"plot.opts\": {\"xlab\": \"PC1\", \"ylab\": \"PC2\"}, \"topic.order\": [4, 2, 3, 1, 5]};\n",
       "\n",
       "function LDAvis_load_lib(url, callback){\n",
       "  var s = document.createElement('script');\n",
       "  s.src = url;\n",
       "  s.async = true;\n",
       "  s.onreadystatechange = s.onload = callback;\n",
       "  s.onerror = function(){console.warn(\"failed to load library \" + url);};\n",
       "  document.getElementsByTagName(\"head\")[0].appendChild(s);\n",
       "}\n",
       "\n",
       "if(typeof(LDAvis) !== \"undefined\"){\n",
       "   // already loaded: just create the visualization\n",
       "   !function(LDAvis){\n",
       "       new LDAvis(\"#\" + \"ldavis_el553358791539365916878466\", ldavis_el553358791539365916878466_data);\n",
       "   }(LDAvis);\n",
       "}else if(typeof define === \"function\" && define.amd){\n",
       "   // require.js is available: use it to load d3/LDAvis\n",
       "   require.config({paths: {d3: \"https://d3js.org/d3.v5\"}});\n",
       "   require([\"d3\"], function(d3){\n",
       "      window.d3 = d3;\n",
       "      LDAvis_load_lib(\"https://cdn.jsdelivr.net/gh/bmabey/pyLDAvis@3.4.0/pyLDAvis/js/ldavis.v3.0.0.js\", function(){\n",
       "        new LDAvis(\"#\" + \"ldavis_el553358791539365916878466\", ldavis_el553358791539365916878466_data);\n",
       "      });\n",
       "    });\n",
       "}else{\n",
       "    // require.js not available: dynamically load d3 & LDAvis\n",
       "    LDAvis_load_lib(\"https://d3js.org/d3.v5.js\", function(){\n",
       "         LDAvis_load_lib(\"https://cdn.jsdelivr.net/gh/bmabey/pyLDAvis@3.4.0/pyLDAvis/js/ldavis.v3.0.0.js\", function(){\n",
       "                 new LDAvis(\"#\" + \"ldavis_el553358791539365916878466\", ldavis_el553358791539365916878466_data);\n",
       "            })\n",
       "         });\n",
       "}\n",
       "</script>"
      ],
      "text/plain": [
       "PreparedData(topic_coordinates=              x         y  topics  cluster       Freq\n",
       "topic                                                \n",
       "3      0.458890 -0.009567       1        1  52.749706\n",
       "1     -0.181066 -0.097160       2        1  17.865550\n",
       "2     -0.164581  0.117158       3        1  11.998978\n",
       "0     -0.065694 -0.307761       4        1  10.210888\n",
       "4     -0.047550  0.297329       5        1   7.174879, topic_info=                   Term          Freq         Total Category  logprob  loglift\n",
       "4         gunshot_wound   7471.000000   7471.000000  Default  30.0000  30.0000\n",
       "62                toxic  15495.000000  15495.000000  Default  29.0000  29.0000\n",
       "2               multipl   8448.000000   8448.000000  Default  28.0000  28.0000\n",
       "61             fentanyl  12785.000000  12785.000000  Default  27.0000  27.0000\n",
       "5                  head   2473.000000   2473.000000  Default  26.0000  26.0000\n",
       "..                  ...           ...           ...      ...      ...      ...\n",
       "8          motor_vehicl    278.243275    573.409438   Topic5  -3.6043   1.9115\n",
       "80  craniocerebr_injuri    135.779955    245.391484   Topic5  -4.3218   2.0428\n",
       "2               multipl    468.827661   8448.622850   Topic5  -3.0826  -0.2569\n",
       "15              complic    224.723294   3745.753180   Topic5  -3.8180  -0.1789\n",
       "0            blunt_forc    121.776346   1817.843702   Topic5  -4.4306  -0.0686\n",
       "\n",
       "[208 rows x 6 columns], token_table=      Topic      Freq           Term\n",
       "term                                \n",
       "120       2  0.996739        abdomen\n",
       "287       5  0.989381          accid\n",
       "332       1  0.993685  acetaminophen\n",
       "148       1  0.999484         acetyl\n",
       "2028      1  0.994809          acryl\n",
       "...     ...       ...            ...\n",
       "19        3  0.999429  vehicl_strike\n",
       "355       4  0.991681       wit_fall\n",
       "123       5  0.996073          wound\n",
       "247       5  0.995155    wound_chest\n",
       "138       1  0.998175        xylazin\n",
       "\n",
       "[183 rows x 3 columns], R=30, lambda_step=0.01, plot_opts={'xlab': 'PC1', 'ylab': 'PC2'}, topic_order=[4, 2, 3, 1, 5])"
      ]
     },
     "execution_count": 8,
     "metadata": {},
     "output_type": "execute_result"
    }
   ],
   "source": [
    "# Visualize the topics\n",
    "pyLDAvis.enable_notebook()\n",
    "vis = pyLDAvis.gensim.prepare(lda_model2, corpus, id2word)\n",
    "\n",
    "vis"
   ]
  },
  {
   "cell_type": "code",
   "execution_count": null,
   "id": "a2dd03f0",
   "metadata": {},
   "outputs": [],
   "source": [
    "# Compute perplexity, a measure of how good the model is. Lower is better.\n",
    "print('\\nPerplexity: ', lda_model2.log_perplexity(corpus))  \n",
    "\n",
    "# Compute coherence score, a measure of how well the elements of the topic support each other. \n",
    "# Cohesion relates to human comprehension better than perplexity\n",
    "coherence_model_lda = CoherenceModel(model=lda_model2, texts=data_words_bigrams, dictionary=id2word, coherence='c_v')\n",
    "coherence_lda = coherence_model_lda.get_coherence()\n",
    "print('\\nCoherence Score: ', coherence_lda)"
   ]
  },
  {
   "cell_type": "code",
   "execution_count": null,
   "id": "de81ba62",
   "metadata": {},
   "outputs": [],
   "source": [
    "# Thanks, Tim!\n",
    "lda_model2.get_document_topics(corpus[0])"
   ]
  },
  {
   "cell_type": "code",
   "execution_count": null,
   "id": "5ef22e0b",
   "metadata": {},
   "outputs": [],
   "source": [
    "# Define a function to find the most relevant topic\n",
    "def best_topic(corpus):\n",
    "    best_topic_list = []\n",
    "    for i in range(0, len(corpus)):\n",
    "        best_topic = (sorted(lda_model2.get_document_topics(corpus[i]), key=lambda x: x[1], reverse=True))[0][0]\n",
    "        best_topic_list.append(best_topic)\n",
    "    return best_topic_list\n",
    "\n",
    "best_topic_column = best_topic(corpus)"
   ]
  },
  {
   "cell_type": "code",
   "execution_count": null,
   "id": "a6d05ee1",
   "metadata": {},
   "outputs": [],
   "source": [
    "# Define a function to get the percentage for the most relevant topic\n",
    "def topic_perc(corpus):\n",
    "    topic_perc_list = []\n",
    "    for i in range(0, len(corpus)):\n",
    "        perc_topic = (sorted(lda_model2.get_document_topics(corpus[i]), key=lambda x: x[1], reverse=True))[0][1]\n",
    "        topic_perc_list.append(perc_topic)\n",
    "    return topic_perc_list\n",
    "\n",
    "topic_perc_column = topic_perc(corpus)"
   ]
  },
  {
   "cell_type": "code",
   "execution_count": null,
   "id": "b3c17a8e",
   "metadata": {},
   "outputs": [],
   "source": [
    "# Add topic columns to the df\n",
    "df['long_topic'] = lda_model2.get_document_topics(corpus)\n",
    "df['best_topic_num'] = best_topic_column\n",
    "df['best_topic_name'] = df['best_topic_num'].map(\n",
    "                                                {0:'one_gunshot_wound', \n",
    "                                                 1:'gunshot_wounds_fall', \n",
    "                                                 2:'vehicle_collision', \n",
    "                                                 3:'drug_overdose', \n",
    "                                                 4:'miscellaneous'})\n",
    "df['best_topic_perc'] = topic_perc_column"
   ]
  },
  {
   "cell_type": "code",
   "execution_count": null,
   "id": "5e776108",
   "metadata": {},
   "outputs": [],
   "source": [
    "# Check how it looks\n",
    "df[['primary_cause_line_a', 'primary_cause_line_b', 'long_topic', 'best_topic_num', 'best_topic_name','best_topic_perc', ]].sample(10)"
   ]
  },
  {
   "cell_type": "code",
   "execution_count": null,
   "id": "adf2e276",
   "metadata": {},
   "outputs": [],
   "source": [
    "# Save the df as a csv\n",
    "\n",
    "df.to_csv('../1_data/df_with_topics.csv', index=False)"
   ]
  },
  {
   "cell_type": "code",
   "execution_count": null,
   "id": "8d1ff006",
   "metadata": {},
   "outputs": [],
   "source": [
    "df2 = pd.read_csv('../1_data/df_with_topics.csv')\n",
    "df2.tail()"
   ]
  },
  {
   "cell_type": "code",
   "execution_count": 8,
   "id": "d84e0fa4",
   "metadata": {},
   "outputs": [],
   "source": [
    "# Pickle the model\n",
    "\n",
    "with open('../5_pickled_models/topic_modeling.pkl', 'wb') as f:\n",
    "    pickle.dump(lda_model2, f)"
   ]
  }
 ],
 "metadata": {
  "kernelspec": {
   "display_name": "Python 3 (ipykernel)",
   "language": "python",
   "name": "python3"
  },
  "language_info": {
   "codemirror_mode": {
    "name": "ipython",
    "version": 3
   },
   "file_extension": ".py",
   "mimetype": "text/x-python",
   "name": "python",
   "nbconvert_exporter": "python",
   "pygments_lexer": "ipython3",
   "version": "3.11.3"
  }
 },
 "nbformat": 4,
 "nbformat_minor": 5
}
