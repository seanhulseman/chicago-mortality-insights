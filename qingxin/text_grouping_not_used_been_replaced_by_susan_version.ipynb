{
 "cells": [
  {
   "cell_type": "markdown",
   "id": "1e018989",
   "metadata": {},
   "source": [
    "# NLP Grouping"
   ]
  },
  {
   "cell_type": "code",
   "execution_count": null,
   "id": "1ec945bd",
   "metadata": {},
   "outputs": [],
   "source": [
    "import pandas as pd\n",
    "import numpy as np\n",
    "import matplotlib.pyplot as plt\n",
    "from sklearn.preprocessing import StandardScaler\n",
    "from sklearn.cluster import KMeans\n",
    "from sklearn.feature_extraction.text import TfidfVectorizer,CountVectorizer \n",
    "from sklearn import metrics\n",
    "from sklearn.decomposition import TruncatedSVD"
   ]
  },
  {
   "cell_type": "code",
   "execution_count": null,
   "id": "c3f44a8b",
   "metadata": {},
   "outputs": [],
   "source": [
    "df = pd.read_csv('./ready_for_grouping/cleaned_data_31OCT.csv')"
   ]
  },
  {
   "cell_type": "code",
   "execution_count": null,
   "id": "873d8a87",
   "metadata": {},
   "outputs": [],
   "source": [
    "df.head()"
   ]
  },
  {
   "cell_type": "code",
   "execution_count": null,
   "id": "ceec84cf",
   "metadata": {},
   "outputs": [],
   "source": [
    "X = df['primary_cause']"
   ]
  },
  {
   "cell_type": "code",
   "execution_count": null,
   "id": "4222ddb5",
   "metadata": {},
   "outputs": [],
   "source": [
    "tf = TfidfVectorizer(stop_words='english')"
   ]
  },
  {
   "cell_type": "code",
   "execution_count": null,
   "id": "89614a21",
   "metadata": {},
   "outputs": [],
   "source": [
    "X_transformed_tf = tf.fit_transform(X)"
   ]
  },
  {
   "cell_type": "code",
   "execution_count": null,
   "id": "e71e4e5b",
   "metadata": {},
   "outputs": [],
   "source": [
    "tf.get_feature_names_out()"
   ]
  },
  {
   "cell_type": "code",
   "execution_count": null,
   "id": "ff7382c4",
   "metadata": {},
   "outputs": [],
   "source": [
    "words_tf = pd.DataFrame(X_transformed_tf.todense(),columns=tf.get_feature_names_out())"
   ]
  },
  {
   "cell_type": "code",
   "execution_count": null,
   "id": "429d561e",
   "metadata": {},
   "outputs": [],
   "source": [
    "words_tf.sum().sort_values(ascending=False)"
   ]
  },
  {
   "cell_type": "code",
   "execution_count": null,
   "id": "8c20db2e",
   "metadata": {},
   "outputs": [],
   "source": [
    "# finding the best k for kmean using TfidfVectorizer\n",
    "score_list_tf = []\n",
    "inertia_list_tf = []\n",
    "for k in range(2,21):\n",
    "    kmeans = KMeans(n_clusters=k,random_state=44)\n",
    "    kmeans.fit(X_transformed_tf)\n",
    "    inertia_list_tf.append(kmeans.inertia_)\n",
    "    score_list_tf.append(metrics.silhouette_score(X_transformed_tf,kmeans.labels_))  "
   ]
  },
  {
   "cell_type": "code",
   "execution_count": null,
   "id": "146d4746",
   "metadata": {},
   "outputs": [],
   "source": [
    "plt.plot(range(2,21),inertia_list_tf,marker ='o')\n",
    "plt.xlabel('number of Clusters')\n",
    "plt.ylabel('Score')\n",
    "plt.title('inertia');"
   ]
  },
  {
   "cell_type": "code",
   "execution_count": null,
   "id": "01106268",
   "metadata": {},
   "outputs": [],
   "source": [
    "plt.plot(range(2,21),score_list_tf,marker ='o')\n",
    "plt.xlabel('number of Clusters')\n",
    "plt.ylabel('Score')\n",
    "plt.title('Silhouette Scores');"
   ]
  },
  {
   "cell_type": "code",
   "execution_count": null,
   "id": "7a61adc8",
   "metadata": {},
   "outputs": [],
   "source": [
    "cvt = CountVectorizer(stop_words='english',ngram_range=(1,2))"
   ]
  },
  {
   "cell_type": "code",
   "execution_count": null,
   "id": "e963ce26",
   "metadata": {},
   "outputs": [],
   "source": [
    "X_transformed_cvt = cvt.fit_transform(X)"
   ]
  },
  {
   "cell_type": "code",
   "execution_count": null,
   "id": "b2947012",
   "metadata": {},
   "outputs": [],
   "source": [
    "# finding the best k for kmean using CountVectorizer\n",
    "score_list_cvt = []\n",
    "inertia_list_cvt = []\n",
    "for k in range(2,21):\n",
    "    kmeans = KMeans(n_clusters=k,random_state=44)\n",
    "    kmeans.fit(X_transformed_cvt)\n",
    "    inertia_list_cvt.append(kmeans.inertia_)\n",
    "    score_list_cvt.append(metrics.silhouette_score(X_transformed_tf,kmeans.labels_))"
   ]
  },
  {
   "cell_type": "code",
   "execution_count": null,
   "id": "09f58ab7",
   "metadata": {},
   "outputs": [],
   "source": [
    "plt.plot(range(2,21),inertia_list_cvt,marker = 'o')\n",
    "plt.xlabel('number of Clusters')\n",
    "plt.ylabel('Score')\n",
    "plt.title('inertia');"
   ]
  },
  {
   "cell_type": "code",
   "execution_count": null,
   "id": "6212e1eb",
   "metadata": {
    "scrolled": true
   },
   "outputs": [],
   "source": [
    "plt.plot(range(2,21),score_list_cvt,marker = 'o')\n",
    "plt.xlabel('number of Clusters')\n",
    "plt.ylabel('Score')\n",
    "plt.title('Silhouette Scores');"
   ]
  },
  {
   "cell_type": "code",
   "execution_count": null,
   "id": "d5b74b92",
   "metadata": {},
   "outputs": [],
   "source": [
    "# applying PDA\n",
    "ts = TruncatedSVD(n_components=100)"
   ]
  },
  {
   "cell_type": "code",
   "execution_count": null,
   "id": "d49546ab",
   "metadata": {},
   "outputs": [],
   "source": [
    "X_transformed_cvt_ts = ts.fit_transform(X_transformed_cvt)"
   ]
  },
  {
   "cell_type": "code",
   "execution_count": null,
   "id": "d6843f63",
   "metadata": {},
   "outputs": [],
   "source": [
    "score_list_cvt = []\n",
    "inertia_list_cvt = []\n",
    "for k in range(2,21):\n",
    "    kmeans = KMeans(n_clusters=k,random_state=44)\n",
    "    kmeans.fit(X_transformed_cvt_ts)\n",
    "    inertia_list_cvt.append(kmeans.inertia_)\n",
    "    score_list_cvt.append(metrics.silhouette_score(X_transformed_tf,kmeans.labels_))"
   ]
  },
  {
   "cell_type": "code",
   "execution_count": null,
   "id": "ce0bc222",
   "metadata": {},
   "outputs": [],
   "source": [
    "plt.plot(range(2,21),inertia_list_cvt,marker = 'o')\n",
    "plt.xlabel('number of Clusters')\n",
    "plt.ylabel('Score')\n",
    "plt.title('inertia');"
   ]
  },
  {
   "cell_type": "code",
   "execution_count": null,
   "id": "3b04bd9c",
   "metadata": {},
   "outputs": [],
   "source": [
    "plt.plot(range(2,21),score_list_cvt,marker = 'o')\n",
    "plt.xlabel('number of Clusters')\n",
    "plt.ylabel('Score')\n",
    "plt.title('Silhouette Scores');"
   ]
  },
  {
   "cell_type": "code",
   "execution_count": null,
   "id": "249c1e90",
   "metadata": {},
   "outputs": [],
   "source": [
    "# best grouping result comes from using TfidfVectorizer with k = 5\n",
    "km_final = KMeans(n_clusters=5,random_state=44)"
   ]
  },
  {
   "cell_type": "code",
   "execution_count": null,
   "id": "73a56b3a",
   "metadata": {
    "scrolled": true
   },
   "outputs": [],
   "source": [
    "km_final.fit(X_transformed_tf)"
   ]
  },
  {
   "cell_type": "code",
   "execution_count": null,
   "id": "00d41f94",
   "metadata": {},
   "outputs": [],
   "source": [
    "len(km_final.labels_)"
   ]
  },
  {
   "cell_type": "code",
   "execution_count": null,
   "id": "bda319c2",
   "metadata": {},
   "outputs": [],
   "source": [
    "df.shape"
   ]
  },
  {
   "cell_type": "code",
   "execution_count": null,
   "id": "2f8324f7",
   "metadata": {},
   "outputs": [],
   "source": [
    "df['text_group'] = km_final.labels_"
   ]
  },
  {
   "cell_type": "code",
   "execution_count": null,
   "id": "5baebec0",
   "metadata": {
    "scrolled": true
   },
   "outputs": [],
   "source": [
    "df['text_group'].value_counts()"
   ]
  },
  {
   "cell_type": "code",
   "execution_count": null,
   "id": "76e59df5",
   "metadata": {},
   "outputs": [],
   "source": [
    "df.to_csv('./grouped/cleaned_data_text_grouped.csv')"
   ]
  }
 ],
 "metadata": {
  "kernelspec": {
   "display_name": "Python 3 (ipykernel)",
   "language": "python",
   "name": "python3"
  },
  "language_info": {
   "codemirror_mode": {
    "name": "ipython",
    "version": 3
   },
   "file_extension": ".py",
   "mimetype": "text/x-python",
   "name": "python",
   "nbconvert_exporter": "python",
   "pygments_lexer": "ipython3",
   "version": "3.11.4"
  }
 },
 "nbformat": 4,
 "nbformat_minor": 5
}
