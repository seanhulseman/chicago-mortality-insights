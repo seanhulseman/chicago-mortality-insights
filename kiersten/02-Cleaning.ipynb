{
 "cells": [
  {
   "cell_type": "markdown",
   "id": "737cc072-a4af-453b-b8d9-48210ef24a95",
   "metadata": {},
   "source": [
    "# Imports:"
   ]
  },
  {
   "cell_type": "code",
   "execution_count": 76,
   "id": "63b23ab8-6894-410a-85e7-bbaff4affa16",
   "metadata": {
    "tags": []
   },
   "outputs": [],
   "source": [
    "import numpy as np\n",
    "import pandas as pd\n",
    "import matplotlib.pyplot as plt"
   ]
  },
  {
   "cell_type": "code",
   "execution_count": 77,
   "id": "a1091c4f-7305-42de-abaa-c532214bb485",
   "metadata": {
    "tags": []
   },
   "outputs": [
    {
     "data": {
      "text/html": [
       "<div>\n",
       "<style scoped>\n",
       "    .dataframe tbody tr th:only-of-type {\n",
       "        vertical-align: middle;\n",
       "    }\n",
       "\n",
       "    .dataframe tbody tr th {\n",
       "        vertical-align: top;\n",
       "    }\n",
       "\n",
       "    .dataframe thead th {\n",
       "        text-align: right;\n",
       "    }\n",
       "</style>\n",
       "<table border=\"1\" class=\"dataframe\">\n",
       "  <thead>\n",
       "    <tr style=\"text-align: right;\">\n",
       "      <th></th>\n",
       "      <th>Unnamed: 0</th>\n",
       "      <th>date_of_incident</th>\n",
       "      <th>date_of_death</th>\n",
       "      <th>age</th>\n",
       "      <th>gender</th>\n",
       "      <th>race</th>\n",
       "      <th>latino</th>\n",
       "      <th>manner_of_death</th>\n",
       "      <th>primary_cause</th>\n",
       "      <th>primary_cause_line_a</th>\n",
       "      <th>...</th>\n",
       "      <th>heat_related</th>\n",
       "      <th>commissioner_district</th>\n",
       "      <th>incident_city</th>\n",
       "      <th>incident_zip_code</th>\n",
       "      <th>longitude</th>\n",
       "      <th>latitude</th>\n",
       "      <th>residence_city</th>\n",
       "      <th>residence_zip</th>\n",
       "      <th>chicago_community_area</th>\n",
       "      <th>covid_related</th>\n",
       "    </tr>\n",
       "  </thead>\n",
       "  <tbody>\n",
       "    <tr>\n",
       "      <th>0</th>\n",
       "      <td>20</td>\n",
       "      <td>10/24/2023 12:43:00 AM</td>\n",
       "      <td>10/25/2023 12:11:00 AM</td>\n",
       "      <td>22.0</td>\n",
       "      <td>Female</td>\n",
       "      <td>Black</td>\n",
       "      <td>False</td>\n",
       "      <td>ACCIDENT</td>\n",
       "      <td>MULTIPLE BLUNT FORCE INJURIES. MOTOR VEHICLE C...</td>\n",
       "      <td>MULTIPLE BLUNT FORCE INJURIES</td>\n",
       "      <td>...</td>\n",
       "      <td>False</td>\n",
       "      <td>1.0</td>\n",
       "      <td>CHICAGO</td>\n",
       "      <td>60644.0</td>\n",
       "      <td>-87.754890</td>\n",
       "      <td>41.872093</td>\n",
       "      <td>Indianapolis</td>\n",
       "      <td>46224.0</td>\n",
       "      <td>AUSTIN</td>\n",
       "      <td>False</td>\n",
       "    </tr>\n",
       "    <tr>\n",
       "      <th>1</th>\n",
       "      <td>22</td>\n",
       "      <td>10/24/2023 10:30:00 PM</td>\n",
       "      <td>10/24/2023 09:51:00 PM</td>\n",
       "      <td>35.0</td>\n",
       "      <td>Male</td>\n",
       "      <td>Black</td>\n",
       "      <td>False</td>\n",
       "      <td>HOMICIDE</td>\n",
       "      <td>MULTIPLE GUNSHOT WOUNDS</td>\n",
       "      <td>MULTIPLE GUNSHOT WOUNDS</td>\n",
       "      <td>...</td>\n",
       "      <td>False</td>\n",
       "      <td>4.0</td>\n",
       "      <td>CHICAGO</td>\n",
       "      <td>60649.0</td>\n",
       "      <td>-87.558292</td>\n",
       "      <td>41.759939</td>\n",
       "      <td>Chicago</td>\n",
       "      <td>60633.0</td>\n",
       "      <td>SOUTH SHORE</td>\n",
       "      <td>False</td>\n",
       "    </tr>\n",
       "    <tr>\n",
       "      <th>2</th>\n",
       "      <td>23</td>\n",
       "      <td>10/24/2023 09:18:00 PM</td>\n",
       "      <td>10/24/2023 08:36:00 PM</td>\n",
       "      <td>54.0</td>\n",
       "      <td>Male</td>\n",
       "      <td>White</td>\n",
       "      <td>False</td>\n",
       "      <td>SUICIDE</td>\n",
       "      <td>GUNSHOT WOUND OF HEAD</td>\n",
       "      <td>GUNSHOT WOUND OF HEAD</td>\n",
       "      <td>...</td>\n",
       "      <td>False</td>\n",
       "      <td>12.0</td>\n",
       "      <td>CHICAGO</td>\n",
       "      <td>60634.0</td>\n",
       "      <td>-87.780811</td>\n",
       "      <td>41.955351</td>\n",
       "      <td>Chicago</td>\n",
       "      <td>60634.0</td>\n",
       "      <td>PORTAGE PARK</td>\n",
       "      <td>False</td>\n",
       "    </tr>\n",
       "    <tr>\n",
       "      <th>3</th>\n",
       "      <td>30</td>\n",
       "      <td>10/24/2023 07:48:00 AM</td>\n",
       "      <td>10/24/2023 07:16:00 AM</td>\n",
       "      <td>19.0</td>\n",
       "      <td>Male</td>\n",
       "      <td>Black</td>\n",
       "      <td>False</td>\n",
       "      <td>HOMICIDE</td>\n",
       "      <td>MULTIPLE GUNSHOT WOUNDS</td>\n",
       "      <td>MULTIPLE GUNSHOT WOUNDS</td>\n",
       "      <td>...</td>\n",
       "      <td>False</td>\n",
       "      <td>3.0</td>\n",
       "      <td>CHICAGO</td>\n",
       "      <td>60649.0</td>\n",
       "      <td>-87.584359</td>\n",
       "      <td>41.771935</td>\n",
       "      <td>NaN</td>\n",
       "      <td>NaN</td>\n",
       "      <td>SOUTH SHORE</td>\n",
       "      <td>False</td>\n",
       "    </tr>\n",
       "    <tr>\n",
       "      <th>4</th>\n",
       "      <td>35</td>\n",
       "      <td>10/23/2023 10:21:00 PM</td>\n",
       "      <td>10/23/2023 09:29:00 PM</td>\n",
       "      <td>41.0</td>\n",
       "      <td>Male</td>\n",
       "      <td>Black</td>\n",
       "      <td>False</td>\n",
       "      <td>HOMICIDE</td>\n",
       "      <td>MULTIPLE GUNSHOT WOUNDS</td>\n",
       "      <td>MULTIPLE GUNSHOT WOUNDS</td>\n",
       "      <td>...</td>\n",
       "      <td>False</td>\n",
       "      <td>2.0</td>\n",
       "      <td>CHICAGO</td>\n",
       "      <td>60636.0</td>\n",
       "      <td>-87.663792</td>\n",
       "      <td>41.782286</td>\n",
       "      <td>Chicago</td>\n",
       "      <td>60636.0</td>\n",
       "      <td>WEST ENGLEWOOD</td>\n",
       "      <td>False</td>\n",
       "    </tr>\n",
       "  </tbody>\n",
       "</table>\n",
       "<p>5 rows × 26 columns</p>\n",
       "</div>"
      ],
      "text/plain": [
       "   Unnamed: 0        date_of_incident           date_of_death   age  gender  \\\n",
       "0          20  10/24/2023 12:43:00 AM  10/25/2023 12:11:00 AM  22.0  Female   \n",
       "1          22  10/24/2023 10:30:00 PM  10/24/2023 09:51:00 PM  35.0    Male   \n",
       "2          23  10/24/2023 09:18:00 PM  10/24/2023 08:36:00 PM  54.0    Male   \n",
       "3          30  10/24/2023 07:48:00 AM  10/24/2023 07:16:00 AM  19.0    Male   \n",
       "4          35  10/23/2023 10:21:00 PM  10/23/2023 09:29:00 PM  41.0    Male   \n",
       "\n",
       "    race  latino manner_of_death  \\\n",
       "0  Black   False        ACCIDENT   \n",
       "1  Black   False        HOMICIDE   \n",
       "2  White   False         SUICIDE   \n",
       "3  Black   False        HOMICIDE   \n",
       "4  Black   False        HOMICIDE   \n",
       "\n",
       "                                       primary_cause  \\\n",
       "0  MULTIPLE BLUNT FORCE INJURIES. MOTOR VEHICLE C...   \n",
       "1                            MULTIPLE GUNSHOT WOUNDS   \n",
       "2                              GUNSHOT WOUND OF HEAD   \n",
       "3                            MULTIPLE GUNSHOT WOUNDS   \n",
       "4                            MULTIPLE GUNSHOT WOUNDS   \n",
       "\n",
       "            primary_cause_line_a  ... heat_related commissioner_district  \\\n",
       "0  MULTIPLE BLUNT FORCE INJURIES  ...        False                   1.0   \n",
       "1        MULTIPLE GUNSHOT WOUNDS  ...        False                   4.0   \n",
       "2          GUNSHOT WOUND OF HEAD  ...        False                  12.0   \n",
       "3        MULTIPLE GUNSHOT WOUNDS  ...        False                   3.0   \n",
       "4        MULTIPLE GUNSHOT WOUNDS  ...        False                   2.0   \n",
       "\n",
       "  incident_city  incident_zip_code  longitude   latitude  residence_city  \\\n",
       "0       CHICAGO            60644.0 -87.754890  41.872093    Indianapolis   \n",
       "1       CHICAGO            60649.0 -87.558292  41.759939         Chicago   \n",
       "2       CHICAGO            60634.0 -87.780811  41.955351         Chicago   \n",
       "3       CHICAGO            60649.0 -87.584359  41.771935             NaN   \n",
       "4       CHICAGO            60636.0 -87.663792  41.782286         Chicago   \n",
       "\n",
       "   residence_zip chicago_community_area  covid_related  \n",
       "0        46224.0                 AUSTIN          False  \n",
       "1        60633.0            SOUTH SHORE          False  \n",
       "2        60634.0           PORTAGE PARK          False  \n",
       "3            NaN            SOUTH SHORE          False  \n",
       "4        60636.0         WEST ENGLEWOOD          False  \n",
       "\n",
       "[5 rows x 26 columns]"
      ]
     },
     "execution_count": 77,
     "metadata": {},
     "output_type": "execute_result"
    }
   ],
   "source": [
    "partial_clean = pd.read_csv('../kiersten/data/dataframe.csv')\n",
    "partial_clean.head()"
   ]
  },
  {
   "cell_type": "code",
   "execution_count": 78,
   "id": "4d47f745-d20e-4ad3-b7ea-dab39051a70c",
   "metadata": {
    "tags": []
   },
   "outputs": [
    {
     "data": {
      "text/plain": [
       "(37158, 26)"
      ]
     },
     "execution_count": 78,
     "metadata": {},
     "output_type": "execute_result"
    }
   ],
   "source": [
    "partial_clean.shape"
   ]
  },
  {
   "cell_type": "code",
   "execution_count": 79,
   "id": "c2029e99-1624-4670-a32f-5c5dfa5c4754",
   "metadata": {
    "tags": []
   },
   "outputs": [],
   "source": [
    "partial_clean.drop(columns=['Unnamed: 0'], inplace=True)"
   ]
  },
  {
   "cell_type": "code",
   "execution_count": 80,
   "id": "fc230957-ffc3-4e43-be33-8848cf8c565c",
   "metadata": {
    "tags": []
   },
   "outputs": [
    {
     "data": {
      "text/plain": [
       "(37158, 25)"
      ]
     },
     "execution_count": 80,
     "metadata": {},
     "output_type": "execute_result"
    }
   ],
   "source": [
    "partial_clean.shape"
   ]
  },
  {
   "cell_type": "code",
   "execution_count": 81,
   "id": "d50c5d91-e290-4f1c-bd5e-85c2c38cab1e",
   "metadata": {
    "tags": []
   },
   "outputs": [
    {
     "data": {
      "text/plain": [
       "6"
      ]
     },
     "execution_count": 81,
     "metadata": {},
     "output_type": "execute_result"
    }
   ],
   "source": [
    "partial_clean.gender.isna().sum()"
   ]
  },
  {
   "cell_type": "code",
   "execution_count": 82,
   "id": "4bb14d32-f787-4351-9da1-1f9ce3709c14",
   "metadata": {
    "tags": []
   },
   "outputs": [],
   "source": [
    "partial_clean.dropna(subset=['gender'], inplace=True)"
   ]
  },
  {
   "cell_type": "code",
   "execution_count": 83,
   "id": "233e2fcb-dbf5-48ed-a0da-cf3b716bd1b8",
   "metadata": {
    "tags": []
   },
   "outputs": [
    {
     "data": {
      "text/plain": [
       "(37152, 25)"
      ]
     },
     "execution_count": 83,
     "metadata": {},
     "output_type": "execute_result"
    }
   ],
   "source": [
    "partial_clean.shape"
   ]
  },
  {
   "cell_type": "code",
   "execution_count": 84,
   "id": "1b433142-bb58-4a3b-bfc6-572e165be06f",
   "metadata": {
    "tags": []
   },
   "outputs": [
    {
     "data": {
      "text/plain": [
       "0"
      ]
     },
     "execution_count": 84,
     "metadata": {},
     "output_type": "execute_result"
    }
   ],
   "source": [
    "partial_clean.gender.isna().sum()"
   ]
  },
  {
   "cell_type": "code",
   "execution_count": 85,
   "id": "976ef240-5d14-4c54-9e92-75dd8a9b497f",
   "metadata": {
    "tags": []
   },
   "outputs": [
    {
     "data": {
      "text/plain": [
       "Male       27997\n",
       "Female      9154\n",
       "Unknown        1\n",
       "Name: gender, dtype: int64"
      ]
     },
     "execution_count": 85,
     "metadata": {},
     "output_type": "execute_result"
    }
   ],
   "source": [
    "partial_clean.gender.value_counts()"
   ]
  },
  {
   "cell_type": "code",
   "execution_count": 86,
   "id": "9e7e1df2-ea6f-4c2a-b3cb-133589d26c82",
   "metadata": {
    "tags": []
   },
   "outputs": [],
   "source": [
    "partial_clean.drop(partial_clean[partial_clean['gender'] == 'Unknown'].index, inplace=True)"
   ]
  },
  {
   "cell_type": "code",
   "execution_count": 87,
   "id": "fb63eee8-c79e-4066-ac53-dee27c869de9",
   "metadata": {
    "tags": []
   },
   "outputs": [
    {
     "data": {
      "text/plain": [
       "(37151, 25)"
      ]
     },
     "execution_count": 87,
     "metadata": {},
     "output_type": "execute_result"
    }
   ],
   "source": [
    "partial_clean.shape"
   ]
  },
  {
   "cell_type": "code",
   "execution_count": 88,
   "id": "868ec897-166b-439d-9002-d7fb92e27f66",
   "metadata": {
    "tags": []
   },
   "outputs": [
    {
     "data": {
      "text/plain": [
       "Male      27997\n",
       "Female     9154\n",
       "Name: gender, dtype: int64"
      ]
     },
     "execution_count": 88,
     "metadata": {},
     "output_type": "execute_result"
    }
   ],
   "source": [
    "partial_clean.gender.value_counts()"
   ]
  },
  {
   "cell_type": "code",
   "execution_count": 89,
   "id": "ce394963-e325-42a2-8e14-69d7189cd254",
   "metadata": {
    "tags": []
   },
   "outputs": [
    {
     "data": {
      "text/plain": [
       "White         19283\n",
       "Black         16704\n",
       "Asian           667\n",
       "Other           362\n",
       "Unknown          59\n",
       "Am. Indian       32\n",
       "Name: race, dtype: int64"
      ]
     },
     "execution_count": 89,
     "metadata": {},
     "output_type": "execute_result"
    }
   ],
   "source": [
    "partial_clean.race.value_counts()"
   ]
  },
  {
   "cell_type": "code",
   "execution_count": 90,
   "id": "cfc98cd9-cf96-4d5d-962d-d07dd960c6cd",
   "metadata": {
    "tags": []
   },
   "outputs": [
    {
     "data": {
      "text/plain": [
       "44"
      ]
     },
     "execution_count": 90,
     "metadata": {},
     "output_type": "execute_result"
    }
   ],
   "source": [
    "partial_clean.race.isna().sum()"
   ]
  },
  {
   "cell_type": "code",
   "execution_count": 91,
   "id": "fc9fbcd0-c2c1-4d84-aeb6-7879711d4ffd",
   "metadata": {
    "tags": []
   },
   "outputs": [],
   "source": [
    "partial_clean['race'].fillna('Unknown', inplace=True)"
   ]
  },
  {
   "cell_type": "code",
   "execution_count": 92,
   "id": "f06fda01-af83-43b0-b477-9532b59f5d66",
   "metadata": {
    "tags": []
   },
   "outputs": [
    {
     "data": {
      "text/plain": [
       "0"
      ]
     },
     "execution_count": 92,
     "metadata": {},
     "output_type": "execute_result"
    }
   ],
   "source": [
    "partial_clean.race.isna().sum()"
   ]
  },
  {
   "cell_type": "code",
   "execution_count": 93,
   "id": "bb797489-4df3-4064-9735-ec35bb8f4877",
   "metadata": {
    "tags": []
   },
   "outputs": [
    {
     "data": {
      "text/plain": [
       "White         19283\n",
       "Black         16704\n",
       "Asian           667\n",
       "Other           362\n",
       "Unknown         103\n",
       "Am. Indian       32\n",
       "Name: race, dtype: int64"
      ]
     },
     "execution_count": 93,
     "metadata": {},
     "output_type": "execute_result"
    }
   ],
   "source": [
    "partial_clean.race.value_counts()"
   ]
  },
  {
   "cell_type": "code",
   "execution_count": 94,
   "id": "0c440ddb-67ac-4fd2-9dee-5f25d0168c19",
   "metadata": {
    "tags": []
   },
   "outputs": [
    {
     "data": {
      "text/plain": [
       "0"
      ]
     },
     "execution_count": 94,
     "metadata": {},
     "output_type": "execute_result"
    }
   ],
   "source": [
    "partial_clean.primary_cause.isna().sum()"
   ]
  },
  {
   "cell_type": "code",
   "execution_count": 95,
   "id": "b00a2fb2-7ca1-4085-b469-9acc5f0daec0",
   "metadata": {
    "tags": []
   },
   "outputs": [
    {
     "data": {
      "text/plain": [
       "0"
      ]
     },
     "execution_count": 95,
     "metadata": {},
     "output_type": "execute_result"
    }
   ],
   "source": [
    "partial_clean.primary_cause_line_a.isna().sum()"
   ]
  },
  {
   "cell_type": "code",
   "execution_count": 96,
   "id": "6ad1a001-345c-421d-a2d9-cedfea52342b",
   "metadata": {
    "tags": []
   },
   "outputs": [
    {
     "data": {
      "text/plain": [
       "25308"
      ]
     },
     "execution_count": 96,
     "metadata": {},
     "output_type": "execute_result"
    }
   ],
   "source": [
    "partial_clean.primary_cause_line_b.isna().sum()"
   ]
  },
  {
   "cell_type": "code",
   "execution_count": 97,
   "id": "3ecec901-b2fc-4b07-9530-5e11e62213e4",
   "metadata": {
    "tags": []
   },
   "outputs": [],
   "source": [
    "partial_clean['primary_cause_line_b'].fillna('no_text', inplace=True)"
   ]
  },
  {
   "cell_type": "code",
   "execution_count": 98,
   "id": "ae3418dd-ce20-4d0c-bb34-df2fc308ec00",
   "metadata": {
    "tags": []
   },
   "outputs": [
    {
     "data": {
      "text/plain": [
       "0"
      ]
     },
     "execution_count": 98,
     "metadata": {},
     "output_type": "execute_result"
    }
   ],
   "source": [
    "partial_clean.primary_cause_line_b.isna().sum()"
   ]
  },
  {
   "cell_type": "code",
   "execution_count": 99,
   "id": "f19d7ff4-19e4-43df-8b27-88ee216cba40",
   "metadata": {
    "tags": []
   },
   "outputs": [
    {
     "data": {
      "text/plain": [
       "36637"
      ]
     },
     "execution_count": 99,
     "metadata": {},
     "output_type": "execute_result"
    }
   ],
   "source": [
    "partial_clean.primary_cause_line_c.isna().sum()"
   ]
  },
  {
   "cell_type": "code",
   "execution_count": 100,
   "id": "2b12134c-5d0b-48a7-bf1f-27332a163eff",
   "metadata": {
    "tags": []
   },
   "outputs": [],
   "source": [
    "partial_clean['primary_cause_line_c'].fillna('no_text', inplace=True)"
   ]
  },
  {
   "cell_type": "code",
   "execution_count": 101,
   "id": "19764d5b-28cf-418b-9933-86b0a7c7fa9f",
   "metadata": {
    "tags": []
   },
   "outputs": [
    {
     "data": {
      "text/plain": [
       "0"
      ]
     },
     "execution_count": 101,
     "metadata": {},
     "output_type": "execute_result"
    }
   ],
   "source": [
    "partial_clean.primary_cause_line_c.isna().sum()"
   ]
  },
  {
   "cell_type": "code",
   "execution_count": 102,
   "id": "a3a75f9f-560b-4331-9f29-5f0b7a4d08df",
   "metadata": {
    "tags": []
   },
   "outputs": [
    {
     "data": {
      "text/plain": [
       "5076"
      ]
     },
     "execution_count": 102,
     "metadata": {},
     "output_type": "execute_result"
    }
   ],
   "source": [
    "partial_clean.commissioner_district.isna().sum()"
   ]
  },
  {
   "cell_type": "code",
   "execution_count": 103,
   "id": "630a1ddf-6f0f-4ee1-a267-4a514c387c5f",
   "metadata": {
    "tags": []
   },
   "outputs": [],
   "source": [
    "partial_clean['commissioner_district'].fillna('no_text', inplace=True)"
   ]
  },
  {
   "cell_type": "code",
   "execution_count": 104,
   "id": "365cc07a-03cf-469a-bdad-d95abd458e89",
   "metadata": {
    "tags": []
   },
   "outputs": [
    {
     "data": {
      "text/plain": [
       "0"
      ]
     },
     "execution_count": 104,
     "metadata": {},
     "output_type": "execute_result"
    }
   ],
   "source": [
    "partial_clean.commissioner_district.isna().sum()"
   ]
  },
  {
   "cell_type": "code",
   "execution_count": 105,
   "id": "d2825613-6d47-4994-a677-eed730fa675e",
   "metadata": {
    "tags": []
   },
   "outputs": [
    {
     "data": {
      "text/plain": [
       "449"
      ]
     },
     "execution_count": 105,
     "metadata": {},
     "output_type": "execute_result"
    }
   ],
   "source": [
    "partial_clean.incident_city.isna().sum()"
   ]
  },
  {
   "cell_type": "code",
   "execution_count": 106,
   "id": "16133c75-84c3-4180-99ee-789e0af7441b",
   "metadata": {
    "tags": []
   },
   "outputs": [],
   "source": [
    "partial_clean['incident_city'].fillna('no_text', inplace=True)"
   ]
  },
  {
   "cell_type": "code",
   "execution_count": 107,
   "id": "145cb063-10ad-4eec-bb35-0c7e3caf0508",
   "metadata": {
    "tags": []
   },
   "outputs": [
    {
     "data": {
      "text/plain": [
       "0"
      ]
     },
     "execution_count": 107,
     "metadata": {},
     "output_type": "execute_result"
    }
   ],
   "source": [
    "partial_clean.incident_city.isna().sum()"
   ]
  },
  {
   "cell_type": "code",
   "execution_count": 108,
   "id": "6b8c19e8-1e98-446d-aeb1-b847ede3da91",
   "metadata": {
    "tags": []
   },
   "outputs": [
    {
     "data": {
      "text/plain": [
       "701"
      ]
     },
     "execution_count": 108,
     "metadata": {},
     "output_type": "execute_result"
    }
   ],
   "source": [
    "partial_clean.incident_zip_code.isna().sum()"
   ]
  },
  {
   "cell_type": "code",
   "execution_count": 109,
   "id": "3ef4989e-b086-4d7d-97cf-127f1660c262",
   "metadata": {
    "tags": []
   },
   "outputs": [],
   "source": [
    "partial_clean['incident_zip_code'].fillna('no_text', inplace=True)"
   ]
  },
  {
   "cell_type": "code",
   "execution_count": 110,
   "id": "a8e018d7-63aa-4fe2-aed7-709a76c4a7a2",
   "metadata": {
    "tags": []
   },
   "outputs": [
    {
     "data": {
      "text/plain": [
       "0"
      ]
     },
     "execution_count": 110,
     "metadata": {},
     "output_type": "execute_result"
    }
   ],
   "source": [
    "partial_clean.incident_zip_code.isna().sum()"
   ]
  },
  {
   "cell_type": "code",
   "execution_count": 111,
   "id": "5dc3980a-4933-4139-9436-b0aa36f08cff",
   "metadata": {
    "tags": []
   },
   "outputs": [
    {
     "data": {
      "text/plain": [
       "1025"
      ]
     },
     "execution_count": 111,
     "metadata": {},
     "output_type": "execute_result"
    }
   ],
   "source": [
    "partial_clean.residence_city.isna().sum()"
   ]
  },
  {
   "cell_type": "code",
   "execution_count": 112,
   "id": "a5177e9e-5759-4db5-bec2-05e9f85720ff",
   "metadata": {
    "tags": []
   },
   "outputs": [],
   "source": [
    "partial_clean['residence_city'].fillna('no_text', inplace=True)"
   ]
  },
  {
   "cell_type": "code",
   "execution_count": 113,
   "id": "7e26067f-2f52-460d-8b0b-411a08a1a27f",
   "metadata": {
    "tags": []
   },
   "outputs": [
    {
     "data": {
      "text/plain": [
       "0"
      ]
     },
     "execution_count": 113,
     "metadata": {},
     "output_type": "execute_result"
    }
   ],
   "source": [
    "partial_clean.residence_city.isna().sum()"
   ]
  },
  {
   "cell_type": "code",
   "execution_count": 114,
   "id": "bc443527-eaaf-4964-aefd-08ff0608bd6c",
   "metadata": {
    "tags": []
   },
   "outputs": [
    {
     "data": {
      "text/plain": [
       "1011"
      ]
     },
     "execution_count": 114,
     "metadata": {},
     "output_type": "execute_result"
    }
   ],
   "source": [
    "partial_clean.residence_zip.isna().sum()"
   ]
  },
  {
   "cell_type": "code",
   "execution_count": 115,
   "id": "bb9ad0e4-b178-4e19-a1f0-3d60a4bd8420",
   "metadata": {
    "tags": []
   },
   "outputs": [],
   "source": [
    "partial_clean['residence_zip'].fillna('no_text', inplace=True)"
   ]
  },
  {
   "cell_type": "code",
   "execution_count": 116,
   "id": "14bbf3d4-3ea8-42e3-b962-d2477b031307",
   "metadata": {
    "tags": []
   },
   "outputs": [
    {
     "data": {
      "text/plain": [
       "0"
      ]
     },
     "execution_count": 116,
     "metadata": {},
     "output_type": "execute_result"
    }
   ],
   "source": [
    "partial_clean.residence_zip.isna().sum()"
   ]
  },
  {
   "cell_type": "code",
   "execution_count": 117,
   "id": "385485c0-1bbd-44d0-a5f2-55d9322f8eea",
   "metadata": {
    "tags": []
   },
   "outputs": [
    {
     "data": {
      "text/plain": [
       "15609"
      ]
     },
     "execution_count": 117,
     "metadata": {},
     "output_type": "execute_result"
    }
   ],
   "source": [
    "partial_clean.chicago_community_area.isna().sum()"
   ]
  },
  {
   "cell_type": "code",
   "execution_count": 118,
   "id": "d1b7fc4e-cd27-4b22-ac56-e3d629f7adc1",
   "metadata": {
    "tags": []
   },
   "outputs": [],
   "source": [
    "partial_clean['chicago_community_area'].fillna('NOT CHICAGO', inplace=True)"
   ]
  },
  {
   "cell_type": "code",
   "execution_count": 119,
   "id": "7d91eb06-1fe5-40c3-96dc-ec96cea4618b",
   "metadata": {
    "tags": []
   },
   "outputs": [
    {
     "data": {
      "text/plain": [
       "0"
      ]
     },
     "execution_count": 119,
     "metadata": {},
     "output_type": "execute_result"
    }
   ],
   "source": [
    "partial_clean.chicago_community_area.isna().sum()"
   ]
  },
  {
   "cell_type": "code",
   "execution_count": 120,
   "id": "bff3fa05-ccf0-438c-a031-42a7b31aa4a6",
   "metadata": {
    "tags": []
   },
   "outputs": [
    {
     "data": {
      "text/plain": [
       "1"
      ]
     },
     "execution_count": 120,
     "metadata": {},
     "output_type": "execute_result"
    }
   ],
   "source": [
    "partial_clean.date_of_death.isna().sum()"
   ]
  },
  {
   "cell_type": "code",
   "execution_count": 121,
   "id": "b106e8e2-7993-4e4b-ab9b-d19d16b71c4d",
   "metadata": {
    "tags": []
   },
   "outputs": [
    {
     "data": {
      "text/html": [
       "<div>\n",
       "<style scoped>\n",
       "    .dataframe tbody tr th:only-of-type {\n",
       "        vertical-align: middle;\n",
       "    }\n",
       "\n",
       "    .dataframe tbody tr th {\n",
       "        vertical-align: top;\n",
       "    }\n",
       "\n",
       "    .dataframe thead th {\n",
       "        text-align: right;\n",
       "    }\n",
       "</style>\n",
       "<table border=\"1\" class=\"dataframe\">\n",
       "  <thead>\n",
       "    <tr style=\"text-align: right;\">\n",
       "      <th></th>\n",
       "      <th>date_of_incident</th>\n",
       "      <th>date_of_death</th>\n",
       "      <th>age</th>\n",
       "      <th>gender</th>\n",
       "      <th>race</th>\n",
       "      <th>latino</th>\n",
       "      <th>manner_of_death</th>\n",
       "      <th>primary_cause</th>\n",
       "      <th>primary_cause_line_a</th>\n",
       "      <th>primary_cause_line_b</th>\n",
       "      <th>...</th>\n",
       "      <th>heat_related</th>\n",
       "      <th>commissioner_district</th>\n",
       "      <th>incident_city</th>\n",
       "      <th>incident_zip_code</th>\n",
       "      <th>longitude</th>\n",
       "      <th>latitude</th>\n",
       "      <th>residence_city</th>\n",
       "      <th>residence_zip</th>\n",
       "      <th>chicago_community_area</th>\n",
       "      <th>covid_related</th>\n",
       "    </tr>\n",
       "  </thead>\n",
       "  <tbody>\n",
       "    <tr>\n",
       "      <th>31775</th>\n",
       "      <td>03/26/2016 09:07:00 AM</td>\n",
       "      <td>NaN</td>\n",
       "      <td>70.0</td>\n",
       "      <td>Female</td>\n",
       "      <td>White</td>\n",
       "      <td>False</td>\n",
       "      <td>ACCIDENT</td>\n",
       "      <td>COMPLICATIONS OF SUBDURAL HEMATOMA . DUE TO FA...</td>\n",
       "      <td>COMPLICATIONS OF SUBDURAL HEMATOMA</td>\n",
       "      <td>DUE TO FALL DOWNSTAIRS</td>\n",
       "      <td>...</td>\n",
       "      <td>False</td>\n",
       "      <td>17.0</td>\n",
       "      <td>LA GRANGE PARK</td>\n",
       "      <td>60526.0</td>\n",
       "      <td>-87.867411</td>\n",
       "      <td>41.836726</td>\n",
       "      <td>La Grange Park</td>\n",
       "      <td>60526.0</td>\n",
       "      <td>NOT CHICAGO</td>\n",
       "      <td>False</td>\n",
       "    </tr>\n",
       "  </tbody>\n",
       "</table>\n",
       "<p>1 rows × 25 columns</p>\n",
       "</div>"
      ],
      "text/plain": [
       "             date_of_incident date_of_death   age  gender   race  latino  \\\n",
       "31775  03/26/2016 09:07:00 AM           NaN  70.0  Female  White   False   \n",
       "\n",
       "      manner_of_death                                      primary_cause  \\\n",
       "31775        ACCIDENT  COMPLICATIONS OF SUBDURAL HEMATOMA . DUE TO FA...   \n",
       "\n",
       "                     primary_cause_line_a    primary_cause_line_b  ...  \\\n",
       "31775  COMPLICATIONS OF SUBDURAL HEMATOMA  DUE TO FALL DOWNSTAIRS  ...   \n",
       "\n",
       "      heat_related commissioner_district   incident_city  incident_zip_code  \\\n",
       "31775        False                  17.0  LA GRANGE PARK            60526.0   \n",
       "\n",
       "       longitude   latitude  residence_city residence_zip  \\\n",
       "31775 -87.867411  41.836726  La Grange Park       60526.0   \n",
       "\n",
       "      chicago_community_area  covid_related  \n",
       "31775            NOT CHICAGO          False  \n",
       "\n",
       "[1 rows x 25 columns]"
      ]
     },
     "execution_count": 121,
     "metadata": {},
     "output_type": "execute_result"
    }
   ],
   "source": [
    "partial_clean[partial_clean['date_of_death'].isna()]"
   ]
  },
  {
   "cell_type": "code",
   "execution_count": 122,
   "id": "b4471b88-bf10-4496-89c3-4790e6587ebc",
   "metadata": {
    "tags": []
   },
   "outputs": [],
   "source": [
    "partial_clean['date_of_death'].fillna('03/26/2016 09:07:00 AM', inplace=True)"
   ]
  },
  {
   "cell_type": "code",
   "execution_count": 123,
   "id": "f199bc3a-7925-4154-8bb2-50be62c8c9fe",
   "metadata": {
    "tags": []
   },
   "outputs": [
    {
     "data": {
      "text/plain": [
       "0"
      ]
     },
     "execution_count": 123,
     "metadata": {},
     "output_type": "execute_result"
    }
   ],
   "source": [
    "partial_clean.date_of_death.isna().sum()"
   ]
  },
  {
   "cell_type": "code",
   "execution_count": 124,
   "id": "dc964471-9c99-4e6f-93d7-8fc9f55fd9dc",
   "metadata": {
    "tags": []
   },
   "outputs": [
    {
     "data": {
      "text/plain": [
       "29"
      ]
     },
     "execution_count": 124,
     "metadata": {},
     "output_type": "execute_result"
    }
   ],
   "source": [
    "partial_clean.age.isna().sum()"
   ]
  },
  {
   "cell_type": "code",
   "execution_count": 126,
   "id": "9ccbd9b3-fcfc-4b9c-b0a7-52b385972e20",
   "metadata": {
    "tags": []
   },
   "outputs": [],
   "source": [
    "partial_clean['age'].fillna(99999999, inplace=True)"
   ]
  },
  {
   "cell_type": "code",
   "execution_count": 127,
   "id": "78c95f5f-95bd-46f2-ae73-60a63a4e7629",
   "metadata": {
    "tags": []
   },
   "outputs": [
    {
     "data": {
      "text/plain": [
       "0"
      ]
     },
     "execution_count": 127,
     "metadata": {},
     "output_type": "execute_result"
    }
   ],
   "source": [
    "partial_clean.age.isna().sum()"
   ]
  },
  {
   "cell_type": "code",
   "execution_count": 128,
   "id": "89d818b4-c58b-49ee-9399-284b253bb168",
   "metadata": {
    "tags": []
   },
   "outputs": [
    {
     "data": {
      "text/plain": [
       "date_of_incident           object\n",
       "date_of_death              object\n",
       "age                       float64\n",
       "gender                     object\n",
       "race                       object\n",
       "latino                       bool\n",
       "manner_of_death            object\n",
       "primary_cause              object\n",
       "primary_cause_line_a       object\n",
       "primary_cause_line_b       object\n",
       "primary_cause_line_c       object\n",
       "secondary_cause            object\n",
       "gun_related                  bool\n",
       "opioid_related               bool\n",
       "cold_related                 bool\n",
       "heat_related                 bool\n",
       "commissioner_district      object\n",
       "incident_city              object\n",
       "incident_zip_code          object\n",
       "longitude                 float64\n",
       "latitude                  float64\n",
       "residence_city             object\n",
       "residence_zip              object\n",
       "chicago_community_area     object\n",
       "covid_related                bool\n",
       "dtype: object"
      ]
     },
     "execution_count": 128,
     "metadata": {},
     "output_type": "execute_result"
    }
   ],
   "source": [
    "partial_clean.dtypes"
   ]
  },
  {
   "cell_type": "code",
   "execution_count": 132,
   "id": "5cfe18dd-4fe9-4ac7-bdea-0b48b80bc66c",
   "metadata": {
    "tags": []
   },
   "outputs": [],
   "source": [
    "def age_buckets(x):\n",
    "    if int(x) < 5:\n",
    "        return 'Under 5'\n",
    "    elif int(x) < 15:\n",
    "        return '5-14'\n",
    "    elif int(x) < 25:\n",
    "        return '15-24'\n",
    "    elif int(x) < 65:\n",
    "        return '25-64'\n",
    "    elif int(x) < 99999999:\n",
    "        return '65+'\n",
    "    else:\n",
    "        return 'Unknown'"
   ]
  },
  {
   "cell_type": "code",
   "execution_count": 133,
   "id": "441a3d7f-1c90-404d-84e9-aa5857ebbc9d",
   "metadata": {
    "tags": []
   },
   "outputs": [],
   "source": [
    "partial_clean['age_range'] = partial_clean['age'].apply(age_buckets)"
   ]
  },
  {
   "cell_type": "code",
   "execution_count": 134,
   "id": "ee22e01a-0457-4f2c-830c-31146d7f6628",
   "metadata": {
    "tags": []
   },
   "outputs": [
    {
     "data": {
      "text/html": [
       "<div>\n",
       "<style scoped>\n",
       "    .dataframe tbody tr th:only-of-type {\n",
       "        vertical-align: middle;\n",
       "    }\n",
       "\n",
       "    .dataframe tbody tr th {\n",
       "        vertical-align: top;\n",
       "    }\n",
       "\n",
       "    .dataframe thead th {\n",
       "        text-align: right;\n",
       "    }\n",
       "</style>\n",
       "<table border=\"1\" class=\"dataframe\">\n",
       "  <thead>\n",
       "    <tr style=\"text-align: right;\">\n",
       "      <th></th>\n",
       "      <th>date_of_incident</th>\n",
       "      <th>date_of_death</th>\n",
       "      <th>age</th>\n",
       "      <th>gender</th>\n",
       "      <th>race</th>\n",
       "      <th>latino</th>\n",
       "      <th>manner_of_death</th>\n",
       "      <th>primary_cause</th>\n",
       "      <th>primary_cause_line_a</th>\n",
       "      <th>primary_cause_line_b</th>\n",
       "      <th>...</th>\n",
       "      <th>commissioner_district</th>\n",
       "      <th>incident_city</th>\n",
       "      <th>incident_zip_code</th>\n",
       "      <th>longitude</th>\n",
       "      <th>latitude</th>\n",
       "      <th>residence_city</th>\n",
       "      <th>residence_zip</th>\n",
       "      <th>chicago_community_area</th>\n",
       "      <th>covid_related</th>\n",
       "      <th>age_range</th>\n",
       "    </tr>\n",
       "  </thead>\n",
       "  <tbody>\n",
       "    <tr>\n",
       "      <th>0</th>\n",
       "      <td>10/24/2023 12:43:00 AM</td>\n",
       "      <td>10/25/2023 12:11:00 AM</td>\n",
       "      <td>22.0</td>\n",
       "      <td>Female</td>\n",
       "      <td>Black</td>\n",
       "      <td>False</td>\n",
       "      <td>ACCIDENT</td>\n",
       "      <td>MULTIPLE BLUNT FORCE INJURIES. MOTOR VEHICLE C...</td>\n",
       "      <td>MULTIPLE BLUNT FORCE INJURIES</td>\n",
       "      <td>MOTOR VEHICLE COLLISION</td>\n",
       "      <td>...</td>\n",
       "      <td>1.0</td>\n",
       "      <td>CHICAGO</td>\n",
       "      <td>60644.0</td>\n",
       "      <td>-87.754890</td>\n",
       "      <td>41.872093</td>\n",
       "      <td>Indianapolis</td>\n",
       "      <td>46224.0</td>\n",
       "      <td>AUSTIN</td>\n",
       "      <td>False</td>\n",
       "      <td>15-24</td>\n",
       "    </tr>\n",
       "    <tr>\n",
       "      <th>1</th>\n",
       "      <td>10/24/2023 10:30:00 PM</td>\n",
       "      <td>10/24/2023 09:51:00 PM</td>\n",
       "      <td>35.0</td>\n",
       "      <td>Male</td>\n",
       "      <td>Black</td>\n",
       "      <td>False</td>\n",
       "      <td>HOMICIDE</td>\n",
       "      <td>MULTIPLE GUNSHOT WOUNDS</td>\n",
       "      <td>MULTIPLE GUNSHOT WOUNDS</td>\n",
       "      <td>no_text</td>\n",
       "      <td>...</td>\n",
       "      <td>4.0</td>\n",
       "      <td>CHICAGO</td>\n",
       "      <td>60649.0</td>\n",
       "      <td>-87.558292</td>\n",
       "      <td>41.759939</td>\n",
       "      <td>Chicago</td>\n",
       "      <td>60633.0</td>\n",
       "      <td>SOUTH SHORE</td>\n",
       "      <td>False</td>\n",
       "      <td>25-64</td>\n",
       "    </tr>\n",
       "    <tr>\n",
       "      <th>2</th>\n",
       "      <td>10/24/2023 09:18:00 PM</td>\n",
       "      <td>10/24/2023 08:36:00 PM</td>\n",
       "      <td>54.0</td>\n",
       "      <td>Male</td>\n",
       "      <td>White</td>\n",
       "      <td>False</td>\n",
       "      <td>SUICIDE</td>\n",
       "      <td>GUNSHOT WOUND OF HEAD</td>\n",
       "      <td>GUNSHOT WOUND OF HEAD</td>\n",
       "      <td>no_text</td>\n",
       "      <td>...</td>\n",
       "      <td>12.0</td>\n",
       "      <td>CHICAGO</td>\n",
       "      <td>60634.0</td>\n",
       "      <td>-87.780811</td>\n",
       "      <td>41.955351</td>\n",
       "      <td>Chicago</td>\n",
       "      <td>60634.0</td>\n",
       "      <td>PORTAGE PARK</td>\n",
       "      <td>False</td>\n",
       "      <td>25-64</td>\n",
       "    </tr>\n",
       "    <tr>\n",
       "      <th>3</th>\n",
       "      <td>10/24/2023 07:48:00 AM</td>\n",
       "      <td>10/24/2023 07:16:00 AM</td>\n",
       "      <td>19.0</td>\n",
       "      <td>Male</td>\n",
       "      <td>Black</td>\n",
       "      <td>False</td>\n",
       "      <td>HOMICIDE</td>\n",
       "      <td>MULTIPLE GUNSHOT WOUNDS</td>\n",
       "      <td>MULTIPLE GUNSHOT WOUNDS</td>\n",
       "      <td>no_text</td>\n",
       "      <td>...</td>\n",
       "      <td>3.0</td>\n",
       "      <td>CHICAGO</td>\n",
       "      <td>60649.0</td>\n",
       "      <td>-87.584359</td>\n",
       "      <td>41.771935</td>\n",
       "      <td>no_text</td>\n",
       "      <td>no_text</td>\n",
       "      <td>SOUTH SHORE</td>\n",
       "      <td>False</td>\n",
       "      <td>15-24</td>\n",
       "    </tr>\n",
       "    <tr>\n",
       "      <th>4</th>\n",
       "      <td>10/23/2023 10:21:00 PM</td>\n",
       "      <td>10/23/2023 09:29:00 PM</td>\n",
       "      <td>41.0</td>\n",
       "      <td>Male</td>\n",
       "      <td>Black</td>\n",
       "      <td>False</td>\n",
       "      <td>HOMICIDE</td>\n",
       "      <td>MULTIPLE GUNSHOT WOUNDS</td>\n",
       "      <td>MULTIPLE GUNSHOT WOUNDS</td>\n",
       "      <td>no_text</td>\n",
       "      <td>...</td>\n",
       "      <td>2.0</td>\n",
       "      <td>CHICAGO</td>\n",
       "      <td>60636.0</td>\n",
       "      <td>-87.663792</td>\n",
       "      <td>41.782286</td>\n",
       "      <td>Chicago</td>\n",
       "      <td>60636.0</td>\n",
       "      <td>WEST ENGLEWOOD</td>\n",
       "      <td>False</td>\n",
       "      <td>25-64</td>\n",
       "    </tr>\n",
       "  </tbody>\n",
       "</table>\n",
       "<p>5 rows × 26 columns</p>\n",
       "</div>"
      ],
      "text/plain": [
       "         date_of_incident           date_of_death   age  gender   race  \\\n",
       "0  10/24/2023 12:43:00 AM  10/25/2023 12:11:00 AM  22.0  Female  Black   \n",
       "1  10/24/2023 10:30:00 PM  10/24/2023 09:51:00 PM  35.0    Male  Black   \n",
       "2  10/24/2023 09:18:00 PM  10/24/2023 08:36:00 PM  54.0    Male  White   \n",
       "3  10/24/2023 07:48:00 AM  10/24/2023 07:16:00 AM  19.0    Male  Black   \n",
       "4  10/23/2023 10:21:00 PM  10/23/2023 09:29:00 PM  41.0    Male  Black   \n",
       "\n",
       "   latino manner_of_death                                      primary_cause  \\\n",
       "0   False        ACCIDENT  MULTIPLE BLUNT FORCE INJURIES. MOTOR VEHICLE C...   \n",
       "1   False        HOMICIDE                            MULTIPLE GUNSHOT WOUNDS   \n",
       "2   False         SUICIDE                              GUNSHOT WOUND OF HEAD   \n",
       "3   False        HOMICIDE                            MULTIPLE GUNSHOT WOUNDS   \n",
       "4   False        HOMICIDE                            MULTIPLE GUNSHOT WOUNDS   \n",
       "\n",
       "            primary_cause_line_a     primary_cause_line_b  ...  \\\n",
       "0  MULTIPLE BLUNT FORCE INJURIES  MOTOR VEHICLE COLLISION  ...   \n",
       "1        MULTIPLE GUNSHOT WOUNDS                  no_text  ...   \n",
       "2          GUNSHOT WOUND OF HEAD                  no_text  ...   \n",
       "3        MULTIPLE GUNSHOT WOUNDS                  no_text  ...   \n",
       "4        MULTIPLE GUNSHOT WOUNDS                  no_text  ...   \n",
       "\n",
       "  commissioner_district incident_city  incident_zip_code  longitude  \\\n",
       "0                   1.0       CHICAGO            60644.0 -87.754890   \n",
       "1                   4.0       CHICAGO            60649.0 -87.558292   \n",
       "2                  12.0       CHICAGO            60634.0 -87.780811   \n",
       "3                   3.0       CHICAGO            60649.0 -87.584359   \n",
       "4                   2.0       CHICAGO            60636.0 -87.663792   \n",
       "\n",
       "    latitude  residence_city residence_zip chicago_community_area  \\\n",
       "0  41.872093    Indianapolis       46224.0                 AUSTIN   \n",
       "1  41.759939         Chicago       60633.0            SOUTH SHORE   \n",
       "2  41.955351         Chicago       60634.0           PORTAGE PARK   \n",
       "3  41.771935         no_text       no_text            SOUTH SHORE   \n",
       "4  41.782286         Chicago       60636.0         WEST ENGLEWOOD   \n",
       "\n",
       "  covid_related  age_range  \n",
       "0         False      15-24  \n",
       "1         False      25-64  \n",
       "2         False      25-64  \n",
       "3         False      15-24  \n",
       "4         False      25-64  \n",
       "\n",
       "[5 rows x 26 columns]"
      ]
     },
     "execution_count": 134,
     "metadata": {},
     "output_type": "execute_result"
    }
   ],
   "source": [
    "partial_clean.head()"
   ]
  },
  {
   "cell_type": "code",
   "execution_count": 135,
   "id": "ecad2052-0a15-4de9-bdab-7240202ae349",
   "metadata": {
    "tags": []
   },
   "outputs": [
    {
     "data": {
      "text/plain": [
       "25-64      24562\n",
       "65+         7187\n",
       "15-24       4731\n",
       "Under 5      336\n",
       "5-14         306\n",
       "Unknown       29\n",
       "Name: age_range, dtype: int64"
      ]
     },
     "execution_count": 135,
     "metadata": {},
     "output_type": "execute_result"
    }
   ],
   "source": [
    "partial_clean.age_range.value_counts()"
   ]
  },
  {
   "cell_type": "code",
   "execution_count": 139,
   "id": "5250e736-9fd4-49ce-ad77-b85418ae73f3",
   "metadata": {
    "tags": []
   },
   "outputs": [
    {
     "data": {
      "text/plain": [
       "False    32080\n",
       "True      5071\n",
       "Name: latino, dtype: int64"
      ]
     },
     "execution_count": 139,
     "metadata": {},
     "output_type": "execute_result"
    }
   ],
   "source": [
    "partial_clean.latino.value_counts()"
   ]
  },
  {
   "cell_type": "code",
   "execution_count": 140,
   "id": "795d423f-b998-4589-a0c9-6b13566d2663",
   "metadata": {
    "tags": []
   },
   "outputs": [
    {
     "data": {
      "text/plain": [
       "dtype('bool')"
      ]
     },
     "execution_count": 140,
     "metadata": {},
     "output_type": "execute_result"
    }
   ],
   "source": [
    "partial_clean.latino.dtypes"
   ]
  },
  {
   "cell_type": "code",
   "execution_count": 142,
   "id": "88428acb-e351-4353-883f-d32ab6f630af",
   "metadata": {
    "tags": []
   },
   "outputs": [],
   "source": [
    "partial_clean['latino'] = partial_clean.latino.map({False : 0, True : 1})"
   ]
  },
  {
   "cell_type": "code",
   "execution_count": 143,
   "id": "a86ed638-06cf-485e-973a-59f23e94c4e2",
   "metadata": {
    "tags": []
   },
   "outputs": [
    {
     "data": {
      "text/plain": [
       "0    32080\n",
       "1     5071\n",
       "Name: latino, dtype: int64"
      ]
     },
     "execution_count": 143,
     "metadata": {},
     "output_type": "execute_result"
    }
   ],
   "source": [
    "partial_clean.latino.value_counts()"
   ]
  },
  {
   "cell_type": "code",
   "execution_count": 144,
   "id": "3dda30ed-4d65-4e45-bb16-c86973a03f63",
   "metadata": {
    "tags": []
   },
   "outputs": [
    {
     "data": {
      "text/plain": [
       "False    36634\n",
       "True       517\n",
       "Name: cold_related, dtype: int64"
      ]
     },
     "execution_count": 144,
     "metadata": {},
     "output_type": "execute_result"
    }
   ],
   "source": [
    "partial_clean.cold_related.value_counts()"
   ]
  },
  {
   "cell_type": "code",
   "execution_count": 146,
   "id": "00acfc6b-d096-41c9-9caa-bb0dd15bf947",
   "metadata": {
    "tags": []
   },
   "outputs": [
    {
     "data": {
      "text/plain": [
       "dtype('bool')"
      ]
     },
     "execution_count": 146,
     "metadata": {},
     "output_type": "execute_result"
    }
   ],
   "source": [
    "partial_clean.cold_related.dtypes"
   ]
  },
  {
   "cell_type": "code",
   "execution_count": 147,
   "id": "9ab65d1d-2006-4046-817f-cfae44d1edf4",
   "metadata": {
    "tags": []
   },
   "outputs": [],
   "source": [
    "partial_clean['cold_related'] = partial_clean.cold_related.map({False : 0, True : 1})"
   ]
  },
  {
   "cell_type": "code",
   "execution_count": 148,
   "id": "2e21c937-74d0-4a95-8a25-80982980efa9",
   "metadata": {
    "tags": []
   },
   "outputs": [
    {
     "data": {
      "text/plain": [
       "0    36634\n",
       "1      517\n",
       "Name: cold_related, dtype: int64"
      ]
     },
     "execution_count": 148,
     "metadata": {},
     "output_type": "execute_result"
    }
   ],
   "source": [
    "partial_clean.cold_related.value_counts()"
   ]
  },
  {
   "cell_type": "code",
   "execution_count": 149,
   "id": "1176f92a-b6a8-4e56-b2b4-dfb5fdfa0c18",
   "metadata": {
    "tags": []
   },
   "outputs": [
    {
     "data": {
      "text/plain": [
       "False    37126\n",
       "True        25\n",
       "Name: heat_related, dtype: int64"
      ]
     },
     "execution_count": 149,
     "metadata": {},
     "output_type": "execute_result"
    }
   ],
   "source": [
    "partial_clean.heat_related.value_counts()"
   ]
  },
  {
   "cell_type": "code",
   "execution_count": 150,
   "id": "02110782-50c3-4a57-846a-c5a2cefac0d7",
   "metadata": {
    "tags": []
   },
   "outputs": [
    {
     "data": {
      "text/plain": [
       "dtype('bool')"
      ]
     },
     "execution_count": 150,
     "metadata": {},
     "output_type": "execute_result"
    }
   ],
   "source": [
    "partial_clean.heat_related.dtypes"
   ]
  },
  {
   "cell_type": "code",
   "execution_count": 151,
   "id": "007755d3-9a51-4e26-8ce3-086220a063cd",
   "metadata": {
    "tags": []
   },
   "outputs": [],
   "source": [
    "partial_clean['heat_related'] = partial_clean.heat_related.map({False : 0, True : 1})"
   ]
  },
  {
   "cell_type": "code",
   "execution_count": 152,
   "id": "4a59859d-0146-40c3-8b69-35ba468a6286",
   "metadata": {
    "tags": []
   },
   "outputs": [
    {
     "data": {
      "text/plain": [
       "0    37126\n",
       "1       25\n",
       "Name: heat_related, dtype: int64"
      ]
     },
     "execution_count": 152,
     "metadata": {},
     "output_type": "execute_result"
    }
   ],
   "source": [
    "partial_clean.heat_related.value_counts()"
   ]
  },
  {
   "cell_type": "code",
   "execution_count": 153,
   "id": "4585bbf6-fdd4-46c9-a8fd-dd8567d60840",
   "metadata": {
    "tags": []
   },
   "outputs": [
    {
     "data": {
      "text/plain": [
       "False    28877\n",
       "True      8274\n",
       "Name: gun_related, dtype: int64"
      ]
     },
     "execution_count": 153,
     "metadata": {},
     "output_type": "execute_result"
    }
   ],
   "source": [
    "partial_clean.gun_related.value_counts()"
   ]
  },
  {
   "cell_type": "code",
   "execution_count": 154,
   "id": "f8d9f895-7076-4402-9a88-235527555470",
   "metadata": {
    "tags": []
   },
   "outputs": [
    {
     "data": {
      "text/plain": [
       "dtype('bool')"
      ]
     },
     "execution_count": 154,
     "metadata": {},
     "output_type": "execute_result"
    }
   ],
   "source": [
    "partial_clean.gun_related.dtypes"
   ]
  },
  {
   "cell_type": "code",
   "execution_count": 155,
   "id": "8c919313-76b1-4f6e-bb34-3a0e8cd4432c",
   "metadata": {
    "tags": []
   },
   "outputs": [],
   "source": [
    "partial_clean['gun_related'] = partial_clean.gun_related.map({False : 0, True : 1})"
   ]
  },
  {
   "cell_type": "code",
   "execution_count": 156,
   "id": "01b41534-6a8d-4bea-bb63-a735bed7187e",
   "metadata": {
    "tags": []
   },
   "outputs": [
    {
     "data": {
      "text/plain": [
       "0    28877\n",
       "1     8274\n",
       "Name: gun_related, dtype: int64"
      ]
     },
     "execution_count": 156,
     "metadata": {},
     "output_type": "execute_result"
    }
   ],
   "source": [
    "partial_clean.gun_related.value_counts()"
   ]
  },
  {
   "cell_type": "code",
   "execution_count": 157,
   "id": "29bca57f-cd35-4eaf-9437-0d592c1931b6",
   "metadata": {
    "tags": []
   },
   "outputs": [
    {
     "data": {
      "text/plain": [
       "False    24546\n",
       "True     12605\n",
       "Name: opioid_related, dtype: int64"
      ]
     },
     "execution_count": 157,
     "metadata": {},
     "output_type": "execute_result"
    }
   ],
   "source": [
    "partial_clean.opioid_related.value_counts()"
   ]
  },
  {
   "cell_type": "code",
   "execution_count": 158,
   "id": "5c17004c-db53-423c-a400-64ea57319db4",
   "metadata": {
    "tags": []
   },
   "outputs": [
    {
     "data": {
      "text/plain": [
       "dtype('bool')"
      ]
     },
     "execution_count": 158,
     "metadata": {},
     "output_type": "execute_result"
    }
   ],
   "source": [
    "partial_clean.opioid_related.dtypes"
   ]
  },
  {
   "cell_type": "code",
   "execution_count": 159,
   "id": "3aaa5e25-7fa5-4939-8161-08d59699ab0f",
   "metadata": {
    "tags": []
   },
   "outputs": [],
   "source": [
    "partial_clean['opioid_related'] = partial_clean.opioid_related.map({False : 0, True : 1})"
   ]
  },
  {
   "cell_type": "code",
   "execution_count": 160,
   "id": "93245aa7-53cf-433c-b19d-445850a0ff41",
   "metadata": {
    "tags": []
   },
   "outputs": [
    {
     "data": {
      "text/plain": [
       "0    24546\n",
       "1    12605\n",
       "Name: opioid_related, dtype: int64"
      ]
     },
     "execution_count": 160,
     "metadata": {},
     "output_type": "execute_result"
    }
   ],
   "source": [
    "partial_clean.opioid_related.value_counts()"
   ]
  },
  {
   "cell_type": "code",
   "execution_count": 161,
   "id": "9510abfe-5a3f-4019-82f8-af0c0e9c3edc",
   "metadata": {
    "tags": []
   },
   "outputs": [
    {
     "data": {
      "text/plain": [
       "False    36901\n",
       "True       250\n",
       "Name: covid_related, dtype: int64"
      ]
     },
     "execution_count": 161,
     "metadata": {},
     "output_type": "execute_result"
    }
   ],
   "source": [
    "partial_clean.covid_related.value_counts()"
   ]
  },
  {
   "cell_type": "code",
   "execution_count": 163,
   "id": "6b8f3f31-eea0-48e8-a138-92f98c52a7e5",
   "metadata": {
    "tags": []
   },
   "outputs": [
    {
     "data": {
      "text/plain": [
       "dtype('bool')"
      ]
     },
     "execution_count": 163,
     "metadata": {},
     "output_type": "execute_result"
    }
   ],
   "source": [
    "partial_clean.covid_related.dtypes"
   ]
  },
  {
   "cell_type": "code",
   "execution_count": 164,
   "id": "04f725c4-ee8d-49ed-a60d-7c8f40fbafd7",
   "metadata": {
    "tags": []
   },
   "outputs": [],
   "source": [
    "partial_clean['covid_related'] = partial_clean.covid_related.map({False : 0, True : 1})"
   ]
  },
  {
   "cell_type": "code",
   "execution_count": 165,
   "id": "449a7616-303c-414e-8b78-4021c6ec4810",
   "metadata": {
    "tags": []
   },
   "outputs": [
    {
     "data": {
      "text/plain": [
       "0    36901\n",
       "1      250\n",
       "Name: covid_related, dtype: int64"
      ]
     },
     "execution_count": 165,
     "metadata": {},
     "output_type": "execute_result"
    }
   ],
   "source": [
    "partial_clean.covid_related.value_counts()"
   ]
  },
  {
   "cell_type": "code",
   "execution_count": 167,
   "id": "b83dcd4e-7d2d-4938-8863-47cb38a63599",
   "metadata": {
    "tags": []
   },
   "outputs": [
    {
     "data": {
      "text/plain": [
       "Male      27997\n",
       "Female     9154\n",
       "Name: gender, dtype: int64"
      ]
     },
     "execution_count": 167,
     "metadata": {},
     "output_type": "execute_result"
    }
   ],
   "source": [
    "partial_clean.gender.value_counts()"
   ]
  },
  {
   "cell_type": "code",
   "execution_count": 169,
   "id": "64c4ed7d-3d7b-44ae-897d-523c205edba7",
   "metadata": {
    "tags": []
   },
   "outputs": [],
   "source": [
    "partial_clean['gender'] = partial_clean.gender.map({'Male' : 0, 'Female' : 1})"
   ]
  },
  {
   "cell_type": "code",
   "execution_count": 170,
   "id": "6ff887e7-0d41-4f36-93a8-1c6da48fef3b",
   "metadata": {
    "tags": []
   },
   "outputs": [
    {
     "data": {
      "text/plain": [
       "0    27997\n",
       "1     9154\n",
       "Name: gender, dtype: int64"
      ]
     },
     "execution_count": 170,
     "metadata": {},
     "output_type": "execute_result"
    }
   ],
   "source": [
    "partial_clean.gender.value_counts()"
   ]
  },
  {
   "cell_type": "code",
   "execution_count": 171,
   "id": "1b7eafb3-a22e-4a53-94ec-05d8bf1565cd",
   "metadata": {
    "tags": []
   },
   "outputs": [
    {
     "data": {
      "text/html": [
       "<div>\n",
       "<style scoped>\n",
       "    .dataframe tbody tr th:only-of-type {\n",
       "        vertical-align: middle;\n",
       "    }\n",
       "\n",
       "    .dataframe tbody tr th {\n",
       "        vertical-align: top;\n",
       "    }\n",
       "\n",
       "    .dataframe thead th {\n",
       "        text-align: right;\n",
       "    }\n",
       "</style>\n",
       "<table border=\"1\" class=\"dataframe\">\n",
       "  <thead>\n",
       "    <tr style=\"text-align: right;\">\n",
       "      <th></th>\n",
       "      <th>date_of_incident</th>\n",
       "      <th>date_of_death</th>\n",
       "      <th>age</th>\n",
       "      <th>gender</th>\n",
       "      <th>race</th>\n",
       "      <th>latino</th>\n",
       "      <th>manner_of_death</th>\n",
       "      <th>primary_cause</th>\n",
       "      <th>primary_cause_line_a</th>\n",
       "      <th>primary_cause_line_b</th>\n",
       "      <th>...</th>\n",
       "      <th>commissioner_district</th>\n",
       "      <th>incident_city</th>\n",
       "      <th>incident_zip_code</th>\n",
       "      <th>longitude</th>\n",
       "      <th>latitude</th>\n",
       "      <th>residence_city</th>\n",
       "      <th>residence_zip</th>\n",
       "      <th>chicago_community_area</th>\n",
       "      <th>covid_related</th>\n",
       "      <th>age_range</th>\n",
       "    </tr>\n",
       "  </thead>\n",
       "  <tbody>\n",
       "    <tr>\n",
       "      <th>0</th>\n",
       "      <td>10/24/2023 12:43:00 AM</td>\n",
       "      <td>10/25/2023 12:11:00 AM</td>\n",
       "      <td>22.0</td>\n",
       "      <td>1</td>\n",
       "      <td>Black</td>\n",
       "      <td>0</td>\n",
       "      <td>ACCIDENT</td>\n",
       "      <td>MULTIPLE BLUNT FORCE INJURIES. MOTOR VEHICLE C...</td>\n",
       "      <td>MULTIPLE BLUNT FORCE INJURIES</td>\n",
       "      <td>MOTOR VEHICLE COLLISION</td>\n",
       "      <td>...</td>\n",
       "      <td>1.0</td>\n",
       "      <td>CHICAGO</td>\n",
       "      <td>60644.0</td>\n",
       "      <td>-87.754890</td>\n",
       "      <td>41.872093</td>\n",
       "      <td>Indianapolis</td>\n",
       "      <td>46224.0</td>\n",
       "      <td>AUSTIN</td>\n",
       "      <td>0</td>\n",
       "      <td>15-24</td>\n",
       "    </tr>\n",
       "    <tr>\n",
       "      <th>1</th>\n",
       "      <td>10/24/2023 10:30:00 PM</td>\n",
       "      <td>10/24/2023 09:51:00 PM</td>\n",
       "      <td>35.0</td>\n",
       "      <td>0</td>\n",
       "      <td>Black</td>\n",
       "      <td>0</td>\n",
       "      <td>HOMICIDE</td>\n",
       "      <td>MULTIPLE GUNSHOT WOUNDS</td>\n",
       "      <td>MULTIPLE GUNSHOT WOUNDS</td>\n",
       "      <td>no_text</td>\n",
       "      <td>...</td>\n",
       "      <td>4.0</td>\n",
       "      <td>CHICAGO</td>\n",
       "      <td>60649.0</td>\n",
       "      <td>-87.558292</td>\n",
       "      <td>41.759939</td>\n",
       "      <td>Chicago</td>\n",
       "      <td>60633.0</td>\n",
       "      <td>SOUTH SHORE</td>\n",
       "      <td>0</td>\n",
       "      <td>25-64</td>\n",
       "    </tr>\n",
       "    <tr>\n",
       "      <th>2</th>\n",
       "      <td>10/24/2023 09:18:00 PM</td>\n",
       "      <td>10/24/2023 08:36:00 PM</td>\n",
       "      <td>54.0</td>\n",
       "      <td>0</td>\n",
       "      <td>White</td>\n",
       "      <td>0</td>\n",
       "      <td>SUICIDE</td>\n",
       "      <td>GUNSHOT WOUND OF HEAD</td>\n",
       "      <td>GUNSHOT WOUND OF HEAD</td>\n",
       "      <td>no_text</td>\n",
       "      <td>...</td>\n",
       "      <td>12.0</td>\n",
       "      <td>CHICAGO</td>\n",
       "      <td>60634.0</td>\n",
       "      <td>-87.780811</td>\n",
       "      <td>41.955351</td>\n",
       "      <td>Chicago</td>\n",
       "      <td>60634.0</td>\n",
       "      <td>PORTAGE PARK</td>\n",
       "      <td>0</td>\n",
       "      <td>25-64</td>\n",
       "    </tr>\n",
       "    <tr>\n",
       "      <th>3</th>\n",
       "      <td>10/24/2023 07:48:00 AM</td>\n",
       "      <td>10/24/2023 07:16:00 AM</td>\n",
       "      <td>19.0</td>\n",
       "      <td>0</td>\n",
       "      <td>Black</td>\n",
       "      <td>0</td>\n",
       "      <td>HOMICIDE</td>\n",
       "      <td>MULTIPLE GUNSHOT WOUNDS</td>\n",
       "      <td>MULTIPLE GUNSHOT WOUNDS</td>\n",
       "      <td>no_text</td>\n",
       "      <td>...</td>\n",
       "      <td>3.0</td>\n",
       "      <td>CHICAGO</td>\n",
       "      <td>60649.0</td>\n",
       "      <td>-87.584359</td>\n",
       "      <td>41.771935</td>\n",
       "      <td>no_text</td>\n",
       "      <td>no_text</td>\n",
       "      <td>SOUTH SHORE</td>\n",
       "      <td>0</td>\n",
       "      <td>15-24</td>\n",
       "    </tr>\n",
       "    <tr>\n",
       "      <th>4</th>\n",
       "      <td>10/23/2023 10:21:00 PM</td>\n",
       "      <td>10/23/2023 09:29:00 PM</td>\n",
       "      <td>41.0</td>\n",
       "      <td>0</td>\n",
       "      <td>Black</td>\n",
       "      <td>0</td>\n",
       "      <td>HOMICIDE</td>\n",
       "      <td>MULTIPLE GUNSHOT WOUNDS</td>\n",
       "      <td>MULTIPLE GUNSHOT WOUNDS</td>\n",
       "      <td>no_text</td>\n",
       "      <td>...</td>\n",
       "      <td>2.0</td>\n",
       "      <td>CHICAGO</td>\n",
       "      <td>60636.0</td>\n",
       "      <td>-87.663792</td>\n",
       "      <td>41.782286</td>\n",
       "      <td>Chicago</td>\n",
       "      <td>60636.0</td>\n",
       "      <td>WEST ENGLEWOOD</td>\n",
       "      <td>0</td>\n",
       "      <td>25-64</td>\n",
       "    </tr>\n",
       "  </tbody>\n",
       "</table>\n",
       "<p>5 rows × 26 columns</p>\n",
       "</div>"
      ],
      "text/plain": [
       "         date_of_incident           date_of_death   age  gender   race  \\\n",
       "0  10/24/2023 12:43:00 AM  10/25/2023 12:11:00 AM  22.0       1  Black   \n",
       "1  10/24/2023 10:30:00 PM  10/24/2023 09:51:00 PM  35.0       0  Black   \n",
       "2  10/24/2023 09:18:00 PM  10/24/2023 08:36:00 PM  54.0       0  White   \n",
       "3  10/24/2023 07:48:00 AM  10/24/2023 07:16:00 AM  19.0       0  Black   \n",
       "4  10/23/2023 10:21:00 PM  10/23/2023 09:29:00 PM  41.0       0  Black   \n",
       "\n",
       "   latino manner_of_death                                      primary_cause  \\\n",
       "0       0        ACCIDENT  MULTIPLE BLUNT FORCE INJURIES. MOTOR VEHICLE C...   \n",
       "1       0        HOMICIDE                            MULTIPLE GUNSHOT WOUNDS   \n",
       "2       0         SUICIDE                              GUNSHOT WOUND OF HEAD   \n",
       "3       0        HOMICIDE                            MULTIPLE GUNSHOT WOUNDS   \n",
       "4       0        HOMICIDE                            MULTIPLE GUNSHOT WOUNDS   \n",
       "\n",
       "            primary_cause_line_a     primary_cause_line_b  ...  \\\n",
       "0  MULTIPLE BLUNT FORCE INJURIES  MOTOR VEHICLE COLLISION  ...   \n",
       "1        MULTIPLE GUNSHOT WOUNDS                  no_text  ...   \n",
       "2          GUNSHOT WOUND OF HEAD                  no_text  ...   \n",
       "3        MULTIPLE GUNSHOT WOUNDS                  no_text  ...   \n",
       "4        MULTIPLE GUNSHOT WOUNDS                  no_text  ...   \n",
       "\n",
       "  commissioner_district incident_city  incident_zip_code  longitude  \\\n",
       "0                   1.0       CHICAGO            60644.0 -87.754890   \n",
       "1                   4.0       CHICAGO            60649.0 -87.558292   \n",
       "2                  12.0       CHICAGO            60634.0 -87.780811   \n",
       "3                   3.0       CHICAGO            60649.0 -87.584359   \n",
       "4                   2.0       CHICAGO            60636.0 -87.663792   \n",
       "\n",
       "    latitude  residence_city residence_zip chicago_community_area  \\\n",
       "0  41.872093    Indianapolis       46224.0                 AUSTIN   \n",
       "1  41.759939         Chicago       60633.0            SOUTH SHORE   \n",
       "2  41.955351         Chicago       60634.0           PORTAGE PARK   \n",
       "3  41.771935         no_text       no_text            SOUTH SHORE   \n",
       "4  41.782286         Chicago       60636.0         WEST ENGLEWOOD   \n",
       "\n",
       "  covid_related  age_range  \n",
       "0             0      15-24  \n",
       "1             0      25-64  \n",
       "2             0      25-64  \n",
       "3             0      15-24  \n",
       "4             0      25-64  \n",
       "\n",
       "[5 rows x 26 columns]"
      ]
     },
     "execution_count": 171,
     "metadata": {},
     "output_type": "execute_result"
    }
   ],
   "source": [
    "partial_clean.head()"
   ]
  },
  {
   "cell_type": "code",
   "execution_count": null,
   "id": "1e4a8f9d-e6af-453e-b43b-5188e8b4c0b2",
   "metadata": {},
   "outputs": [],
   "source": [
    "partial_clean.to_csv('partial_clean_data.csv')"
   ]
  }
 ],
 "metadata": {
  "kernelspec": {
   "display_name": "Python 3 (ipykernel)",
   "language": "python",
   "name": "python3"
  },
  "language_info": {
   "codemirror_mode": {
    "name": "ipython",
    "version": 3
   },
   "file_extension": ".py",
   "mimetype": "text/x-python",
   "name": "python",
   "nbconvert_exporter": "python",
   "pygments_lexer": "ipython3",
   "version": "3.11.4"
  }
 },
 "nbformat": 4,
 "nbformat_minor": 5
}
