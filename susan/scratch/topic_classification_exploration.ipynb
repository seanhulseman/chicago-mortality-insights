{
 "cells": [
  {
   "cell_type": "markdown",
   "id": "1c5b5faa",
   "metadata": {},
   "source": [
    "## Topic Classification"
   ]
  },
  {
   "cell_type": "markdown",
   "id": "deeba8f1",
   "metadata": {},
   "source": [
    "Credit: Federico Pascual,  https://monkeylearn.com/blog/introduction-to-topic-modeling/"
   ]
  },
  {
   "cell_type": "code",
   "execution_count": 5,
   "id": "23baf830",
   "metadata": {},
   "outputs": [],
   "source": [
    "import pandas as pd\n",
    "import numpy as np\n",
    "import matplotlib.pyplot as plt\n",
    "import re\n",
    "import nltk\n",
    "\n",
    "# nltk.download('punkt')\n",
    "from nltk.tokenize import word_tokenize\n",
    "\n",
    "# nltk.download('stopwords')\n",
    "from nltk.corpus import stopwords\n",
    "\n",
    "from nltk.stem.porter import PorterStemmer\n"
   ]
  },
  {
   "cell_type": "code",
   "execution_count": 7,
   "id": "397017db",
   "metadata": {},
   "outputs": [],
   "source": [
    "df = pd.read_csv('../data/cleaned_data_31OCT.csv')"
   ]
  },
  {
   "cell_type": "code",
   "execution_count": 8,
   "id": "3f95bd75",
   "metadata": {},
   "outputs": [],
   "source": [
    "def process_text(text):\n",
    "    # Make all the strings lowercase and remove non alphabetic characters\n",
    "    text = re.sub('[^A-Za-z]', ' ', text.lower())\n",
    "\n",
    "    # Tokenize the text; this is, separate every sentence into a list of words\n",
    "    # Since the text is already split into sentences you don't have to call sent_tokenize\n",
    "    tokenized_text = word_tokenize(text)\n",
    "\n",
    "    # Remove the stopwords and stem each word to its root\n",
    "    clean_text = [\n",
    "        stemmer.stem(word) for word in tokenized_text\n",
    "        if word not in stopwords.words('english')\n",
    "    ]\n",
    "\n",
    "    # Remember, this final output is a list of words\n",
    "    return clean_text"
   ]
  },
  {
   "cell_type": "code",
   "execution_count": 9,
   "id": "a5727a47",
   "metadata": {},
   "outputs": [
    {
     "data": {
      "text/html": [
       "<div>\n",
       "<style scoped>\n",
       "    .dataframe tbody tr th:only-of-type {\n",
       "        vertical-align: middle;\n",
       "    }\n",
       "\n",
       "    .dataframe tbody tr th {\n",
       "        vertical-align: top;\n",
       "    }\n",
       "\n",
       "    .dataframe thead th {\n",
       "        text-align: right;\n",
       "    }\n",
       "</style>\n",
       "<table border=\"1\" class=\"dataframe\">\n",
       "  <thead>\n",
       "    <tr style=\"text-align: right;\">\n",
       "      <th></th>\n",
       "      <th>date_of_incident</th>\n",
       "      <th>date_of_death</th>\n",
       "      <th>age</th>\n",
       "      <th>gender</th>\n",
       "      <th>race</th>\n",
       "      <th>latino</th>\n",
       "      <th>manner_of_death</th>\n",
       "      <th>primary_cause</th>\n",
       "      <th>primary_cause_line_a</th>\n",
       "      <th>primary_cause_line_b</th>\n",
       "      <th>...</th>\n",
       "      <th>residence_zip</th>\n",
       "      <th>chicago_community_area</th>\n",
       "      <th>covid_related</th>\n",
       "      <th>age_range</th>\n",
       "      <th>death_date</th>\n",
       "      <th>death_time</th>\n",
       "      <th>death_day</th>\n",
       "      <th>inc_date</th>\n",
       "      <th>inc_time</th>\n",
       "      <th>inc_day</th>\n",
       "    </tr>\n",
       "  </thead>\n",
       "  <tbody>\n",
       "    <tr>\n",
       "      <th>0</th>\n",
       "      <td>2023-10-24 00:43:00</td>\n",
       "      <td>2023-10-25 00:11:00</td>\n",
       "      <td>22.0</td>\n",
       "      <td>1</td>\n",
       "      <td>Black</td>\n",
       "      <td>0</td>\n",
       "      <td>ACCIDENT</td>\n",
       "      <td>MULTIPLE BLUNT FORCE INJURIES. MOTOR VEHICLE C...</td>\n",
       "      <td>MULTIPLE BLUNT FORCE INJURIES</td>\n",
       "      <td>MOTOR VEHICLE COLLISION</td>\n",
       "      <td>...</td>\n",
       "      <td>46224</td>\n",
       "      <td>AUSTIN</td>\n",
       "      <td>0</td>\n",
       "      <td>15-24</td>\n",
       "      <td>2023-10-25</td>\n",
       "      <td>00:11:00</td>\n",
       "      <td>Wednesday</td>\n",
       "      <td>2023-10-24</td>\n",
       "      <td>00:43:00</td>\n",
       "      <td>Tuesday</td>\n",
       "    </tr>\n",
       "    <tr>\n",
       "      <th>1</th>\n",
       "      <td>2023-10-24 22:30:00</td>\n",
       "      <td>2023-10-24 21:51:00</td>\n",
       "      <td>35.0</td>\n",
       "      <td>0</td>\n",
       "      <td>Black</td>\n",
       "      <td>0</td>\n",
       "      <td>HOMICIDE</td>\n",
       "      <td>MULTIPLE GUNSHOT WOUNDS</td>\n",
       "      <td>MULTIPLE GUNSHOT WOUNDS</td>\n",
       "      <td>no_text</td>\n",
       "      <td>...</td>\n",
       "      <td>60633</td>\n",
       "      <td>SOUTH SHORE</td>\n",
       "      <td>0</td>\n",
       "      <td>25-64</td>\n",
       "      <td>2023-10-24</td>\n",
       "      <td>21:51:00</td>\n",
       "      <td>Tuesday</td>\n",
       "      <td>2023-10-24</td>\n",
       "      <td>22:30:00</td>\n",
       "      <td>Tuesday</td>\n",
       "    </tr>\n",
       "  </tbody>\n",
       "</table>\n",
       "<p>2 rows × 32 columns</p>\n",
       "</div>"
      ],
      "text/plain": [
       "      date_of_incident        date_of_death   age  gender   race  latino  \\\n",
       "0  2023-10-24 00:43:00  2023-10-25 00:11:00  22.0       1  Black       0   \n",
       "1  2023-10-24 22:30:00  2023-10-24 21:51:00  35.0       0  Black       0   \n",
       "\n",
       "  manner_of_death                                      primary_cause  \\\n",
       "0        ACCIDENT  MULTIPLE BLUNT FORCE INJURIES. MOTOR VEHICLE C...   \n",
       "1        HOMICIDE                            MULTIPLE GUNSHOT WOUNDS   \n",
       "\n",
       "            primary_cause_line_a     primary_cause_line_b  ... residence_zip  \\\n",
       "0  MULTIPLE BLUNT FORCE INJURIES  MOTOR VEHICLE COLLISION  ...         46224   \n",
       "1        MULTIPLE GUNSHOT WOUNDS                  no_text  ...         60633   \n",
       "\n",
       "  chicago_community_area  covid_related  age_range  death_date  death_time  \\\n",
       "0                 AUSTIN              0      15-24  2023-10-25    00:11:00   \n",
       "1            SOUTH SHORE              0      25-64  2023-10-24    21:51:00   \n",
       "\n",
       "   death_day    inc_date  inc_time  inc_day  \n",
       "0  Wednesday  2023-10-24  00:43:00  Tuesday  \n",
       "1    Tuesday  2023-10-24  22:30:00  Tuesday  \n",
       "\n",
       "[2 rows x 32 columns]"
      ]
     },
     "execution_count": 9,
     "metadata": {},
     "output_type": "execute_result"
    }
   ],
   "source": [
    "df.head(2)"
   ]
  },
  {
   "cell_type": "code",
   "execution_count": null,
   "id": "efaa30a3",
   "metadata": {},
   "outputs": [],
   "source": []
  }
 ],
 "metadata": {
  "kernelspec": {
   "display_name": "Python 3 (ipykernel)",
   "language": "python",
   "name": "python3"
  },
  "language_info": {
   "codemirror_mode": {
    "name": "ipython",
    "version": 3
   },
   "file_extension": ".py",
   "mimetype": "text/x-python",
   "name": "python",
   "nbconvert_exporter": "python",
   "pygments_lexer": "ipython3",
   "version": "3.11.3"
  }
 },
 "nbformat": 4,
 "nbformat_minor": 5
}
