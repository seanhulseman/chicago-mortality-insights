{
 "cells": [
  {
   "cell_type": "markdown",
   "id": "16377e96",
   "metadata": {},
   "source": [
    "## LDA on full 'primary_cause' column"
   ]
  },
  {
   "cell_type": "markdown",
   "id": "8e2036af",
   "metadata": {},
   "source": [
    "Credits:<br>\n",
    "Ria Kulshrestha, https://towardsdatascience.com/latent-dirichlet-allocation-lda-9d1cd064ffa2 <br>\n",
    "Susan Li, https://towardsdatascience.com/topic-modeling-and-latent-dirichlet-allocation-in-python-9bf156893c24"
   ]
  },
  {
   "cell_type": "code",
   "execution_count": 1,
   "id": "e390086f",
   "metadata": {},
   "outputs": [
    {
     "name": "stderr",
     "output_type": "stream",
     "text": [
      "[nltk_data] Downloading package wordnet to /Users/sh/nltk_data...\n",
      "[nltk_data]   Package wordnet is already up-to-date!\n"
     ]
    },
    {
     "data": {
      "text/plain": [
       "True"
      ]
     },
     "execution_count": 1,
     "metadata": {},
     "output_type": "execute_result"
    }
   ],
   "source": [
    "import pandas as pd\n",
    "import numpy as np\n",
    "import matplotlib.pyplot as plt\n",
    "\n",
    "import gensim\n",
    "from gensim.utils import simple_preprocess\n",
    "from gensim.parsing.preprocessing import STOPWORDS\n",
    "from gensim import corpora, models\n",
    "\n",
    "from nltk.stem import WordNetLemmatizer, PorterStemmer\n",
    "from nltk.stem.porter import *\n",
    "import nltk\n",
    "# nltk.download('wordnet') # only need to do once?\n"
   ]
  },
  {
   "cell_type": "code",
   "execution_count": 2,
   "id": "70d7c28e",
   "metadata": {},
   "outputs": [
    {
     "data": {
      "text/html": [
       "<div>\n",
       "<style scoped>\n",
       "    .dataframe tbody tr th:only-of-type {\n",
       "        vertical-align: middle;\n",
       "    }\n",
       "\n",
       "    .dataframe tbody tr th {\n",
       "        vertical-align: top;\n",
       "    }\n",
       "\n",
       "    .dataframe thead th {\n",
       "        text-align: right;\n",
       "    }\n",
       "</style>\n",
       "<table border=\"1\" class=\"dataframe\">\n",
       "  <thead>\n",
       "    <tr style=\"text-align: right;\">\n",
       "      <th></th>\n",
       "      <th>date_of_incident</th>\n",
       "      <th>date_of_death</th>\n",
       "      <th>age</th>\n",
       "      <th>gender</th>\n",
       "      <th>race</th>\n",
       "      <th>latino</th>\n",
       "      <th>manner_of_death</th>\n",
       "      <th>primary_cause</th>\n",
       "      <th>primary_cause_line_a</th>\n",
       "      <th>primary_cause_line_b</th>\n",
       "      <th>...</th>\n",
       "      <th>residence_zip</th>\n",
       "      <th>chicago_community_area</th>\n",
       "      <th>covid_related</th>\n",
       "      <th>age_range</th>\n",
       "      <th>death_date</th>\n",
       "      <th>death_time</th>\n",
       "      <th>death_day</th>\n",
       "      <th>inc_date</th>\n",
       "      <th>inc_time</th>\n",
       "      <th>inc_day</th>\n",
       "    </tr>\n",
       "  </thead>\n",
       "  <tbody>\n",
       "    <tr>\n",
       "      <th>24596</th>\n",
       "      <td>2018-05-16 18:08:00</td>\n",
       "      <td>2018-05-16 18:18:00</td>\n",
       "      <td>29.0</td>\n",
       "      <td>0</td>\n",
       "      <td>White</td>\n",
       "      <td>0</td>\n",
       "      <td>ACCIDENT</td>\n",
       "      <td>COMBINED DRUG (ETHANOL, BUTALBITAL, DIAZEPAM, ...</td>\n",
       "      <td>COMBINED DRUG (ETHANOL, BUTALBITAL, DIAZEPAM, ...</td>\n",
       "      <td>no_text</td>\n",
       "      <td>...</td>\n",
       "      <td>60164</td>\n",
       "      <td>DUNNING</td>\n",
       "      <td>0</td>\n",
       "      <td>25-64</td>\n",
       "      <td>2018-05-16</td>\n",
       "      <td>18:18:00</td>\n",
       "      <td>Wednesday</td>\n",
       "      <td>2018-05-16</td>\n",
       "      <td>18:08:00</td>\n",
       "      <td>Wednesday</td>\n",
       "    </tr>\n",
       "    <tr>\n",
       "      <th>19518</th>\n",
       "      <td>2019-09-17 00:00:00</td>\n",
       "      <td>2019-10-04 18:10:00</td>\n",
       "      <td>83.0</td>\n",
       "      <td>0</td>\n",
       "      <td>Black</td>\n",
       "      <td>0</td>\n",
       "      <td>ACCIDENT</td>\n",
       "      <td>COMPLICATIONS OF CLOSED HEAD INJURY. FALL</td>\n",
       "      <td>COMPLICATIONS OF CLOSED HEAD INJURY</td>\n",
       "      <td>FALL</td>\n",
       "      <td>...</td>\n",
       "      <td>60155</td>\n",
       "      <td>no_text</td>\n",
       "      <td>0</td>\n",
       "      <td>65+</td>\n",
       "      <td>2019-10-04</td>\n",
       "      <td>18:10:00</td>\n",
       "      <td>Friday</td>\n",
       "      <td>2019-09-17</td>\n",
       "      <td>00:00:00</td>\n",
       "      <td>Tuesday</td>\n",
       "    </tr>\n",
       "    <tr>\n",
       "      <th>33861</th>\n",
       "      <td>2015-09-29 21:43:00</td>\n",
       "      <td>2015-10-02 15:40:00</td>\n",
       "      <td>51.0</td>\n",
       "      <td>1</td>\n",
       "      <td>Black</td>\n",
       "      <td>0</td>\n",
       "      <td>ACCIDENT</td>\n",
       "      <td>COMPLICATIONS OF OPIATE TOXICITY</td>\n",
       "      <td>COMPLICATIONS OF OPIATE TOXICITY</td>\n",
       "      <td>no_text</td>\n",
       "      <td>...</td>\n",
       "      <td>60624</td>\n",
       "      <td>WEST GARFIELD PARK</td>\n",
       "      <td>0</td>\n",
       "      <td>25-64</td>\n",
       "      <td>2015-10-02</td>\n",
       "      <td>15:40:00</td>\n",
       "      <td>Friday</td>\n",
       "      <td>2015-09-29</td>\n",
       "      <td>21:43:00</td>\n",
       "      <td>Tuesday</td>\n",
       "    </tr>\n",
       "    <tr>\n",
       "      <th>34312</th>\n",
       "      <td>2015-08-14 14:31:00</td>\n",
       "      <td>2015-08-14 15:20:00</td>\n",
       "      <td>45.0</td>\n",
       "      <td>0</td>\n",
       "      <td>White</td>\n",
       "      <td>1</td>\n",
       "      <td>SUICIDE</td>\n",
       "      <td>GUNSHOT WOUND TO NECK</td>\n",
       "      <td>GUNSHOT WOUND TO NECK</td>\n",
       "      <td>no_text</td>\n",
       "      <td>...</td>\n",
       "      <td>60487</td>\n",
       "      <td>LOOP</td>\n",
       "      <td>0</td>\n",
       "      <td>25-64</td>\n",
       "      <td>2015-08-14</td>\n",
       "      <td>15:20:00</td>\n",
       "      <td>Friday</td>\n",
       "      <td>2015-08-14</td>\n",
       "      <td>14:31:00</td>\n",
       "      <td>Friday</td>\n",
       "    </tr>\n",
       "    <tr>\n",
       "      <th>17064</th>\n",
       "      <td>2020-05-07 15:24:00</td>\n",
       "      <td>2020-05-07 15:55:00</td>\n",
       "      <td>68.0</td>\n",
       "      <td>0</td>\n",
       "      <td>White</td>\n",
       "      <td>0</td>\n",
       "      <td>ACCIDENT</td>\n",
       "      <td>COMBINED DRUG (FENTANYL, DESPROPIONYL FENTANYL...</td>\n",
       "      <td>COMBINED DRUG (FENTANYL, DESPROPIONYL FENTANYL...</td>\n",
       "      <td>no_text</td>\n",
       "      <td>...</td>\n",
       "      <td>no_text</td>\n",
       "      <td>BRIGHTON PARK</td>\n",
       "      <td>0</td>\n",
       "      <td>65+</td>\n",
       "      <td>2020-05-07</td>\n",
       "      <td>15:55:00</td>\n",
       "      <td>Thursday</td>\n",
       "      <td>2020-05-07</td>\n",
       "      <td>15:24:00</td>\n",
       "      <td>Thursday</td>\n",
       "    </tr>\n",
       "  </tbody>\n",
       "</table>\n",
       "<p>5 rows × 32 columns</p>\n",
       "</div>"
      ],
      "text/plain": [
       "          date_of_incident        date_of_death   age  gender   race  latino  \\\n",
       "24596  2018-05-16 18:08:00  2018-05-16 18:18:00  29.0       0  White       0   \n",
       "19518  2019-09-17 00:00:00  2019-10-04 18:10:00  83.0       0  Black       0   \n",
       "33861  2015-09-29 21:43:00  2015-10-02 15:40:00  51.0       1  Black       0   \n",
       "34312  2015-08-14 14:31:00  2015-08-14 15:20:00  45.0       0  White       1   \n",
       "17064  2020-05-07 15:24:00  2020-05-07 15:55:00  68.0       0  White       0   \n",
       "\n",
       "      manner_of_death                                      primary_cause  \\\n",
       "24596        ACCIDENT  COMBINED DRUG (ETHANOL, BUTALBITAL, DIAZEPAM, ...   \n",
       "19518        ACCIDENT          COMPLICATIONS OF CLOSED HEAD INJURY. FALL   \n",
       "33861        ACCIDENT                   COMPLICATIONS OF OPIATE TOXICITY   \n",
       "34312         SUICIDE                              GUNSHOT WOUND TO NECK   \n",
       "17064        ACCIDENT  COMBINED DRUG (FENTANYL, DESPROPIONYL FENTANYL...   \n",
       "\n",
       "                                    primary_cause_line_a primary_cause_line_b  \\\n",
       "24596  COMBINED DRUG (ETHANOL, BUTALBITAL, DIAZEPAM, ...              no_text   \n",
       "19518                COMPLICATIONS OF CLOSED HEAD INJURY                 FALL   \n",
       "33861                   COMPLICATIONS OF OPIATE TOXICITY              no_text   \n",
       "34312                              GUNSHOT WOUND TO NECK              no_text   \n",
       "17064  COMBINED DRUG (FENTANYL, DESPROPIONYL FENTANYL...              no_text   \n",
       "\n",
       "       ... residence_zip chicago_community_area  covid_related  age_range  \\\n",
       "24596  ...         60164                DUNNING              0      25-64   \n",
       "19518  ...         60155                no_text              0        65+   \n",
       "33861  ...         60624     WEST GARFIELD PARK              0      25-64   \n",
       "34312  ...         60487                   LOOP              0      25-64   \n",
       "17064  ...       no_text          BRIGHTON PARK              0        65+   \n",
       "\n",
       "       death_date  death_time  death_day    inc_date  inc_time    inc_day  \n",
       "24596  2018-05-16    18:18:00  Wednesday  2018-05-16  18:08:00  Wednesday  \n",
       "19518  2019-10-04    18:10:00     Friday  2019-09-17  00:00:00    Tuesday  \n",
       "33861  2015-10-02    15:40:00     Friday  2015-09-29  21:43:00    Tuesday  \n",
       "34312  2015-08-14    15:20:00     Friday  2015-08-14  14:31:00     Friday  \n",
       "17064  2020-05-07    15:55:00   Thursday  2020-05-07  15:24:00   Thursday  \n",
       "\n",
       "[5 rows x 32 columns]"
      ]
     },
     "execution_count": 2,
     "metadata": {},
     "output_type": "execute_result"
    }
   ],
   "source": [
    "full_df = pd.read_csv('../susan/data/cleaned_data_31OCT.csv')\n",
    "full_df.sample(5)"
   ]
  },
  {
   "cell_type": "code",
   "execution_count": 3,
   "id": "5543f76d",
   "metadata": {},
   "outputs": [
    {
     "data": {
      "text/html": [
       "<div>\n",
       "<style scoped>\n",
       "    .dataframe tbody tr th:only-of-type {\n",
       "        vertical-align: middle;\n",
       "    }\n",
       "\n",
       "    .dataframe tbody tr th {\n",
       "        vertical-align: top;\n",
       "    }\n",
       "\n",
       "    .dataframe thead th {\n",
       "        text-align: right;\n",
       "    }\n",
       "</style>\n",
       "<table border=\"1\" class=\"dataframe\">\n",
       "  <thead>\n",
       "    <tr style=\"text-align: right;\">\n",
       "      <th></th>\n",
       "      <th>manner_of_death</th>\n",
       "      <th>primary_cause</th>\n",
       "      <th>primary_cause_line_a</th>\n",
       "      <th>primary_cause_line_b</th>\n",
       "      <th>primary_cause_line_c</th>\n",
       "      <th>secondary_cause</th>\n",
       "    </tr>\n",
       "  </thead>\n",
       "  <tbody>\n",
       "    <tr>\n",
       "      <th>22328</th>\n",
       "      <td>ACCIDENT</td>\n",
       "      <td>COMPLICATIONS OF CLOSED HEAD INJURY(IES). FALL(S)</td>\n",
       "      <td>COMPLICATIONS OF CLOSED HEAD INJURY(IES)</td>\n",
       "      <td>FALL(S)</td>\n",
       "      <td>no_text</td>\n",
       "      <td>no_text</td>\n",
       "    </tr>\n",
       "    <tr>\n",
       "      <th>459</th>\n",
       "      <td>SUICIDE</td>\n",
       "      <td>HANGING</td>\n",
       "      <td>HANGING</td>\n",
       "      <td>no_text</td>\n",
       "      <td>no_text</td>\n",
       "      <td>no_text</td>\n",
       "    </tr>\n",
       "    <tr>\n",
       "      <th>28873</th>\n",
       "      <td>ACCIDENT</td>\n",
       "      <td>COCAINE AND METHADONE TOXICITY</td>\n",
       "      <td>COCAINE AND METHADONE TOXICITY</td>\n",
       "      <td>no_text</td>\n",
       "      <td>no_text</td>\n",
       "      <td>BRONCHIAL ASTHMA</td>\n",
       "    </tr>\n",
       "    <tr>\n",
       "      <th>31674</th>\n",
       "      <td>HOMICIDE</td>\n",
       "      <td>MULTIPLE GUNSHOT WOUNDS</td>\n",
       "      <td>MULTIPLE GUNSHOT WOUNDS</td>\n",
       "      <td>no_text</td>\n",
       "      <td>no_text</td>\n",
       "      <td>no_text</td>\n",
       "    </tr>\n",
       "    <tr>\n",
       "      <th>32855</th>\n",
       "      <td>HOMICIDE</td>\n",
       "      <td>GUNSHOT WOUND TO BACK</td>\n",
       "      <td>GUNSHOT WOUND TO BACK</td>\n",
       "      <td>no_text</td>\n",
       "      <td>no_text</td>\n",
       "      <td>no_text</td>\n",
       "    </tr>\n",
       "  </tbody>\n",
       "</table>\n",
       "</div>"
      ],
      "text/plain": [
       "      manner_of_death                                      primary_cause  \\\n",
       "22328        ACCIDENT  COMPLICATIONS OF CLOSED HEAD INJURY(IES). FALL(S)   \n",
       "459           SUICIDE                                            HANGING   \n",
       "28873        ACCIDENT                     COCAINE AND METHADONE TOXICITY   \n",
       "31674        HOMICIDE                            MULTIPLE GUNSHOT WOUNDS   \n",
       "32855        HOMICIDE                              GUNSHOT WOUND TO BACK   \n",
       "\n",
       "                           primary_cause_line_a primary_cause_line_b  \\\n",
       "22328  COMPLICATIONS OF CLOSED HEAD INJURY(IES)              FALL(S)   \n",
       "459                                     HANGING              no_text   \n",
       "28873            COCAINE AND METHADONE TOXICITY              no_text   \n",
       "31674                   MULTIPLE GUNSHOT WOUNDS              no_text   \n",
       "32855                     GUNSHOT WOUND TO BACK              no_text   \n",
       "\n",
       "      primary_cause_line_c   secondary_cause  \n",
       "22328              no_text           no_text  \n",
       "459                no_text           no_text  \n",
       "28873              no_text  BRONCHIAL ASTHMA  \n",
       "31674              no_text           no_text  \n",
       "32855              no_text           no_text  "
      ]
     },
     "execution_count": 3,
     "metadata": {},
     "output_type": "execute_result"
    }
   ],
   "source": [
    "# this step turns out to be unnecessary, because we select the column we want to work with later\n",
    "\n",
    "textdf = full_df[['manner_of_death', 'primary_cause', 'primary_cause_line_a', \n",
    "                  'primary_cause_line_b', 'primary_cause_line_c', 'secondary_cause']]\n",
    "textdf.sample(5)"
   ]
  },
  {
   "cell_type": "code",
   "execution_count": 4,
   "id": "48bad23d",
   "metadata": {},
   "outputs": [],
   "source": [
    "# make a stemmer and lemmatizer\n",
    "\n",
    "wn = WordNetLemmatizer()\n",
    "stemmer = PorterStemmer()\n",
    "\n",
    "def lem_stem(text):\n",
    "    return stemmer.stem(wn.lemmatize(text, pos='v'))\n",
    "\n",
    "def preprocess(text):\n",
    "    result = []\n",
    "    for token in gensim.utils.simple_preprocess(text):\n",
    "        if token not in gensim.parsing.preprocessing.STOPWORDS and len(token) > 3:\n",
    "            result.append(lem_stem(token))\n",
    "    return result"
   ]
  },
  {
   "cell_type": "code",
   "execution_count": 5,
   "id": "28858d17",
   "metadata": {},
   "outputs": [
    {
     "name": "stdout",
     "output_type": "stream",
     "text": [
      "original document: \n",
      "['COMBINED', 'ETHANOL,', 'COCAINE,', 'FENTANYL,', 'ACETYL', 'FENTANYL,', 'DESPROPIONYL', 'FENTANYL(4-ANPP),', 'AND', 'HEROIN', 'TOXICITY']\n",
      "\n",
      "\n",
      " tokenized and lemmatized document: \n",
      "['combin', 'ethanol', 'cocain', 'fentanyl', 'acetyl', 'fentanyl', 'despropionyl', 'fentanyl', 'anpp', 'heroin', 'toxic']\n"
     ]
    }
   ],
   "source": [
    "# test it's functioning as expected\n",
    "\n",
    "doc_sample = textdf[textdf.index == 428].values[0][1]\n",
    "print('original document: ')\n",
    "words = []\n",
    "for word in doc_sample.split(' '):\n",
    "    words.append(word)\n",
    "print(words)\n",
    "print('\\n\\n tokenized and lemmatized document: ')\n",
    "print(preprocess(doc_sample))"
   ]
  },
  {
   "cell_type": "code",
   "execution_count": 6,
   "id": "c83d2d93",
   "metadata": {},
   "outputs": [
    {
     "data": {
      "text/plain": [
       "0    [multipl, blunt, forc, injuri, motor, vehicl, ...\n",
       "1                            [multipl, gunshot, wound]\n",
       "2                                [gunshot, wind, head]\n",
       "3                            [multipl, gunshot, wound]\n",
       "4                            [multipl, gunshot, wound]\n",
       "5    [multipl, injuri, bicyclist, strike, motor, ve...\n",
       "6                            [multipl, gunshot, wound]\n",
       "7    [multipl, injuri, scooter, motor, vehicl, collis]\n",
       "8                               [gunshot, wind, chest]\n",
       "9                            [multipl, gunshot, wound]\n",
       "Name: primary_cause, dtype: object"
      ]
     },
     "execution_count": 6,
     "metadata": {},
     "output_type": "execute_result"
    }
   ],
   "source": [
    "# process the 'primary_cause' column\n",
    "\n",
    "processed_docs = textdf['primary_cause'].map(preprocess)\n",
    "processed_docs[:10]"
   ]
  },
  {
   "cell_type": "markdown",
   "id": "e7bae624",
   "metadata": {},
   "source": [
    "## 🔥🔥🔥🔥🔥\n",
    "How do we customize the part-of-speech for 'wound' so that it's always a noun and doesn't sometimes get lemmatized to 'wind'; also check if 'left' is becoming 'leav' \n"
   ]
  },
  {
   "cell_type": "code",
   "execution_count": 7,
   "id": "e74429bd",
   "metadata": {},
   "outputs": [],
   "source": [
    "# Create the Bag of Words (bow) for our data\n",
    "# first, make a dictionary with words and number of times they occur in the corpus\n",
    "\n",
    "dictionary = gensim.corpora.Dictionary(processed_docs)"
   ]
  },
  {
   "cell_type": "code",
   "execution_count": null,
   "id": "b57c09ca",
   "metadata": {},
   "outputs": [],
   "source": [
    "# dictionary.token2id"
   ]
  },
  {
   "cell_type": "code",
   "execution_count": null,
   "id": "97ab10fc",
   "metadata": {},
   "outputs": [],
   "source": [
    "# dictionary.cfs"
   ]
  },
  {
   "cell_type": "code",
   "execution_count": 8,
   "id": "803b9ba6",
   "metadata": {},
   "outputs": [],
   "source": [
    "# filter out tokens that appear in too few or too many docs\n",
    "\n",
    "# these were the example settings; \n",
    "# need to check if they work for our data   🔥🔥🔥\n",
    "\n",
    "dictionary.filter_extremes(no_below=15, no_above=0.5, keep_n=100000)"
   ]
  },
  {
   "cell_type": "code",
   "execution_count": 9,
   "id": "089cab87",
   "metadata": {},
   "outputs": [
    {
     "data": {
      "text/plain": [
       "[(26, 1),\n",
       " (56, 3),\n",
       " (57, 1),\n",
       " (63, 1),\n",
       " (67, 1),\n",
       " (82, 1),\n",
       " (83, 1),\n",
       " (116, 1),\n",
       " (124, 1)]"
      ]
     },
     "execution_count": 9,
     "metadata": {},
     "output_type": "execute_result"
    }
   ],
   "source": [
    "# make a dictionary for each document, \n",
    "# with how many words (by number of tuples) \n",
    "# and which word (based on its number in the dictionary)\n",
    "# and how many times they appear\n",
    "\n",
    "bow_corpus = [dictionary.doc2bow(doc) for doc in processed_docs]\n",
    "\n",
    "# same example doc as above\n",
    "bow_corpus[428]"
   ]
  },
  {
   "cell_type": "code",
   "execution_count": 11,
   "id": "1ec62e63",
   "metadata": {},
   "outputs": [
    {
     "name": "stdout",
     "output_type": "stream",
     "text": [
      "Word 26 (\"ethanol\") appears 1 time(s).\n",
      "Word 56 (\"fentanyl\") appears 3 time(s).\n",
      "Word 57 (\"toxic\") appears 1 time(s).\n",
      "Word 63 (\"cocain\") appears 1 time(s).\n",
      "Word 67 (\"combin\") appears 1 time(s).\n",
      "Word 82 (\"anpp\") appears 1 time(s).\n",
      "Word 83 (\"despropionyl\") appears 1 time(s).\n",
      "Word 116 (\"heroin\") appears 1 time(s).\n",
      "Word 124 (\"acetyl\") appears 1 time(s).\n"
     ]
    }
   ],
   "source": [
    "# printed out nicely\n",
    "\n",
    "bow_doc_428 = bow_corpus[428]\n",
    "for i in range(len(bow_doc_428)):\n",
    "    print(\"Word {} (\\\"{}\\\") appears {} time(s).\".format(bow_doc_428[i][0], \n",
    "                                               dictionary[bow_doc_428[i][0]], \n",
    "bow_doc_428[i][1]))"
   ]
  },
  {
   "cell_type": "code",
   "execution_count": 12,
   "id": "70af00bf",
   "metadata": {},
   "outputs": [
    {
     "data": {
      "text/plain": [
       "(26, 'ethanol', 1)"
      ]
     },
     "execution_count": 12,
     "metadata": {},
     "output_type": "execute_result"
    }
   ],
   "source": [
    "# number in dictionary, word, times it appears on document\n",
    "bow_doc_428[0][0], dictionary[bow_doc_428[0][0]], bow_doc_428[0][1]"
   ]
  },
  {
   "cell_type": "code",
   "execution_count": 13,
   "id": "de9aa262",
   "metadata": {},
   "outputs": [],
   "source": [
    "# create tf-idf model and transform the corpus\n",
    "\n",
    "tfidf = models.TfidfModel(bow_corpus)\n",
    "corpus_tfidf = tfidf[bow_corpus]"
   ]
  },
  {
   "cell_type": "code",
   "execution_count": 14,
   "id": "addc729e",
   "metadata": {},
   "outputs": [
    {
     "name": "stdout",
     "output_type": "stream",
     "text": [
      "Topic: 0 \n",
      "Words: 0.206*\"multipl\" + 0.170*\"wound\" + 0.165*\"gunshot\" + 0.071*\"hang\" + 0.053*\"injuri\" + 0.049*\"fall\" + 0.039*\"diseas\" + 0.036*\"cardiovascular\" + 0.033*\"hypertens\" + 0.026*\"head\"\n",
      "Topic: 1 \n",
      "Words: 0.190*\"fentanyl\" + 0.182*\"toxic\" + 0.115*\"heroin\" + 0.104*\"combin\" + 0.075*\"drug\" + 0.069*\"cocain\" + 0.055*\"ethanol\" + 0.052*\"despropionyl\" + 0.037*\"anpp\" + 0.018*\"acetyl\"\n",
      "Topic: 2 \n",
      "Words: 0.129*\"asphyxia\" + 0.116*\"drown\" + 0.092*\"food\" + 0.092*\"choke\" + 0.077*\"bolu\" + 0.045*\"incis\" + 0.044*\"stab\" + 0.039*\"asphyxi\" + 0.036*\"wound\" + 0.032*\"multipl\"\n",
      "Topic: 3 \n",
      "Words: 0.188*\"toxic\" + 0.121*\"combin\" + 0.106*\"drug\" + 0.061*\"alprazolam\" + 0.042*\"hydrocodon\" + 0.038*\"methadon\" + 0.030*\"ethanol\" + 0.028*\"clonazepam\" + 0.027*\"fentanyl\" + 0.025*\"diphenhydramin\"\n",
      "Topic: 4 \n",
      "Words: 0.151*\"injuri\" + 0.087*\"head\" + 0.067*\"forc\" + 0.061*\"blunt\" + 0.060*\"fall\" + 0.045*\"multipl\" + 0.043*\"close\" + 0.038*\"inhal\" + 0.029*\"monoxid\" + 0.029*\"carbon\"\n",
      "Topic: 5 \n",
      "Words: 0.184*\"fall\" + 0.169*\"complic\" + 0.082*\"intox\" + 0.057*\"injuri\" + 0.051*\"subdur\" + 0.050*\"alcohol\" + 0.046*\"hemorrhag\" + 0.028*\"cervic\" + 0.027*\"hematoma\" + 0.019*\"stair\"\n",
      "Topic: 6 \n",
      "Words: 0.114*\"acut\" + 0.102*\"complic\" + 0.097*\"toxic\" + 0.066*\"opiat\" + 0.057*\"cocain\" + 0.039*\"neck\" + 0.035*\"benzodiazepin\" + 0.035*\"intox\" + 0.033*\"head\" + 0.031*\"wind\"\n",
      "Topic: 7 \n",
      "Words: 0.338*\"wind\" + 0.318*\"gunshot\" + 0.168*\"head\" + 0.070*\"chest\" + 0.027*\"torso\" + 0.019*\"abdomen\" + 0.015*\"stab\" + 0.004*\"shotgun\" + 0.004*\"deep\" + 0.004*\"vein\"\n",
      "Topic: 8 \n",
      "Words: 0.159*\"injuri\" + 0.135*\"multipl\" + 0.126*\"vehicl\" + 0.113*\"motor\" + 0.080*\"strike\" + 0.059*\"blunt\" + 0.054*\"forc\" + 0.050*\"pedestrian\" + 0.050*\"collis\" + 0.024*\"complic\"\n",
      "Topic: 9 \n",
      "Words: 0.132*\"fractur\" + 0.128*\"fall\" + 0.090*\"complic\" + 0.065*\"leav\" + 0.065*\"automobil\" + 0.064*\"right\" + 0.049*\"femur\" + 0.038*\"injuri\" + 0.036*\"exposur\" + 0.036*\"multipl\"\n"
     ]
    }
   ],
   "source": [
    "# LDA run on bag of words\n",
    "\n",
    "lda_model = gensim.models.LdaMulticore(bow_corpus, num_topics=10, \n",
    "                                       id2word=dictionary, passes=2, workers=2)\n",
    "\n",
    "\n",
    "# check the words in each topic and their weights to see if they make sense\n",
    "\n",
    "for idx, topic in lda_model.print_topics(-1):\n",
    "    print('Topic: {} \\nWords: {}'.format(idx, topic))"
   ]
  },
  {
   "cell_type": "code",
   "execution_count": 17,
   "id": "c0b12ba4",
   "metadata": {},
   "outputs": [
    {
     "name": "stdout",
     "output_type": "stream",
     "text": [
      "['combin', 'ethanol', 'cocain', 'fentanyl', 'acetyl', 'fentanyl', 'despropionyl', 'fentanyl', 'anpp', 'heroin', 'toxic']\n",
      "\n",
      "Score: 0.9249980449676514\t \n",
      "Topic: 0.190*\"fentanyl\" + 0.182*\"toxic\" + 0.115*\"heroin\" + 0.104*\"combin\" + 0.075*\"drug\" + 0.069*\"cocain\" + 0.055*\"ethanol\" + 0.052*\"despropionyl\" + 0.037*\"anpp\" + 0.018*\"acetyl\"\n"
     ]
    }
   ],
   "source": [
    "# check where sample doc would be classified in bag of words model\n",
    "print(processed_docs[428])\n",
    "\n",
    "for index, score in sorted(lda_model[bow_corpus[428]], key=lambda tup: -1*tup[1]):\n",
    "    print(\"\\nScore: {}\\t \\nTopic: {}\".format(score, lda_model.print_topic(index, 10)))"
   ]
  },
  {
   "cell_type": "code",
   "execution_count": 18,
   "id": "371df73e",
   "metadata": {},
   "outputs": [
    {
     "name": "stdout",
     "output_type": "stream",
     "text": [
      "Topic: 0 Word: 0.082*\"complic\" + 0.064*\"fractur\" + 0.061*\"fall\" + 0.061*\"cocain\" + 0.056*\"opiat\" + 0.050*\"hemorrhag\" + 0.043*\"toxic\" + 0.032*\"right\" + 0.031*\"stab\" + 0.031*\"leav\"\n",
      "Topic: 1 Word: 0.140*\"fall\" + 0.085*\"complic\" + 0.084*\"close\" + 0.078*\"injuri\" + 0.073*\"acut\" + 0.056*\"head\" + 0.041*\"asphyxi\" + 0.037*\"torso\" + 0.037*\"stair\" + 0.029*\"multipl\"\n",
      "Topic: 2 Word: 0.214*\"heroin\" + 0.128*\"toxic\" + 0.060*\"fentanyl\" + 0.041*\"cocain\" + 0.036*\"combin\" + 0.028*\"drug\" + 0.021*\"probabl\" + 0.017*\"despropionyl\" + 0.016*\"ethanol\" + 0.014*\"smoke\"\n",
      "Topic: 3 Word: 0.052*\"abdomen\" + 0.041*\"fentanyl\" + 0.038*\"diphenhydramin\" + 0.038*\"blunt\" + 0.037*\"wind\" + 0.032*\"head\" + 0.030*\"forc\" + 0.029*\"shotgun\" + 0.027*\"trauma\" + 0.026*\"toxic\"\n",
      "Topic: 4 Word: 0.300*\"wind\" + 0.207*\"gunshot\" + 0.198*\"head\" + 0.078*\"chest\" + 0.024*\"neck\" + 0.022*\"intraor\" + 0.020*\"methadon\" + 0.010*\"complic\" + 0.010*\"toxic\" + 0.009*\"fentanyl\"\n",
      "Topic: 5 Word: 0.096*\"injuri\" + 0.085*\"vehicl\" + 0.085*\"motor\" + 0.066*\"multipl\" + 0.061*\"strike\" + 0.060*\"blunt\" + 0.056*\"forc\" + 0.054*\"pedestrian\" + 0.053*\"collis\" + 0.031*\"height\"\n",
      "Topic: 6 Word: 0.175*\"fentanyl\" + 0.093*\"toxic\" + 0.086*\"combin\" + 0.076*\"despropionyl\" + 0.075*\"drug\" + 0.071*\"cocain\" + 0.065*\"ethanol\" + 0.059*\"anpp\" + 0.057*\"heroin\" + 0.037*\"acetyl\"\n",
      "Topic: 7 Word: 0.046*\"alprazolam\" + 0.039*\"object\" + 0.039*\"fix\" + 0.031*\"sharp\" + 0.027*\"toxic\" + 0.026*\"choke\" + 0.025*\"food\" + 0.024*\"drug\" + 0.023*\"combin\" + 0.021*\"hydrocodon\"\n",
      "Topic: 8 Word: 0.149*\"hang\" + 0.094*\"intox\" + 0.057*\"diseas\" + 0.056*\"cardiovascular\" + 0.054*\"alcohol\" + 0.053*\"hypertens\" + 0.042*\"drown\" + 0.037*\"heroin\" + 0.035*\"asphyxia\" + 0.026*\"hematoma\"\n",
      "Topic: 9 Word: 0.276*\"wound\" + 0.194*\"gunshot\" + 0.185*\"multipl\" + 0.041*\"fentanyl\" + 0.031*\"toxic\" + 0.028*\"cocain\" + 0.026*\"ethanol\" + 0.025*\"combin\" + 0.022*\"drug\" + 0.018*\"heroin\"\n"
     ]
    }
   ],
   "source": [
    "# LDA run on tfidf\n",
    "\n",
    "lda_model_tfidf = gensim.models.LdaMulticore(corpus_tfidf, num_topics=10, \n",
    "                                             id2word=dictionary, passes=2, workers=4)\n",
    "\n",
    "# check the words in each topic and their weights to see if they make sense\n",
    "\n",
    "for idx, topic in lda_model_tfidf.print_topics(-1):\n",
    "    print('Topic: {} Word: {}'.format(idx, topic))"
   ]
  },
  {
   "cell_type": "code",
   "execution_count": 19,
   "id": "f71b6f2d",
   "metadata": {},
   "outputs": [
    {
     "name": "stdout",
     "output_type": "stream",
     "text": [
      "['combin', 'ethanol', 'cocain', 'fentanyl', 'acetyl', 'fentanyl', 'despropionyl', 'fentanyl', 'anpp', 'heroin', 'toxic']\n",
      "\n",
      "Score: 0.9249950647354126\t \n",
      "Topic: 0.175*\"fentanyl\" + 0.093*\"toxic\" + 0.086*\"combin\" + 0.076*\"despropionyl\" + 0.075*\"drug\" + 0.071*\"cocain\" + 0.065*\"ethanol\" + 0.059*\"anpp\" + 0.057*\"heroin\" + 0.037*\"acetyl\"\n"
     ]
    }
   ],
   "source": [
    "# check where sample doc would be classified in tfidf model\n",
    "print(processed_docs[428])\n",
    "\n",
    "for index, score in sorted(lda_model_tfidf[bow_corpus[428]], key=lambda tup: -1*tup[1]):\n",
    "    print(\"\\nScore: {}\\t \\nTopic: {}\".format(score, lda_model_tfidf.print_topic(index, 10)))"
   ]
  },
  {
   "cell_type": "code",
   "execution_count": null,
   "id": "47ec5fb0",
   "metadata": {},
   "outputs": [],
   "source": []
  },
  {
   "cell_type": "code",
   "execution_count": null,
   "id": "2dc6fec8",
   "metadata": {},
   "outputs": [],
   "source": []
  },
  {
   "cell_type": "code",
   "execution_count": null,
   "id": "fbe0590a",
   "metadata": {},
   "outputs": [],
   "source": []
  }
 ],
 "metadata": {
  "kernelspec": {
   "display_name": "Python 3 (ipykernel)",
   "language": "python",
   "name": "python3"
  },
  "language_info": {
   "codemirror_mode": {
    "name": "ipython",
    "version": 3
   },
   "file_extension": ".py",
   "mimetype": "text/x-python",
   "name": "python",
   "nbconvert_exporter": "python",
   "pygments_lexer": "ipython3",
   "version": "3.11.3"
  }
 },
 "nbformat": 4,
 "nbformat_minor": 5
}
