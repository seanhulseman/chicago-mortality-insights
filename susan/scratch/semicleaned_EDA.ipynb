{
 "cells": [
  {
   "cell_type": "code",
   "execution_count": 2,
   "id": "d3011615",
   "metadata": {},
   "outputs": [],
   "source": [
    "import pandas as pd\n",
    "import numpy as np\n",
    "import matplotlib.pyplot as plt\n",
    "import seaborn as sns\n"
   ]
  },
  {
   "cell_type": "code",
   "execution_count": 3,
   "id": "3d28a2c3",
   "metadata": {},
   "outputs": [],
   "source": [
    "pd.set_option('display.max_columns', None)"
   ]
  },
  {
   "cell_type": "code",
   "execution_count": 4,
   "id": "d9ca12ec",
   "metadata": {},
   "outputs": [
    {
     "data": {
      "text/html": [
       "<div>\n",
       "<style scoped>\n",
       "    .dataframe tbody tr th:only-of-type {\n",
       "        vertical-align: middle;\n",
       "    }\n",
       "\n",
       "    .dataframe tbody tr th {\n",
       "        vertical-align: top;\n",
       "    }\n",
       "\n",
       "    .dataframe thead th {\n",
       "        text-align: right;\n",
       "    }\n",
       "</style>\n",
       "<table border=\"1\" class=\"dataframe\">\n",
       "  <thead>\n",
       "    <tr style=\"text-align: right;\">\n",
       "      <th></th>\n",
       "      <th>Unnamed: 0</th>\n",
       "      <th>date_of_incident</th>\n",
       "      <th>date_of_death</th>\n",
       "      <th>age</th>\n",
       "      <th>gender</th>\n",
       "      <th>race</th>\n",
       "      <th>latino</th>\n",
       "      <th>manner_of_death</th>\n",
       "      <th>primary_cause</th>\n",
       "      <th>primary_cause_line_a</th>\n",
       "      <th>primary_cause_line_b</th>\n",
       "      <th>primary_cause_line_c</th>\n",
       "      <th>secondary_cause</th>\n",
       "      <th>gun_related</th>\n",
       "      <th>opioid_related</th>\n",
       "      <th>cold_related</th>\n",
       "      <th>heat_related</th>\n",
       "      <th>commissioner_district</th>\n",
       "      <th>incident_city</th>\n",
       "      <th>incident_zip_code</th>\n",
       "      <th>longitude</th>\n",
       "      <th>latitude</th>\n",
       "      <th>residence_city</th>\n",
       "      <th>residence_zip</th>\n",
       "      <th>chicago_community_area</th>\n",
       "      <th>covid_related</th>\n",
       "    </tr>\n",
       "  </thead>\n",
       "  <tbody>\n",
       "    <tr>\n",
       "      <th>0</th>\n",
       "      <td>20</td>\n",
       "      <td>10/24/2023 12:43:00 AM</td>\n",
       "      <td>10/25/2023 12:11:00 AM</td>\n",
       "      <td>22.0</td>\n",
       "      <td>Female</td>\n",
       "      <td>Black</td>\n",
       "      <td>False</td>\n",
       "      <td>ACCIDENT</td>\n",
       "      <td>MULTIPLE BLUNT FORCE INJURIES. MOTOR VEHICLE C...</td>\n",
       "      <td>MULTIPLE BLUNT FORCE INJURIES</td>\n",
       "      <td>MOTOR VEHICLE COLLISION</td>\n",
       "      <td>NaN</td>\n",
       "      <td>NaN</td>\n",
       "      <td>False</td>\n",
       "      <td>False</td>\n",
       "      <td>False</td>\n",
       "      <td>False</td>\n",
       "      <td>1.0</td>\n",
       "      <td>CHICAGO</td>\n",
       "      <td>60644.0</td>\n",
       "      <td>-87.754890</td>\n",
       "      <td>41.872093</td>\n",
       "      <td>Indianapolis</td>\n",
       "      <td>46224.0</td>\n",
       "      <td>AUSTIN</td>\n",
       "      <td>False</td>\n",
       "    </tr>\n",
       "    <tr>\n",
       "      <th>1</th>\n",
       "      <td>22</td>\n",
       "      <td>10/24/2023 10:30:00 PM</td>\n",
       "      <td>10/24/2023 09:51:00 PM</td>\n",
       "      <td>35.0</td>\n",
       "      <td>Male</td>\n",
       "      <td>Black</td>\n",
       "      <td>False</td>\n",
       "      <td>HOMICIDE</td>\n",
       "      <td>MULTIPLE GUNSHOT WOUNDS</td>\n",
       "      <td>MULTIPLE GUNSHOT WOUNDS</td>\n",
       "      <td>NaN</td>\n",
       "      <td>NaN</td>\n",
       "      <td>NaN</td>\n",
       "      <td>True</td>\n",
       "      <td>False</td>\n",
       "      <td>False</td>\n",
       "      <td>False</td>\n",
       "      <td>4.0</td>\n",
       "      <td>CHICAGO</td>\n",
       "      <td>60649.0</td>\n",
       "      <td>-87.558292</td>\n",
       "      <td>41.759939</td>\n",
       "      <td>Chicago</td>\n",
       "      <td>60633.0</td>\n",
       "      <td>SOUTH SHORE</td>\n",
       "      <td>False</td>\n",
       "    </tr>\n",
       "    <tr>\n",
       "      <th>2</th>\n",
       "      <td>23</td>\n",
       "      <td>10/24/2023 09:18:00 PM</td>\n",
       "      <td>10/24/2023 08:36:00 PM</td>\n",
       "      <td>54.0</td>\n",
       "      <td>Male</td>\n",
       "      <td>White</td>\n",
       "      <td>False</td>\n",
       "      <td>SUICIDE</td>\n",
       "      <td>GUNSHOT WOUND OF HEAD</td>\n",
       "      <td>GUNSHOT WOUND OF HEAD</td>\n",
       "      <td>NaN</td>\n",
       "      <td>NaN</td>\n",
       "      <td>NaN</td>\n",
       "      <td>True</td>\n",
       "      <td>False</td>\n",
       "      <td>False</td>\n",
       "      <td>False</td>\n",
       "      <td>12.0</td>\n",
       "      <td>CHICAGO</td>\n",
       "      <td>60634.0</td>\n",
       "      <td>-87.780811</td>\n",
       "      <td>41.955351</td>\n",
       "      <td>Chicago</td>\n",
       "      <td>60634.0</td>\n",
       "      <td>PORTAGE PARK</td>\n",
       "      <td>False</td>\n",
       "    </tr>\n",
       "    <tr>\n",
       "      <th>3</th>\n",
       "      <td>30</td>\n",
       "      <td>10/24/2023 07:48:00 AM</td>\n",
       "      <td>10/24/2023 07:16:00 AM</td>\n",
       "      <td>19.0</td>\n",
       "      <td>Male</td>\n",
       "      <td>Black</td>\n",
       "      <td>False</td>\n",
       "      <td>HOMICIDE</td>\n",
       "      <td>MULTIPLE GUNSHOT WOUNDS</td>\n",
       "      <td>MULTIPLE GUNSHOT WOUNDS</td>\n",
       "      <td>NaN</td>\n",
       "      <td>NaN</td>\n",
       "      <td>NaN</td>\n",
       "      <td>True</td>\n",
       "      <td>False</td>\n",
       "      <td>False</td>\n",
       "      <td>False</td>\n",
       "      <td>3.0</td>\n",
       "      <td>CHICAGO</td>\n",
       "      <td>60649.0</td>\n",
       "      <td>-87.584359</td>\n",
       "      <td>41.771935</td>\n",
       "      <td>NaN</td>\n",
       "      <td>NaN</td>\n",
       "      <td>SOUTH SHORE</td>\n",
       "      <td>False</td>\n",
       "    </tr>\n",
       "    <tr>\n",
       "      <th>4</th>\n",
       "      <td>35</td>\n",
       "      <td>10/23/2023 10:21:00 PM</td>\n",
       "      <td>10/23/2023 09:29:00 PM</td>\n",
       "      <td>41.0</td>\n",
       "      <td>Male</td>\n",
       "      <td>Black</td>\n",
       "      <td>False</td>\n",
       "      <td>HOMICIDE</td>\n",
       "      <td>MULTIPLE GUNSHOT WOUNDS</td>\n",
       "      <td>MULTIPLE GUNSHOT WOUNDS</td>\n",
       "      <td>NaN</td>\n",
       "      <td>NaN</td>\n",
       "      <td>NaN</td>\n",
       "      <td>True</td>\n",
       "      <td>False</td>\n",
       "      <td>False</td>\n",
       "      <td>False</td>\n",
       "      <td>2.0</td>\n",
       "      <td>CHICAGO</td>\n",
       "      <td>60636.0</td>\n",
       "      <td>-87.663792</td>\n",
       "      <td>41.782286</td>\n",
       "      <td>Chicago</td>\n",
       "      <td>60636.0</td>\n",
       "      <td>WEST ENGLEWOOD</td>\n",
       "      <td>False</td>\n",
       "    </tr>\n",
       "  </tbody>\n",
       "</table>\n",
       "</div>"
      ],
      "text/plain": [
       "   Unnamed: 0        date_of_incident           date_of_death   age  gender  \\\n",
       "0          20  10/24/2023 12:43:00 AM  10/25/2023 12:11:00 AM  22.0  Female   \n",
       "1          22  10/24/2023 10:30:00 PM  10/24/2023 09:51:00 PM  35.0    Male   \n",
       "2          23  10/24/2023 09:18:00 PM  10/24/2023 08:36:00 PM  54.0    Male   \n",
       "3          30  10/24/2023 07:48:00 AM  10/24/2023 07:16:00 AM  19.0    Male   \n",
       "4          35  10/23/2023 10:21:00 PM  10/23/2023 09:29:00 PM  41.0    Male   \n",
       "\n",
       "    race  latino manner_of_death  \\\n",
       "0  Black   False        ACCIDENT   \n",
       "1  Black   False        HOMICIDE   \n",
       "2  White   False         SUICIDE   \n",
       "3  Black   False        HOMICIDE   \n",
       "4  Black   False        HOMICIDE   \n",
       "\n",
       "                                       primary_cause  \\\n",
       "0  MULTIPLE BLUNT FORCE INJURIES. MOTOR VEHICLE C...   \n",
       "1                            MULTIPLE GUNSHOT WOUNDS   \n",
       "2                              GUNSHOT WOUND OF HEAD   \n",
       "3                            MULTIPLE GUNSHOT WOUNDS   \n",
       "4                            MULTIPLE GUNSHOT WOUNDS   \n",
       "\n",
       "            primary_cause_line_a     primary_cause_line_b  \\\n",
       "0  MULTIPLE BLUNT FORCE INJURIES  MOTOR VEHICLE COLLISION   \n",
       "1        MULTIPLE GUNSHOT WOUNDS                      NaN   \n",
       "2          GUNSHOT WOUND OF HEAD                      NaN   \n",
       "3        MULTIPLE GUNSHOT WOUNDS                      NaN   \n",
       "4        MULTIPLE GUNSHOT WOUNDS                      NaN   \n",
       "\n",
       "  primary_cause_line_c secondary_cause  gun_related  opioid_related  \\\n",
       "0                  NaN             NaN        False           False   \n",
       "1                  NaN             NaN         True           False   \n",
       "2                  NaN             NaN         True           False   \n",
       "3                  NaN             NaN         True           False   \n",
       "4                  NaN             NaN         True           False   \n",
       "\n",
       "   cold_related  heat_related  commissioner_district incident_city  \\\n",
       "0         False         False                    1.0       CHICAGO   \n",
       "1         False         False                    4.0       CHICAGO   \n",
       "2         False         False                   12.0       CHICAGO   \n",
       "3         False         False                    3.0       CHICAGO   \n",
       "4         False         False                    2.0       CHICAGO   \n",
       "\n",
       "   incident_zip_code  longitude   latitude residence_city  residence_zip  \\\n",
       "0            60644.0 -87.754890  41.872093   Indianapolis        46224.0   \n",
       "1            60649.0 -87.558292  41.759939        Chicago        60633.0   \n",
       "2            60634.0 -87.780811  41.955351        Chicago        60634.0   \n",
       "3            60649.0 -87.584359  41.771935            NaN            NaN   \n",
       "4            60636.0 -87.663792  41.782286        Chicago        60636.0   \n",
       "\n",
       "  chicago_community_area  covid_related  \n",
       "0                 AUSTIN          False  \n",
       "1            SOUTH SHORE          False  \n",
       "2           PORTAGE PARK          False  \n",
       "3            SOUTH SHORE          False  \n",
       "4         WEST ENGLEWOOD          False  "
      ]
     },
     "execution_count": 4,
     "metadata": {},
     "output_type": "execute_result"
    }
   ],
   "source": [
    "df = pd.read_csv('../susan/data/dataframe.csv')\n",
    "df.head()"
   ]
  },
  {
   "cell_type": "code",
   "execution_count": 12,
   "id": "aaff2cc2",
   "metadata": {},
   "outputs": [
    {
     "data": {
      "text/plain": [
       "(array(['Female', 'Male', nan, 'Unknown'], dtype=object),\n",
       " Male       27997\n",
       " Female      9154\n",
       " Unknown        1\n",
       " Name: gender, dtype: int64)"
      ]
     },
     "execution_count": 12,
     "metadata": {},
     "output_type": "execute_result"
    }
   ],
   "source": [
    "df.gender.unique(), df.gender.value_counts()"
   ]
  },
  {
   "cell_type": "code",
   "execution_count": 13,
   "id": "99b95f88",
   "metadata": {},
   "outputs": [
    {
     "data": {
      "text/plain": [
       "(array(['Black', 'White', 'Other', 'Asian', 'Unknown', 'Am. Indian', nan],\n",
       "       dtype=object),\n",
       " White         19284\n",
       " Black         16704\n",
       " Asian           667\n",
       " Other           362\n",
       " Unknown          60\n",
       " Am. Indian       32\n",
       " Name: race, dtype: int64)"
      ]
     },
     "execution_count": 13,
     "metadata": {},
     "output_type": "execute_result"
    }
   ],
   "source": [
    "df.race.unique(), df.race.value_counts()"
   ]
  },
  {
   "cell_type": "code",
   "execution_count": 23,
   "id": "f05f3f20",
   "metadata": {},
   "outputs": [
    {
     "data": {
      "text/plain": [
       "(array([ 22.,  35.,  54.,  19.,  41.,  59.,  31.,  79.,  78.,  37.,  33.,\n",
       "         12.,  58.,  49.,  21.,  72.,  27.,  43.,  36.,  42.,  68.,  63.,\n",
       "         48.,  29.,  88.,  52.,  69.,  66.,  46.,  34.,  85.,  57.,  64.,\n",
       "         26.,  76.,  40.,  77.,  23.,  28.,  83.,  25.,  95.,  30.,  82.,\n",
       "         61.,  65., 102.,  44.,  67.,  45.,  20.,  55.,  50.,  38.,  14.,\n",
       "         nan,  86.,  16.,  24.,  80.,  70.,  56.,  71.,  13.,  74.,  94.,\n",
       "         60.,  91.,  89.,  84.,  47.,  90.,  51.,  18.,  73.,  32.,  17.,\n",
       "         96.,  98.,  39.,  75.,  81.,  62.,  87.,  53.,  99.,  15.,  92.,\n",
       "         97., 100.,   9.,  93.,   0., 101.,   3.,   5.,   1.,   4.,   2.,\n",
       "          7.,   6., 104.,   8.,  10.,  11., 105., 103., 107., 106.]),\n",
       " 26.0     751\n",
       " 25.0     739\n",
       " 27.0     732\n",
       " 56.0     717\n",
       " 57.0     709\n",
       "         ... \n",
       " 103.0      5\n",
       " 105.0      3\n",
       " 104.0      2\n",
       " 107.0      1\n",
       " 106.0      1\n",
       " Name: age, Length: 108, dtype: int64)"
      ]
     },
     "execution_count": 23,
     "metadata": {},
     "output_type": "execute_result"
    }
   ],
   "source": [
    "df.age.unique(), df.age.value_counts()"
   ]
  },
  {
   "cell_type": "code",
   "execution_count": 18,
   "id": "6e330350",
   "metadata": {},
   "outputs": [
    {
     "name": "stdout",
     "output_type": "stream",
     "text": [
      "<class 'pandas.core.frame.DataFrame'>\n",
      "RangeIndex: 37158 entries, 0 to 37157\n",
      "Data columns (total 26 columns):\n",
      " #   Column                  Non-Null Count  Dtype  \n",
      "---  ------                  --------------  -----  \n",
      " 0   Unnamed: 0              37158 non-null  int64  \n",
      " 1   date_of_incident        36699 non-null  object \n",
      " 2   date_of_death           37157 non-null  object \n",
      " 3   age                     37126 non-null  float64\n",
      " 4   gender                  37152 non-null  object \n",
      " 5   race                    37109 non-null  object \n",
      " 6   latino                  37158 non-null  bool   \n",
      " 7   manner_of_death         37158 non-null  object \n",
      " 8   primary_cause           37158 non-null  object \n",
      " 9   primary_cause_line_a    37158 non-null  object \n",
      " 10  primary_cause_line_b    11848 non-null  object \n",
      " 11  primary_cause_line_c    516 non-null    object \n",
      " 12  secondary_cause         7196 non-null   object \n",
      " 13  gun_related             37158 non-null  bool   \n",
      " 14  opioid_related          37158 non-null  bool   \n",
      " 15  cold_related            37158 non-null  bool   \n",
      " 16  heat_related            37158 non-null  bool   \n",
      " 17  commissioner_district   32080 non-null  float64\n",
      " 18  incident_city           36708 non-null  object \n",
      " 19  incident_zip_code       36456 non-null  float64\n",
      " 20  longitude               32081 non-null  float64\n",
      " 21  latitude                32081 non-null  float64\n",
      " 22  residence_city          36129 non-null  object \n",
      " 23  residence_zip           36143 non-null  float64\n",
      " 24  chicago_community_area  21544 non-null  object \n",
      " 25  covid_related           37158 non-null  bool   \n",
      "dtypes: bool(6), float64(6), int64(1), object(13)\n",
      "memory usage: 5.9+ MB\n"
     ]
    }
   ],
   "source": [
    "df.info()"
   ]
  },
  {
   "cell_type": "code",
   "execution_count": null,
   "id": "7d3e8ddf",
   "metadata": {},
   "outputs": [],
   "source": []
  },
  {
   "cell_type": "code",
   "execution_count": null,
   "id": "3a571071",
   "metadata": {},
   "outputs": [],
   "source": []
  },
  {
   "cell_type": "markdown",
   "id": "34458476",
   "metadata": {},
   "source": [
    "* gender: drop nan, Unknown\n",
    "* race: make nans 'Unknown'\n",
    "* primary_cause_line_b and \\_c: make nan 'no_text'\n",
    "* secondary cause: make nan 'no_text'\n",
    "* commissioner_district: make nan 'no_text'\n",
    "* incident_city: make nan 'no_text'\n",
    "* incident_zip_code: make nan 'no_text'\n",
    "* residence_city: make nan 'no_text'\n",
    "* residence_zip: make nan 'no_text'\n",
    "* chicago_community_area: make nan 'not Chicago'\n",
    "* date_of_death: set to date of incident\n",
    "\n",
    "\n",
    "* make 1s and 0s: latino, cold_related, heat_related, gun_related, opiod_related, covid_related, gender, \n",
    "\n",
    "What to do about nans in:<br>\n",
    "    date_of_incident<br>\n",
    "    age<br>\n",
    "    longitude<br>\n",
    "    latitude?\n",
    "    \n",
    "missing age: make age categorical: 0-4, 5-14, 15-24, 25-64, 65+ ; including \"Unknown\"\n",
    "missing lat/long: use centroid of zipcode or Ward if we can\n",
    "missing date_of_incident: see if we can use average difference between date of death and date of incedence and use that\n",
    "Split date, time, and day of week for date_of_death and date_of_incident"
   ]
  },
  {
   "cell_type": "code",
   "execution_count": 25,
   "id": "d6c96114",
   "metadata": {},
   "outputs": [
    {
     "data": {
      "text/html": [
       "<div>\n",
       "<style scoped>\n",
       "    .dataframe tbody tr th:only-of-type {\n",
       "        vertical-align: middle;\n",
       "    }\n",
       "\n",
       "    .dataframe tbody tr th {\n",
       "        vertical-align: top;\n",
       "    }\n",
       "\n",
       "    .dataframe thead th {\n",
       "        text-align: right;\n",
       "    }\n",
       "</style>\n",
       "<table border=\"1\" class=\"dataframe\">\n",
       "  <thead>\n",
       "    <tr style=\"text-align: right;\">\n",
       "      <th></th>\n",
       "      <th>Unnamed: 0</th>\n",
       "      <th>date_of_incident</th>\n",
       "      <th>date_of_death</th>\n",
       "      <th>age</th>\n",
       "      <th>gender</th>\n",
       "      <th>race</th>\n",
       "      <th>latino</th>\n",
       "      <th>manner_of_death</th>\n",
       "      <th>primary_cause</th>\n",
       "      <th>primary_cause_line_a</th>\n",
       "      <th>primary_cause_line_b</th>\n",
       "      <th>primary_cause_line_c</th>\n",
       "      <th>secondary_cause</th>\n",
       "      <th>gun_related</th>\n",
       "      <th>opioid_related</th>\n",
       "      <th>cold_related</th>\n",
       "      <th>heat_related</th>\n",
       "      <th>commissioner_district</th>\n",
       "      <th>incident_city</th>\n",
       "      <th>incident_zip_code</th>\n",
       "      <th>longitude</th>\n",
       "      <th>latitude</th>\n",
       "      <th>residence_city</th>\n",
       "      <th>residence_zip</th>\n",
       "      <th>chicago_community_area</th>\n",
       "      <th>covid_related</th>\n",
       "    </tr>\n",
       "  </thead>\n",
       "  <tbody>\n",
       "    <tr>\n",
       "      <th>6410</th>\n",
       "      <td>10927</td>\n",
       "      <td>11/01/2020 12:00:00 AM</td>\n",
       "      <td>06/09/2022 01:55:00 PM</td>\n",
       "      <td>11.0</td>\n",
       "      <td>Male</td>\n",
       "      <td>White</td>\n",
       "      <td>True</td>\n",
       "      <td>HOMICIDE</td>\n",
       "      <td>NOVEL CORONA (COVID-19) VIRAL PNEUMONIA</td>\n",
       "      <td>NOVEL CORONA (COVID-19) VIRAL PNEUMONIA</td>\n",
       "      <td>NaN</td>\n",
       "      <td>NaN</td>\n",
       "      <td>COMPLICATIONS OF BLUNT FORCE HEAD TRAUMA DUE T...</td>\n",
       "      <td>False</td>\n",
       "      <td>False</td>\n",
       "      <td>False</td>\n",
       "      <td>False</td>\n",
       "      <td>NaN</td>\n",
       "      <td>MORRIS</td>\n",
       "      <td>60450.0</td>\n",
       "      <td>NaN</td>\n",
       "      <td>NaN</td>\n",
       "      <td>Romeoville</td>\n",
       "      <td>60446.0</td>\n",
       "      <td>NaN</td>\n",
       "      <td>True</td>\n",
       "    </tr>\n",
       "  </tbody>\n",
       "</table>\n",
       "</div>"
      ],
      "text/plain": [
       "      Unnamed: 0        date_of_incident           date_of_death   age gender  \\\n",
       "6410       10927  11/01/2020 12:00:00 AM  06/09/2022 01:55:00 PM  11.0   Male   \n",
       "\n",
       "       race  latino manner_of_death                            primary_cause  \\\n",
       "6410  White    True        HOMICIDE  NOVEL CORONA (COVID-19) VIRAL PNEUMONIA   \n",
       "\n",
       "                         primary_cause_line_a primary_cause_line_b  \\\n",
       "6410  NOVEL CORONA (COVID-19) VIRAL PNEUMONIA                  NaN   \n",
       "\n",
       "     primary_cause_line_c                                    secondary_cause  \\\n",
       "6410                  NaN  COMPLICATIONS OF BLUNT FORCE HEAD TRAUMA DUE T...   \n",
       "\n",
       "      gun_related  opioid_related  cold_related  heat_related  \\\n",
       "6410        False           False         False         False   \n",
       "\n",
       "      commissioner_district incident_city  incident_zip_code  longitude  \\\n",
       "6410                    NaN        MORRIS            60450.0        NaN   \n",
       "\n",
       "      latitude residence_city  residence_zip chicago_community_area  \\\n",
       "6410       NaN     Romeoville        60446.0                    NaN   \n",
       "\n",
       "      covid_related  \n",
       "6410           True  "
      ]
     },
     "execution_count": 25,
     "metadata": {},
     "output_type": "execute_result"
    }
   ],
   "source": [
    "df[(df['manner_of_death']=='HOMICIDE') & (df['covid_related'])==True]"
   ]
  },
  {
   "cell_type": "code",
   "execution_count": 10,
   "id": "7e3080ee",
   "metadata": {},
   "outputs": [
    {
     "data": {
      "text/plain": [
       "Index(['Unnamed: 0', 'date_of_incident', 'date_of_death', 'age', 'gender',\n",
       "       'race', 'latino', 'manner_of_death', 'primary_cause',\n",
       "       'primary_cause_line_a', 'primary_cause_line_b', 'primary_cause_line_c',\n",
       "       'secondary_cause', 'gun_related', 'opioid_related', 'cold_related',\n",
       "       'heat_related', 'commissioner_district', 'incident_city',\n",
       "       'incident_zip_code', 'longitude', 'latitude', 'residence_city',\n",
       "       'residence_zip', 'chicago_community_area', 'covid_related'],\n",
       "      dtype='object')"
      ]
     },
     "execution_count": 10,
     "metadata": {},
     "output_type": "execute_result"
    }
   ],
   "source": [
    "df.columns"
   ]
  },
  {
   "cell_type": "code",
   "execution_count": 17,
   "id": "1adfbf5a",
   "metadata": {},
   "outputs": [
    {
     "data": {
      "text/plain": [
       "incident_city             336\n",
       "incident_zip_code           0\n",
       "longitude                   0\n",
       "latitude                    0\n",
       "commissioner_district       0\n",
       "chicago_community_area      0\n",
       "dtype: int64"
      ]
     },
     "execution_count": 17,
     "metadata": {},
     "output_type": "execute_result"
    }
   ],
   "source": [
    "location=df[['incident_city', 'incident_zip_code', 'longitude', 'latitude', 'commissioner_district', 'chicago_community_area']]\n",
    "\n",
    "location[(location['longitude'].isna()) & (location['incident_zip_code'].isna())].count()"
   ]
  },
  {
   "cell_type": "code",
   "execution_count": 22,
   "id": "cd0d9604",
   "metadata": {},
   "outputs": [
    {
     "data": {
      "text/plain": [
       "incident_city             4817\n",
       "incident_zip_code         4515\n",
       "longitude                    0\n",
       "latitude                     0\n",
       "commissioner_district        0\n",
       "chicago_community_area       0\n",
       "dtype: int64"
      ]
     },
     "execution_count": 22,
     "metadata": {},
     "output_type": "execute_result"
    }
   ],
   "source": [
    "location[location['longitude'].isna()].count()"
   ]
  },
  {
   "cell_type": "markdown",
   "id": "5cfa1436",
   "metadata": {},
   "source": [
    "#### 5077 rows with no lat/long\n",
    "* of the 5077,  562 with no incident_zip_code\n",
    "* of the 5077, 260 with no incident_city\n"
   ]
  },
  {
   "cell_type": "code",
   "execution_count": 24,
   "id": "fd06d1f7",
   "metadata": {},
   "outputs": [
    {
     "data": {
      "text/plain": [
       "260"
      ]
     },
     "execution_count": 24,
     "metadata": {},
     "output_type": "execute_result"
    }
   ],
   "source": [
    "5077-4817"
   ]
  },
  {
   "cell_type": "markdown",
   "id": "b6510b28",
   "metadata": {},
   "source": []
  }
 ],
 "metadata": {
  "kernelspec": {
   "display_name": "Python 3 (ipykernel)",
   "language": "python",
   "name": "python3"
  },
  "language_info": {
   "codemirror_mode": {
    "name": "ipython",
    "version": 3
   },
   "file_extension": ".py",
   "mimetype": "text/x-python",
   "name": "python",
   "nbconvert_exporter": "python",
   "pygments_lexer": "ipython3",
   "version": "3.11.3"
  }
 },
 "nbformat": 4,
 "nbformat_minor": 5
}
