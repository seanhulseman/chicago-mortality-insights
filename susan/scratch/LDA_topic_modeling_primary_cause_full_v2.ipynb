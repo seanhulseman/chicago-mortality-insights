{
 "cells": [
  {
   "cell_type": "markdown",
   "id": "16377e96",
   "metadata": {},
   "source": [
    "## LDA on full 'primary_cause' column"
   ]
  },
  {
   "cell_type": "markdown",
   "id": "8e2036af",
   "metadata": {},
   "source": [
    "Credits:<br>\n",
    "Ria Kulshrestha, https://towardsdatascience.com/latent-dirichlet-allocation-lda-9d1cd064ffa2 <br>\n",
    "Susan Li, https://towardsdatascience.com/topic-modeling-and-latent-dirichlet-allocation-in-python-9bf156893c24"
   ]
  },
  {
   "cell_type": "code",
   "execution_count": 2,
   "id": "e390086f",
   "metadata": {},
   "outputs": [],
   "source": [
    "import pandas as pd\n",
    "import numpy as np\n",
    "import matplotlib.pyplot as plt\n",
    "\n",
    "import gensim\n",
    "from gensim.utils import simple_preprocess\n",
    "from gensim.parsing.preprocessing import STOPWORDS\n",
    "from gensim import corpora, models\n",
    "\n",
    "import nltk\n",
    "from nltk.stem import WordNetLemmatizer, PorterStemmer\n",
    "from nltk.tokenize import sent_tokenize, word_tokenize, RegexpTokenizer\n",
    "\n",
    "# nltk.download('wordnet') # only need to do once\n"
   ]
  },
  {
   "cell_type": "code",
   "execution_count": 3,
   "id": "70d7c28e",
   "metadata": {},
   "outputs": [
    {
     "data": {
      "text/html": [
       "<div>\n",
       "<style scoped>\n",
       "    .dataframe tbody tr th:only-of-type {\n",
       "        vertical-align: middle;\n",
       "    }\n",
       "\n",
       "    .dataframe tbody tr th {\n",
       "        vertical-align: top;\n",
       "    }\n",
       "\n",
       "    .dataframe thead th {\n",
       "        text-align: right;\n",
       "    }\n",
       "</style>\n",
       "<table border=\"1\" class=\"dataframe\">\n",
       "  <thead>\n",
       "    <tr style=\"text-align: right;\">\n",
       "      <th></th>\n",
       "      <th>date_of_incident</th>\n",
       "      <th>date_of_death</th>\n",
       "      <th>age</th>\n",
       "      <th>gender</th>\n",
       "      <th>race</th>\n",
       "      <th>latino</th>\n",
       "      <th>manner_of_death</th>\n",
       "      <th>primary_cause</th>\n",
       "      <th>primary_cause_line_a</th>\n",
       "      <th>primary_cause_line_b</th>\n",
       "      <th>...</th>\n",
       "      <th>residence_zip</th>\n",
       "      <th>chicago_community_area</th>\n",
       "      <th>covid_related</th>\n",
       "      <th>age_range</th>\n",
       "      <th>death_date</th>\n",
       "      <th>death_time</th>\n",
       "      <th>death_day</th>\n",
       "      <th>inc_date</th>\n",
       "      <th>inc_time</th>\n",
       "      <th>inc_day</th>\n",
       "    </tr>\n",
       "  </thead>\n",
       "  <tbody>\n",
       "    <tr>\n",
       "      <th>340</th>\n",
       "      <td>2023-09-03 06:06:00</td>\n",
       "      <td>2023-09-03 05:44:00</td>\n",
       "      <td>30.0</td>\n",
       "      <td>0</td>\n",
       "      <td>White</td>\n",
       "      <td>1</td>\n",
       "      <td>HOMICIDE</td>\n",
       "      <td>GUNSHOT WOUND TO TORSO</td>\n",
       "      <td>GUNSHOT WOUND TO TORSO</td>\n",
       "      <td>no_text</td>\n",
       "      <td>...</td>\n",
       "      <td>60411</td>\n",
       "      <td>no_text</td>\n",
       "      <td>0</td>\n",
       "      <td>25-64</td>\n",
       "      <td>2023-09-03</td>\n",
       "      <td>05:44:00</td>\n",
       "      <td>Sunday</td>\n",
       "      <td>2023-09-03</td>\n",
       "      <td>06:06:00</td>\n",
       "      <td>Sunday</td>\n",
       "    </tr>\n",
       "    <tr>\n",
       "      <th>15322</th>\n",
       "      <td>2020-09-05 13:54:00</td>\n",
       "      <td>2020-09-05 14:19:00</td>\n",
       "      <td>42.0</td>\n",
       "      <td>0</td>\n",
       "      <td>Black</td>\n",
       "      <td>0</td>\n",
       "      <td>ACCIDENT</td>\n",
       "      <td>COMBINED DRUG (FENTANYL, DESPROPIONYL FENTANYL...</td>\n",
       "      <td>COMBINED DRUG (FENTANYL, DESPROPIONYL FENTANYL...</td>\n",
       "      <td>no_text</td>\n",
       "      <td>...</td>\n",
       "      <td>60636</td>\n",
       "      <td>WEST ENGLEWOOD</td>\n",
       "      <td>0</td>\n",
       "      <td>25-64</td>\n",
       "      <td>2020-09-05</td>\n",
       "      <td>14:19:00</td>\n",
       "      <td>Saturday</td>\n",
       "      <td>2020-09-05</td>\n",
       "      <td>13:54:00</td>\n",
       "      <td>Saturday</td>\n",
       "    </tr>\n",
       "    <tr>\n",
       "      <th>4485</th>\n",
       "      <td>2022-10-25 08:25:00</td>\n",
       "      <td>2022-10-25 08:41:00</td>\n",
       "      <td>48.0</td>\n",
       "      <td>0</td>\n",
       "      <td>White</td>\n",
       "      <td>0</td>\n",
       "      <td>ACCIDENT</td>\n",
       "      <td>COMBINED FENTANYL, PROBABLE 8-AMINOCLONAZOLAM....</td>\n",
       "      <td>COMBINED FENTANYL, PROBABLE 8-AMINOCLONAZOLAM...</td>\n",
       "      <td>…AND PROBABLE ISOTONITAZENE/PROTONITAZENE TOXI...</td>\n",
       "      <td>...</td>\n",
       "      <td>60106</td>\n",
       "      <td>no_text</td>\n",
       "      <td>0</td>\n",
       "      <td>25-64</td>\n",
       "      <td>2022-10-25</td>\n",
       "      <td>08:41:00</td>\n",
       "      <td>Tuesday</td>\n",
       "      <td>2022-10-25</td>\n",
       "      <td>08:25:00</td>\n",
       "      <td>Tuesday</td>\n",
       "    </tr>\n",
       "    <tr>\n",
       "      <th>19330</th>\n",
       "      <td>2019-10-23 14:21:00</td>\n",
       "      <td>2019-10-23 14:33:00</td>\n",
       "      <td>35.0</td>\n",
       "      <td>0</td>\n",
       "      <td>White</td>\n",
       "      <td>1</td>\n",
       "      <td>ACCIDENT</td>\n",
       "      <td>COCAINE AND FENTANYL TOXICITY</td>\n",
       "      <td>COCAINE AND FENTANYL TOXICITY</td>\n",
       "      <td>no_text</td>\n",
       "      <td>...</td>\n",
       "      <td>60629</td>\n",
       "      <td>GAGE PARK</td>\n",
       "      <td>0</td>\n",
       "      <td>25-64</td>\n",
       "      <td>2019-10-23</td>\n",
       "      <td>14:33:00</td>\n",
       "      <td>Wednesday</td>\n",
       "      <td>2019-10-23</td>\n",
       "      <td>14:21:00</td>\n",
       "      <td>Wednesday</td>\n",
       "    </tr>\n",
       "    <tr>\n",
       "      <th>13031</th>\n",
       "      <td>2021-03-07 18:48:00</td>\n",
       "      <td>2021-03-07 19:07:00</td>\n",
       "      <td>63.0</td>\n",
       "      <td>0</td>\n",
       "      <td>Black</td>\n",
       "      <td>0</td>\n",
       "      <td>ACCIDENT</td>\n",
       "      <td>COMBINED FENTANYL, DESPROPIONYL FENTANYL (4-AN...</td>\n",
       "      <td>COMBINED FENTANYL, DESPROPIONYL FENTANYL (4-AN...</td>\n",
       "      <td>no_text</td>\n",
       "      <td>...</td>\n",
       "      <td>60406</td>\n",
       "      <td>no_text</td>\n",
       "      <td>0</td>\n",
       "      <td>25-64</td>\n",
       "      <td>2021-03-07</td>\n",
       "      <td>19:07:00</td>\n",
       "      <td>Sunday</td>\n",
       "      <td>2021-03-07</td>\n",
       "      <td>18:48:00</td>\n",
       "      <td>Sunday</td>\n",
       "    </tr>\n",
       "  </tbody>\n",
       "</table>\n",
       "<p>5 rows × 32 columns</p>\n",
       "</div>"
      ],
      "text/plain": [
       "          date_of_incident        date_of_death   age  gender   race  latino  \\\n",
       "340    2023-09-03 06:06:00  2023-09-03 05:44:00  30.0       0  White       1   \n",
       "15322  2020-09-05 13:54:00  2020-09-05 14:19:00  42.0       0  Black       0   \n",
       "4485   2022-10-25 08:25:00  2022-10-25 08:41:00  48.0       0  White       0   \n",
       "19330  2019-10-23 14:21:00  2019-10-23 14:33:00  35.0       0  White       1   \n",
       "13031  2021-03-07 18:48:00  2021-03-07 19:07:00  63.0       0  Black       0   \n",
       "\n",
       "      manner_of_death                                      primary_cause  \\\n",
       "340          HOMICIDE                             GUNSHOT WOUND TO TORSO   \n",
       "15322        ACCIDENT  COMBINED DRUG (FENTANYL, DESPROPIONYL FENTANYL...   \n",
       "4485         ACCIDENT  COMBINED FENTANYL, PROBABLE 8-AMINOCLONAZOLAM....   \n",
       "19330        ACCIDENT                      COCAINE AND FENTANYL TOXICITY   \n",
       "13031        ACCIDENT  COMBINED FENTANYL, DESPROPIONYL FENTANYL (4-AN...   \n",
       "\n",
       "                                    primary_cause_line_a  \\\n",
       "340                               GUNSHOT WOUND TO TORSO   \n",
       "15322  COMBINED DRUG (FENTANYL, DESPROPIONYL FENTANYL...   \n",
       "4485    COMBINED FENTANYL, PROBABLE 8-AMINOCLONAZOLAM...   \n",
       "19330                      COCAINE AND FENTANYL TOXICITY   \n",
       "13031  COMBINED FENTANYL, DESPROPIONYL FENTANYL (4-AN...   \n",
       "\n",
       "                                    primary_cause_line_b  ... residence_zip  \\\n",
       "340                                              no_text  ...         60411   \n",
       "15322                                            no_text  ...         60636   \n",
       "4485   …AND PROBABLE ISOTONITAZENE/PROTONITAZENE TOXI...  ...         60106   \n",
       "19330                                            no_text  ...         60629   \n",
       "13031                                            no_text  ...         60406   \n",
       "\n",
       "      chicago_community_area  covid_related  age_range  death_date  \\\n",
       "340                  no_text              0      25-64  2023-09-03   \n",
       "15322         WEST ENGLEWOOD              0      25-64  2020-09-05   \n",
       "4485                 no_text              0      25-64  2022-10-25   \n",
       "19330              GAGE PARK              0      25-64  2019-10-23   \n",
       "13031                no_text              0      25-64  2021-03-07   \n",
       "\n",
       "       death_time  death_day    inc_date  inc_time    inc_day  \n",
       "340      05:44:00     Sunday  2023-09-03  06:06:00     Sunday  \n",
       "15322    14:19:00   Saturday  2020-09-05  13:54:00   Saturday  \n",
       "4485     08:41:00    Tuesday  2022-10-25  08:25:00    Tuesday  \n",
       "19330    14:33:00  Wednesday  2019-10-23  14:21:00  Wednesday  \n",
       "13031    19:07:00     Sunday  2021-03-07  18:48:00     Sunday  \n",
       "\n",
       "[5 rows x 32 columns]"
      ]
     },
     "execution_count": 3,
     "metadata": {},
     "output_type": "execute_result"
    }
   ],
   "source": [
    "df = pd.read_csv('../susan/data/cleaned_data_31OCT.csv')\n",
    "df.sample(5)"
   ]
  },
  {
   "cell_type": "code",
   "execution_count": 4,
   "id": "48bad23d",
   "metadata": {},
   "outputs": [],
   "source": [
    "# make a stemmer and lemmatizer\n",
    "# skipping the lemmatizer b/c we don't have many verbs\n",
    "# and it's messing up non-verbs like turning 'wound' into wind' and 'left' into 'leav'\n",
    "\n",
    "# wn = WordNetLemmatizer()\n",
    "ps = PorterStemmer()\n",
    "\n",
    "def preprocess(text):\n",
    "    result = []\n",
    "    for token in gensim.utils.simple_preprocess(text):\n",
    "        if token not in gensim.parsing.preprocessing.STOPWORDS and len(token) > 3:\n",
    "            result.append(ps.stem(token))\n",
    "    return result"
   ]
  },
  {
   "cell_type": "code",
   "execution_count": 11,
   "id": "28858d17",
   "metadata": {},
   "outputs": [
    {
     "name": "stdout",
     "output_type": "stream",
     "text": [
      "original document: \n",
      "['COMBINED', 'ETHANOL,', 'COCAINE,', 'FENTANYL,', 'ACETYL', 'FENTANYL,', 'DESPROPIONYL', 'FENTANYL(4-ANPP),', 'AND', 'HEROIN', 'TOXICITY']\n",
      "\n",
      "stemmed document: \n",
      "['combin', 'ethanol', 'cocain', 'fentanyl', 'acetyl', 'fentanyl', 'despropionyl', 'fentanyl', 'anpp', 'heroin', 'toxic']\n"
     ]
    }
   ],
   "source": [
    "# test it's functioning as expected\n",
    "\n",
    "doc_sample = df[df.index == 428].values[0][8]\n",
    "print('original document: ')\n",
    "words = []\n",
    "for word in doc_sample.split(' '):\n",
    "    words.append(word)\n",
    "print(words)\n",
    "print('\\nstemmed document: ')\n",
    "print(preprocess(doc_sample))"
   ]
  },
  {
   "cell_type": "code",
   "execution_count": 9,
   "id": "c83d2d93",
   "metadata": {},
   "outputs": [
    {
     "data": {
      "text/plain": [
       "0     [multipl, blunt, forc, injuri, motor, vehicl, ...\n",
       "1                             [multipl, gunshot, wound]\n",
       "2                                [gunshot, wound, head]\n",
       "3                             [multipl, gunshot, wound]\n",
       "4                             [multipl, gunshot, wound]\n",
       "5     [multipl, injuri, bicyclist, struck, motor, ve...\n",
       "6                             [multipl, gunshot, wound]\n",
       "7     [multipl, injuri, scooter, motor, vehicl, collis]\n",
       "8                               [gunshot, wound, chest]\n",
       "9                             [multipl, gunshot, wound]\n",
       "10                      [multipl, injuri, jump, height]\n",
       "11                               [gunshot, wound, head]\n",
       "12                               [gunshot, wound, neck]\n",
       "13             [complic, multipl, injuri, fall, ladder]\n",
       "14                            [multipl, gunshot, wound]\n",
       "15                  [blunt, forc, injuri, fall, height]\n",
       "16    [multipl, injuri, motor, vehicl, strike, pedes...\n",
       "17                                     [asphyxia, hang]\n",
       "18                               [gunshot, wound, head]\n",
       "19                            [multipl, gunshot, wound]\n",
       "Name: primary_cause, dtype: object"
      ]
     },
     "execution_count": 9,
     "metadata": {},
     "output_type": "execute_result"
    }
   ],
   "source": [
    "# process the 'primary_cause' column\n",
    "\n",
    "processed_docs = df['primary_cause'].map(preprocess)\n",
    "processed_docs[:20]"
   ]
  },
  {
   "cell_type": "code",
   "execution_count": 13,
   "id": "e74429bd",
   "metadata": {},
   "outputs": [],
   "source": [
    "# Create the Bag of Words (bow) for our data\n",
    "# first, make a dictionary with words and number of times they occur in the corpus\n",
    "\n",
    "dictionary = gensim.corpora.Dictionary(processed_docs)"
   ]
  },
  {
   "cell_type": "code",
   "execution_count": null,
   "id": "b57c09ca",
   "metadata": {},
   "outputs": [],
   "source": [
    "# dictionary.token2id"
   ]
  },
  {
   "cell_type": "code",
   "execution_count": null,
   "id": "97ab10fc",
   "metadata": {},
   "outputs": [],
   "source": [
    "# dictionary.cfs"
   ]
  },
  {
   "cell_type": "code",
   "execution_count": 14,
   "id": "803b9ba6",
   "metadata": {},
   "outputs": [],
   "source": [
    "# filter out tokens that appear in too few or too many docs\n",
    "\n",
    "# these were the example settings; \n",
    "# need to check if they work for our data   🔥🔥🔥\n",
    "\n",
    "dictionary.filter_extremes(no_below=5, no_above=0.5, keep_n=100_000)"
   ]
  },
  {
   "cell_type": "code",
   "execution_count": 15,
   "id": "089cab87",
   "metadata": {},
   "outputs": [
    {
     "data": {
      "text/plain": [
       "[(27, 1),\n",
       " (59, 3),\n",
       " (60, 1),\n",
       " (66, 1),\n",
       " (70, 1),\n",
       " (85, 1),\n",
       " (86, 1),\n",
       " (125, 1),\n",
       " (134, 1)]"
      ]
     },
     "execution_count": 15,
     "metadata": {},
     "output_type": "execute_result"
    }
   ],
   "source": [
    "# make a dictionary for each document, \n",
    "# with how many words (by number of tuples) \n",
    "# and which word (based on its number in the dictionary)\n",
    "# and how many times they appear\n",
    "\n",
    "bow_corpus = [dictionary.doc2bow(doc) for doc in processed_docs]\n",
    "\n",
    "# same example doc as above\n",
    "bow_corpus[428]"
   ]
  },
  {
   "cell_type": "code",
   "execution_count": 16,
   "id": "1ec62e63",
   "metadata": {},
   "outputs": [
    {
     "name": "stdout",
     "output_type": "stream",
     "text": [
      "Word 27 (\"ethanol\") appears 1 time(s).\n",
      "Word 59 (\"fentanyl\") appears 3 time(s).\n",
      "Word 60 (\"toxic\") appears 1 time(s).\n",
      "Word 66 (\"cocain\") appears 1 time(s).\n",
      "Word 70 (\"combin\") appears 1 time(s).\n",
      "Word 85 (\"anpp\") appears 1 time(s).\n",
      "Word 86 (\"despropionyl\") appears 1 time(s).\n",
      "Word 125 (\"heroin\") appears 1 time(s).\n",
      "Word 134 (\"acetyl\") appears 1 time(s).\n"
     ]
    }
   ],
   "source": [
    "# printed out nicely\n",
    "\n",
    "bow_doc_428 = bow_corpus[428]\n",
    "for i in range(len(bow_doc_428)):\n",
    "    print(\"Word {} (\\\"{}\\\") appears {} time(s).\".format(bow_doc_428[i][0], \n",
    "                                               dictionary[bow_doc_428[i][0]], \n",
    "bow_doc_428[i][1]))"
   ]
  },
  {
   "cell_type": "code",
   "execution_count": 17,
   "id": "70af00bf",
   "metadata": {},
   "outputs": [
    {
     "data": {
      "text/plain": [
       "(27, 'ethanol', 1)"
      ]
     },
     "execution_count": 17,
     "metadata": {},
     "output_type": "execute_result"
    }
   ],
   "source": [
    "# number in dictionary, word, times it appears on document\n",
    "bow_doc_428[0][0], dictionary[bow_doc_428[0][0]], bow_doc_428[0][1]"
   ]
  },
  {
   "cell_type": "code",
   "execution_count": 20,
   "id": "addc729e",
   "metadata": {
    "scrolled": true
   },
   "outputs": [
    {
     "name": "stdout",
     "output_type": "stream",
     "text": [
      "Topic: 0 \n",
      "Words: 0.183*\"head\" + 0.148*\"injuri\" + 0.145*\"fall\" + 0.111*\"close\" + 0.068*\"complic\" + 0.064*\"blunt\" + 0.042*\"forc\" + 0.039*\"torso\" + 0.038*\"trauma\" + 0.032*\"unwit\"\n",
      "Topic: 1 \n",
      "Words: 0.153*\"fentanyl\" + 0.091*\"toxic\" + 0.069*\"combin\" + 0.068*\"para\" + 0.060*\"despropionyl\" + 0.051*\"fluorofentanyl\" + 0.050*\"drug\" + 0.043*\"anpp\" + 0.041*\"cocain\" + 0.040*\"probabl\"\n",
      "Topic: 2 \n",
      "Words: 0.343*\"wound\" + 0.323*\"gunshot\" + 0.165*\"multipl\" + 0.087*\"head\" + 0.033*\"chest\" + 0.014*\"stab\" + 0.009*\"neck\" + 0.007*\"intraor\" + 0.006*\"incis\" + 0.005*\"complic\"\n",
      "Topic: 3 \n",
      "Words: 0.221*\"fall\" + 0.203*\"complic\" + 0.132*\"fractur\" + 0.066*\"drown\" + 0.058*\"left\" + 0.057*\"right\" + 0.042*\"femur\" + 0.021*\"wit\" + 0.012*\"hemorrhag\" + 0.011*\"unwit\"\n",
      "Topic: 4 \n",
      "Words: 0.145*\"intox\" + 0.120*\"acut\" + 0.097*\"toxic\" + 0.071*\"alcohol\" + 0.068*\"complic\" + 0.066*\"cocain\" + 0.060*\"ethanol\" + 0.042*\"food\" + 0.042*\"choke\" + 0.035*\"bolu\"\n",
      "Topic: 5 \n",
      "Words: 0.198*\"toxic\" + 0.119*\"cocain\" + 0.072*\"inhal\" + 0.070*\"opiat\" + 0.052*\"injuri\" + 0.051*\"thermal\" + 0.042*\"complic\" + 0.041*\"hous\" + 0.037*\"carbon\" + 0.037*\"monoxid\"\n",
      "Topic: 6 \n",
      "Words: 0.128*\"hemorrhag\" + 0.085*\"subdur\" + 0.053*\"fall\" + 0.049*\"asphyxia\" + 0.048*\"plastic\" + 0.044*\"carbon\" + 0.044*\"monoxid\" + 0.043*\"exhaust\" + 0.040*\"toxic\" + 0.039*\"head\"\n",
      "Topic: 7 \n",
      "Words: 0.255*\"diseas\" + 0.236*\"cardiovascular\" + 0.218*\"hypertens\" + 0.043*\"atherosclerot\" + 0.022*\"shotgun\" + 0.019*\"ruptur\" + 0.016*\"hemorrhag\" + 0.014*\"dissect\" + 0.013*\"aortic\" + 0.011*\"intracerebr\"\n",
      "Topic: 8 \n",
      "Words: 0.146*\"injuri\" + 0.133*\"multipl\" + 0.123*\"pedestrian\" + 0.122*\"strike\" + 0.102*\"vehicl\" + 0.084*\"motor\" + 0.057*\"blunt\" + 0.053*\"forc\" + 0.034*\"train\" + 0.032*\"struck\"\n",
      "Topic: 9 \n",
      "Words: 0.185*\"injuri\" + 0.181*\"fall\" + 0.152*\"multipl\" + 0.074*\"forc\" + 0.070*\"height\" + 0.055*\"complic\" + 0.050*\"blunt\" + 0.041*\"subdur\" + 0.039*\"hematoma\" + 0.026*\"sharp\"\n",
      "Topic: 10 \n",
      "Words: 0.167*\"abdomen\" + 0.157*\"anox\" + 0.137*\"encephalopathi\" + 0.062*\"follow\" + 0.061*\"toxic\" + 0.055*\"acetaminophen\" + 0.043*\"complic\" + 0.029*\"failur\" + 0.026*\"space\" + 0.022*\"heart\"\n",
      "Topic: 11 \n",
      "Words: 0.175*\"toxic\" + 0.116*\"combin\" + 0.107*\"drug\" + 0.054*\"methamphetamin\" + 0.050*\"cocain\" + 0.050*\"benzodiazepin\" + 0.047*\"ethanol\" + 0.046*\"fentanyl\" + 0.043*\"opiat\" + 0.033*\"probabl\"\n",
      "Topic: 12 \n",
      "Words: 0.181*\"injuri\" + 0.167*\"multipl\" + 0.097*\"motorcycl\" + 0.058*\"truck\" + 0.057*\"assault\" + 0.053*\"strike\" + 0.047*\"forc\" + 0.046*\"blunt\" + 0.026*\"semi\" + 0.024*\"automobil\"\n",
      "Topic: 13 \n",
      "Words: 0.284*\"probabl\" + 0.154*\"methadon\" + 0.105*\"toxic\" + 0.036*\"thromboembol\" + 0.035*\"strangul\" + 0.031*\"complic\" + 0.029*\"flualprazolam\" + 0.022*\"anaphylaxi\" + 0.022*\"compress\" + 0.020*\"wrist\"\n",
      "Topic: 14 \n",
      "Words: 0.272*\"fentanyl\" + 0.149*\"toxic\" + 0.111*\"combin\" + 0.081*\"despropionyl\" + 0.079*\"drug\" + 0.069*\"heroin\" + 0.059*\"cocain\" + 0.058*\"anpp\" + 0.047*\"ethanol\" + 0.031*\"acetyl\"\n",
      "Topic: 15 \n",
      "Words: 0.095*\"complic\" + 0.091*\"fentanyl\" + 0.089*\"toxic\" + 0.063*\"ankl\" + 0.060*\"pelvic\" + 0.051*\"reaction\" + 0.051*\"combin\" + 0.035*\"drug\" + 0.033*\"despropionyl\" + 0.030*\"anpp\"\n",
      "Topic: 16 \n",
      "Words: 0.203*\"toxic\" + 0.163*\"heroin\" + 0.115*\"combin\" + 0.090*\"drug\" + 0.060*\"fentanyl\" + 0.045*\"alprazolam\" + 0.042*\"ethanol\" + 0.038*\"cocain\" + 0.023*\"hydrocodon\" + 0.017*\"methadon\"\n",
      "Topic: 17 \n",
      "Words: 0.349*\"hang\" + 0.092*\"injuri\" + 0.087*\"asphyxi\" + 0.075*\"fall\" + 0.070*\"asphyxia\" + 0.050*\"craniocerebr\" + 0.044*\"cervic\" + 0.037*\"util\" + 0.036*\"sport\" + 0.028*\"complic\"\n",
      "Topic: 18 \n",
      "Words: 0.181*\"vehicl\" + 0.171*\"motor\" + 0.162*\"injuri\" + 0.137*\"multipl\" + 0.101*\"collis\" + 0.049*\"blunt\" + 0.046*\"forc\" + 0.033*\"complic\" + 0.026*\"crash\" + 0.018*\"strike\"\n",
      "Topic: 19 \n",
      "Words: 0.127*\"object\" + 0.123*\"fix\" + 0.115*\"strike\" + 0.104*\"automobil\" + 0.098*\"injuri\" + 0.085*\"multipl\" + 0.056*\"complic\" + 0.037*\"remot\" + 0.026*\"extrem\" + 0.021*\"lower\"\n"
     ]
    }
   ],
   "source": [
    "# LDA run on bag of words\n",
    "\n",
    "lda_model = gensim.models.LdaMulticore(bow_corpus, num_topics=20, \n",
    "                                       id2word=dictionary, passes=2, workers=2)\n",
    "\n",
    "\n",
    "# check the words in each topic and their weights to see if they make sense\n",
    "\n",
    "for idx, topic in lda_model.print_topics(-1):\n",
    "    print('Topic: {} \\nWords: {}'.format(idx, topic))"
   ]
  },
  {
   "cell_type": "code",
   "execution_count": 25,
   "id": "c0b12ba4",
   "metadata": {
    "scrolled": true
   },
   "outputs": [
    {
     "name": "stdout",
     "output_type": "stream",
     "text": [
      "['gunshot', 'wound', 'head']\n",
      "\n",
      "Score: 0.7624998092651367\t \n",
      "Topic: 0.343*\"wound\" + 0.323*\"gunshot\" + 0.165*\"multipl\" + 0.087*\"head\" + 0.033*\"chest\" + 0.014*\"stab\" + 0.009*\"neck\" + 0.007*\"intraor\" + 0.006*\"incis\" + 0.005*\"complic\"\n",
      "\n",
      "Score: 0.01250001136213541\t \n",
      "Topic: 0.183*\"head\" + 0.148*\"injuri\" + 0.145*\"fall\" + 0.111*\"close\" + 0.068*\"complic\" + 0.064*\"blunt\" + 0.042*\"forc\" + 0.039*\"torso\" + 0.038*\"trauma\" + 0.032*\"unwit\"\n",
      "\n",
      "Score: 0.012500008568167686\t \n",
      "Topic: 0.153*\"fentanyl\" + 0.091*\"toxic\" + 0.069*\"combin\" + 0.068*\"para\" + 0.060*\"despropionyl\" + 0.051*\"fluorofentanyl\" + 0.050*\"drug\" + 0.043*\"anpp\" + 0.041*\"cocain\" + 0.040*\"probabl\"\n",
      "\n",
      "Score: 0.012500008568167686\t \n",
      "Topic: 0.221*\"fall\" + 0.203*\"complic\" + 0.132*\"fractur\" + 0.066*\"drown\" + 0.058*\"left\" + 0.057*\"right\" + 0.042*\"femur\" + 0.021*\"wit\" + 0.012*\"hemorrhag\" + 0.011*\"unwit\"\n",
      "\n",
      "Score: 0.012500008568167686\t \n",
      "Topic: 0.145*\"intox\" + 0.120*\"acut\" + 0.097*\"toxic\" + 0.071*\"alcohol\" + 0.068*\"complic\" + 0.066*\"cocain\" + 0.060*\"ethanol\" + 0.042*\"food\" + 0.042*\"choke\" + 0.035*\"bolu\"\n",
      "\n",
      "Score: 0.012500008568167686\t \n",
      "Topic: 0.198*\"toxic\" + 0.119*\"cocain\" + 0.072*\"inhal\" + 0.070*\"opiat\" + 0.052*\"injuri\" + 0.051*\"thermal\" + 0.042*\"complic\" + 0.041*\"hous\" + 0.037*\"carbon\" + 0.037*\"monoxid\"\n",
      "\n",
      "Score: 0.012500008568167686\t \n",
      "Topic: 0.128*\"hemorrhag\" + 0.085*\"subdur\" + 0.053*\"fall\" + 0.049*\"asphyxia\" + 0.048*\"plastic\" + 0.044*\"carbon\" + 0.044*\"monoxid\" + 0.043*\"exhaust\" + 0.040*\"toxic\" + 0.039*\"head\"\n",
      "\n",
      "Score: 0.012500008568167686\t \n",
      "Topic: 0.255*\"diseas\" + 0.236*\"cardiovascular\" + 0.218*\"hypertens\" + 0.043*\"atherosclerot\" + 0.022*\"shotgun\" + 0.019*\"ruptur\" + 0.016*\"hemorrhag\" + 0.014*\"dissect\" + 0.013*\"aortic\" + 0.011*\"intracerebr\"\n",
      "\n",
      "Score: 0.012500008568167686\t \n",
      "Topic: 0.146*\"injuri\" + 0.133*\"multipl\" + 0.123*\"pedestrian\" + 0.122*\"strike\" + 0.102*\"vehicl\" + 0.084*\"motor\" + 0.057*\"blunt\" + 0.053*\"forc\" + 0.034*\"train\" + 0.032*\"struck\"\n",
      "\n",
      "Score: 0.012500008568167686\t \n",
      "Topic: 0.185*\"injuri\" + 0.181*\"fall\" + 0.152*\"multipl\" + 0.074*\"forc\" + 0.070*\"height\" + 0.055*\"complic\" + 0.050*\"blunt\" + 0.041*\"subdur\" + 0.039*\"hematoma\" + 0.026*\"sharp\"\n",
      "\n",
      "Score: 0.012500008568167686\t \n",
      "Topic: 0.167*\"abdomen\" + 0.157*\"anox\" + 0.137*\"encephalopathi\" + 0.062*\"follow\" + 0.061*\"toxic\" + 0.055*\"acetaminophen\" + 0.043*\"complic\" + 0.029*\"failur\" + 0.026*\"space\" + 0.022*\"heart\"\n",
      "\n",
      "Score: 0.012500008568167686\t \n",
      "Topic: 0.175*\"toxic\" + 0.116*\"combin\" + 0.107*\"drug\" + 0.054*\"methamphetamin\" + 0.050*\"cocain\" + 0.050*\"benzodiazepin\" + 0.047*\"ethanol\" + 0.046*\"fentanyl\" + 0.043*\"opiat\" + 0.033*\"probabl\"\n",
      "\n",
      "Score: 0.012500008568167686\t \n",
      "Topic: 0.181*\"injuri\" + 0.167*\"multipl\" + 0.097*\"motorcycl\" + 0.058*\"truck\" + 0.057*\"assault\" + 0.053*\"strike\" + 0.047*\"forc\" + 0.046*\"blunt\" + 0.026*\"semi\" + 0.024*\"automobil\"\n",
      "\n",
      "Score: 0.012500008568167686\t \n",
      "Topic: 0.284*\"probabl\" + 0.154*\"methadon\" + 0.105*\"toxic\" + 0.036*\"thromboembol\" + 0.035*\"strangul\" + 0.031*\"complic\" + 0.029*\"flualprazolam\" + 0.022*\"anaphylaxi\" + 0.022*\"compress\" + 0.020*\"wrist\"\n",
      "\n",
      "Score: 0.012500008568167686\t \n",
      "Topic: 0.272*\"fentanyl\" + 0.149*\"toxic\" + 0.111*\"combin\" + 0.081*\"despropionyl\" + 0.079*\"drug\" + 0.069*\"heroin\" + 0.059*\"cocain\" + 0.058*\"anpp\" + 0.047*\"ethanol\" + 0.031*\"acetyl\"\n",
      "\n",
      "Score: 0.012500008568167686\t \n",
      "Topic: 0.095*\"complic\" + 0.091*\"fentanyl\" + 0.089*\"toxic\" + 0.063*\"ankl\" + 0.060*\"pelvic\" + 0.051*\"reaction\" + 0.051*\"combin\" + 0.035*\"drug\" + 0.033*\"despropionyl\" + 0.030*\"anpp\"\n",
      "\n",
      "Score: 0.012500008568167686\t \n",
      "Topic: 0.203*\"toxic\" + 0.163*\"heroin\" + 0.115*\"combin\" + 0.090*\"drug\" + 0.060*\"fentanyl\" + 0.045*\"alprazolam\" + 0.042*\"ethanol\" + 0.038*\"cocain\" + 0.023*\"hydrocodon\" + 0.017*\"methadon\"\n",
      "\n",
      "Score: 0.012500008568167686\t \n",
      "Topic: 0.349*\"hang\" + 0.092*\"injuri\" + 0.087*\"asphyxi\" + 0.075*\"fall\" + 0.070*\"asphyxia\" + 0.050*\"craniocerebr\" + 0.044*\"cervic\" + 0.037*\"util\" + 0.036*\"sport\" + 0.028*\"complic\"\n",
      "\n",
      "Score: 0.012500008568167686\t \n",
      "Topic: 0.181*\"vehicl\" + 0.171*\"motor\" + 0.162*\"injuri\" + 0.137*\"multipl\" + 0.101*\"collis\" + 0.049*\"blunt\" + 0.046*\"forc\" + 0.033*\"complic\" + 0.026*\"crash\" + 0.018*\"strike\"\n",
      "\n",
      "Score: 0.012500008568167686\t \n",
      "Topic: 0.127*\"object\" + 0.123*\"fix\" + 0.115*\"strike\" + 0.104*\"automobil\" + 0.098*\"injuri\" + 0.085*\"multipl\" + 0.056*\"complic\" + 0.037*\"remot\" + 0.026*\"extrem\" + 0.021*\"lower\"\n"
     ]
    }
   ],
   "source": [
    "# check where sample doc would be classified in bag of words model\n",
    "print(processed_docs[30500])\n",
    "\n",
    "for index, score in sorted(lda_model[bow_corpus[30500]], key=lambda tup: -1*tup[1]):\n",
    "    print(\"\\nScore: {}\\t \\nTopic: {}\".format(score, lda_model.print_topic(index, 10)))"
   ]
  },
  {
   "cell_type": "code",
   "execution_count": 26,
   "id": "9a830158",
   "metadata": {},
   "outputs": [],
   "source": [
    "# create tf-idf model and transform the corpus\n",
    "\n",
    "tfidf = models.TfidfModel(bow_corpus)\n",
    "corpus_tfidf = tfidf[bow_corpus]"
   ]
  },
  {
   "cell_type": "code",
   "execution_count": 28,
   "id": "371df73e",
   "metadata": {
    "scrolled": true
   },
   "outputs": [
    {
     "name": "stdout",
     "output_type": "stream",
     "text": [
      "Topic: 0 Word: 0.138*\"height\" + 0.077*\"fall\" + 0.063*\"injuri\" + 0.049*\"jump\" + 0.046*\"multipl\" + 0.038*\"home\" + 0.037*\"wit\" + 0.033*\"complic\" + 0.024*\"delay\" + 0.021*\"spinal\"\n",
      "Topic: 1 Word: 0.091*\"motor\" + 0.090*\"vehicl\" + 0.090*\"blunt\" + 0.084*\"forc\" + 0.083*\"injuri\" + 0.082*\"collis\" + 0.054*\"multipl\" + 0.042*\"hemorrhag\" + 0.034*\"fall\" + 0.030*\"crash\"\n",
      "Topic: 2 Word: 0.149*\"hang\" + 0.115*\"asphyxi\" + 0.114*\"asphyxia\" + 0.076*\"stair\" + 0.069*\"craniocerebr\" + 0.066*\"fall\" + 0.047*\"injuri\" + 0.027*\"complic\" + 0.019*\"hydromorphon\" + 0.017*\"oxycodon\"\n",
      "Topic: 3 Word: 0.070*\"hematoma\" + 0.062*\"subdur\" + 0.056*\"diphenhydramin\" + 0.052*\"fentanyl\" + 0.043*\"toxic\" + 0.043*\"combin\" + 0.041*\"drug\" + 0.036*\"hydrocodon\" + 0.034*\"tramadol\" + 0.031*\"fall\"\n",
      "Topic: 4 Word: 0.146*\"intox\" + 0.118*\"complic\" + 0.064*\"fall\" + 0.062*\"opiat\" + 0.040*\"heroin\" + 0.037*\"opioid\" + 0.035*\"benzodiazepin\" + 0.035*\"cocain\" + 0.035*\"choke\" + 0.033*\"food\"\n",
      "Topic: 5 Word: 0.303*\"gunshot\" + 0.294*\"wound\" + 0.193*\"multipl\" + 0.125*\"head\" + 0.009*\"complic\" + 0.008*\"sport\" + 0.008*\"util\" + 0.005*\"injuri\" + 0.004*\"vehicl\" + 0.003*\"strike\"\n",
      "Topic: 6 Word: 0.221*\"cocain\" + 0.143*\"toxic\" + 0.085*\"fentanyl\" + 0.077*\"heroin\" + 0.073*\"combin\" + 0.061*\"drug\" + 0.060*\"alprazolam\" + 0.056*\"ethanol\" + 0.024*\"complic\" + 0.017*\"despropionyl\"\n",
      "Topic: 7 Word: 0.119*\"neck\" + 0.097*\"torso\" + 0.075*\"sharp\" + 0.061*\"forc\" + 0.059*\"wound\" + 0.058*\"gunshot\" + 0.041*\"injuri\" + 0.040*\"remot\" + 0.031*\"multipl\" + 0.031*\"complic\"\n",
      "Topic: 8 Word: 0.089*\"gunshot\" + 0.087*\"multipl\" + 0.087*\"wound\" + 0.069*\"fentanyl\" + 0.041*\"toxic\" + 0.030*\"fall\" + 0.029*\"cocain\" + 0.028*\"despropionyl\" + 0.026*\"head\" + 0.026*\"injuri\"\n",
      "Topic: 9 Word: 0.167*\"close\" + 0.155*\"fall\" + 0.110*\"injuri\" + 0.109*\"head\" + 0.070*\"complic\" + 0.052*\"unwit\" + 0.040*\"cervic\" + 0.023*\"spine\" + 0.023*\"multipl\" + 0.020*\"stair\"\n",
      "Topic: 10 Word: 0.177*\"diseas\" + 0.174*\"cardiovascular\" + 0.164*\"hypertens\" + 0.052*\"accid\" + 0.033*\"atherosclerot\" + 0.019*\"difluoroethan\" + 0.012*\"torso\" + 0.012*\"organ\" + 0.011*\"injuri\" + 0.011*\"motorcycl\"\n",
      "Topic: 11 Word: 0.254*\"heroin\" + 0.146*\"toxic\" + 0.083*\"fentanyl\" + 0.040*\"combin\" + 0.034*\"drug\" + 0.030*\"despropionyl\" + 0.029*\"diazepam\" + 0.027*\"anpp\" + 0.018*\"mitragynin\" + 0.015*\"cocain\"\n",
      "Topic: 12 Word: 0.106*\"methamphetamin\" + 0.088*\"fentanyl\" + 0.051*\"toxic\" + 0.049*\"despropionyl\" + 0.047*\"combin\" + 0.042*\"drug\" + 0.041*\"probabl\" + 0.039*\"flualprazolam\" + 0.035*\"anpp\" + 0.032*\"cocain\"\n",
      "Topic: 13 Word: 0.356*\"hang\" + 0.108*\"fractur\" + 0.071*\"fall\" + 0.069*\"right\" + 0.052*\"complic\" + 0.040*\"femur\" + 0.030*\"left\" + 0.018*\"gunshot\" + 0.017*\"wound\" + 0.016*\"head\"\n",
      "Topic: 14 Word: 0.211*\"fentanyl\" + 0.091*\"toxic\" + 0.087*\"despropionyl\" + 0.082*\"combin\" + 0.076*\"anpp\" + 0.073*\"drug\" + 0.067*\"acetyl\" + 0.057*\"heroin\" + 0.051*\"cocain\" + 0.039*\"ethanol\"\n",
      "Topic: 15 Word: 0.117*\"alcohol\" + 0.077*\"fentanyl\" + 0.068*\"heroin\" + 0.060*\"toxic\" + 0.056*\"probabl\" + 0.043*\"combin\" + 0.042*\"cocain\" + 0.037*\"drug\" + 0.036*\"anox\" + 0.031*\"encephalopathi\"\n",
      "Topic: 16 Word: 0.173*\"acut\" + 0.049*\"inhal\" + 0.044*\"toxic\" + 0.042*\"ethanol\" + 0.036*\"heroin\" + 0.034*\"thermal\" + 0.033*\"carbon\" + 0.033*\"monoxid\" + 0.032*\"hous\" + 0.021*\"incis\"\n",
      "Topic: 17 Word: 0.285*\"chest\" + 0.142*\"wound\" + 0.111*\"gunshot\" + 0.098*\"stab\" + 0.034*\"fentanyl\" + 0.029*\"shotgun\" + 0.024*\"multipl\" + 0.018*\"despropionyl\" + 0.016*\"toxic\" + 0.014*\"anpp\"\n",
      "Topic: 18 Word: 0.114*\"strike\" + 0.090*\"pedestrian\" + 0.070*\"injuri\" + 0.062*\"vehicl\" + 0.062*\"multipl\" + 0.059*\"motor\" + 0.059*\"drown\" + 0.043*\"object\" + 0.043*\"fix\" + 0.041*\"automobil\"\n",
      "Topic: 19 Word: 0.138*\"fentanyl\" + 0.129*\"ethanol\" + 0.111*\"heroin\" + 0.105*\"toxic\" + 0.093*\"combin\" + 0.078*\"drug\" + 0.053*\"despropionyl\" + 0.051*\"methadon\" + 0.042*\"anpp\" + 0.033*\"cocain\"\n"
     ]
    }
   ],
   "source": [
    "# LDA run on tfidf\n",
    "\n",
    "lda_model_tfidf = gensim.models.LdaMulticore(corpus_tfidf, num_topics=20, \n",
    "                                             id2word=dictionary, passes=2, workers=4)\n",
    "\n",
    "# check the words in each topic and their weights to see if they make sense\n",
    "\n",
    "for idx, topic in lda_model_tfidf.print_topics(-1):\n",
    "    print('Topic: {} Word: {}'.format(idx, topic))"
   ]
  },
  {
   "cell_type": "code",
   "execution_count": 29,
   "id": "f71b6f2d",
   "metadata": {},
   "outputs": [
    {
     "name": "stdout",
     "output_type": "stream",
     "text": [
      "['combin', 'ethanol', 'cocain', 'fentanyl', 'acetyl', 'fentanyl', 'despropionyl', 'fentanyl', 'anpp', 'heroin', 'toxic']\n",
      "\n",
      "Score: 0.9208332300186157\t \n",
      "Topic: 0.211*\"fentanyl\" + 0.091*\"toxic\" + 0.087*\"despropionyl\" + 0.082*\"combin\" + 0.076*\"anpp\" + 0.073*\"drug\" + 0.067*\"acetyl\" + 0.057*\"heroin\" + 0.051*\"cocain\" + 0.039*\"ethanol\"\n"
     ]
    }
   ],
   "source": [
    "# check where sample doc would be classified in tfidf model\n",
    "print(processed_docs[428])\n",
    "\n",
    "for index, score in sorted(lda_model_tfidf[bow_corpus[428]], key=lambda tup: -1*tup[1]):\n",
    "    print(\"\\nScore: {}\\t \\nTopic: {}\".format(score, lda_model_tfidf.print_topic(index, 10)))"
   ]
  },
  {
   "cell_type": "code",
   "execution_count": null,
   "id": "939cd960",
   "metadata": {},
   "outputs": [],
   "source": []
  },
  {
   "cell_type": "code",
   "execution_count": null,
   "id": "b44dca44",
   "metadata": {},
   "outputs": [],
   "source": []
  },
  {
   "cell_type": "code",
   "execution_count": null,
   "id": "327598ea",
   "metadata": {},
   "outputs": [],
   "source": []
  },
  {
   "cell_type": "code",
   "execution_count": null,
   "id": "5c3d3e09",
   "metadata": {},
   "outputs": [],
   "source": []
  },
  {
   "cell_type": "code",
   "execution_count": null,
   "id": "689c009b",
   "metadata": {},
   "outputs": [],
   "source": []
  },
  {
   "cell_type": "code",
   "execution_count": null,
   "id": "c2d2787d",
   "metadata": {},
   "outputs": [],
   "source": []
  },
  {
   "cell_type": "code",
   "execution_count": null,
   "id": "a17a5f23",
   "metadata": {},
   "outputs": [],
   "source": []
  }
 ],
 "metadata": {
  "kernelspec": {
   "display_name": "Python 3 (ipykernel)",
   "language": "python",
   "name": "python3"
  },
  "language_info": {
   "codemirror_mode": {
    "name": "ipython",
    "version": 3
   },
   "file_extension": ".py",
   "mimetype": "text/x-python",
   "name": "python",
   "nbconvert_exporter": "python",
   "pygments_lexer": "ipython3",
   "version": "3.11.3"
  }
 },
 "nbformat": 4,
 "nbformat_minor": 5
}
