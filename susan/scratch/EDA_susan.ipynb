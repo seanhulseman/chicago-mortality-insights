{
 "cells": [
  {
   "cell_type": "code",
   "execution_count": 1,
   "id": "f7f52be7",
   "metadata": {},
   "outputs": [],
   "source": [
    "import pandas as pd\n",
    "import numpy as np\n",
    "import matplotlib.pyplot as plt\n",
    "import seaborn as sns\n",
    "\n"
   ]
  },
  {
   "cell_type": "code",
   "execution_count": 3,
   "id": "eb86b9a8",
   "metadata": {},
   "outputs": [
    {
     "name": "stderr",
     "output_type": "stream",
     "text": [
      "/var/folders/hd/_s2x4yxn2cvgc7_fjy3dz4cr0000gn/T/ipykernel_4160/1916176885.py:1: DtypeWarning: Columns (29) have mixed types. Specify dtype option on import or set low_memory=False.\n",
      "  dead = pd.read_csv('./data/Medical_Examiner_Case_Archive.csv')\n"
     ]
    },
    {
     "data": {
      "text/html": [
       "<div>\n",
       "<style scoped>\n",
       "    .dataframe tbody tr th:only-of-type {\n",
       "        vertical-align: middle;\n",
       "    }\n",
       "\n",
       "    .dataframe tbody tr th {\n",
       "        vertical-align: top;\n",
       "    }\n",
       "\n",
       "    .dataframe thead th {\n",
       "        text-align: right;\n",
       "    }\n",
       "</style>\n",
       "<table border=\"1\" class=\"dataframe\">\n",
       "  <thead>\n",
       "    <tr style=\"text-align: right;\">\n",
       "      <th></th>\n",
       "      <th>Case Number</th>\n",
       "      <th>Date of Incident</th>\n",
       "      <th>Date of Death</th>\n",
       "      <th>Age</th>\n",
       "      <th>Gender</th>\n",
       "      <th>Race</th>\n",
       "      <th>Latino</th>\n",
       "      <th>Manner of Death</th>\n",
       "      <th>Primary Cause</th>\n",
       "      <th>Primary Cause Line A</th>\n",
       "      <th>...</th>\n",
       "      <th>Incident Zip Code</th>\n",
       "      <th>longitude</th>\n",
       "      <th>latitude</th>\n",
       "      <th>location</th>\n",
       "      <th>Residence City</th>\n",
       "      <th>Residence Zip</th>\n",
       "      <th>OBJECTID</th>\n",
       "      <th>Chicago Ward</th>\n",
       "      <th>Chicago Community Area</th>\n",
       "      <th>COVID Related</th>\n",
       "    </tr>\n",
       "  </thead>\n",
       "  <tbody>\n",
       "    <tr>\n",
       "      <th>0</th>\n",
       "      <td>ME2023-06354</td>\n",
       "      <td>10/26/2023 02:34:00 AM</td>\n",
       "      <td>10/26/2023 02:01:00 AM</td>\n",
       "      <td>NaN</td>\n",
       "      <td>Male</td>\n",
       "      <td>Black</td>\n",
       "      <td>False</td>\n",
       "      <td>NaN</td>\n",
       "      <td>NaN</td>\n",
       "      <td>NaN</td>\n",
       "      <td>...</td>\n",
       "      <td>60661</td>\n",
       "      <td>-87.640339</td>\n",
       "      <td>41.885803</td>\n",
       "      <td>(41.8858033, -87.64033894)</td>\n",
       "      <td>NaN</td>\n",
       "      <td>NaN</td>\n",
       "      <td>78295</td>\n",
       "      <td>34.0</td>\n",
       "      <td>NEAR WEST SIDE</td>\n",
       "      <td>False</td>\n",
       "    </tr>\n",
       "    <tr>\n",
       "      <th>1</th>\n",
       "      <td>ME2023-06353</td>\n",
       "      <td>10/25/2023 10:08:00 PM</td>\n",
       "      <td>10/25/2023 09:42:00 PM</td>\n",
       "      <td>20.0</td>\n",
       "      <td>Male</td>\n",
       "      <td>Black</td>\n",
       "      <td>False</td>\n",
       "      <td>NaN</td>\n",
       "      <td>NaN</td>\n",
       "      <td>NaN</td>\n",
       "      <td>...</td>\n",
       "      <td>NaN</td>\n",
       "      <td>-87.628879</td>\n",
       "      <td>41.600921</td>\n",
       "      <td>(41.60092087, -87.62887866)</td>\n",
       "      <td>Glenwood</td>\n",
       "      <td>60425</td>\n",
       "      <td>78291</td>\n",
       "      <td>NaN</td>\n",
       "      <td>NaN</td>\n",
       "      <td>False</td>\n",
       "    </tr>\n",
       "    <tr>\n",
       "      <th>2</th>\n",
       "      <td>ME2023-06352</td>\n",
       "      <td>10/25/2023 09:28:00 PM</td>\n",
       "      <td>10/25/2023 09:04:00 PM</td>\n",
       "      <td>67.0</td>\n",
       "      <td>Male</td>\n",
       "      <td>White</td>\n",
       "      <td>False</td>\n",
       "      <td>NaN</td>\n",
       "      <td>NaN</td>\n",
       "      <td>NaN</td>\n",
       "      <td>...</td>\n",
       "      <td>60804</td>\n",
       "      <td>-87.769649</td>\n",
       "      <td>41.827775</td>\n",
       "      <td>(41.82777541, -87.76964878)</td>\n",
       "      <td>Cicero</td>\n",
       "      <td>60804</td>\n",
       "      <td>78290</td>\n",
       "      <td>NaN</td>\n",
       "      <td>NaN</td>\n",
       "      <td>False</td>\n",
       "    </tr>\n",
       "    <tr>\n",
       "      <th>3</th>\n",
       "      <td>ME2023-06351</td>\n",
       "      <td>10/25/2023 08:52:00 PM</td>\n",
       "      <td>10/25/2023 07:49:00 PM</td>\n",
       "      <td>48.0</td>\n",
       "      <td>Male</td>\n",
       "      <td>Black</td>\n",
       "      <td>False</td>\n",
       "      <td>NaN</td>\n",
       "      <td>NaN</td>\n",
       "      <td>NaN</td>\n",
       "      <td>...</td>\n",
       "      <td>60707</td>\n",
       "      <td>-87.804452</td>\n",
       "      <td>41.912988</td>\n",
       "      <td>(41.91298845, -87.8044522)</td>\n",
       "      <td>CHICAGO</td>\n",
       "      <td>60707</td>\n",
       "      <td>78292</td>\n",
       "      <td>29.0</td>\n",
       "      <td>AUSTIN</td>\n",
       "      <td>False</td>\n",
       "    </tr>\n",
       "    <tr>\n",
       "      <th>4</th>\n",
       "      <td>ME2023-06350</td>\n",
       "      <td>10/25/2023 07:21:00 PM</td>\n",
       "      <td>10/25/2023 06:47:00 PM</td>\n",
       "      <td>40.0</td>\n",
       "      <td>Male</td>\n",
       "      <td>White</td>\n",
       "      <td>False</td>\n",
       "      <td>NaN</td>\n",
       "      <td>NaN</td>\n",
       "      <td>NaN</td>\n",
       "      <td>...</td>\n",
       "      <td>60458</td>\n",
       "      <td>-87.831108</td>\n",
       "      <td>41.758760</td>\n",
       "      <td>(41.75876008, -87.83110831)</td>\n",
       "      <td>Justice</td>\n",
       "      <td>60458</td>\n",
       "      <td>78296</td>\n",
       "      <td>NaN</td>\n",
       "      <td>NaN</td>\n",
       "      <td>False</td>\n",
       "    </tr>\n",
       "  </tbody>\n",
       "</table>\n",
       "<p>5 rows × 30 columns</p>\n",
       "</div>"
      ],
      "text/plain": [
       "    Case Number        Date of Incident           Date of Death   Age Gender  \\\n",
       "0  ME2023-06354  10/26/2023 02:34:00 AM  10/26/2023 02:01:00 AM   NaN   Male   \n",
       "1  ME2023-06353  10/25/2023 10:08:00 PM  10/25/2023 09:42:00 PM  20.0   Male   \n",
       "2  ME2023-06352  10/25/2023 09:28:00 PM  10/25/2023 09:04:00 PM  67.0   Male   \n",
       "3  ME2023-06351  10/25/2023 08:52:00 PM  10/25/2023 07:49:00 PM  48.0   Male   \n",
       "4  ME2023-06350  10/25/2023 07:21:00 PM  10/25/2023 06:47:00 PM  40.0   Male   \n",
       "\n",
       "    Race  Latino Manner of Death Primary Cause Primary Cause Line A  ...  \\\n",
       "0  Black   False             NaN           NaN                  NaN  ...   \n",
       "1  Black   False             NaN           NaN                  NaN  ...   \n",
       "2  White   False             NaN           NaN                  NaN  ...   \n",
       "3  Black   False             NaN           NaN                  NaN  ...   \n",
       "4  White   False             NaN           NaN                  NaN  ...   \n",
       "\n",
       "  Incident Zip Code  longitude   latitude                     location  \\\n",
       "0             60661 -87.640339  41.885803   (41.8858033, -87.64033894)   \n",
       "1               NaN -87.628879  41.600921  (41.60092087, -87.62887866)   \n",
       "2             60804 -87.769649  41.827775  (41.82777541, -87.76964878)   \n",
       "3             60707 -87.804452  41.912988   (41.91298845, -87.8044522)   \n",
       "4             60458 -87.831108  41.758760  (41.75876008, -87.83110831)   \n",
       "\n",
       "  Residence City  Residence Zip  OBJECTID  Chicago Ward  \\\n",
       "0            NaN            NaN     78295          34.0   \n",
       "1       Glenwood          60425     78291           NaN   \n",
       "2         Cicero          60804     78290           NaN   \n",
       "3        CHICAGO          60707     78292          29.0   \n",
       "4        Justice          60458     78296           NaN   \n",
       "\n",
       "  Chicago Community Area COVID Related  \n",
       "0         NEAR WEST SIDE         False  \n",
       "1                    NaN         False  \n",
       "2                    NaN         False  \n",
       "3                 AUSTIN         False  \n",
       "4                    NaN         False  \n",
       "\n",
       "[5 rows x 30 columns]"
      ]
     },
     "execution_count": 3,
     "metadata": {},
     "output_type": "execute_result"
    }
   ],
   "source": [
    "dead = pd.read_csv('./data/Medical_Examiner_Case_Archive.csv')\n",
    "dead.head()"
   ]
  },
  {
   "cell_type": "code",
   "execution_count": 4,
   "id": "4033b8f9",
   "metadata": {
    "scrolled": true
   },
   "outputs": [
    {
     "name": "stdout",
     "output_type": "stream",
     "text": [
      "<class 'pandas.core.frame.DataFrame'>\n",
      "RangeIndex: 78221 entries, 0 to 78220\n",
      "Data columns (total 30 columns):\n",
      " #   Column                  Non-Null Count  Dtype  \n",
      "---  ------                  --------------  -----  \n",
      " 0   Case Number             78221 non-null  object \n",
      " 1   Date of Incident        76388 non-null  object \n",
      " 2   Date of Death           78152 non-null  object \n",
      " 3   Age                     77817 non-null  float64\n",
      " 4   Gender                  77949 non-null  object \n",
      " 5   Race                    77804 non-null  object \n",
      " 6   Latino                  78221 non-null  bool   \n",
      " 7   Manner of Death         77744 non-null  object \n",
      " 8   Primary Cause           77410 non-null  object \n",
      " 9   Primary Cause Line A    77410 non-null  object \n",
      " 10  Primary Cause Line B    24479 non-null  object \n",
      " 11  Primary Cause Line C    3321 non-null   object \n",
      " 12  Secondary Cause         30077 non-null  object \n",
      " 13  Gun Related             76985 non-null  object \n",
      " 14  Opioid Related          76985 non-null  object \n",
      " 15  Cold Related            78221 non-null  bool   \n",
      " 16  Heat Related            78221 non-null  bool   \n",
      " 17  Commissioner District   68262 non-null  float64\n",
      " 18  Incident Address        77176 non-null  object \n",
      " 19  Incident City           76470 non-null  object \n",
      " 20  Incident Zip Code       76372 non-null  object \n",
      " 21  longitude               68264 non-null  float64\n",
      " 22  latitude                68264 non-null  float64\n",
      " 23  location                68264 non-null  object \n",
      " 24  Residence City          76057 non-null  object \n",
      " 25  Residence Zip           76189 non-null  object \n",
      " 26  OBJECTID                78221 non-null  int64  \n",
      " 27  Chicago Ward            43482 non-null  float64\n",
      " 28  Chicago Community Area  43489 non-null  object \n",
      " 29  COVID Related           77462 non-null  object \n",
      "dtypes: bool(3), float64(5), int64(1), object(21)\n",
      "memory usage: 16.3+ MB\n"
     ]
    }
   ],
   "source": [
    "dead.info()"
   ]
  },
  {
   "cell_type": "code",
   "execution_count": 9,
   "id": "9493c16d",
   "metadata": {},
   "outputs": [
    {
     "data": {
      "text/plain": [
       "NON-HUMAN REMAINS, NO DEATH CERTIFICATE ISSUED                                                22\n",
       "ORGANIC CARDIOVASCULAR DISEASE                                                                21\n",
       "FETAL DEATH CERTIFICATE ISSUED                                                                19\n",
       "NONHUMAN REMAINS, NO DC ISSUED                                                                17\n",
       "NONHUMAN REMAINS, NO DEATH CERTIFICATE ISSUED                                                 11\n",
       "                                                                                              ..\n",
       "NON-HUMAN REMAINS NO DC                                                                        1\n",
       "NON HUMAN REMAINS- NO DC ISSUED                                                                1\n",
       "ACUTE RESPIRATORY FAILURE WITH HYPOXIA. NOVEL CORONA (COVID-19) VIRUS INFECTION                1\n",
       "ACUTE RESPIRATORY FAILURE WITH HYPOXIA. PNEUMONIA. NOVEL CORONA (COVID-19) VIRAL INFECTION     1\n",
       "NON-HUMAN REMAINS (NO DC ISSUED)                                                               1\n",
       "Name: Primary Cause, Length: 176, dtype: int64"
      ]
     },
     "execution_count": 9,
     "metadata": {},
     "output_type": "execute_result"
    }
   ],
   "source": [
    "unk = dead[(dead['Manner of Death'].isna()) | (dead['Manner of Death'] == 'PENDING')]\n",
    "unk['Primary Cause'].value_counts()"
   ]
  },
  {
   "cell_type": "code",
   "execution_count": 10,
   "id": "56e0439c",
   "metadata": {},
   "outputs": [
    {
     "data": {
      "text/plain": [
       "(78221, 30)"
      ]
     },
     "execution_count": 10,
     "metadata": {},
     "output_type": "execute_result"
    }
   ],
   "source": [
    "dead.shape"
   ]
  },
  {
   "cell_type": "code",
   "execution_count": 11,
   "id": "84d8982b",
   "metadata": {},
   "outputs": [
    {
     "data": {
      "text/plain": [
       "(1236, 30)"
      ]
     },
     "execution_count": 11,
     "metadata": {},
     "output_type": "execute_result"
    }
   ],
   "source": [
    "unk.shape"
   ]
  },
  {
   "cell_type": "code",
   "execution_count": 4,
   "id": "0ac2c97f",
   "metadata": {},
   "outputs": [
    {
     "data": {
      "text/plain": [
       "(76985, 30)"
      ]
     },
     "execution_count": 4,
     "metadata": {},
     "output_type": "execute_result"
    }
   ],
   "source": [
    "known = dead[(dead['Manner of Death'].notna()) & (dead['Manner of Death'] != 'PENDING')]\n",
    "known.shape"
   ]
  },
  {
   "cell_type": "code",
   "execution_count": 14,
   "id": "4c9ba90a",
   "metadata": {},
   "outputs": [
    {
     "data": {
      "text/plain": [
       "NATURAL         38489\n",
       "ACCIDENT        25008\n",
       "HOMICIDE         7749\n",
       "SUICIDE          4401\n",
       "UNDETERMINED     1338\n",
       "Name: Manner of Death, dtype: int64"
      ]
     },
     "execution_count": 14,
     "metadata": {},
     "output_type": "execute_result"
    }
   ],
   "source": [
    "known['Manner of Death'].value_counts()"
   ]
  },
  {
   "cell_type": "code",
   "execution_count": 17,
   "id": "24b84a6d",
   "metadata": {},
   "outputs": [
    {
     "data": {
      "text/plain": [
       "60628    1980\n",
       "60624    1913\n",
       "60623    1847\n",
       "60620    1778\n",
       "60619    1771\n",
       "         ... \n",
       "61326       1\n",
       "6632        1\n",
       "60052       1\n",
       "46978       1\n",
       "60066       1\n",
       "Name: Incident Zip Code, Length: 586, dtype: int64"
      ]
     },
     "execution_count": 17,
     "metadata": {},
     "output_type": "execute_result"
    }
   ],
   "source": [
    "# Credit: https://www.geeksforgeeks.org/get-unique-values-from-a-column-in-pandas-dataframe/\n",
    "\n",
    "known['Incident Zip Code'].value_counts()"
   ]
  },
  {
   "cell_type": "code",
   "execution_count": 16,
   "id": "94cbb618",
   "metadata": {},
   "outputs": [
    {
     "data": {
      "text/plain": [
       "array(['60016', '60644', '60649', '60634', '60636', '60406', '60625',\n",
       "       '60651', '60630', '60626', '60647', '60660', '60062', '60653',\n",
       "       '60632', '60638', '60611', '60621', '60666', '60623', '60015',\n",
       "       '60633', '60607', '60617', '60415', '60643', '60605', '60707',\n",
       "       '60657', '60618', '60153', '60160', '60619', '60090', '60645',\n",
       "       '60620', '60612', '60418', '60608', '60616', '60402', nan, '60089',\n",
       "       '60202', '60624', '60193', '60628', '60010', '60107', '60450',\n",
       "       '60525', '60640', '60629', '60103', '60610', '60409', '60546',\n",
       "       '60622', '60458', '60466', '60169', '60560', '60004', '60447',\n",
       "       '60438', '60714', '60827', '60639', '60077', '60652', '60076',\n",
       "       '60609', '60443', '60439', '60164', '60426', '60025', '60475',\n",
       "       '60641', '46405', '60613', '60018', '60430', '60487', '60478',\n",
       "       '60527', '60803', '60304', '60659', '60804', '60614', '60005',\n",
       "       '60471', '60615', '60123', '60201', '60637', '60120', '60459',\n",
       "       '60473', '60068', '60411', '60462', '60642', '60526', '60091',\n",
       "       '60452', '60056', '46310', '60071', '60070', '60805', '60655',\n",
       "       '60302', '60053', '60194', '60464', '60631', '60451', '60463',\n",
       "       '60093', '60453', '60419', '60131', '60074', '60176', '60173',\n",
       "       '60445', '60656', '60604', '60603', '60455', '60162', '60422',\n",
       "       '60501', '60712', '60428', '60606', '60101', '46307', '46341',\n",
       "       '46394', '60429', '60654', '60706', '60472', '60601', '46320',\n",
       "       '60482', '60477', '60008', '60476', '60661', '60465', '60171',\n",
       "       '60534', '60449', '60007', '60305', '60513', '60020', '60067',\n",
       "       '60130', '60043', '60646', '60543', '60104', '60440', '60403',\n",
       "       '00000', '60435', '60124', '60914', '60022', '60126', '60106',\n",
       "       '60136', '60425', '60446', '60192', '60002', '99999', '46366',\n",
       "       '60521', '60115', '60457', '60456', '46360', '60491', '60970',\n",
       "       '60172', '60140', '60026', '60480', '60118', '60085', '60110',\n",
       "       '60159', '60538', '60029', '60467', '60163', '46304', '60035',\n",
       "       '60178', '60416', '60602', '60155', '46383', '46323', '60137',\n",
       "       '60047', '60407', '60133', '46406', '46408', '60165', '60064',\n",
       "       '53182', '60417', '60490', '60946', '60469', '60154', '60142',\n",
       "       '60484', '60423', '60141', '60195', '60105', '60042', '46322',\n",
       "       '60191', '46368', '60505', '60189', '60143', '60431', '60060',\n",
       "       '60151', '60404', '60073', '60177', '60461', '60301', '60181',\n",
       "       '60441', '44052', '60188', '47943', '60468', '60717', '46402',\n",
       "       '46319', '60558', '61701', 'UNKNOWN', '61101', '46407', '60013',\n",
       "       '60510', '80124', '60108', '60196', '60955', '46410', '61021',\n",
       "       '46403', '61350', '60148', '60551', '60420', '46201', '46391',\n",
       "       '46324', '60504', '46390', '60586', '60545', '60401', '60410',\n",
       "       '60901', '60634`', '60433', '46312', '61526', '60544', '46327',\n",
       "       '60950', '60523', '60038', '46350', '46401', '60152', '60565',\n",
       "       '60046', '606', '46347', '63080', '60559', '60448', '60502',\n",
       "       '60203', '60009', '61360', '46385', '62056', '60485', '60506',\n",
       "       '60050', '11380', '60699', '60964', '60102', '60061', '61108',\n",
       "       '660443', '60648', '60081', '46356', '46534', '60515', '60514',\n",
       "       '60096', '60084', '46404', '46311', '61265', '60157', '60031',\n",
       "       '60436', '74959', '60045', '60030', '53140', '60503', '60682',\n",
       "       '61201', '52804', '60103-4581', '61944', '60554', '60664', '60083',\n",
       "       '61462', '53184', '49085', '60019', '60049', '60014', '60516',\n",
       "       '61008', '60561', '60680', '53148', '60040', '606634', '60051',\n",
       "       '60623-2735', '60532', '46409', '61342', '60663', '46371', '60481',\n",
       "       '60910', '60548', '60099', '61369', '60087', '53511', '60175',\n",
       "       '60156', '60185', '60139', '60174', '60517', '54896', '61938',\n",
       "       '60542', '60936', '61724', '60412', '60119', '61264', '46349',\n",
       "       '60437', '60540', '79525', '61081', '60552', '65560', '53105',\n",
       "       '60953', '60442', '60563', '60555', '61362', '61455', '6004',\n",
       "       '61764', 'unknown', '60012', '46321', '47978', '62864', '6415',\n",
       "       '46342', '60462-4318', '46601', '46375', '61801', '46516', '60650',\n",
       "       '60529', '61415', '61322', '53147', '61102', '60954', '60069',\n",
       "       '60033', '606023', '60048', '60021', '62964', '60041', '60017',\n",
       "       '60408', '60112', '60044', '61832', '60179', '60627', '62922',\n",
       "       '11106', '60082', '61115', '61761', '61821', '61326', '6632',\n",
       "       '61301', '60052', '60958', '46978', '60109', '600004', '46392',\n",
       "       '6005', '60499', '60055', '60144', '53142', '46816', '58103',\n",
       "       '60303', '60190', '60111', '60927', '60685', '60098', '61103',\n",
       "       '60609-4728', '61354', '601716', '60678', '60691', '20906',\n",
       "       '60585', '34442', '60938', '48080', '60913', '60460', '60677',\n",
       "       '60134', '60479', '60688', '60635', '60669', '60161', '61001',\n",
       "       '61065', '61614', '61114', '60681', '60421', '60667', '39051',\n",
       "       '60432', '60023', '61754', '61031', '60956', '46628', '61820',\n",
       "       '60541', '6032', '61535', '45840', '61735', '49117', '65212',\n",
       "       '53121', '60065', '60210', '60911', '62236', '45432', '60922',\n",
       "       '74047', '60915', '46373', '54301', '78723', '61401', '46365',\n",
       "       '61320', '62259', '98036', 'LOMINO', '74403', '47804', '64658',\n",
       "       '46225', '61051', '61914', '61802', '60167', '61615', '54613',\n",
       "       '60704.', '54481', '6044', '46514', '60716', '35801', '60902',\n",
       "       '62901', '48219', '60006', '60204', '60701', '73008', '60547',\n",
       "       '48237', '46530', '46303', '60454', '49120', '60434', '48304',\n",
       "       '606600', '53566', '61833', '61073', '60935', '18840', '60208',\n",
       "       '10001', '604664', '60003', '08068', '62466', '6625', '04257',\n",
       "       '62701', '60187', '61364', '6033', 'ITALY', '46308', '60690',\n",
       "       '16802', '60825', '60097', '54501', '60564', '61104', '60634-3976',\n",
       "       '53045', '14069', '48201', '49128', '600091', '60066'],\n",
       "      dtype=object)"
      ]
     },
     "execution_count": 16,
     "metadata": {},
     "output_type": "execute_result"
    }
   ],
   "source": [
    "known['Incident Zip Code'].unique()"
   ]
  },
  {
   "cell_type": "code",
   "execution_count": null,
   "id": "98ab16c4",
   "metadata": {},
   "outputs": [],
   "source": []
  },
  {
   "cell_type": "code",
   "execution_count": null,
   "id": "87f048f1",
   "metadata": {},
   "outputs": [],
   "source": [
    "zip_code = []\n",
    "for item in df['incident_zip_code'].str():\n",
    "    if '-' in item:\n",
    "        zip_code.append(item[:5])\n",
    "    elif (len(item) = 5 and 'item':\n",
    "        zip_code.append(item)\n",
    "        "
   ]
  },
  {
   "cell_type": "code",
   "execution_count": null,
   "id": "6c44a987",
   "metadata": {},
   "outputs": [],
   "source": []
  },
  {
   "cell_type": "code",
   "execution_count": null,
   "id": "92ae34df",
   "metadata": {},
   "outputs": [],
   "source": []
  }
 ],
 "metadata": {
  "kernelspec": {
   "display_name": "Python 3 (ipykernel)",
   "language": "python",
   "name": "python3"
  },
  "language_info": {
   "codemirror_mode": {
    "name": "ipython",
    "version": 3
   },
   "file_extension": ".py",
   "mimetype": "text/x-python",
   "name": "python",
   "nbconvert_exporter": "python",
   "pygments_lexer": "ipython3",
   "version": "3.11.3"
  }
 },
 "nbformat": 4,
 "nbformat_minor": 5
}
