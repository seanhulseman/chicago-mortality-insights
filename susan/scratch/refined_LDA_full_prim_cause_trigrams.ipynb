{
 "cells": [
  {
   "cell_type": "markdown",
   "id": "7a343a50",
   "metadata": {},
   "source": [
    "## refined LDA Topic Modeling on full primary cause\n",
    "Credit: Selva Prabhakaran, https://www.machinelearningplus.com/nlp/topic-modeling-gensim-python/"
   ]
  },
  {
   "cell_type": "code",
   "execution_count": null,
   "id": "cc4d6f74",
   "metadata": {},
   "outputs": [],
   "source": [
    "# in CLI:\n",
    "# pip install spacy\n",
    "# pip install pyLDAvis\n",
    "# python3 -m spacy download 'en_core_web_sm'"
   ]
  },
  {
   "cell_type": "code",
   "execution_count": 13,
   "id": "51abad00",
   "metadata": {},
   "outputs": [],
   "source": [
    "# import numpy as np\n",
    "import pandas as pd\n",
    "# import matplotlib.pyplot as plt\n",
    "\n",
    "# import re\n",
    "from pprint import pprint\n",
    "\n",
    "import gensim\n",
    "import gensim.corpora as corpora\n",
    "from gensim.utils import simple_preprocess\n",
    "from gensim.models import CoherenceModel\n",
    "\n",
    "import spacy\n",
    "\n",
    "import pyLDAvis\n",
    "import pyLDAvis.gensim\n",
    "\n",
    "from nltk.corpus import stopwords\n",
    "from nltk.stem import PorterStemmer\n",
    "\n",
    "# import warnings\n",
    "# warnings.filterwarnings(\"ignore\",category=DeprecationWarning)"
   ]
  },
  {
   "cell_type": "code",
   "execution_count": 2,
   "id": "3695662e",
   "metadata": {},
   "outputs": [],
   "source": [
    "df = pd.read_csv('../susan/data/cleaned_data_31OCT.csv')"
   ]
  },
  {
   "cell_type": "code",
   "execution_count": 3,
   "id": "8ceb77bc",
   "metadata": {},
   "outputs": [],
   "source": [
    "# make a stemmer\n",
    "\n",
    "stop_words = stopwords.words('english')\n",
    "ps = PorterStemmer()\n",
    "\n",
    "def preprocess(text):\n",
    "    result = []\n",
    "    for token in gensim.utils.simple_preprocess(text):\n",
    "        if token not in stop_words and len(token) > 2:\n",
    "            result.append(ps.stem(token))\n",
    "    return result"
   ]
  },
  {
   "cell_type": "code",
   "execution_count": 4,
   "id": "bd40b094",
   "metadata": {},
   "outputs": [
    {
     "name": "stdout",
     "output_type": "stream",
     "text": [
      "original document: \n",
      "['GUNSHOT', 'WOUND', 'OF', 'THE', 'HEAD']\n",
      "\n",
      "stemmed document: \n",
      "['gunshot', 'wound', 'head']\n"
     ]
    }
   ],
   "source": [
    "# test it's functioning as expected\n",
    "\n",
    "doc_sample = df[df.index == 4000].values[0][8]\n",
    "\n",
    "print('original document: ')\n",
    "words = []\n",
    "for word in doc_sample.split(' '):\n",
    "    words.append(word)\n",
    "print(words)\n",
    "\n",
    "print('\\nstemmed document: ')\n",
    "print(preprocess(doc_sample))"
   ]
  },
  {
   "cell_type": "code",
   "execution_count": 6,
   "id": "10e13df7",
   "metadata": {},
   "outputs": [
    {
     "name": "stdout",
     "output_type": "stream",
     "text": [
      "[['multipl', 'blunt', 'forc', 'injuri', 'motor', 'vehicl', 'collis'], ['multipl', 'gunshot', 'wound'], ['gunshot', 'wound', 'head'], ['multipl', 'gunshot', 'wound'], ['multipl', 'gunshot', 'wound'], ['multipl', 'injuri', 'bicyclist', 'struck', 'motor', 'vehicl'], ['multipl', 'gunshot', 'wound'], ['multipl', 'injuri', 'scooter', 'motor', 'vehicl', 'collis'], ['gunshot', 'wound', 'chest'], ['multipl', 'gunshot', 'wound'], ['multipl', 'injuri', 'jump', 'height'], ['gunshot', 'wound', 'head']]\n"
     ]
    }
   ],
   "source": [
    "# process the 'primary_cause' column\n",
    "\n",
    "data_words = df['primary_cause'].map(preprocess).tolist()\n",
    "\n",
    "#data_words = preproc.tolist()\n",
    "\n",
    "print(data_words[:12])"
   ]
  },
  {
   "cell_type": "code",
   "execution_count": 7,
   "id": "73de8b11",
   "metadata": {},
   "outputs": [],
   "source": [
    "# Build bigram and trigram models\n",
    "\n",
    "bigram = gensim.models.Phrases(data_words, min_count=1, threshold=1) # higher threshold fewer phrases.\n",
    "trigram = gensim.models.Phrases(bigram[data_words], threshold=1)  \n",
    "\n",
    "bigram_mod = gensim.models.phrases.Phraser(bigram)\n",
    "trigram_mod = gensim.models.phrases.Phraser(trigram)\n",
    "\n"
   ]
  },
  {
   "cell_type": "code",
   "execution_count": 8,
   "id": "f0196d1f",
   "metadata": {},
   "outputs": [],
   "source": [
    "# Build bigram and trigram functions\n",
    "\n",
    "def make_bigrams(texts):\n",
    "    return [bigram_mod[doc] for doc in texts]\n",
    "\n",
    "def make_trigrams(texts):\n",
    "    return [trigram_mod[bigram_mod[doc]] for doc in texts]"
   ]
  },
  {
   "cell_type": "code",
   "execution_count": 9,
   "id": "40ab13ad",
   "metadata": {},
   "outputs": [],
   "source": [
    "# Make bigrams and trigram\n",
    "data_words_bigrams = make_bigrams(data_words)\n",
    "data_words_trigrams = make_trigrams(data_words) # bigrams may be more useful?\n",
    "\n",
    "# Initialize spacy 'en' model, keeping only tagger component (for efficiency)\n",
    "nlp = spacy.load('en_core_web_sm', disable=['parser', 'ner'])"
   ]
  },
  {
   "cell_type": "code",
   "execution_count": 10,
   "id": "c393531b",
   "metadata": {},
   "outputs": [],
   "source": [
    "# Create Dictionary\n",
    "id2word = corpora.Dictionary(data_words_trigrams)\n",
    "\n",
    "# Create Corpus\n",
    "texts = data_words_trigrams\n",
    "\n",
    "# Term Document Frequency\n",
    "corpus = [id2word.doc2bow(text) for text in texts]"
   ]
  },
  {
   "cell_type": "code",
   "execution_count": 11,
   "id": "4211bb2e",
   "metadata": {},
   "outputs": [
    {
     "data": {
      "text/plain": [
       "[[('multipl', 1), ('injuri_train_strike', 1), ('pedestrian', 1)],\n",
       " [('blunt_forc_injuri', 1), ('fall', 1), ('head', 1)],\n",
       " [('multipl_gunshot_wound', 1)],\n",
       " [('gunshot_wound_head', 1)],\n",
       " [('blunt_forc_injuri', 1), ('fall', 1), ('head', 1)],\n",
       " [('gunshot_wound_chest', 1)],\n",
       " [('blunt_forc_injuri', 1),\n",
       "  ('auger', 1),\n",
       "  ('cement', 1),\n",
       "  ('entangl', 1),\n",
       "  ('lower_extrem', 1)],\n",
       " [('blunt_forc_injuri', 1), ('fall', 1), ('head', 1), ('dump_truck', 1)],\n",
       " [('choke_food_bolu', 1)],\n",
       " [('gunshot_wound_chest', 1)]]"
      ]
     },
     "execution_count": 11,
     "metadata": {},
     "output_type": "execute_result"
    }
   ],
   "source": [
    "# Human readable format of corpus (term-frequency)\n",
    "[[(id2word[id], freq) for id, freq in cp] for cp in corpus[30:40]]"
   ]
  },
  {
   "cell_type": "code",
   "execution_count": 23,
   "id": "34977055",
   "metadata": {},
   "outputs": [],
   "source": [
    "# Build the LDA model\n",
    "\n",
    "lda_model = gensim.models.ldamodel.LdaModel(corpus=corpus,\n",
    "                                           id2word=id2word,\n",
    "                                           num_topics=5,\n",
    "                                           random_state=42,\n",
    "                                           update_every=1,\n",
    "                                           chunksize=100,\n",
    "                                           passes=10,\n",
    "                                           alpha='auto',\n",
    "                                           per_word_topics=True)\n"
   ]
  },
  {
   "cell_type": "code",
   "execution_count": 14,
   "id": "7456cafc",
   "metadata": {
    "scrolled": false
   },
   "outputs": [
    {
     "name": "stdout",
     "output_type": "stream",
     "text": [
      "[(0,\n",
      "  '0.076*\"multipl\" + 0.073*\"hang\" + 0.069*\"close_head_injuri\" + 0.069*\"acut\" + '\n",
      "  '0.028*\"asphyxia_hang\" + 0.026*\"unwit_fall\" + 0.017*\"injuri_fall_height\" + '\n",
      "  '0.016*\"neck\" + 0.014*\"gunshot_wound_torso\" + 0.013*\"fractur_fall\"'),\n",
      " (1,\n",
      "  '0.277*\"toxic\" + 0.164*\"heroin\" + 0.063*\"combin_drug\" + 0.063*\"cocain\" + '\n",
      "  '0.053*\"ethanol\" + 0.049*\"fentanyl\" + '\n",
      "  '0.031*\"hypertens_cardiovascular_diseas\" + 0.022*\"asphyxi_hang\" + '\n",
      "  '0.022*\"combin\" + 0.018*\"methadon\"'),\n",
      " (2,\n",
      "  '0.225*\"multipl_gunshot_wound\" + 0.136*\"gunshot_wound_head\" + 0.096*\"intox\" '\n",
      "  '+ 0.072*\"multipl_injuri_motor\" + 0.051*\"alcohol\" + 0.040*\"complic\" + '\n",
      "  '0.037*\"opiat\" + 0.037*\"vehicl_collis\" + 0.037*\"vehicl_strike_pedestrian\" + '\n",
      "  '0.027*\"acut_ethanol\"'),\n",
      " (3,\n",
      "  '0.093*\"multipl\" + 0.091*\"fall\" + 0.088*\"complic\" + 0.060*\"injuri\" + '\n",
      "  '0.031*\"gunshot_wound_chest\" + 0.030*\"blunt_forc_injuri\" + 0.028*\"head\" + '\n",
      "  '0.019*\"carbon_monoxid\" + 0.017*\"pedestrian\" + 0.017*\"gunshot_wound_back\"')]\n"
     ]
    }
   ],
   "source": [
    "# Print keywords in each topic\n",
    "pprint(lda_model.print_topics())\n",
    "doc_lda = lda_model[corpus]"
   ]
  },
  {
   "cell_type": "code",
   "execution_count": 24,
   "id": "c3672862",
   "metadata": {},
   "outputs": [
    {
     "name": "stdout",
     "output_type": "stream",
     "text": [
      "\n",
      "Perplexity:  -4.795527700044841\n",
      "\n",
      "Coherence Score:  0.6295936623765793\n"
     ]
    }
   ],
   "source": [
    "# Compute perplexity, a measure of how good the model is. The lower the better.\n",
    "\n",
    "print('\\nPerplexity: ', lda_model.log_perplexity(corpus))  \n",
    "\n",
    "# Compute coherence score\n",
    "\n",
    "coherence_model_lda = CoherenceModel(model=lda_model, texts=data_words_trigrams, dictionary=id2word, coherence='c_v')\n",
    "coherence_lda = coherence_model_lda.get_coherence()\n",
    "print('\\nCoherence Score: ', coherence_lda)"
   ]
  },
  {
   "cell_type": "code",
   "execution_count": 25,
   "id": "a40e0fd3",
   "metadata": {},
   "outputs": [
    {
     "data": {
      "text/html": [
       "\n",
       "<link rel=\"stylesheet\" type=\"text/css\" href=\"https://cdn.jsdelivr.net/gh/bmabey/pyLDAvis@3.4.0/pyLDAvis/js/ldavis.v1.0.0.css\">\n",
       "\n",
       "\n",
       "<div id=\"ldavis_el2036762674006243832088182\" style=\"background-color:white;\"></div>\n",
       "<script type=\"text/javascript\">\n",
       "\n",
       "var ldavis_el2036762674006243832088182_data = {\"mdsDat\": {\"x\": [0.4061830781605234, -0.20939266345844448, -0.0011172722304390182, -0.19861600896993198, 0.002942866498292213], \"y\": [0.01833734523155215, 0.05598593655616454, -0.3485367330467728, -0.015272664331467952, 0.2894861155905241], \"topics\": [1, 2, 3, 4, 5], \"cluster\": [1, 1, 1, 1, 1], \"Freq\": [60.97712099603879, 13.3441766702283, 10.554382863464031, 8.341909192367943, 6.782410277900936]}, \"tinfo\": {\"Term\": [\"toxic\", \"multipl_gunshot_wound\", \"heroin\", \"multipl\", \"gunshot_wound_head\", \"intox\", \"multipl_injuri_motor\", \"complic\", \"fall\", \"injuri\", \"hang\", \"combin_drug\", \"cocain\", \"close_head_injuri\", \"acut\", \"ethanol\", \"fentanyl\", \"alcohol\", \"vehicl_collis\", \"opiat\", \"gunshot_wound_chest\", \"vehicl_strike_pedestrian\", \"blunt_forc_injuri\", \"hypertens_cardiovascular_diseas\", \"head\", \"asphyxia_hang\", \"blunt_forc_injuri_motor\", \"drown\", \"unwit_fall\", \"asphyxi_hang\", \"toxic\", \"heroin\", \"combin_drug\", \"cocain\", \"ethanol\", \"fentanyl\", \"hypertens_cardiovascular_diseas\", \"asphyxi_hang\", \"combin\", \"methadon\", \"alprazolam\", \"acut_ethanol\", \"subdur_hematoma_fall\", \"hydrocodon\", \"morphin\", \"diphenhydramin\", \"anpp\", \"furanyl\", \"despropionyl\", \"probabl_heroin\", \"tramadol\", \"gabapentin\", \"lorazepam\", \"citalopram\", \"clonazepam\", \"diazepam\", \"intraor_gunshot_wound\", \"drug\", \"bronchial_asthma\", \"trazodon\", \"injuri\", \"gunshot_wound_chest\", \"blunt_forc_injuri\", \"head\", \"carbon_monoxid\", \"pedestrian\", \"gunshot_wound_back\", \"probabl\", \"neck\", \"wit_fall\", \"injuri_train_strike\", \"complic_hip_fractur\", \"fall_home\", \"strike_fix_object\", \"fractur\", \"cervic_injuri\", \"accid\", \"blunt_forc\", \"fall_height\", \"due\", \"complic_follow\", \"blunt_trauma\", \"fire\", \"gunshot_wound\", \"complic_remot\", \"blunt_head_trauma\", \"car\", \"asphyxia\", \"assault\", \"remot\", \"fall\", \"complic\", \"multipl\", \"multipl_gunshot_wound\", \"gunshot_wound_head\", \"intox\", \"alcohol\", \"opiat\", \"vehicl_strike_pedestrian\", \"drown\", \"injuri_automobil_strike\", \"fall_stair\", \"fix_object\", \"benzodiazepin\", \"asphyxia_choke_food_bolu\", \"blunt_forc_trauma\", \"hypothermia_cold_exposur\", \"injuri_fall_stair\", \"anox_encephalopathi\", \"opiat_intox\", \"acetaminophen\", \"cardiovascular_diseas\", \"hypertens_atherosclerot_cardiovascular_diseas\", \"opiat_benzodiazepin\", \"craniocerebr_injuri_fall_stair\", \"hous_fire\", \"intracerebr_hemorrhag\", \"coronari_atherosclerosi\", \"complic_combin_drug\", \"close_head_injuri_motor\", \"gunshot_wound_flank\", \"ethylen_glycol\", \"choke_food_bolu\", \"dilat_cardiomyopathi\", \"complic\", \"multipl_injuri_motor\", \"vehicl_collis\", \"blunt_forc_injuri_motor\", \"injuri_fall_height\", \"gunshot_wound_abdomen\", \"collis\", \"multipl_injuri_motorcycl\", \"injuri_sport_util\", \"wound\", \"vehicl_accid\", \"vehicl_strike_fix_object\", \"stab_wound\", \"multipl_stab_incis\", \"sharp_forc_injuri\", \"gunshot_wound_neck\", \"crash\", \"subdur_hemorrhag\", \"chest\", \"torso\", \"motor_vehicl\", \"automobil_collis\", \"vehicl_crash\", \"vehicl\", \"object\", \"bicyclist\", \"vehicl_strike_bicyclist\", \"injuri_assault\", \"motor_vehicl_collis\", \"craniocerebr_injuri\", \"anaphylaxi\", \"blunt_traumat\", \"multipl\", \"complic\", \"hang\", \"close_head_injuri\", \"acut\", \"asphyxia_hang\", \"unwit_fall\", \"gunshot_wound_torso\", \"fractur_fall\", \"stab_wound_chest\", \"thermal_injuri\", \"height\", \"alcohol_intox\", \"subdur_hemorrhag_fall\", \"fractur_unwit\", \"subdur_hemorrhag_unwit_fall\", \"unwit_fall_home\", \"complic_left_femur\", \"diseas\", \"complic_subdur_hematoma\", \"gunshot_wound_mouth\", \"tank\", \"sepsi\", \"hemorrhag\", \"fall_stand\", \"coronari_arteri\", \"complic_left_hip\", \"multipl_injuri_jump\", \"complic_right_hip\", \"bolu\", \"due_fall\", \"thrombosi\", \"fall\"], \"Freq\": [20282.0, 3245.0, 11984.0, 3098.0, 1959.0, 1379.0, 1122.0, 2322.0, 1699.0, 1159.0, 861.0, 4644.0, 4618.0, 824.0, 823.0, 3866.0, 3596.0, 734.0, 582.0, 536.0, 598.0, 530.0, 580.0, 2251.0, 531.0, 332.0, 357.0, 369.0, 304.0, 1632.0, 20281.95498087659, 11983.920856065035, 4644.049877499688, 4617.843563047654, 3865.3909406749185, 3595.4628414189856, 2250.368951881, 1632.0472398877557, 1626.9974432719987, 1328.102384819086, 1179.7105569656974, 1119.5980846382254, 622.9965412971881, 616.530148371524, 510.3485800346251, 499.16305714884874, 455.84118247814365, 452.75014432755137, 433.62496698755746, 375.52047228141, 307.78610109288866, 278.6478312243474, 270.56390077039396, 254.22472919092561, 252.28050421010926, 246.65278384541003, 221.87281731264144, 213.15146292235474, 205.76937509211666, 203.0437746596055, 1158.9458538917581, 597.5787967805528, 580.0212127609431, 530.4974116260165, 374.495267391702, 329.72287800215094, 319.00917943100563, 287.0773460373229, 218.77786522084912, 165.89350377952914, 146.99298128956218, 133.86968645575345, 120.24672139938241, 122.22259691252188, 119.94945917641267, 119.16021074519358, 111.63767285361786, 110.34266977605165, 106.28404517326787, 106.73601171942413, 122.48716470105097, 103.23496401126751, 97.48158819331232, 96.02485455379092, 94.01517087261877, 86.15650967790482, 84.00912666631076, 82.75815717660231, 81.57124605524234, 80.17027384254472, 1365.3382391472865, 1464.8722365332624, 1326.1033630763284, 3244.887107593952, 1958.2740785767808, 1378.3064240074643, 733.6178677168803, 535.1547097598802, 529.4509791982327, 368.06268474232877, 298.8026736852419, 156.26157733460354, 154.91280841779218, 148.84006120737843, 139.03112832262534, 125.25540539617451, 109.74709319866832, 108.4788933306792, 100.41203260180029, 97.25474630313052, 90.2935934913397, 87.97651207089994, 77.90554059274004, 71.15162783359193, 69.44322464844292, 63.94948323011189, 50.91651730753411, 49.32335422982327, 40.79810775718829, 41.846655280342006, 33.91844035777765, 33.9235394775758, 31.49154902298331, 44.64897780880809, 447.15448456491026, 1121.5047107040332, 581.1275342468742, 356.1624693370302, 267.42802658004393, 211.64464844207632, 193.92646527592865, 191.82148468458078, 182.08331637813768, 167.4463174536829, 160.1975254626681, 153.53907416732662, 139.81796356687207, 135.7086525336547, 134.5290084836815, 132.19070084664864, 114.92627509533612, 113.88354141582333, 105.10433446392327, 92.35018489563043, 82.61230629713849, 77.4200482517059, 77.11441103595689, 66.81414855907708, 66.37146546430988, 65.86733624764659, 64.02580298348502, 60.26958052478891, 57.76843365566813, 56.273535955051464, 56.0060467346758, 131.73708361308013, 1771.7524501102625, 410.11958462348684, 860.6282460265891, 823.4012416141594, 822.7440177200028, 331.4019877292462, 303.86371693480373, 161.42452515322088, 154.8076537066339, 105.53402161883996, 105.55810068053741, 96.12234537752491, 95.10560718730811, 78.55784380897639, 77.78761776727656, 54.55220083467635, 53.48189831961381, 51.54120117012268, 50.89156799311208, 49.91722840317037, 47.269922108180694, 44.15969984117322, 43.53200680005766, 41.721218050011544, 40.91264331017759, 40.851408485873485, 40.192136845699984, 39.835350344890486, 38.08984252213172, 35.64653959980973, 35.75965572208486, 35.37632830536839, 333.02827038409873], \"Total\": [20282.0, 3245.0, 11984.0, 3098.0, 1959.0, 1379.0, 1122.0, 2322.0, 1699.0, 1159.0, 861.0, 4644.0, 4618.0, 824.0, 823.0, 3866.0, 3596.0, 734.0, 582.0, 536.0, 598.0, 530.0, 580.0, 2251.0, 531.0, 332.0, 357.0, 369.0, 304.0, 1632.0, 20282.600409752486, 11984.566355196992, 4644.693341268139, 4618.489197004381, 3866.0349716342153, 3596.106056473852, 2251.01330371523, 1632.6902694373482, 1627.642314477004, 1328.7474193091343, 1180.3540703749309, 1120.2449378232225, 623.6405845100242, 617.1761507522777, 510.992588856684, 499.81019675696655, 456.48411246836434, 453.3930762334445, 434.2678621395497, 376.16395341825546, 308.432596055947, 279.29173874346753, 271.2086334499168, 254.86812088833835, 252.92421415447188, 247.29688249926278, 222.5203298961354, 213.800226718234, 206.41233209791898, 203.68741319029823, 1159.923715137114, 598.5515288607672, 580.9960787132251, 531.4733515259145, 375.47177902077533, 330.69783935100594, 319.9819114445087, 288.0583833539852, 219.75889428647045, 166.87146411599335, 147.966094731446, 134.8446063324312, 121.22482425558123, 123.21796263439191, 120.93322007766756, 120.13851941820454, 112.62143557996268, 111.33310188018308, 107.25721461079344, 107.72181345254563, 123.6744425739555, 104.2646779472756, 98.456488028809, 96.99862479705013, 94.99146700633223, 87.14009414772507, 84.99370207559365, 83.73314937705358, 82.54533106265464, 81.14801403179261, 1699.205322202802, 2322.7721023273175, 3098.6481974466046, 3245.849748535547, 1959.2367140511603, 1379.277462335231, 734.6010556605386, 536.1307410916193, 530.4265305949942, 369.0289723115938, 299.78003754504374, 157.2321443895897, 155.88676598243666, 149.8298082298765, 139.99371510948126, 126.2358968749073, 110.71042383870805, 109.44642921493308, 101.38727188128817, 98.21933829493004, 91.27055309021956, 88.94151804201853, 78.8685483501269, 72.11812266688355, 70.4063145258031, 64.92038281609229, 51.88298882144779, 50.285912725719406, 41.7666809449616, 42.876918144126975, 34.880999153875194, 34.90387156505317, 32.45565444429053, 47.1207594577243, 2322.7721023273175, 1122.4540777271468, 582.0757480234165, 357.11093979944246, 268.3762278411617, 212.59270834463055, 194.87869636263025, 192.77120670592714, 183.03200497336005, 168.3947655456024, 161.14586105904837, 154.48713684456018, 140.76770359473687, 136.6567140951136, 135.47750098937655, 133.13894674823337, 115.87939109212353, 114.84509324583343, 106.0599683179937, 93.30186172131963, 83.56351415092195, 78.36965793782568, 78.06247230867902, 67.76372720129604, 67.32150955539299, 66.8209909818814, 64.97396915353995, 61.219031772169224, 58.720088571779044, 57.22769573457405, 56.95984366316051, 146.53499508993804, 3098.6481974466046, 2322.7721023273175, 861.6246369733299, 824.3997258062861, 823.7569887148065, 332.39833874411437, 304.8631299429691, 162.4208183882951, 155.80441520841023, 106.53036330499897, 106.56389699630095, 97.11972568173148, 96.10737396282116, 79.55414780952265, 78.86591782748837, 55.548445579527474, 54.48025012987964, 52.53779124139002, 51.888574073880534, 50.91944603384277, 48.26741618275437, 45.15711916210822, 44.53914660906697, 42.72052499089674, 41.911231566565505, 41.850601500020446, 41.18966346606517, 40.83173599881794, 39.08895650184001, 36.64280687089778, 36.76205867162343, 36.37784941566852, 1699.205322202802], \"Category\": [\"Default\", \"Default\", \"Default\", \"Default\", \"Default\", \"Default\", \"Default\", \"Default\", \"Default\", \"Default\", \"Default\", \"Default\", \"Default\", \"Default\", \"Default\", \"Default\", \"Default\", \"Default\", \"Default\", \"Default\", \"Default\", \"Default\", \"Default\", \"Default\", \"Default\", \"Default\", \"Default\", \"Default\", \"Default\", \"Default\", \"Topic1\", \"Topic1\", \"Topic1\", \"Topic1\", \"Topic1\", \"Topic1\", \"Topic1\", \"Topic1\", \"Topic1\", \"Topic1\", \"Topic1\", \"Topic1\", \"Topic1\", \"Topic1\", \"Topic1\", \"Topic1\", \"Topic1\", \"Topic1\", \"Topic1\", \"Topic1\", \"Topic1\", \"Topic1\", \"Topic1\", \"Topic1\", \"Topic1\", \"Topic1\", \"Topic1\", \"Topic1\", \"Topic1\", \"Topic1\", \"Topic2\", \"Topic2\", \"Topic2\", \"Topic2\", \"Topic2\", \"Topic2\", \"Topic2\", \"Topic2\", \"Topic2\", \"Topic2\", \"Topic2\", \"Topic2\", \"Topic2\", \"Topic2\", \"Topic2\", \"Topic2\", \"Topic2\", \"Topic2\", \"Topic2\", \"Topic2\", \"Topic2\", \"Topic2\", \"Topic2\", \"Topic2\", \"Topic2\", \"Topic2\", \"Topic2\", \"Topic2\", \"Topic2\", \"Topic2\", \"Topic2\", \"Topic2\", \"Topic2\", \"Topic3\", \"Topic3\", \"Topic3\", \"Topic3\", \"Topic3\", \"Topic3\", \"Topic3\", \"Topic3\", \"Topic3\", \"Topic3\", \"Topic3\", \"Topic3\", \"Topic3\", \"Topic3\", \"Topic3\", \"Topic3\", \"Topic3\", \"Topic3\", \"Topic3\", \"Topic3\", \"Topic3\", \"Topic3\", \"Topic3\", \"Topic3\", \"Topic3\", \"Topic3\", \"Topic3\", \"Topic3\", \"Topic3\", \"Topic3\", \"Topic3\", \"Topic3\", \"Topic4\", \"Topic4\", \"Topic4\", \"Topic4\", \"Topic4\", \"Topic4\", \"Topic4\", \"Topic4\", \"Topic4\", \"Topic4\", \"Topic4\", \"Topic4\", \"Topic4\", \"Topic4\", \"Topic4\", \"Topic4\", \"Topic4\", \"Topic4\", \"Topic4\", \"Topic4\", \"Topic4\", \"Topic4\", \"Topic4\", \"Topic4\", \"Topic4\", \"Topic4\", \"Topic4\", \"Topic4\", \"Topic4\", \"Topic4\", \"Topic4\", \"Topic4\", \"Topic4\", \"Topic5\", \"Topic5\", \"Topic5\", \"Topic5\", \"Topic5\", \"Topic5\", \"Topic5\", \"Topic5\", \"Topic5\", \"Topic5\", \"Topic5\", \"Topic5\", \"Topic5\", \"Topic5\", \"Topic5\", \"Topic5\", \"Topic5\", \"Topic5\", \"Topic5\", \"Topic5\", \"Topic5\", \"Topic5\", \"Topic5\", \"Topic5\", \"Topic5\", \"Topic5\", \"Topic5\", \"Topic5\", \"Topic5\", \"Topic5\", \"Topic5\"], \"logprob\": [30.0, 29.0, 28.0, 27.0, 26.0, 25.0, 24.0, 23.0, 22.0, 21.0, 20.0, 19.0, 18.0, 17.0, 16.0, 15.0, 14.0, 13.0, 12.0, 11.0, 10.0, 9.0, 8.0, 7.0, 6.0, 5.0, 4.0, 3.0, 2.0, 1.0, -1.2855, -1.8117, -2.7597, -2.7653, -2.9432, -3.0156, -3.4841, -3.8054, -3.8085, -4.0115, -4.13, -4.1823, -4.7685, -4.7789, -4.9679, -4.9901, -5.0809, -5.0877, -5.1308, -5.2747, -5.4736, -5.573, -5.6025, -5.6648, -5.6725, -5.695, -5.8009, -5.841, -5.8762, -5.8896, -2.6283, -3.2907, -3.3205, -3.4098, -3.758, -3.8853, -3.9184, -4.0238, -4.2955, -4.5722, -4.6932, -4.7867, -4.894, -4.8777, -4.8965, -4.9031, -4.9683, -4.98, -5.0175, -5.0132, -4.8756, -5.0466, -5.1039, -5.119, -5.1401, -5.2274, -5.2527, -5.2677, -5.2821, -5.2994, -2.4644, -2.3941, -2.4936, -1.3642, -1.8692, -2.2204, -2.8511, -3.1665, -3.1772, -3.5408, -3.7493, -4.3975, -4.4062, -4.4462, -4.5143, -4.6187, -4.7509, -4.7625, -4.8398, -4.8717, -4.946, -4.972, -5.0935, -5.1842, -5.2085, -5.2909, -5.5189, -5.5506, -5.7404, -5.715, -5.9251, -5.9249, -5.9993, -5.6502, -3.3461, -2.1914, -2.8488, -3.3384, -3.6249, -3.8589, -3.9463, -3.9572, -4.0093, -4.0931, -4.1374, -4.1798, -4.2734, -4.3033, -4.312, -4.3295, -4.4695, -4.4786, -4.5588, -4.6882, -4.7996, -4.8645, -4.8685, -5.0119, -5.0185, -5.0261, -5.0545, -5.115, -5.1573, -5.1836, -5.1883, -4.333, -1.7341, -3.1973, -2.2492, -2.2934, -2.2942, -3.2035, -3.2903, -3.9228, -3.9646, -4.3478, -4.3476, -4.4412, -4.4518, -4.643, -4.6528, -5.0077, -5.0275, -5.0644, -5.0771, -5.0965, -5.151, -5.219, -5.2333, -5.2758, -5.2954, -5.2969, -5.3132, -5.3221, -5.3669, -5.4332, -5.43, -5.4408, -3.1986], \"loglift\": [30.0, 29.0, 28.0, 27.0, 26.0, 25.0, 24.0, 23.0, 22.0, 21.0, 20.0, 19.0, 18.0, 17.0, 16.0, 15.0, 14.0, 13.0, 12.0, 11.0, 10.0, 9.0, 8.0, 7.0, 6.0, 5.0, 4.0, 3.0, 2.0, 1.0, 0.4946, 0.4946, 0.4945, 0.4945, 0.4945, 0.4945, 0.4944, 0.4943, 0.4943, 0.4942, 0.4941, 0.4941, 0.4936, 0.4936, 0.4934, 0.4934, 0.4933, 0.4933, 0.4932, 0.493, 0.4926, 0.4924, 0.4923, 0.4921, 0.4921, 0.4921, 0.4918, 0.4916, 0.4916, 0.4915, 2.0132, 2.0125, 2.0124, 2.0123, 2.0115, 2.0111, 2.011, 2.0107, 2.0096, 2.0082, 2.0075, 2.0068, 2.006, 2.006, 2.0059, 2.0059, 2.0053, 2.0052, 2.005, 2.0049, 2.0044, 2.0042, 2.0041, 2.004, 2.0038, 2.0027, 2.0024, 2.0024, 2.0022, 2.002, 1.7953, 1.5531, 1.1654, 2.2483, 2.2481, 2.2479, 2.2473, 2.2468, 2.2468, 2.246, 2.2454, 2.2424, 2.2424, 2.242, 2.2417, 2.2408, 2.2399, 2.2397, 2.239, 2.2388, 2.2379, 2.2377, 2.2363, 2.2351, 2.2349, 2.2336, 2.2298, 2.2293, 2.2252, 2.2243, 2.2206, 2.2201, 2.2185, 2.1947, 0.601, 2.483, 2.4822, 2.4812, 2.4803, 2.4794, 2.479, 2.4789, 2.4787, 2.4782, 2.478, 2.4777, 2.4771, 2.4769, 2.4769, 2.4767, 2.4756, 2.4755, 2.4748, 2.4736, 2.4724, 2.4717, 2.4717, 2.4698, 2.4697, 2.4695, 2.4692, 2.4682, 2.4675, 2.4671, 2.467, 2.3774, 1.9249, 0.7498, 2.6897, 2.6896, 2.6896, 2.6878, 2.6876, 2.6847, 2.6844, 2.6814, 2.6814, 2.6805, 2.6804, 2.6782, 2.6771, 2.6727, 2.6723, 2.6717, 2.6714, 2.671, 2.67, 2.6685, 2.668, 2.6672, 2.6667, 2.6667, 2.6663, 2.6661, 2.6649, 2.6633, 2.6632, 2.6629, 1.0611]}, \"token.table\": {\"Topic\": [2, 1, 3, 1, 5, 1, 1, 3, 5, 1, 4, 3, 1, 1, 2, 3, 5, 2, 4, 1, 3, 4, 2, 2, 4, 3, 2, 2, 2, 3, 4, 5, 1, 2, 2, 3, 2, 4, 3, 1, 1, 5, 3, 1, 4, 1, 1, 2, 3, 4, 3, 2, 2, 5, 5, 2, 5, 5, 5, 3, 4, 3, 4, 1, 1, 1, 3, 1, 5, 3, 1, 2, 5, 1, 1, 3, 2, 5, 2, 2, 3, 5, 1, 2, 3, 2, 5, 5, 1, 1, 2, 4, 2, 2, 3, 3, 5, 4, 5, 5, 2, 5, 5, 1, 3, 1, 3, 1, 3, 2, 4, 3, 4, 3, 4, 2, 3, 3, 1, 1, 1, 1, 4, 4, 2, 4, 3, 5, 4, 4, 4, 2, 4, 1, 3, 3, 3, 2, 2, 1, 2, 5, 4, 4, 5, 2, 1, 4, 5, 5, 5, 5, 5, 4, 1, 1, 1, 5, 5, 4, 4, 4, 4, 4, 4, 3, 2, 4], \"Freq\": [0.9944820843673099, 0.010956436289057162, 0.9860792660151446, 0.001213950247099161, 0.9990810533626093, 0.9997813533318004, 0.0013612830968515557, 0.9991817930890419, 0.9884777419550602, 0.9997000303690075, 0.9831487658421839, 0.986317100208471, 0.998939475755801, 0.9995772196048023, 0.9912442159108076, 0.9929017162755904, 0.9957931837162675, 0.9933935565387615, 0.9825231094039955, 0.006674239337380377, 0.9944616612696763, 0.9877135766797591, 0.9880260061233381, 0.9982855672357873, 0.9968890905440578, 0.9902096241599804, 0.9869165375723337, 0.9878705044491182, 0.08871600938752587, 0.006824308414425067, 0.9008087107041088, 0.9824574882278381, 0.9980023863219404, 0.9883085210865407, 0.9960801873722341, 0.9894141896524216, 0.9905232774324334, 0.9900059529075509, 0.9551494348453478, 0.9965938427869577, 0.9963458850408549, 0.998302127278224, 0.9795480136613529, 0.9998940785647613, 0.9954910599309676, 0.9996053712346435, 0.999850723994633, 0.6307118974487997, 0.19244246973352455, 0.17651322727236032, 0.9816437186863879, 0.9864608844066209, 0.9937364470452085, 0.9897637257166164, 0.9711174268989768, 0.9895625676960422, 0.9721415816820602, 0.9819431257513745, 0.9796752861480371, 0.9744279728453311, 0.9785471751253416, 0.9800257329860989, 0.9924111519413801, 0.9993831868233812, 0.998799489519389, 0.042444137637347626, 0.9549930968403216, 0.9983789911405899, 0.9828753422166631, 0.9972116760774952, 0.9962571287668062, 0.9932992823884866, 0.9792705115230215, 0.9997322911867562, 0.028650116882770985, 0.9741039740142134, 0.8033166929058652, 0.1959739624451671, 0.9882785077408963, 0.989896258764633, 0.9921635337712071, 0.9782580579833775, 0.9996924294065631, 0.9852067846622476, 0.9943114736081152, 0.9922831784594158, 0.9948370191734668, 0.9890203797617307, 0.9991330343270568, 0.9989554336809958, 0.9897047530401638, 0.9972120005937846, 0.9969313532753273, 0.999078560768499, 0.9747427202417934, 0.999368777625342, 0.9737417851837031, 0.9914454276825013, 0.9912522396919687, 0.9992750474550913, 0.9972277979287497, 0.9884706667582557, 0.9831339855713319, 0.9999527429545462, 0.9858228991239999, 0.9997145859378023, 0.9889873927148869, 0.9995498455235438, 0.9935830447208561, 0.9992036414765391, 0.9800873725558755, 0.9973979670179789, 0.9948720203267175, 0.9867841351672374, 0.9943616146612706, 0.9934708371319834, 0.999073817726951, 0.9829811496695662, 0.9976616523246291, 0.9992307271075301, 0.9994375008385544, 0.9980575278813635, 0.9932564569998313, 0.9877369297408533, 0.427928540288204, 0.5718622725420042, 0.9997382045992947, 0.979630158295449, 0.9995954598623168, 0.9959993677525523, 0.9951944249540748, 0.996546695919023, 0.9803701734539146, 0.0018652166782376508, 0.9978909228571431, 0.9844959543380212, 0.9875855578331362, 0.9978897976703583, 0.9963258026318762, 0.999564143728378, 0.9858528388465202, 0.9878949946257567, 0.9964754222222183, 0.9945463087403411, 0.9950214822465167, 0.9901153808393521, 0.9989728306240245, 0.9926414510019644, 0.993034331649816, 0.9901267159898781, 0.9743757090005163, 0.9947083673533399, 0.9621239452633762, 0.9860467765883588, 0.9999703977921787, 0.9985974372959319, 0.9966251562650266, 0.9971687952454907, 0.9728296010691808, 0.9887295573481762, 0.9928892926475568, 0.9981518762342023, 0.9863894611936228, 0.9850098560049738, 0.9968467481855766, 0.997310597202983, 0.9947776324693383, 0.991717286810648], \"Term\": [\"accid\", \"acetaminophen\", \"acetaminophen\", \"acut\", \"acut\", \"acut_ethanol\", \"alcohol\", \"alcohol\", \"alcohol_intox\", \"alprazolam\", \"anaphylaxi\", \"anox_encephalopathi\", \"anpp\", \"asphyxi_hang\", \"asphyxia\", \"asphyxia_choke_food_bolu\", \"asphyxia_hang\", \"assault\", \"automobil_collis\", \"benzodiazepin\", \"benzodiazepin\", \"bicyclist\", \"blunt_forc\", \"blunt_forc_injuri\", \"blunt_forc_injuri_motor\", \"blunt_forc_trauma\", \"blunt_head_trauma\", \"blunt_trauma\", \"blunt_traumat\", \"blunt_traumat\", \"blunt_traumat\", \"bolu\", \"bronchial_asthma\", \"car\", \"carbon_monoxid\", \"cardiovascular_diseas\", \"cervic_injuri\", \"chest\", \"choke_food_bolu\", \"citalopram\", \"clonazepam\", \"close_head_injuri\", \"close_head_injuri_motor\", \"cocain\", \"collis\", \"combin\", \"combin_drug\", \"complic\", \"complic\", \"complic\", \"complic_combin_drug\", \"complic_follow\", \"complic_hip_fractur\", \"complic_left_femur\", \"complic_left_hip\", \"complic_remot\", \"complic_right_hip\", \"complic_subdur_hematoma\", \"coronari_arteri\", \"coronari_atherosclerosi\", \"craniocerebr_injuri\", \"craniocerebr_injuri_fall_stair\", \"crash\", \"despropionyl\", \"diazepam\", \"dilat_cardiomyopathi\", \"dilat_cardiomyopathi\", \"diphenhydramin\", \"diseas\", \"drown\", \"drug\", \"due\", \"due_fall\", \"ethanol\", \"ethylen_glycol\", \"ethylen_glycol\", \"fall\", \"fall\", \"fall_height\", \"fall_home\", \"fall_stair\", \"fall_stand\", \"fentanyl\", \"fire\", \"fix_object\", \"fractur\", \"fractur_fall\", \"fractur_unwit\", \"furanyl\", \"gabapentin\", \"gunshot_wound\", \"gunshot_wound_abdomen\", \"gunshot_wound_back\", \"gunshot_wound_chest\", \"gunshot_wound_flank\", \"gunshot_wound_head\", \"gunshot_wound_mouth\", \"gunshot_wound_neck\", \"gunshot_wound_torso\", \"hang\", \"head\", \"height\", \"hemorrhag\", \"heroin\", \"hous_fire\", \"hydrocodon\", \"hypertens_atherosclerot_cardiovascular_diseas\", \"hypertens_cardiovascular_diseas\", \"hypothermia_cold_exposur\", \"injuri\", \"injuri_assault\", \"injuri_automobil_strike\", \"injuri_fall_height\", \"injuri_fall_stair\", \"injuri_sport_util\", \"injuri_train_strike\", \"intox\", \"intracerebr_hemorrhag\", \"intraor_gunshot_wound\", \"lorazepam\", \"methadon\", \"morphin\", \"motor_vehicl\", \"motor_vehicl_collis\", \"multipl\", \"multipl\", \"multipl_gunshot_wound\", \"multipl_injuri_jump\", \"multipl_injuri_motor\", \"multipl_injuri_motorcycl\", \"multipl_stab_incis\", \"neck\", \"object\", \"opiat\", \"opiat\", \"opiat_benzodiazepin\", \"opiat_intox\", \"pedestrian\", \"probabl\", \"probabl_heroin\", \"remot\", \"sepsi\", \"sharp_forc_injuri\", \"stab_wound\", \"stab_wound_chest\", \"strike_fix_object\", \"subdur_hematoma_fall\", \"subdur_hemorrhag\", \"subdur_hemorrhag_fall\", \"subdur_hemorrhag_unwit_fall\", \"tank\", \"thermal_injuri\", \"thrombosi\", \"torso\", \"toxic\", \"tramadol\", \"trazodon\", \"unwit_fall\", \"unwit_fall_home\", \"vehicl\", \"vehicl_accid\", \"vehicl_collis\", \"vehicl_crash\", \"vehicl_strike_bicyclist\", \"vehicl_strike_fix_object\", \"vehicl_strike_pedestrian\", \"wit_fall\", \"wound\"]}, \"R\": 30, \"lambda.step\": 0.01, \"plot.opts\": {\"xlab\": \"PC1\", \"ylab\": \"PC2\"}, \"topic.order\": [5, 4, 3, 2, 1]};\n",
       "\n",
       "function LDAvis_load_lib(url, callback){\n",
       "  var s = document.createElement('script');\n",
       "  s.src = url;\n",
       "  s.async = true;\n",
       "  s.onreadystatechange = s.onload = callback;\n",
       "  s.onerror = function(){console.warn(\"failed to load library \" + url);};\n",
       "  document.getElementsByTagName(\"head\")[0].appendChild(s);\n",
       "}\n",
       "\n",
       "if(typeof(LDAvis) !== \"undefined\"){\n",
       "   // already loaded: just create the visualization\n",
       "   !function(LDAvis){\n",
       "       new LDAvis(\"#\" + \"ldavis_el2036762674006243832088182\", ldavis_el2036762674006243832088182_data);\n",
       "   }(LDAvis);\n",
       "}else if(typeof define === \"function\" && define.amd){\n",
       "   // require.js is available: use it to load d3/LDAvis\n",
       "   require.config({paths: {d3: \"https://d3js.org/d3.v5\"}});\n",
       "   require([\"d3\"], function(d3){\n",
       "      window.d3 = d3;\n",
       "      LDAvis_load_lib(\"https://cdn.jsdelivr.net/gh/bmabey/pyLDAvis@3.4.0/pyLDAvis/js/ldavis.v3.0.0.js\", function(){\n",
       "        new LDAvis(\"#\" + \"ldavis_el2036762674006243832088182\", ldavis_el2036762674006243832088182_data);\n",
       "      });\n",
       "    });\n",
       "}else{\n",
       "    // require.js not available: dynamically load d3 & LDAvis\n",
       "    LDAvis_load_lib(\"https://d3js.org/d3.v5.js\", function(){\n",
       "         LDAvis_load_lib(\"https://cdn.jsdelivr.net/gh/bmabey/pyLDAvis@3.4.0/pyLDAvis/js/ldavis.v3.0.0.js\", function(){\n",
       "                 new LDAvis(\"#\" + \"ldavis_el2036762674006243832088182\", ldavis_el2036762674006243832088182_data);\n",
       "            })\n",
       "         });\n",
       "}\n",
       "</script>"
      ],
      "text/plain": [
       "PreparedData(topic_coordinates=              x         y  topics  cluster       Freq\n",
       "topic                                                \n",
       "4      0.406183  0.018337       1        1  60.977121\n",
       "3     -0.209393  0.055986       2        1  13.344177\n",
       "2     -0.001117 -0.348537       3        1  10.554383\n",
       "1     -0.198616 -0.015273       4        1   8.341909\n",
       "0      0.002943  0.289486       5        1   6.782410, topic_info=                      Term          Freq         Total Category  logprob  \\\n",
       "63                   toxic  20282.000000  20282.000000  Default  30.0000   \n",
       "3    multipl_gunshot_wound   3245.000000   3245.000000  Default  29.0000   \n",
       "145                 heroin  11984.000000  11984.000000  Default  28.0000   \n",
       "1                  multipl   3098.000000   3098.000000  Default  27.0000   \n",
       "4       gunshot_wound_head   1959.000000   1959.000000  Default  26.0000   \n",
       "..                     ...           ...           ...      ...      ...   \n",
       "269      complic_right_hip     38.089843     39.088957   Topic5  -5.3669   \n",
       "185                   bolu     35.646540     36.642807   Topic5  -5.4332   \n",
       "338               due_fall     35.759656     36.762059   Topic5  -5.4300   \n",
       "495              thrombosi     35.376328     36.377849   Topic5  -5.4408   \n",
       "35                    fall    333.028270   1699.205322   Topic5  -3.1986   \n",
       "\n",
       "     loglift  \n",
       "63   30.0000  \n",
       "3    29.0000  \n",
       "145  28.0000  \n",
       "1    27.0000  \n",
       "4    26.0000  \n",
       "..       ...  \n",
       "269   2.6649  \n",
       "185   2.6633  \n",
       "338   2.6632  \n",
       "495   2.6629  \n",
       "35    1.0611  \n",
       "\n",
       "[189 rows x 6 columns], token_table=      Topic      Freq                      Term\n",
       "term                                           \n",
       "336       2  0.994482                     accid\n",
       "384       1  0.010956             acetaminophen\n",
       "384       3  0.986079             acetaminophen\n",
       "541       1  0.001214                      acut\n",
       "541       5  0.999081                      acut\n",
       "...     ...       ...                       ...\n",
       "391       4  0.985010   vehicl_strike_bicyclist\n",
       "124       4  0.996847  vehicl_strike_fix_object\n",
       "19        3  0.997311  vehicl_strike_pedestrian\n",
       "415       2  0.994778                  wit_fall\n",
       "535       4  0.991717                     wound\n",
       "\n",
       "[168 rows x 3 columns], R=30, lambda_step=0.01, plot_opts={'xlab': 'PC1', 'ylab': 'PC2'}, topic_order=[5, 4, 3, 2, 1])"
      ]
     },
     "execution_count": 25,
     "metadata": {},
     "output_type": "execute_result"
    }
   ],
   "source": [
    "# Visualize the topics\n",
    "\n",
    "pyLDAvis.enable_notebook()\n",
    "vis = pyLDAvis.gensim.prepare(lda_model, corpus, id2word)\n",
    "vis"
   ]
  },
  {
   "cell_type": "code",
   "execution_count": null,
   "id": "67ad7e3b",
   "metadata": {},
   "outputs": [],
   "source": []
  },
  {
   "cell_type": "code",
   "execution_count": null,
   "id": "f76a1bc1",
   "metadata": {},
   "outputs": [],
   "source": [
    "# Credit: https://stackoverflow.com/questions/70295773/extract-topic-scores-for-documents-lda-gensim-python\n",
    "\n",
    "# Find dominant topic in each doc\n",
    "\n",
    "##dominant topic for each document\n",
    "def format_topics_sentences(ldamodel=lda_model, \n",
    "                            corpus=corpus, \n",
    "                            texts=data_words, \n",
    "                            n=1):\n",
    "    \"\"\"\n",
    "    A function for extracting a number of dominant topics for a given document\n",
    "    using an existing LDA model\n",
    "    \"\"\"\n",
    "    # Init output\n",
    "    sent_topics_df = pd.DataFrame()\n",
    "\n",
    "\n",
    "    # Get main topic in each document\n",
    "    for i, row in enumerate(ldamodel[corpus]):\n",
    "        row = sorted(row, key=lambda x: (x[1]), reverse=True)\n",
    "        # Get the Dominant topic, Perc Contribution and Keywords for each document\n",
    "        for j, (topic_num, prop_topic) in enumerate(row):\n",
    "            # we use range here to iterate over the n parameter\n",
    "            if j in range(n):  # => dominant topic\n",
    "                wp = ldamodel.show_topic(topic_num)\n",
    "                topic_keywords = \", \".join([word for word, prop in wp])\n",
    "                sent_topics_df = sent_topics_df.append(\n",
    "                    # and also use the i value here to get the document label\n",
    "                    pd.Series([int(i), int(topic_num), round(prop_topic, 4), topic_keywords]),\n",
    "                    ignore_index=True,\n",
    "                )\n",
    "            else:\n",
    "                break\n",
    "    sent_topics_df.columns = [\"Document\", \"Dominant_Topic\", \"Perc_Contribution\", \"Topic_Keywords\"]\n",
    "\n",
    "    # Add original text to the end of the output\n",
    "    text_col = [texts[int(i)] for i in sent_topics_df.Document.tolist()]\n",
    "    contents = pd.Series(text_col, name='original_texts')\n",
    "    sent_topics_df = pd.concat([sent_topics_df, contents], axis=1)\n",
    "    return sent_topics_df\n",
    "\n",
    "df_topic_sents_keywords = format_topics_sentences(ldamodel=lda_model, corpus=corpus, texts=data_words, n=1)\n",
    "\n",
    "# Format\n",
    "df_dominant_topic = df_topic_sents_keywords.reset_index()\n",
    "df_dominant_topic.columns = ['Document_No', 'Dominant_Topic', 'Topic_Perc_Contrib', 'Keywords', 'Text']\n",
    "\n",
    "# Show\n",
    "df_dominant_topic.head(10)"
   ]
  },
  {
   "cell_type": "code",
   "execution_count": null,
   "id": "59f6c395",
   "metadata": {},
   "outputs": [],
   "source": [
    "list(lda_model[corpus])"
   ]
  },
  {
   "cell_type": "code",
   "execution_count": null,
   "id": "98bcff70",
   "metadata": {},
   "outputs": [],
   "source": [
    "from gensim.test.utils import common_texts, common_corpus, common_dictionary\n",
    "from gensim.models import LdaModel\n",
    "\n",
    "# train a quick lda model using the common _corpus, _dictionary and _texts from gensim\n",
    "optimal_model = LdaModel(common_corpus, id2word=common_dictionary, num_topics=10)"
   ]
  },
  {
   "cell_type": "code",
   "execution_count": null,
   "id": "2463e9dd",
   "metadata": {},
   "outputs": [],
   "source": [
    "common_texts"
   ]
  },
  {
   "cell_type": "code",
   "execution_count": null,
   "id": "0eef7c5e",
   "metadata": {},
   "outputs": [],
   "source": [
    "data_words_bigrams[:10]"
   ]
  },
  {
   "cell_type": "code",
   "execution_count": null,
   "id": "cc203bd7",
   "metadata": {},
   "outputs": [],
   "source": [
    "# Credit: https://stackoverflow.com/questions/70295773/extract-topic-scores-for-documents-lda-gensim-python\n",
    "\n",
    "##dominant topic for each document\n",
    "def format_topics_sentences(ldamodel=optimal_model, \n",
    "                            corpus=common_corpus, \n",
    "                            texts=common_texts, \n",
    "                            n=1):\n",
    "    \"\"\"\n",
    "    A function for extracting a number of dominant topics for a given document\n",
    "    using an existing LDA model\n",
    "    \"\"\"\n",
    "    # Init output\n",
    "    sent_topics_df = pd.DataFrame()\n",
    "\n",
    "\n",
    "    # Get main topic in each document\n",
    "    for i, row in enumerate(ldamodel[corpus]):\n",
    "        row = sorted(row, key=lambda x: (x[1]), reverse=True)\n",
    "        # Get the Dominant topic, Perc Contribution and Keywords for each document\n",
    "        for j, (topic_num, prop_topic) in enumerate(row):\n",
    "            # we use range here to iterate over the n parameter\n",
    "            if j in range(n):  # => dominant topic\n",
    "                wp = ldamodel.show_topic(topic_num)\n",
    "                topic_keywords = \", \".join([word for word, prop in wp])\n",
    "                sent_topics_df = pd.concat([sent_topics_df, \n",
    "                                            (pd.Series([int(i), int(topic_num), round(prop_topic, 4), topic_keywords])).to_frame().T], \n",
    "                                           ignore_index=True)\n",
    "            else:\n",
    "                break\n",
    "                \n",
    "    sent_topics_df.columns = [\"Document\", \"Dominant_Topic\", \"Perc_Contribution\", \"Topic_Keywords\"]\n",
    "\n",
    "    # Add original text to the end of the output\n",
    "    text_col = [texts[int(i)] for i in sent_topics_df.Document.tolist()]\n",
    "    contents = pd.Series(text_col, name='original_texts')\n",
    "    sent_topics_df = pd.concat([sent_topics_df, contents], axis=1)\n",
    "    return sent_topics_df\n"
   ]
  },
  {
   "cell_type": "code",
   "execution_count": null,
   "id": "ffe9a630",
   "metadata": {},
   "outputs": [],
   "source": [
    "format_topics_sentences(ldamodel=optimal_model, corpus=common_corpus, texts=common_texts, n=1)"
   ]
  },
  {
   "cell_type": "code",
   "execution_count": null,
   "id": "a59c2b60",
   "metadata": {},
   "outputs": [],
   "source": [
    "##dominant topic for each document\n",
    "def format_topics_sentences(ldamodel=lda_model, \n",
    "                            corpus=corpus, \n",
    "                            texts=data_words_bigrams, \n",
    "                            n=1):\n",
    "    \"\"\"\n",
    "    A function for extracting a number of dominant topics for a given document\n",
    "    using an existing LDA model\n",
    "    \"\"\"\n",
    "    # Init output\n",
    "    sent_topics_df = pd.DataFrame()\n",
    "\n",
    "\n",
    "    # Get main topic in each document\n",
    "    for i, row in enumerate(ldamodel[corpus]):\n",
    "        row = sorted(row, key=lambda x: (x[1]), reverse=True)\n",
    "        # Get the Dominant topic, Perc Contribution and Keywords for each document\n",
    "        for j, (topic_num, prop_topic) in enumerate(row):\n",
    "            # we use range here to iterate over the n parameter\n",
    "            if j in range(n):  # => dominant topic\n",
    "                wp = ldamodel.show_topic(topic_num)\n",
    "                topic_keywords = \", \".join([word for word, prop in wp])\n",
    "                sent_topics_df = pd.concat([sent_topics_df, \n",
    "                                            (pd.Series([int(i), int(topic_num), round(prop_topic, 4), topic_keywords])).to_frame().T], \n",
    "                                           ignore_index=True)\n",
    "            else:\n",
    "                break\n",
    "                \n",
    "    sent_topics_df.columns = [\"Document\", \"Dominant_Topic\", \"Perc_Contribution\", \"Topic_Keywords\"]\n",
    "\n",
    "    # Add original text to the end of the output\n",
    "    text_col = [texts[int(i)] for i in sent_topics_df.Document.tolist()]\n",
    "    contents = pd.Series(text_col, name='original_texts')\n",
    "    sent_topics_df = pd.concat([sent_topics_df, contents], axis=1)\n",
    "    return sent_topics_df\n"
   ]
  },
  {
   "cell_type": "code",
   "execution_count": null,
   "id": "963afce4",
   "metadata": {},
   "outputs": [],
   "source": [
    "format_topics_sentences(ldamodel=lda_model, corpus=corpus, texts=data_words_bigrams, n=1)"
   ]
  },
  {
   "cell_type": "code",
   "execution_count": null,
   "id": "f267305c",
   "metadata": {},
   "outputs": [],
   "source": []
  },
  {
   "cell_type": "code",
   "execution_count": null,
   "id": "1c8e9afe",
   "metadata": {},
   "outputs": [],
   "source": []
  },
  {
   "cell_type": "code",
   "execution_count": null,
   "id": "edea93d6",
   "metadata": {},
   "outputs": [],
   "source": []
  },
  {
   "cell_type": "code",
   "execution_count": null,
   "id": "02d33e97",
   "metadata": {},
   "outputs": [],
   "source": []
  },
  {
   "cell_type": "code",
   "execution_count": null,
   "id": "08193b28",
   "metadata": {},
   "outputs": [],
   "source": []
  },
  {
   "cell_type": "code",
   "execution_count": null,
   "id": "8d1ff006",
   "metadata": {},
   "outputs": [],
   "source": []
  }
 ],
 "metadata": {
  "kernelspec": {
   "display_name": "Python 3 (ipykernel)",
   "language": "python",
   "name": "python3"
  },
  "language_info": {
   "codemirror_mode": {
    "name": "ipython",
    "version": 3
   },
   "file_extension": ".py",
   "mimetype": "text/x-python",
   "name": "python",
   "nbconvert_exporter": "python",
   "pygments_lexer": "ipython3",
   "version": "3.11.3"
  }
 },
 "nbformat": 4,
 "nbformat_minor": 5
}
