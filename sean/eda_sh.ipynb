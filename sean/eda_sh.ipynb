{
 "cells": [
  {
   "cell_type": "code",
   "execution_count": 1,
   "id": "df9edb4a-4b5a-479f-8408-6139c4bfa14a",
   "metadata": {
    "tags": []
   },
   "outputs": [],
   "source": [
    "import pandas as pd\n",
    "import matplotlib.pyplot as plt\n",
    "import numpy as np\n",
    "import seaborn as sns"
   ]
  },
  {
   "cell_type": "code",
   "execution_count": null,
   "id": "a9f7dcc9-dbf8-4ee2-8f04-dba8798de0db",
   "metadata": {},
   "outputs": [],
   "source": []
  },
  {
   "cell_type": "markdown",
   "id": "fb270a72-b8e5-4601-8ecc-2826d5a385a4",
   "metadata": {},
   "source": [
    "\n",
    "\n",
    "\n",
    "\n",
    "\n",
    "\n",
    "\n",
    "\n",
    "df = pd.read_csv('../data/Medical_Examiner_Case_Archive.csv')\n",
    "\n",
    "df.columns = df.columns.str.lower().str.replace(' ','_')\n",
    "\n",
    "df.columns\n",
    "\n",
    "df.head()\n",
    "\n",
    "df.shape\n",
    "\n",
    "df.info()\n",
    "\n",
    "df.manner_of_death.value_counts()\n",
    "\n",
    "df[df['manner_of_death']=='NATURAL'].primary_cause.value_counts().sample(25)\n",
    "\n",
    "\n",
    "\n",
    "df.primary_cause.value_counts()\n",
    "\n",
    "len(df.primary_cause_line_a.value_counts())\n",
    "\n",
    "len(df.primary_cause.value_counts())\n",
    "\n",
    "df.primary_cause.isna().sum()\n",
    "\n",
    "df.primary_cause.notna().sum()\n",
    "\n",
    "df.incident_zip_code.value_counts(ascending=False).head(40)\n",
    "\n",
    "df.columns\n",
    "\n",
    "df.loc[(df['manner_of_death']== 'NATURAL') |(df['manner_of_death']== 'UNDETERMINED')]\n",
    "\n",
    "df = df[df['manner_of_death'].notna()]\n",
    "\n",
    "df['manner_of_death'][0].is_"
   ]
  },
  {
   "cell_type": "code",
   "execution_count": null,
   "id": "399593ac-f3f8-4586-9bb0-4315ce3bb5be",
   "metadata": {},
   "outputs": [],
   "source": []
  },
  {
   "cell_type": "markdown",
   "id": "d8ca742e-e360-4b4d-8dc5-bbe3bfa5686c",
   "metadata": {},
   "source": [
    "### working with the data cleaned collaboratively from here on"
   ]
  },
  {
   "cell_type": "code",
   "execution_count": 2,
   "id": "1deb8fd1-1464-4977-92e4-be46d321ea6e",
   "metadata": {
    "tags": []
   },
   "outputs": [],
   "source": [
    "df = pd.read_csv('../data/dataframe.csv',index_col='Unnamed: 0')"
   ]
  },
  {
   "cell_type": "code",
   "execution_count": 3,
   "id": "c0d0536e-762c-4b46-8abc-fcc38efdd621",
   "metadata": {
    "tags": []
   },
   "outputs": [
    {
     "data": {
      "text/html": [
       "<div>\n",
       "<style scoped>\n",
       "    .dataframe tbody tr th:only-of-type {\n",
       "        vertical-align: middle;\n",
       "    }\n",
       "\n",
       "    .dataframe tbody tr th {\n",
       "        vertical-align: top;\n",
       "    }\n",
       "\n",
       "    .dataframe thead th {\n",
       "        text-align: right;\n",
       "    }\n",
       "</style>\n",
       "<table border=\"1\" class=\"dataframe\">\n",
       "  <thead>\n",
       "    <tr style=\"text-align: right;\">\n",
       "      <th></th>\n",
       "      <th>date_of_incident</th>\n",
       "      <th>date_of_death</th>\n",
       "      <th>age</th>\n",
       "      <th>gender</th>\n",
       "      <th>race</th>\n",
       "      <th>latino</th>\n",
       "      <th>manner_of_death</th>\n",
       "      <th>primary_cause</th>\n",
       "      <th>primary_cause_line_a</th>\n",
       "      <th>primary_cause_line_b</th>\n",
       "      <th>...</th>\n",
       "      <th>heat_related</th>\n",
       "      <th>commissioner_district</th>\n",
       "      <th>incident_city</th>\n",
       "      <th>incident_zip_code</th>\n",
       "      <th>longitude</th>\n",
       "      <th>latitude</th>\n",
       "      <th>residence_city</th>\n",
       "      <th>residence_zip</th>\n",
       "      <th>chicago_community_area</th>\n",
       "      <th>covid_related</th>\n",
       "    </tr>\n",
       "  </thead>\n",
       "  <tbody>\n",
       "    <tr>\n",
       "      <th>20</th>\n",
       "      <td>10/24/2023 12:43:00 AM</td>\n",
       "      <td>10/25/2023 12:11:00 AM</td>\n",
       "      <td>22.0</td>\n",
       "      <td>Female</td>\n",
       "      <td>Black</td>\n",
       "      <td>False</td>\n",
       "      <td>ACCIDENT</td>\n",
       "      <td>MULTIPLE BLUNT FORCE INJURIES. MOTOR VEHICLE C...</td>\n",
       "      <td>MULTIPLE BLUNT FORCE INJURIES</td>\n",
       "      <td>MOTOR VEHICLE COLLISION</td>\n",
       "      <td>...</td>\n",
       "      <td>False</td>\n",
       "      <td>1.0</td>\n",
       "      <td>CHICAGO</td>\n",
       "      <td>60644.0</td>\n",
       "      <td>-87.754890</td>\n",
       "      <td>41.872093</td>\n",
       "      <td>Indianapolis</td>\n",
       "      <td>46224.0</td>\n",
       "      <td>AUSTIN</td>\n",
       "      <td>False</td>\n",
       "    </tr>\n",
       "    <tr>\n",
       "      <th>22</th>\n",
       "      <td>10/24/2023 10:30:00 PM</td>\n",
       "      <td>10/24/2023 09:51:00 PM</td>\n",
       "      <td>35.0</td>\n",
       "      <td>Male</td>\n",
       "      <td>Black</td>\n",
       "      <td>False</td>\n",
       "      <td>HOMICIDE</td>\n",
       "      <td>MULTIPLE GUNSHOT WOUNDS</td>\n",
       "      <td>MULTIPLE GUNSHOT WOUNDS</td>\n",
       "      <td>NaN</td>\n",
       "      <td>...</td>\n",
       "      <td>False</td>\n",
       "      <td>4.0</td>\n",
       "      <td>CHICAGO</td>\n",
       "      <td>60649.0</td>\n",
       "      <td>-87.558292</td>\n",
       "      <td>41.759939</td>\n",
       "      <td>Chicago</td>\n",
       "      <td>60633.0</td>\n",
       "      <td>SOUTH SHORE</td>\n",
       "      <td>False</td>\n",
       "    </tr>\n",
       "    <tr>\n",
       "      <th>23</th>\n",
       "      <td>10/24/2023 09:18:00 PM</td>\n",
       "      <td>10/24/2023 08:36:00 PM</td>\n",
       "      <td>54.0</td>\n",
       "      <td>Male</td>\n",
       "      <td>White</td>\n",
       "      <td>False</td>\n",
       "      <td>SUICIDE</td>\n",
       "      <td>GUNSHOT WOUND OF HEAD</td>\n",
       "      <td>GUNSHOT WOUND OF HEAD</td>\n",
       "      <td>NaN</td>\n",
       "      <td>...</td>\n",
       "      <td>False</td>\n",
       "      <td>12.0</td>\n",
       "      <td>CHICAGO</td>\n",
       "      <td>60634.0</td>\n",
       "      <td>-87.780811</td>\n",
       "      <td>41.955351</td>\n",
       "      <td>Chicago</td>\n",
       "      <td>60634.0</td>\n",
       "      <td>PORTAGE PARK</td>\n",
       "      <td>False</td>\n",
       "    </tr>\n",
       "    <tr>\n",
       "      <th>30</th>\n",
       "      <td>10/24/2023 07:48:00 AM</td>\n",
       "      <td>10/24/2023 07:16:00 AM</td>\n",
       "      <td>19.0</td>\n",
       "      <td>Male</td>\n",
       "      <td>Black</td>\n",
       "      <td>False</td>\n",
       "      <td>HOMICIDE</td>\n",
       "      <td>MULTIPLE GUNSHOT WOUNDS</td>\n",
       "      <td>MULTIPLE GUNSHOT WOUNDS</td>\n",
       "      <td>NaN</td>\n",
       "      <td>...</td>\n",
       "      <td>False</td>\n",
       "      <td>3.0</td>\n",
       "      <td>CHICAGO</td>\n",
       "      <td>60649.0</td>\n",
       "      <td>-87.584359</td>\n",
       "      <td>41.771935</td>\n",
       "      <td>NaN</td>\n",
       "      <td>NaN</td>\n",
       "      <td>SOUTH SHORE</td>\n",
       "      <td>False</td>\n",
       "    </tr>\n",
       "    <tr>\n",
       "      <th>35</th>\n",
       "      <td>10/23/2023 10:21:00 PM</td>\n",
       "      <td>10/23/2023 09:29:00 PM</td>\n",
       "      <td>41.0</td>\n",
       "      <td>Male</td>\n",
       "      <td>Black</td>\n",
       "      <td>False</td>\n",
       "      <td>HOMICIDE</td>\n",
       "      <td>MULTIPLE GUNSHOT WOUNDS</td>\n",
       "      <td>MULTIPLE GUNSHOT WOUNDS</td>\n",
       "      <td>NaN</td>\n",
       "      <td>...</td>\n",
       "      <td>False</td>\n",
       "      <td>2.0</td>\n",
       "      <td>CHICAGO</td>\n",
       "      <td>60636.0</td>\n",
       "      <td>-87.663792</td>\n",
       "      <td>41.782286</td>\n",
       "      <td>Chicago</td>\n",
       "      <td>60636.0</td>\n",
       "      <td>WEST ENGLEWOOD</td>\n",
       "      <td>False</td>\n",
       "    </tr>\n",
       "  </tbody>\n",
       "</table>\n",
       "<p>5 rows × 25 columns</p>\n",
       "</div>"
      ],
      "text/plain": [
       "          date_of_incident           date_of_death   age  gender   race  \\\n",
       "20  10/24/2023 12:43:00 AM  10/25/2023 12:11:00 AM  22.0  Female  Black   \n",
       "22  10/24/2023 10:30:00 PM  10/24/2023 09:51:00 PM  35.0    Male  Black   \n",
       "23  10/24/2023 09:18:00 PM  10/24/2023 08:36:00 PM  54.0    Male  White   \n",
       "30  10/24/2023 07:48:00 AM  10/24/2023 07:16:00 AM  19.0    Male  Black   \n",
       "35  10/23/2023 10:21:00 PM  10/23/2023 09:29:00 PM  41.0    Male  Black   \n",
       "\n",
       "    latino manner_of_death                                      primary_cause  \\\n",
       "20   False        ACCIDENT  MULTIPLE BLUNT FORCE INJURIES. MOTOR VEHICLE C...   \n",
       "22   False        HOMICIDE                            MULTIPLE GUNSHOT WOUNDS   \n",
       "23   False         SUICIDE                              GUNSHOT WOUND OF HEAD   \n",
       "30   False        HOMICIDE                            MULTIPLE GUNSHOT WOUNDS   \n",
       "35   False        HOMICIDE                            MULTIPLE GUNSHOT WOUNDS   \n",
       "\n",
       "             primary_cause_line_a     primary_cause_line_b  ... heat_related  \\\n",
       "20  MULTIPLE BLUNT FORCE INJURIES  MOTOR VEHICLE COLLISION  ...        False   \n",
       "22        MULTIPLE GUNSHOT WOUNDS                      NaN  ...        False   \n",
       "23          GUNSHOT WOUND OF HEAD                      NaN  ...        False   \n",
       "30        MULTIPLE GUNSHOT WOUNDS                      NaN  ...        False   \n",
       "35        MULTIPLE GUNSHOT WOUNDS                      NaN  ...        False   \n",
       "\n",
       "   commissioner_district  incident_city  incident_zip_code  longitude  \\\n",
       "20                   1.0        CHICAGO            60644.0 -87.754890   \n",
       "22                   4.0        CHICAGO            60649.0 -87.558292   \n",
       "23                  12.0        CHICAGO            60634.0 -87.780811   \n",
       "30                   3.0        CHICAGO            60649.0 -87.584359   \n",
       "35                   2.0        CHICAGO            60636.0 -87.663792   \n",
       "\n",
       "     latitude  residence_city residence_zip  chicago_community_area  \\\n",
       "20  41.872093    Indianapolis       46224.0                  AUSTIN   \n",
       "22  41.759939         Chicago       60633.0             SOUTH SHORE   \n",
       "23  41.955351         Chicago       60634.0            PORTAGE PARK   \n",
       "30  41.771935             NaN           NaN             SOUTH SHORE   \n",
       "35  41.782286         Chicago       60636.0          WEST ENGLEWOOD   \n",
       "\n",
       "    covid_related  \n",
       "20          False  \n",
       "22          False  \n",
       "23          False  \n",
       "30          False  \n",
       "35          False  \n",
       "\n",
       "[5 rows x 25 columns]"
      ]
     },
     "execution_count": 3,
     "metadata": {},
     "output_type": "execute_result"
    }
   ],
   "source": [
    "df.head()"
   ]
  },
  {
   "cell_type": "code",
   "execution_count": 4,
   "id": "47cb2a77-534c-40ed-bd3f-ac3baa820dc6",
   "metadata": {
    "tags": []
   },
   "outputs": [
    {
     "name": "stdout",
     "output_type": "stream",
     "text": [
      "<class 'pandas.core.frame.DataFrame'>\n",
      "Int64Index: 37158 entries, 20 to 78220\n",
      "Data columns (total 25 columns):\n",
      " #   Column                  Non-Null Count  Dtype  \n",
      "---  ------                  --------------  -----  \n",
      " 0   date_of_incident        36699 non-null  object \n",
      " 1   date_of_death           37157 non-null  object \n",
      " 2   age                     37126 non-null  float64\n",
      " 3   gender                  37152 non-null  object \n",
      " 4   race                    37109 non-null  object \n",
      " 5   latino                  37158 non-null  bool   \n",
      " 6   manner_of_death         37158 non-null  object \n",
      " 7   primary_cause           37158 non-null  object \n",
      " 8   primary_cause_line_a    37158 non-null  object \n",
      " 9   primary_cause_line_b    11848 non-null  object \n",
      " 10  primary_cause_line_c    516 non-null    object \n",
      " 11  secondary_cause         7196 non-null   object \n",
      " 12  gun_related             37158 non-null  bool   \n",
      " 13  opioid_related          37158 non-null  bool   \n",
      " 14  cold_related            37158 non-null  bool   \n",
      " 15  heat_related            37158 non-null  bool   \n",
      " 16  commissioner_district   32080 non-null  float64\n",
      " 17  incident_city           36708 non-null  object \n",
      " 18  incident_zip_code       36456 non-null  float64\n",
      " 19  longitude               32081 non-null  float64\n",
      " 20  latitude                32081 non-null  float64\n",
      " 21  residence_city          36129 non-null  object \n",
      " 22  residence_zip           36143 non-null  float64\n",
      " 23  chicago_community_area  21544 non-null  object \n",
      " 24  covid_related           37158 non-null  bool   \n",
      "dtypes: bool(6), float64(6), object(13)\n",
      "memory usage: 5.9+ MB\n"
     ]
    }
   ],
   "source": [
    "df.info()"
   ]
  },
  {
   "cell_type": "code",
   "execution_count": 5,
   "id": "f021fbed-876e-45c9-af37-3953ca0338c0",
   "metadata": {
    "tags": []
   },
   "outputs": [
    {
     "data": {
      "text/plain": [
       "Index(['date_of_incident', 'date_of_death', 'age', 'gender', 'race', 'latino',\n",
       "       'manner_of_death', 'primary_cause', 'primary_cause_line_a',\n",
       "       'primary_cause_line_b', 'primary_cause_line_c', 'secondary_cause',\n",
       "       'gun_related', 'opioid_related', 'cold_related', 'heat_related',\n",
       "       'commissioner_district', 'incident_city', 'incident_zip_code',\n",
       "       'longitude', 'latitude', 'residence_city', 'residence_zip',\n",
       "       'chicago_community_area', 'covid_related'],\n",
       "      dtype='object')"
      ]
     },
     "execution_count": 5,
     "metadata": {},
     "output_type": "execute_result"
    }
   ],
   "source": [
    "df.columns"
   ]
  },
  {
   "cell_type": "markdown",
   "id": "67738553-09f1-435a-b444-a0d70aa2dde1",
   "metadata": {},
   "source": [
    "### Gender mapped {'Male':1,'Female':0} There is one unknown value"
   ]
  },
  {
   "cell_type": "code",
   "execution_count": 6,
   "id": "73da8cf3-9e54-48af-8c5c-bbf9a6ea1286",
   "metadata": {
    "tags": []
   },
   "outputs": [
    {
     "data": {
      "text/html": [
       "<div>\n",
       "<style scoped>\n",
       "    .dataframe tbody tr th:only-of-type {\n",
       "        vertical-align: middle;\n",
       "    }\n",
       "\n",
       "    .dataframe tbody tr th {\n",
       "        vertical-align: top;\n",
       "    }\n",
       "\n",
       "    .dataframe thead th {\n",
       "        text-align: right;\n",
       "    }\n",
       "</style>\n",
       "<table border=\"1\" class=\"dataframe\">\n",
       "  <thead>\n",
       "    <tr style=\"text-align: right;\">\n",
       "      <th></th>\n",
       "      <th>date_of_incident</th>\n",
       "      <th>date_of_death</th>\n",
       "      <th>age</th>\n",
       "      <th>gender</th>\n",
       "      <th>race</th>\n",
       "      <th>latino</th>\n",
       "      <th>manner_of_death</th>\n",
       "      <th>primary_cause</th>\n",
       "      <th>primary_cause_line_a</th>\n",
       "      <th>primary_cause_line_b</th>\n",
       "      <th>...</th>\n",
       "      <th>heat_related</th>\n",
       "      <th>commissioner_district</th>\n",
       "      <th>incident_city</th>\n",
       "      <th>incident_zip_code</th>\n",
       "      <th>longitude</th>\n",
       "      <th>latitude</th>\n",
       "      <th>residence_city</th>\n",
       "      <th>residence_zip</th>\n",
       "      <th>chicago_community_area</th>\n",
       "      <th>covid_related</th>\n",
       "    </tr>\n",
       "  </thead>\n",
       "  <tbody>\n",
       "    <tr>\n",
       "      <th>12645</th>\n",
       "      <td>03/20/2022 02:47:00 PM</td>\n",
       "      <td>03/20/2022 04:41:00 PM</td>\n",
       "      <td>NaN</td>\n",
       "      <td>Unknown</td>\n",
       "      <td>Unknown</td>\n",
       "      <td>False</td>\n",
       "      <td>HOMICIDE</td>\n",
       "      <td>HOMICIDE BY UNSPECIFIED MEANS</td>\n",
       "      <td>HOMICIDE BY UNSPECIFIED MEANS</td>\n",
       "      <td>NaN</td>\n",
       "      <td>...</td>\n",
       "      <td>False</td>\n",
       "      <td>16.0</td>\n",
       "      <td>BERWYN</td>\n",
       "      <td>60402.0</td>\n",
       "      <td>-87.802092</td>\n",
       "      <td>41.806875</td>\n",
       "      <td>NaN</td>\n",
       "      <td>NaN</td>\n",
       "      <td>NaN</td>\n",
       "      <td>False</td>\n",
       "    </tr>\n",
       "  </tbody>\n",
       "</table>\n",
       "<p>1 rows × 25 columns</p>\n",
       "</div>"
      ],
      "text/plain": [
       "             date_of_incident           date_of_death  age   gender     race  \\\n",
       "12645  03/20/2022 02:47:00 PM  03/20/2022 04:41:00 PM  NaN  Unknown  Unknown   \n",
       "\n",
       "       latino manner_of_death                  primary_cause  \\\n",
       "12645   False        HOMICIDE  HOMICIDE BY UNSPECIFIED MEANS   \n",
       "\n",
       "                primary_cause_line_a primary_cause_line_b  ... heat_related  \\\n",
       "12645  HOMICIDE BY UNSPECIFIED MEANS                  NaN  ...        False   \n",
       "\n",
       "      commissioner_district  incident_city  incident_zip_code  longitude  \\\n",
       "12645                  16.0         BERWYN            60402.0 -87.802092   \n",
       "\n",
       "        latitude  residence_city residence_zip  chicago_community_area  \\\n",
       "12645  41.806875             NaN           NaN                     NaN   \n",
       "\n",
       "       covid_related  \n",
       "12645          False  \n",
       "\n",
       "[1 rows x 25 columns]"
      ]
     },
     "execution_count": 6,
     "metadata": {},
     "output_type": "execute_result"
    }
   ],
   "source": [
    "df[df['gender']=='Unknown'] # mostly blank bad data, drop it"
   ]
  },
  {
   "cell_type": "code",
   "execution_count": 7,
   "id": "7ccd8bdf-c516-40be-b38f-bd60204b370a",
   "metadata": {
    "tags": []
   },
   "outputs": [],
   "source": [
    "df.columns =['date_of_incident', 'date_of_death', 'age', 'is_male', 'race', 'latino',\n",
    "       'manner_of_death', 'primary_cause', 'primary_cause_line_a',\n",
    "       'primary_cause_line_b', 'primary_cause_line_c', 'secondary_cause',\n",
    "       'gun_related', 'opioid_related', 'cold_related', 'heat_related',\n",
    "       'commissioner_district', 'incident_city', 'incident_zip_code',\n",
    "       'longitude', 'latitude', 'residence_city', 'residence_zip',\n",
    "       'chicago_community_area', 'covid_related']"
   ]
  },
  {
   "cell_type": "code",
   "execution_count": 8,
   "id": "acb5405c-e987-4643-9c08-facc8c198ddc",
   "metadata": {
    "tags": []
   },
   "outputs": [],
   "source": [
    "df = df[df['is_male']!='Unknown'] # drop this specific sketchy datapoint"
   ]
  },
  {
   "cell_type": "code",
   "execution_count": 9,
   "id": "106fd81a-1f02-4fe5-9a3d-db3406779e6a",
   "metadata": {
    "tags": []
   },
   "outputs": [],
   "source": [
    "df['is_male']=df['is_male'].map({'Male':True,'Female':False})"
   ]
  },
  {
   "cell_type": "code",
   "execution_count": 10,
   "id": "f7bdbc58-bfc1-478b-8969-607163b62852",
   "metadata": {
    "tags": []
   },
   "outputs": [],
   "source": [
    "df['is_male'] =np.where(df['is_male'].isna(),False,df['is_male'])"
   ]
  },
  {
   "cell_type": "code",
   "execution_count": 11,
   "id": "52b1cd5c-cf78-4846-a655-0bf0a6de21d9",
   "metadata": {
    "tags": []
   },
   "outputs": [
    {
     "data": {
      "text/html": [
       "<div>\n",
       "<style scoped>\n",
       "    .dataframe tbody tr th:only-of-type {\n",
       "        vertical-align: middle;\n",
       "    }\n",
       "\n",
       "    .dataframe tbody tr th {\n",
       "        vertical-align: top;\n",
       "    }\n",
       "\n",
       "    .dataframe thead th {\n",
       "        text-align: right;\n",
       "    }\n",
       "</style>\n",
       "<table border=\"1\" class=\"dataframe\">\n",
       "  <thead>\n",
       "    <tr style=\"text-align: right;\">\n",
       "      <th></th>\n",
       "      <th>date_of_incident</th>\n",
       "      <th>date_of_death</th>\n",
       "      <th>age</th>\n",
       "      <th>is_male</th>\n",
       "      <th>race</th>\n",
       "      <th>latino</th>\n",
       "      <th>manner_of_death</th>\n",
       "      <th>primary_cause</th>\n",
       "      <th>primary_cause_line_a</th>\n",
       "      <th>primary_cause_line_b</th>\n",
       "      <th>...</th>\n",
       "      <th>heat_related</th>\n",
       "      <th>commissioner_district</th>\n",
       "      <th>incident_city</th>\n",
       "      <th>incident_zip_code</th>\n",
       "      <th>longitude</th>\n",
       "      <th>latitude</th>\n",
       "      <th>residence_city</th>\n",
       "      <th>residence_zip</th>\n",
       "      <th>chicago_community_area</th>\n",
       "      <th>covid_related</th>\n",
       "    </tr>\n",
       "  </thead>\n",
       "  <tbody>\n",
       "  </tbody>\n",
       "</table>\n",
       "<p>0 rows × 25 columns</p>\n",
       "</div>"
      ],
      "text/plain": [
       "Empty DataFrame\n",
       "Columns: [date_of_incident, date_of_death, age, is_male, race, latino, manner_of_death, primary_cause, primary_cause_line_a, primary_cause_line_b, primary_cause_line_c, secondary_cause, gun_related, opioid_related, cold_related, heat_related, commissioner_district, incident_city, incident_zip_code, longitude, latitude, residence_city, residence_zip, chicago_community_area, covid_related]\n",
       "Index: []\n",
       "\n",
       "[0 rows x 25 columns]"
      ]
     },
     "execution_count": 11,
     "metadata": {},
     "output_type": "execute_result"
    }
   ],
   "source": [
    "df[df['is_male'].isna()==True]"
   ]
  },
  {
   "cell_type": "code",
   "execution_count": 12,
   "id": "79d9c584-0d7d-4be2-9d77-ad496d198351",
   "metadata": {
    "tags": []
   },
   "outputs": [
    {
     "data": {
      "text/html": [
       "<div>\n",
       "<style scoped>\n",
       "    .dataframe tbody tr th:only-of-type {\n",
       "        vertical-align: middle;\n",
       "    }\n",
       "\n",
       "    .dataframe tbody tr th {\n",
       "        vertical-align: top;\n",
       "    }\n",
       "\n",
       "    .dataframe thead th {\n",
       "        text-align: right;\n",
       "    }\n",
       "</style>\n",
       "<table border=\"1\" class=\"dataframe\">\n",
       "  <thead>\n",
       "    <tr style=\"text-align: right;\">\n",
       "      <th></th>\n",
       "      <th>date_of_incident</th>\n",
       "      <th>date_of_death</th>\n",
       "      <th>age</th>\n",
       "      <th>is_male</th>\n",
       "      <th>race</th>\n",
       "      <th>latino</th>\n",
       "      <th>manner_of_death</th>\n",
       "      <th>primary_cause</th>\n",
       "      <th>primary_cause_line_a</th>\n",
       "      <th>primary_cause_line_b</th>\n",
       "      <th>...</th>\n",
       "      <th>heat_related</th>\n",
       "      <th>commissioner_district</th>\n",
       "      <th>incident_city</th>\n",
       "      <th>incident_zip_code</th>\n",
       "      <th>longitude</th>\n",
       "      <th>latitude</th>\n",
       "      <th>residence_city</th>\n",
       "      <th>residence_zip</th>\n",
       "      <th>chicago_community_area</th>\n",
       "      <th>covid_related</th>\n",
       "    </tr>\n",
       "  </thead>\n",
       "  <tbody>\n",
       "    <tr>\n",
       "      <th>20</th>\n",
       "      <td>10/24/2023 12:43:00 AM</td>\n",
       "      <td>10/25/2023 12:11:00 AM</td>\n",
       "      <td>22.0</td>\n",
       "      <td>False</td>\n",
       "      <td>Black</td>\n",
       "      <td>False</td>\n",
       "      <td>ACCIDENT</td>\n",
       "      <td>MULTIPLE BLUNT FORCE INJURIES. MOTOR VEHICLE C...</td>\n",
       "      <td>MULTIPLE BLUNT FORCE INJURIES</td>\n",
       "      <td>MOTOR VEHICLE COLLISION</td>\n",
       "      <td>...</td>\n",
       "      <td>False</td>\n",
       "      <td>1.0</td>\n",
       "      <td>CHICAGO</td>\n",
       "      <td>60644.0</td>\n",
       "      <td>-87.754890</td>\n",
       "      <td>41.872093</td>\n",
       "      <td>Indianapolis</td>\n",
       "      <td>46224.0</td>\n",
       "      <td>AUSTIN</td>\n",
       "      <td>False</td>\n",
       "    </tr>\n",
       "    <tr>\n",
       "      <th>22</th>\n",
       "      <td>10/24/2023 10:30:00 PM</td>\n",
       "      <td>10/24/2023 09:51:00 PM</td>\n",
       "      <td>35.0</td>\n",
       "      <td>True</td>\n",
       "      <td>Black</td>\n",
       "      <td>False</td>\n",
       "      <td>HOMICIDE</td>\n",
       "      <td>MULTIPLE GUNSHOT WOUNDS</td>\n",
       "      <td>MULTIPLE GUNSHOT WOUNDS</td>\n",
       "      <td>NaN</td>\n",
       "      <td>...</td>\n",
       "      <td>False</td>\n",
       "      <td>4.0</td>\n",
       "      <td>CHICAGO</td>\n",
       "      <td>60649.0</td>\n",
       "      <td>-87.558292</td>\n",
       "      <td>41.759939</td>\n",
       "      <td>Chicago</td>\n",
       "      <td>60633.0</td>\n",
       "      <td>SOUTH SHORE</td>\n",
       "      <td>False</td>\n",
       "    </tr>\n",
       "    <tr>\n",
       "      <th>23</th>\n",
       "      <td>10/24/2023 09:18:00 PM</td>\n",
       "      <td>10/24/2023 08:36:00 PM</td>\n",
       "      <td>54.0</td>\n",
       "      <td>True</td>\n",
       "      <td>White</td>\n",
       "      <td>False</td>\n",
       "      <td>SUICIDE</td>\n",
       "      <td>GUNSHOT WOUND OF HEAD</td>\n",
       "      <td>GUNSHOT WOUND OF HEAD</td>\n",
       "      <td>NaN</td>\n",
       "      <td>...</td>\n",
       "      <td>False</td>\n",
       "      <td>12.0</td>\n",
       "      <td>CHICAGO</td>\n",
       "      <td>60634.0</td>\n",
       "      <td>-87.780811</td>\n",
       "      <td>41.955351</td>\n",
       "      <td>Chicago</td>\n",
       "      <td>60634.0</td>\n",
       "      <td>PORTAGE PARK</td>\n",
       "      <td>False</td>\n",
       "    </tr>\n",
       "    <tr>\n",
       "      <th>30</th>\n",
       "      <td>10/24/2023 07:48:00 AM</td>\n",
       "      <td>10/24/2023 07:16:00 AM</td>\n",
       "      <td>19.0</td>\n",
       "      <td>True</td>\n",
       "      <td>Black</td>\n",
       "      <td>False</td>\n",
       "      <td>HOMICIDE</td>\n",
       "      <td>MULTIPLE GUNSHOT WOUNDS</td>\n",
       "      <td>MULTIPLE GUNSHOT WOUNDS</td>\n",
       "      <td>NaN</td>\n",
       "      <td>...</td>\n",
       "      <td>False</td>\n",
       "      <td>3.0</td>\n",
       "      <td>CHICAGO</td>\n",
       "      <td>60649.0</td>\n",
       "      <td>-87.584359</td>\n",
       "      <td>41.771935</td>\n",
       "      <td>NaN</td>\n",
       "      <td>NaN</td>\n",
       "      <td>SOUTH SHORE</td>\n",
       "      <td>False</td>\n",
       "    </tr>\n",
       "    <tr>\n",
       "      <th>35</th>\n",
       "      <td>10/23/2023 10:21:00 PM</td>\n",
       "      <td>10/23/2023 09:29:00 PM</td>\n",
       "      <td>41.0</td>\n",
       "      <td>True</td>\n",
       "      <td>Black</td>\n",
       "      <td>False</td>\n",
       "      <td>HOMICIDE</td>\n",
       "      <td>MULTIPLE GUNSHOT WOUNDS</td>\n",
       "      <td>MULTIPLE GUNSHOT WOUNDS</td>\n",
       "      <td>NaN</td>\n",
       "      <td>...</td>\n",
       "      <td>False</td>\n",
       "      <td>2.0</td>\n",
       "      <td>CHICAGO</td>\n",
       "      <td>60636.0</td>\n",
       "      <td>-87.663792</td>\n",
       "      <td>41.782286</td>\n",
       "      <td>Chicago</td>\n",
       "      <td>60636.0</td>\n",
       "      <td>WEST ENGLEWOOD</td>\n",
       "      <td>False</td>\n",
       "    </tr>\n",
       "  </tbody>\n",
       "</table>\n",
       "<p>5 rows × 25 columns</p>\n",
       "</div>"
      ],
      "text/plain": [
       "          date_of_incident           date_of_death   age is_male   race  \\\n",
       "20  10/24/2023 12:43:00 AM  10/25/2023 12:11:00 AM  22.0   False  Black   \n",
       "22  10/24/2023 10:30:00 PM  10/24/2023 09:51:00 PM  35.0    True  Black   \n",
       "23  10/24/2023 09:18:00 PM  10/24/2023 08:36:00 PM  54.0    True  White   \n",
       "30  10/24/2023 07:48:00 AM  10/24/2023 07:16:00 AM  19.0    True  Black   \n",
       "35  10/23/2023 10:21:00 PM  10/23/2023 09:29:00 PM  41.0    True  Black   \n",
       "\n",
       "    latino manner_of_death                                      primary_cause  \\\n",
       "20   False        ACCIDENT  MULTIPLE BLUNT FORCE INJURIES. MOTOR VEHICLE C...   \n",
       "22   False        HOMICIDE                            MULTIPLE GUNSHOT WOUNDS   \n",
       "23   False         SUICIDE                              GUNSHOT WOUND OF HEAD   \n",
       "30   False        HOMICIDE                            MULTIPLE GUNSHOT WOUNDS   \n",
       "35   False        HOMICIDE                            MULTIPLE GUNSHOT WOUNDS   \n",
       "\n",
       "             primary_cause_line_a     primary_cause_line_b  ... heat_related  \\\n",
       "20  MULTIPLE BLUNT FORCE INJURIES  MOTOR VEHICLE COLLISION  ...        False   \n",
       "22        MULTIPLE GUNSHOT WOUNDS                      NaN  ...        False   \n",
       "23          GUNSHOT WOUND OF HEAD                      NaN  ...        False   \n",
       "30        MULTIPLE GUNSHOT WOUNDS                      NaN  ...        False   \n",
       "35        MULTIPLE GUNSHOT WOUNDS                      NaN  ...        False   \n",
       "\n",
       "   commissioner_district  incident_city  incident_zip_code  longitude  \\\n",
       "20                   1.0        CHICAGO            60644.0 -87.754890   \n",
       "22                   4.0        CHICAGO            60649.0 -87.558292   \n",
       "23                  12.0        CHICAGO            60634.0 -87.780811   \n",
       "30                   3.0        CHICAGO            60649.0 -87.584359   \n",
       "35                   2.0        CHICAGO            60636.0 -87.663792   \n",
       "\n",
       "     latitude  residence_city residence_zip  chicago_community_area  \\\n",
       "20  41.872093    Indianapolis       46224.0                  AUSTIN   \n",
       "22  41.759939         Chicago       60633.0             SOUTH SHORE   \n",
       "23  41.955351         Chicago       60634.0            PORTAGE PARK   \n",
       "30  41.771935             NaN           NaN             SOUTH SHORE   \n",
       "35  41.782286         Chicago       60636.0          WEST ENGLEWOOD   \n",
       "\n",
       "    covid_related  \n",
       "20          False  \n",
       "22          False  \n",
       "23          False  \n",
       "30          False  \n",
       "35          False  \n",
       "\n",
       "[5 rows x 25 columns]"
      ]
     },
     "execution_count": 12,
     "metadata": {},
     "output_type": "execute_result"
    }
   ],
   "source": [
    "df.head()"
   ]
  },
  {
   "cell_type": "code",
   "execution_count": null,
   "id": "c4ae94a8-351b-44b7-9a75-1a271fd71d93",
   "metadata": {},
   "outputs": [],
   "source": []
  },
  {
   "cell_type": "markdown",
   "id": "60339c35-ca4f-4ff9-a02b-466e127c1e46",
   "metadata": {},
   "source": [
    "## percents of deaths attributed to the boolean columns "
   ]
  },
  {
   "cell_type": "code",
   "execution_count": 13,
   "id": "13800af0-23da-4d1b-bd3b-6172b79080b5",
   "metadata": {
    "tags": []
   },
   "outputs": [
    {
     "data": {
      "text/plain": [
       "ACCIDENT    25008\n",
       "HOMICIDE     7748\n",
       "SUICIDE      4401\n",
       "Name: manner_of_death, dtype: int64"
      ]
     },
     "execution_count": 13,
     "metadata": {},
     "output_type": "execute_result"
    }
   ],
   "source": [
    "df['manner_of_death'].value_counts()"
   ]
  },
  {
   "cell_type": "code",
   "execution_count": 14,
   "id": "8213b5c8-2583-4530-a7b9-8199452ebdee",
   "metadata": {
    "tags": []
   },
   "outputs": [
    {
     "data": {
      "text/plain": [
       "gun_related        8274\n",
       "opioid_related    12605\n",
       "cold_related        517\n",
       "heat_related         25\n",
       "covid_related       250\n",
       "dtype: int64"
      ]
     },
     "execution_count": 14,
     "metadata": {},
     "output_type": "execute_result"
    }
   ],
   "source": [
    "df[['gun_related','opioid_related','cold_related','heat_related','covid_related']].sum()"
   ]
  },
  {
   "cell_type": "code",
   "execution_count": 15,
   "id": "c4435620-a904-47df-ae00-3f163c116857",
   "metadata": {
    "tags": []
   },
   "outputs": [
    {
     "data": {
      "text/plain": [
       "gun_related          12\n",
       "opioid_related    12354\n",
       "cold_related        512\n",
       "heat_related         25\n",
       "covid_related       247\n",
       "dtype: int64"
      ]
     },
     "execution_count": 15,
     "metadata": {},
     "output_type": "execute_result"
    }
   ],
   "source": [
    "df[df['manner_of_death']=='ACCIDENT'][['gun_related','opioid_related','cold_related','heat_related','covid_related']].sum()"
   ]
  },
  {
   "cell_type": "code",
   "execution_count": 16,
   "id": "3a55a37b-bc73-48b9-983f-386963d07435",
   "metadata": {
    "tags": []
   },
   "outputs": [
    {
     "data": {
      "text/plain": [
       "gun_related       6793\n",
       "opioid_related      10\n",
       "cold_related         2\n",
       "heat_related         0\n",
       "covid_related        1\n",
       "dtype: int64"
      ]
     },
     "execution_count": 16,
     "metadata": {},
     "output_type": "execute_result"
    }
   ],
   "source": [
    "df[df['manner_of_death']=='HOMICIDE'][['gun_related','opioid_related','cold_related','heat_related','covid_related']].sum()"
   ]
  },
  {
   "cell_type": "code",
   "execution_count": 17,
   "id": "0cc922bd-eb58-4e77-a0be-f75af1f9dd2b",
   "metadata": {
    "tags": []
   },
   "outputs": [
    {
     "data": {
      "text/plain": [
       "gun_related       1469\n",
       "opioid_related     241\n",
       "cold_related         3\n",
       "heat_related         0\n",
       "covid_related        2\n",
       "dtype: int64"
      ]
     },
     "execution_count": 17,
     "metadata": {},
     "output_type": "execute_result"
    }
   ],
   "source": [
    "df[df['manner_of_death']=='SUICIDE'][['gun_related','opioid_related','cold_related','heat_related','covid_related']].sum()"
   ]
  },
  {
   "cell_type": "code",
   "execution_count": 18,
   "id": "ae35827b-03a3-496f-9ee8-b48381ed1cd3",
   "metadata": {
    "tags": []
   },
   "outputs": [],
   "source": [
    "causes = df[['gun_related','opioid_related','cold_related','heat_related','covid_related']].groupby(df['manner_of_death']).sum()"
   ]
  },
  {
   "cell_type": "code",
   "execution_count": 19,
   "id": "573050eb-9fb6-4b01-b57d-5f8d25620f4f",
   "metadata": {
    "tags": []
   },
   "outputs": [],
   "source": [
    "#male_causes = df[df['is_male']][['gun_related','opioid_related','cold_related','heat_related','covid_related']].groupby(df['manner_of_death']).sum()"
   ]
  },
  {
   "cell_type": "code",
   "execution_count": null,
   "id": "4d110b73-df1b-4280-898d-425e3366e393",
   "metadata": {},
   "outputs": [],
   "source": []
  },
  {
   "cell_type": "code",
   "execution_count": 20,
   "id": "30dae664-bddc-4d2f-8fbc-0a87051da332",
   "metadata": {
    "tags": []
   },
   "outputs": [
    {
     "data": {
      "text/html": [
       "<div>\n",
       "<style scoped>\n",
       "    .dataframe tbody tr th:only-of-type {\n",
       "        vertical-align: middle;\n",
       "    }\n",
       "\n",
       "    .dataframe tbody tr th {\n",
       "        vertical-align: top;\n",
       "    }\n",
       "\n",
       "    .dataframe thead th {\n",
       "        text-align: right;\n",
       "    }\n",
       "</style>\n",
       "<table border=\"1\" class=\"dataframe\">\n",
       "  <thead>\n",
       "    <tr style=\"text-align: right;\">\n",
       "      <th></th>\n",
       "      <th>gun_related</th>\n",
       "      <th>opioid_related</th>\n",
       "      <th>cold_related</th>\n",
       "      <th>heat_related</th>\n",
       "      <th>covid_related</th>\n",
       "    </tr>\n",
       "    <tr>\n",
       "      <th>manner_of_death</th>\n",
       "      <th></th>\n",
       "      <th></th>\n",
       "      <th></th>\n",
       "      <th></th>\n",
       "      <th></th>\n",
       "    </tr>\n",
       "  </thead>\n",
       "  <tbody>\n",
       "    <tr>\n",
       "      <th>ACCIDENT</th>\n",
       "      <td>12</td>\n",
       "      <td>12354</td>\n",
       "      <td>512</td>\n",
       "      <td>25</td>\n",
       "      <td>247</td>\n",
       "    </tr>\n",
       "    <tr>\n",
       "      <th>HOMICIDE</th>\n",
       "      <td>6793</td>\n",
       "      <td>10</td>\n",
       "      <td>2</td>\n",
       "      <td>0</td>\n",
       "      <td>1</td>\n",
       "    </tr>\n",
       "    <tr>\n",
       "      <th>SUICIDE</th>\n",
       "      <td>1469</td>\n",
       "      <td>241</td>\n",
       "      <td>3</td>\n",
       "      <td>0</td>\n",
       "      <td>2</td>\n",
       "    </tr>\n",
       "  </tbody>\n",
       "</table>\n",
       "</div>"
      ],
      "text/plain": [
       "                 gun_related  opioid_related  cold_related  heat_related  \\\n",
       "manner_of_death                                                            \n",
       "ACCIDENT                  12           12354           512            25   \n",
       "HOMICIDE                6793              10             2             0   \n",
       "SUICIDE                 1469             241             3             0   \n",
       "\n",
       "                 covid_related  \n",
       "manner_of_death                 \n",
       "ACCIDENT                   247  \n",
       "HOMICIDE                     1  \n",
       "SUICIDE                      2  "
      ]
     },
     "execution_count": 20,
     "metadata": {},
     "output_type": "execute_result"
    }
   ],
   "source": [
    "causes"
   ]
  },
  {
   "cell_type": "code",
   "execution_count": 21,
   "id": "34a17e06-e39f-40bb-87e1-d82fe56e9660",
   "metadata": {
    "tags": []
   },
   "outputs": [
    {
     "data": {
      "text/plain": [
       "(15890, 25)"
      ]
     },
     "execution_count": 21,
     "metadata": {},
     "output_type": "execute_result"
    }
   ],
   "source": [
    "df[df['gun_related'] +df['opioid_related']+df['cold_related']+df['heat_related'] ==0].shape"
   ]
  },
  {
   "cell_type": "code",
   "execution_count": 22,
   "id": "93fa2ed5-725d-4320-b4b9-897ff48b0234",
   "metadata": {
    "tags": []
   },
   "outputs": [
    {
     "data": {
      "text/plain": [
       "(21267, 25)"
      ]
     },
     "execution_count": 22,
     "metadata": {},
     "output_type": "execute_result"
    }
   ],
   "source": [
    "df[df['gun_related'] +df['opioid_related']+df['cold_related']+df['heat_related'] >0].shape"
   ]
  },
  {
   "cell_type": "code",
   "execution_count": 23,
   "id": "6027b94c-6c63-42e0-af2d-f94c2ea53a14",
   "metadata": {
    "tags": []
   },
   "outputs": [
    {
     "data": {
      "text/plain": [
       "(37157, 25)"
      ]
     },
     "execution_count": 23,
     "metadata": {},
     "output_type": "execute_result"
    }
   ],
   "source": [
    "df.shape"
   ]
  },
  {
   "cell_type": "code",
   "execution_count": 24,
   "id": "47a94405-0f84-43da-92c5-8147402341ae",
   "metadata": {
    "tags": []
   },
   "outputs": [
    {
     "data": {
      "text/plain": [
       "(0, 25)"
      ]
     },
     "execution_count": 24,
     "metadata": {},
     "output_type": "execute_result"
    }
   ],
   "source": [
    "df[df['gun_related'] +df['opioid_related']+df['cold_related']+df['heat_related'] >1].shape # good no multiples for cat causes"
   ]
  },
  {
   "cell_type": "code",
   "execution_count": 25,
   "id": "34a067a2-8be4-41e3-a2b9-556d93707fc8",
   "metadata": {
    "tags": []
   },
   "outputs": [
    {
     "data": {
      "text/plain": [
       "ACCIDENT    12256\n",
       "SUICIDE      2689\n",
       "HOMICIDE      945\n",
       "Name: manner_of_death, dtype: int64"
      ]
     },
     "execution_count": 25,
     "metadata": {},
     "output_type": "execute_result"
    }
   ],
   "source": [
    "df[df['gun_related'] +df['opioid_related']+df['cold_related']+df['heat_related'] ==0]['manner_of_death'].value_counts()"
   ]
  },
  {
   "cell_type": "code",
   "execution_count": 26,
   "id": "98ea3645-437b-419a-ab06-c7525f37dacd",
   "metadata": {
    "tags": []
   },
   "outputs": [
    {
     "data": {
      "text/plain": [
       "ACCIDENT    25008\n",
       "HOMICIDE     7748\n",
       "SUICIDE      4401\n",
       "Name: manner_of_death, dtype: int64"
      ]
     },
     "execution_count": 26,
     "metadata": {},
     "output_type": "execute_result"
    }
   ],
   "source": [
    "df['manner_of_death'].value_counts()"
   ]
  },
  {
   "cell_type": "code",
   "execution_count": 27,
   "id": "33090187-a001-47a0-835c-b493bc92d92e",
   "metadata": {
    "tags": []
   },
   "outputs": [],
   "source": [
    "other = pd.DataFrame(df[df['gun_related'] +df['opioid_related']+df['cold_related']+df['heat_related'] +df['cold_related']==0]['manner_of_death'].value_counts())"
   ]
  },
  {
   "cell_type": "code",
   "execution_count": 28,
   "id": "54453cb7-6e07-4d55-a957-9da523512884",
   "metadata": {
    "tags": []
   },
   "outputs": [],
   "source": [
    "all_causes = pd.concat([causes,other], axis=1)"
   ]
  },
  {
   "cell_type": "code",
   "execution_count": 29,
   "id": "13a2bc86-e8bd-4a16-ba65-76bdf2b6f82c",
   "metadata": {
    "tags": []
   },
   "outputs": [],
   "source": [
    "all_causes.columns = ['gun_related', 'opioid_related', 'cold_related', 'heat_related', 'covid_related',\n",
    "       'other']"
   ]
  },
  {
   "cell_type": "code",
   "execution_count": 30,
   "id": "63d8cd4a-465f-497c-8737-b9f24d14a366",
   "metadata": {
    "tags": []
   },
   "outputs": [],
   "source": [
    "all_causes['tracked_category'] = all_causes['gun_related'] +all_causes['opioid_related']+all_causes['heat_related']+all_causes['heat_related']"
   ]
  },
  {
   "cell_type": "code",
   "execution_count": 31,
   "id": "501c4eec-8e9e-4af1-95f0-4d34386bef7c",
   "metadata": {
    "tags": []
   },
   "outputs": [
    {
     "data": {
      "text/html": [
       "<div>\n",
       "<style scoped>\n",
       "    .dataframe tbody tr th:only-of-type {\n",
       "        vertical-align: middle;\n",
       "    }\n",
       "\n",
       "    .dataframe tbody tr th {\n",
       "        vertical-align: top;\n",
       "    }\n",
       "\n",
       "    .dataframe thead th {\n",
       "        text-align: right;\n",
       "    }\n",
       "</style>\n",
       "<table border=\"1\" class=\"dataframe\">\n",
       "  <thead>\n",
       "    <tr style=\"text-align: right;\">\n",
       "      <th></th>\n",
       "      <th>gun_related</th>\n",
       "      <th>opioid_related</th>\n",
       "      <th>cold_related</th>\n",
       "      <th>heat_related</th>\n",
       "      <th>covid_related</th>\n",
       "      <th>other</th>\n",
       "      <th>tracked_category</th>\n",
       "    </tr>\n",
       "  </thead>\n",
       "  <tbody>\n",
       "    <tr>\n",
       "      <th>ACCIDENT</th>\n",
       "      <td>12</td>\n",
       "      <td>12354</td>\n",
       "      <td>512</td>\n",
       "      <td>25</td>\n",
       "      <td>247</td>\n",
       "      <td>12256</td>\n",
       "      <td>12416</td>\n",
       "    </tr>\n",
       "    <tr>\n",
       "      <th>HOMICIDE</th>\n",
       "      <td>6793</td>\n",
       "      <td>10</td>\n",
       "      <td>2</td>\n",
       "      <td>0</td>\n",
       "      <td>1</td>\n",
       "      <td>945</td>\n",
       "      <td>6803</td>\n",
       "    </tr>\n",
       "    <tr>\n",
       "      <th>SUICIDE</th>\n",
       "      <td>1469</td>\n",
       "      <td>241</td>\n",
       "      <td>3</td>\n",
       "      <td>0</td>\n",
       "      <td>2</td>\n",
       "      <td>2689</td>\n",
       "      <td>1710</td>\n",
       "    </tr>\n",
       "  </tbody>\n",
       "</table>\n",
       "</div>"
      ],
      "text/plain": [
       "          gun_related  opioid_related  cold_related  heat_related  \\\n",
       "ACCIDENT           12           12354           512            25   \n",
       "HOMICIDE         6793              10             2             0   \n",
       "SUICIDE          1469             241             3             0   \n",
       "\n",
       "          covid_related  other  tracked_category  \n",
       "ACCIDENT            247  12256             12416  \n",
       "HOMICIDE              1    945              6803  \n",
       "SUICIDE               2   2689              1710  "
      ]
     },
     "execution_count": 31,
     "metadata": {},
     "output_type": "execute_result"
    }
   ],
   "source": [
    "all_causes"
   ]
  },
  {
   "cell_type": "code",
   "execution_count": 32,
   "id": "825b99e3-827e-4a4d-a528-da101dbbd898",
   "metadata": {
    "tags": []
   },
   "outputs": [],
   "source": [
    "pd.set_option('display.max_colwidth', None)"
   ]
  },
  {
   "cell_type": "code",
   "execution_count": 33,
   "id": "f4dc600b-9bda-47e1-8325-13e9a91a1ff5",
   "metadata": {
    "tags": []
   },
   "outputs": [],
   "source": [
    "# df[(df['manner_of_death']=='HOMICIDE') & (df['covid_related'])][['primary_cause','secondary_cause']]\n",
    "#too sad"
   ]
  },
  {
   "cell_type": "markdown",
   "id": "de38be3c-115a-49e0-b4d5-a0f78d8097fb",
   "metadata": {},
   "source": [
    "## gender difference?"
   ]
  },
  {
   "cell_type": "code",
   "execution_count": 34,
   "id": "bcd80885-a159-47f4-bfc0-58a4b8ae1bee",
   "metadata": {
    "tags": []
   },
   "outputs": [],
   "source": [
    "males = df[df['is_male']==True]"
   ]
  },
  {
   "cell_type": "code",
   "execution_count": null,
   "id": "f9f12416-1ab9-48b6-a47e-e47eff91584d",
   "metadata": {
    "tags": []
   },
   "outputs": [],
   "source": []
  },
  {
   "cell_type": "code",
   "execution_count": 35,
   "id": "7af161cd-1cfc-41f8-b2e5-8caea96136bd",
   "metadata": {
    "tags": []
   },
   "outputs": [],
   "source": [
    "non_males = df[df['is_male']==False]"
   ]
  },
  {
   "cell_type": "code",
   "execution_count": 36,
   "id": "3082ac27-bb86-4c98-9c66-3482277d3efa",
   "metadata": {
    "tags": []
   },
   "outputs": [
    {
     "data": {
      "text/plain": [
       "ACCIDENT    17822\n",
       "HOMICIDE     6807\n",
       "SUICIDE      3368\n",
       "Name: manner_of_death, dtype: int64"
      ]
     },
     "execution_count": 36,
     "metadata": {},
     "output_type": "execute_result"
    }
   ],
   "source": [
    "males['manner_of_death'].value_counts()"
   ]
  },
  {
   "cell_type": "code",
   "execution_count": 37,
   "id": "8dd701e7-25ed-42ba-a64b-74abd7e6b76a",
   "metadata": {
    "tags": []
   },
   "outputs": [
    {
     "data": {
      "text/plain": [
       "ACCIDENT    7186\n",
       "SUICIDE     1033\n",
       "HOMICIDE     941\n",
       "Name: manner_of_death, dtype: int64"
      ]
     },
     "execution_count": 37,
     "metadata": {},
     "output_type": "execute_result"
    }
   ],
   "source": [
    "non_males['manner_of_death'].value_counts()"
   ]
  },
  {
   "cell_type": "code",
   "execution_count": 38,
   "id": "dedd20a5-4723-4d13-9345-ebaaf7c9bd9c",
   "metadata": {
    "tags": []
   },
   "outputs": [
    {
     "data": {
      "text/plain": [
       "gun_related       7500\n",
       "opioid_related    9587\n",
       "cold_related       414\n",
       "heat_related        10\n",
       "covid_related      150\n",
       "dtype: int64"
      ]
     },
     "execution_count": 38,
     "metadata": {},
     "output_type": "execute_result"
    }
   ],
   "source": [
    "males[['gun_related','opioid_related','cold_related','heat_related','covid_related']].sum()"
   ]
  },
  {
   "cell_type": "code",
   "execution_count": 39,
   "id": "3e43f310-b43d-4f53-98b6-7285f2ef4f33",
   "metadata": {
    "tags": []
   },
   "outputs": [
    {
     "data": {
      "text/plain": [
       "gun_related        774\n",
       "opioid_related    3018\n",
       "cold_related       103\n",
       "heat_related        15\n",
       "covid_related      100\n",
       "dtype: int64"
      ]
     },
     "execution_count": 39,
     "metadata": {},
     "output_type": "execute_result"
    }
   ],
   "source": [
    "non_males[['gun_related','opioid_related','cold_related','heat_related','covid_related']].sum()"
   ]
  },
  {
   "cell_type": "code",
   "execution_count": 40,
   "id": "b42db509-5adc-472b-9d49-3f8f79ae2b4f",
   "metadata": {
    "tags": []
   },
   "outputs": [
    {
     "data": {
      "text/plain": [
       "gun_related         11\n",
       "opioid_related    9468\n",
       "cold_related       409\n",
       "heat_related        10\n",
       "covid_related      148\n",
       "dtype: int64"
      ]
     },
     "execution_count": 40,
     "metadata": {},
     "output_type": "execute_result"
    }
   ],
   "source": [
    "males[males['manner_of_death']=='ACCIDENT'][['gun_related','opioid_related','cold_related','heat_related','covid_related']].sum()"
   ]
  },
  {
   "cell_type": "code",
   "execution_count": 41,
   "id": "451877f6-ff3e-45e9-9a25-1c282cc83c1d",
   "metadata": {
    "tags": []
   },
   "outputs": [
    {
     "data": {
      "text/plain": [
       "gun_related          1\n",
       "opioid_related    2886\n",
       "cold_related       103\n",
       "heat_related        15\n",
       "covid_related       99\n",
       "dtype: int64"
      ]
     },
     "execution_count": 41,
     "metadata": {},
     "output_type": "execute_result"
    }
   ],
   "source": [
    "non_males[non_males['manner_of_death']=='ACCIDENT'][['gun_related','opioid_related','cold_related','heat_related','covid_related']].sum()"
   ]
  },
  {
   "cell_type": "code",
   "execution_count": 42,
   "id": "fc4308e8-96a3-4984-a4ad-e36399d6c2b0",
   "metadata": {
    "tags": []
   },
   "outputs": [
    {
     "data": {
      "text/plain": [
       "gun_related       6175\n",
       "opioid_related       6\n",
       "cold_related         2\n",
       "heat_related         0\n",
       "covid_related        1\n",
       "dtype: int64"
      ]
     },
     "execution_count": 42,
     "metadata": {},
     "output_type": "execute_result"
    }
   ],
   "source": [
    "males[males['manner_of_death']=='HOMICIDE'][['gun_related','opioid_related','cold_related','heat_related','covid_related']].sum()"
   ]
  },
  {
   "cell_type": "code",
   "execution_count": 43,
   "id": "47943c1c-be9a-49fd-a15a-a2d122b7afd1",
   "metadata": {
    "tags": []
   },
   "outputs": [
    {
     "data": {
      "text/plain": [
       "gun_related       618\n",
       "opioid_related      4\n",
       "cold_related        0\n",
       "heat_related        0\n",
       "covid_related       0\n",
       "dtype: int64"
      ]
     },
     "execution_count": 43,
     "metadata": {},
     "output_type": "execute_result"
    }
   ],
   "source": [
    "non_males[non_males['manner_of_death']=='HOMICIDE'][['gun_related','opioid_related','cold_related','heat_related','covid_related']].sum()"
   ]
  },
  {
   "cell_type": "code",
   "execution_count": 44,
   "id": "33605ad4-e334-4f8c-b215-8b138b48f633",
   "metadata": {
    "tags": []
   },
   "outputs": [
    {
     "data": {
      "text/plain": [
       "gun_related       1314\n",
       "opioid_related     113\n",
       "cold_related         3\n",
       "heat_related         0\n",
       "covid_related        1\n",
       "dtype: int64"
      ]
     },
     "execution_count": 44,
     "metadata": {},
     "output_type": "execute_result"
    }
   ],
   "source": [
    "males[males['manner_of_death']=='SUICIDE'][['gun_related','opioid_related','cold_related','heat_related','covid_related']].sum()"
   ]
  },
  {
   "cell_type": "code",
   "execution_count": 45,
   "id": "d659798a-e8bd-44cb-9a67-2df9ecb63c68",
   "metadata": {
    "tags": []
   },
   "outputs": [
    {
     "data": {
      "text/plain": [
       "gun_related       155\n",
       "opioid_related    128\n",
       "cold_related        0\n",
       "heat_related        0\n",
       "covid_related       1\n",
       "dtype: int64"
      ]
     },
     "execution_count": 45,
     "metadata": {},
     "output_type": "execute_result"
    }
   ],
   "source": [
    "non_males[non_males['manner_of_death']=='SUICIDE'][['gun_related','opioid_related','cold_related','heat_related','covid_related']].sum()"
   ]
  },
  {
   "cell_type": "code",
   "execution_count": 46,
   "id": "33c87aa0-e94f-470d-b156-7a1f3d58409a",
   "metadata": {
    "tags": []
   },
   "outputs": [],
   "source": [
    "male_causes = males[['gun_related','opioid_related','cold_related','heat_related','covid_related']].groupby(males['manner_of_death']).sum()"
   ]
  },
  {
   "cell_type": "code",
   "execution_count": 56,
   "id": "9c4e40f2-ab5b-400a-a705-6a78a6c91d0e",
   "metadata": {
    "tags": []
   },
   "outputs": [],
   "source": [
    "non_male_causes = non_males[['gun_related','opioid_related','cold_related','heat_related','covid_related']].groupby(non_males['manner_of_death']).sum()"
   ]
  },
  {
   "cell_type": "code",
   "execution_count": null,
   "id": "539f1e5e-ddce-4dfd-b86c-4283f985573c",
   "metadata": {},
   "outputs": [],
   "source": []
  },
  {
   "cell_type": "code",
   "execution_count": 47,
   "id": "44c2be4d-2701-4a36-9e0c-b08d219dcfd7",
   "metadata": {
    "tags": []
   },
   "outputs": [
    {
     "data": {
      "text/plain": [
       "Index(['gun_related', 'opioid_related', 'cold_related', 'heat_related',\n",
       "       'covid_related'],\n",
       "      dtype='object')"
      ]
     },
     "execution_count": 47,
     "metadata": {},
     "output_type": "execute_result"
    }
   ],
   "source": [
    "male_causes.columns"
   ]
  },
  {
   "cell_type": "code",
   "execution_count": 48,
   "id": "5730759a-d373-4ed2-95c2-507e1232c551",
   "metadata": {
    "tags": []
   },
   "outputs": [
    {
     "data": {
      "text/plain": [
       "(27997, 25)"
      ]
     },
     "execution_count": 48,
     "metadata": {},
     "output_type": "execute_result"
    }
   ],
   "source": [
    "males.shape"
   ]
  },
  {
   "cell_type": "code",
   "execution_count": 50,
   "id": "9cbc9558-7c45-4e72-a378-6c9935b1ee99",
   "metadata": {
    "tags": []
   },
   "outputs": [],
   "source": [
    "other_male = pd.DataFrame(males[males['gun_related'] +males['opioid_related']+males['cold_related']+males['heat_related'] +males['cold_related']==0]['manner_of_death'].value_counts())"
   ]
  },
  {
   "cell_type": "code",
   "execution_count": 57,
   "id": "7af35b42-09fc-4a18-8273-7cbd36b656ba",
   "metadata": {
    "tags": []
   },
   "outputs": [],
   "source": [
    "other_non_male = pd.DataFrame(non_males[non_males['gun_related'] +non_males['opioid_related']+non_males['cold_related']+non_males['heat_related'] +non_males['cold_related']==0]['manner_of_death'].value_counts())"
   ]
  },
  {
   "cell_type": "code",
   "execution_count": 51,
   "id": "5bc9387e-50ac-4a24-9de4-cacdcee8ac65",
   "metadata": {
    "tags": []
   },
   "outputs": [],
   "source": [
    "all_causes_male = pd.concat([male_causes,other_male], axis=1)"
   ]
  },
  {
   "cell_type": "code",
   "execution_count": 58,
   "id": "108df7a8-fa86-4a1b-b250-c86eccf51cd5",
   "metadata": {
    "tags": []
   },
   "outputs": [],
   "source": [
    "all_causes_non_male = pd.concat([non_male_causes,other_non_male], axis=1)"
   ]
  },
  {
   "cell_type": "code",
   "execution_count": 52,
   "id": "a128a80a-11ca-4612-8f0b-9d3ce968a154",
   "metadata": {
    "tags": []
   },
   "outputs": [],
   "source": [
    "all_causes_male.columns = ['gun_related', 'opioid_related', 'cold_related', 'heat_related', 'covid_related',\n",
    "       'other']"
   ]
  },
  {
   "cell_type": "code",
   "execution_count": 59,
   "id": "cda5fc13-d75f-4451-84bd-3356a631b39b",
   "metadata": {
    "tags": []
   },
   "outputs": [],
   "source": [
    "all_causes_non_male.columns = ['gun_related', 'opioid_related', 'cold_related', 'heat_related', 'covid_related',\n",
    "       'other']"
   ]
  },
  {
   "cell_type": "code",
   "execution_count": 53,
   "id": "fe31a7b8-adc9-49e5-8478-edc1f877d398",
   "metadata": {
    "tags": []
   },
   "outputs": [
    {
     "data": {
      "text/html": [
       "<div>\n",
       "<style scoped>\n",
       "    .dataframe tbody tr th:only-of-type {\n",
       "        vertical-align: middle;\n",
       "    }\n",
       "\n",
       "    .dataframe tbody tr th {\n",
       "        vertical-align: top;\n",
       "    }\n",
       "\n",
       "    .dataframe thead th {\n",
       "        text-align: right;\n",
       "    }\n",
       "</style>\n",
       "<table border=\"1\" class=\"dataframe\">\n",
       "  <thead>\n",
       "    <tr style=\"text-align: right;\">\n",
       "      <th></th>\n",
       "      <th>gun_related</th>\n",
       "      <th>opioid_related</th>\n",
       "      <th>cold_related</th>\n",
       "      <th>heat_related</th>\n",
       "      <th>covid_related</th>\n",
       "      <th>other</th>\n",
       "    </tr>\n",
       "  </thead>\n",
       "  <tbody>\n",
       "    <tr>\n",
       "      <th>ACCIDENT</th>\n",
       "      <td>11</td>\n",
       "      <td>9468</td>\n",
       "      <td>409</td>\n",
       "      <td>10</td>\n",
       "      <td>148</td>\n",
       "      <td>8061</td>\n",
       "    </tr>\n",
       "    <tr>\n",
       "      <th>HOMICIDE</th>\n",
       "      <td>6175</td>\n",
       "      <td>6</td>\n",
       "      <td>2</td>\n",
       "      <td>0</td>\n",
       "      <td>1</td>\n",
       "      <td>626</td>\n",
       "    </tr>\n",
       "    <tr>\n",
       "      <th>SUICIDE</th>\n",
       "      <td>1314</td>\n",
       "      <td>113</td>\n",
       "      <td>3</td>\n",
       "      <td>0</td>\n",
       "      <td>1</td>\n",
       "      <td>1939</td>\n",
       "    </tr>\n",
       "  </tbody>\n",
       "</table>\n",
       "</div>"
      ],
      "text/plain": [
       "          gun_related  opioid_related  cold_related  heat_related  \\\n",
       "ACCIDENT           11            9468           409            10   \n",
       "HOMICIDE         6175               6             2             0   \n",
       "SUICIDE          1314             113             3             0   \n",
       "\n",
       "          covid_related  other  \n",
       "ACCIDENT            148   8061  \n",
       "HOMICIDE              1    626  \n",
       "SUICIDE               1   1939  "
      ]
     },
     "execution_count": 53,
     "metadata": {},
     "output_type": "execute_result"
    }
   ],
   "source": [
    "all_causes_male"
   ]
  },
  {
   "cell_type": "code",
   "execution_count": 60,
   "id": "c404ea72-491a-4020-adf2-23ca41679704",
   "metadata": {
    "tags": []
   },
   "outputs": [
    {
     "data": {
      "text/html": [
       "<div>\n",
       "<style scoped>\n",
       "    .dataframe tbody tr th:only-of-type {\n",
       "        vertical-align: middle;\n",
       "    }\n",
       "\n",
       "    .dataframe tbody tr th {\n",
       "        vertical-align: top;\n",
       "    }\n",
       "\n",
       "    .dataframe thead th {\n",
       "        text-align: right;\n",
       "    }\n",
       "</style>\n",
       "<table border=\"1\" class=\"dataframe\">\n",
       "  <thead>\n",
       "    <tr style=\"text-align: right;\">\n",
       "      <th></th>\n",
       "      <th>gun_related</th>\n",
       "      <th>opioid_related</th>\n",
       "      <th>cold_related</th>\n",
       "      <th>heat_related</th>\n",
       "      <th>covid_related</th>\n",
       "      <th>other</th>\n",
       "    </tr>\n",
       "  </thead>\n",
       "  <tbody>\n",
       "    <tr>\n",
       "      <th>ACCIDENT</th>\n",
       "      <td>1</td>\n",
       "      <td>2886</td>\n",
       "      <td>103</td>\n",
       "      <td>15</td>\n",
       "      <td>99</td>\n",
       "      <td>4195</td>\n",
       "    </tr>\n",
       "    <tr>\n",
       "      <th>HOMICIDE</th>\n",
       "      <td>618</td>\n",
       "      <td>4</td>\n",
       "      <td>0</td>\n",
       "      <td>0</td>\n",
       "      <td>0</td>\n",
       "      <td>319</td>\n",
       "    </tr>\n",
       "    <tr>\n",
       "      <th>SUICIDE</th>\n",
       "      <td>155</td>\n",
       "      <td>128</td>\n",
       "      <td>0</td>\n",
       "      <td>0</td>\n",
       "      <td>1</td>\n",
       "      <td>750</td>\n",
       "    </tr>\n",
       "  </tbody>\n",
       "</table>\n",
       "</div>"
      ],
      "text/plain": [
       "          gun_related  opioid_related  cold_related  heat_related  \\\n",
       "ACCIDENT            1            2886           103            15   \n",
       "HOMICIDE          618               4             0             0   \n",
       "SUICIDE           155             128             0             0   \n",
       "\n",
       "          covid_related  other  \n",
       "ACCIDENT             99   4195  \n",
       "HOMICIDE              0    319  \n",
       "SUICIDE               1    750  "
      ]
     },
     "execution_count": 60,
     "metadata": {},
     "output_type": "execute_result"
    }
   ],
   "source": [
    "all_causes_non_male"
   ]
  },
  {
   "cell_type": "code",
   "execution_count": 54,
   "id": "e8274b7a-2ec6-4e5e-bf92-f296dc7b5ca8",
   "metadata": {
    "tags": []
   },
   "outputs": [],
   "source": [
    "all_causes_male['tracked_category'] = all_causes_male['gun_related'] +all_causes_male['opioid_related']+all_causes_male['heat_related']+all_causes_male['heat_related']"
   ]
  },
  {
   "cell_type": "code",
   "execution_count": 61,
   "id": "21bf1b1f-6330-489b-8913-34a45edf5c6a",
   "metadata": {
    "tags": []
   },
   "outputs": [],
   "source": [
    "all_causes_non_male['tracked_category'] = all_causes_non_male['gun_related'] +all_causes_non_male['opioid_related']+all_causes_non_male['heat_related']+all_causes_non_male['heat_related']"
   ]
  },
  {
   "cell_type": "code",
   "execution_count": 62,
   "id": "c24676de-0f06-4e22-a843-47bed7b2d45e",
   "metadata": {
    "tags": []
   },
   "outputs": [
    {
     "data": {
      "text/html": [
       "<div>\n",
       "<style scoped>\n",
       "    .dataframe tbody tr th:only-of-type {\n",
       "        vertical-align: middle;\n",
       "    }\n",
       "\n",
       "    .dataframe tbody tr th {\n",
       "        vertical-align: top;\n",
       "    }\n",
       "\n",
       "    .dataframe thead th {\n",
       "        text-align: right;\n",
       "    }\n",
       "</style>\n",
       "<table border=\"1\" class=\"dataframe\">\n",
       "  <thead>\n",
       "    <tr style=\"text-align: right;\">\n",
       "      <th></th>\n",
       "      <th>gun_related</th>\n",
       "      <th>opioid_related</th>\n",
       "      <th>cold_related</th>\n",
       "      <th>heat_related</th>\n",
       "      <th>covid_related</th>\n",
       "      <th>other</th>\n",
       "      <th>tracked_category</th>\n",
       "    </tr>\n",
       "  </thead>\n",
       "  <tbody>\n",
       "    <tr>\n",
       "      <th>ACCIDENT</th>\n",
       "      <td>11</td>\n",
       "      <td>9468</td>\n",
       "      <td>409</td>\n",
       "      <td>10</td>\n",
       "      <td>148</td>\n",
       "      <td>8061</td>\n",
       "      <td>9499</td>\n",
       "    </tr>\n",
       "    <tr>\n",
       "      <th>HOMICIDE</th>\n",
       "      <td>6175</td>\n",
       "      <td>6</td>\n",
       "      <td>2</td>\n",
       "      <td>0</td>\n",
       "      <td>1</td>\n",
       "      <td>626</td>\n",
       "      <td>6181</td>\n",
       "    </tr>\n",
       "    <tr>\n",
       "      <th>SUICIDE</th>\n",
       "      <td>1314</td>\n",
       "      <td>113</td>\n",
       "      <td>3</td>\n",
       "      <td>0</td>\n",
       "      <td>1</td>\n",
       "      <td>1939</td>\n",
       "      <td>1427</td>\n",
       "    </tr>\n",
       "  </tbody>\n",
       "</table>\n",
       "</div>"
      ],
      "text/plain": [
       "          gun_related  opioid_related  cold_related  heat_related  \\\n",
       "ACCIDENT           11            9468           409            10   \n",
       "HOMICIDE         6175               6             2             0   \n",
       "SUICIDE          1314             113             3             0   \n",
       "\n",
       "          covid_related  other  tracked_category  \n",
       "ACCIDENT            148   8061              9499  \n",
       "HOMICIDE              1    626              6181  \n",
       "SUICIDE               1   1939              1427  "
      ]
     },
     "execution_count": 62,
     "metadata": {},
     "output_type": "execute_result"
    }
   ],
   "source": [
    "all_causes_male"
   ]
  },
  {
   "cell_type": "code",
   "execution_count": 63,
   "id": "935dcd2b-e51c-420b-bc85-1134218befd3",
   "metadata": {
    "tags": []
   },
   "outputs": [
    {
     "data": {
      "text/html": [
       "<div>\n",
       "<style scoped>\n",
       "    .dataframe tbody tr th:only-of-type {\n",
       "        vertical-align: middle;\n",
       "    }\n",
       "\n",
       "    .dataframe tbody tr th {\n",
       "        vertical-align: top;\n",
       "    }\n",
       "\n",
       "    .dataframe thead th {\n",
       "        text-align: right;\n",
       "    }\n",
       "</style>\n",
       "<table border=\"1\" class=\"dataframe\">\n",
       "  <thead>\n",
       "    <tr style=\"text-align: right;\">\n",
       "      <th></th>\n",
       "      <th>gun_related</th>\n",
       "      <th>opioid_related</th>\n",
       "      <th>cold_related</th>\n",
       "      <th>heat_related</th>\n",
       "      <th>covid_related</th>\n",
       "      <th>other</th>\n",
       "      <th>tracked_category</th>\n",
       "    </tr>\n",
       "  </thead>\n",
       "  <tbody>\n",
       "    <tr>\n",
       "      <th>ACCIDENT</th>\n",
       "      <td>1</td>\n",
       "      <td>2886</td>\n",
       "      <td>103</td>\n",
       "      <td>15</td>\n",
       "      <td>99</td>\n",
       "      <td>4195</td>\n",
       "      <td>2917</td>\n",
       "    </tr>\n",
       "    <tr>\n",
       "      <th>HOMICIDE</th>\n",
       "      <td>618</td>\n",
       "      <td>4</td>\n",
       "      <td>0</td>\n",
       "      <td>0</td>\n",
       "      <td>0</td>\n",
       "      <td>319</td>\n",
       "      <td>622</td>\n",
       "    </tr>\n",
       "    <tr>\n",
       "      <th>SUICIDE</th>\n",
       "      <td>155</td>\n",
       "      <td>128</td>\n",
       "      <td>0</td>\n",
       "      <td>0</td>\n",
       "      <td>1</td>\n",
       "      <td>750</td>\n",
       "      <td>283</td>\n",
       "    </tr>\n",
       "  </tbody>\n",
       "</table>\n",
       "</div>"
      ],
      "text/plain": [
       "          gun_related  opioid_related  cold_related  heat_related  \\\n",
       "ACCIDENT            1            2886           103            15   \n",
       "HOMICIDE          618               4             0             0   \n",
       "SUICIDE           155             128             0             0   \n",
       "\n",
       "          covid_related  other  tracked_category  \n",
       "ACCIDENT             99   4195              2917  \n",
       "HOMICIDE              0    319               622  \n",
       "SUICIDE               1    750               283  "
      ]
     },
     "execution_count": 63,
     "metadata": {},
     "output_type": "execute_result"
    }
   ],
   "source": [
    "all_causes_non_male"
   ]
  },
  {
   "cell_type": "code",
   "execution_count": null,
   "id": "cbe43a05-c2c6-4118-b470-63d5822adde0",
   "metadata": {},
   "outputs": [],
   "source": []
  },
  {
   "cell_type": "code",
   "execution_count": null,
   "id": "28a3c3bb-9cb8-44dc-a4b2-53717152d1f7",
   "metadata": {},
   "outputs": [],
   "source": []
  }
 ],
 "metadata": {
  "kernelspec": {
   "display_name": "Python 3 (ipykernel)",
   "language": "python",
   "name": "python3"
  },
  "language_info": {
   "codemirror_mode": {
    "name": "ipython",
    "version": 3
   },
   "file_extension": ".py",
   "mimetype": "text/x-python",
   "name": "python",
   "nbconvert_exporter": "python",
   "pygments_lexer": "ipython3",
   "version": "3.11.4"
  }
 },
 "nbformat": 4,
 "nbformat_minor": 5
}
