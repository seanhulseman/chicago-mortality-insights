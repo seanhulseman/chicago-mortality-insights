{
  "nbformat": 4,
  "nbformat_minor": 0,
  "metadata": {
    "colab": {
      "provenance": [],
      "gpuType": "T4"
    },
    "kernelspec": {
      "name": "python3",
      "display_name": "Python 3"
    },
    "language_info": {
      "name": "python"
    },
    "accelerator": "GPU"
  },
  "cells": [
    {
      "cell_type": "code",
      "source": [
        "import os\n",
        "import shutil\n",
        "import numpy as np\n",
        "import pandas as pd\n",
        "from tensorflow import keras\n",
        "from tensorflow.keras import layers\n",
        "from sklearn.model_selection import train_test_split"
      ],
      "metadata": {
        "id": "GjU0o32wj49M"
      },
      "execution_count": 32,
      "outputs": []
    },
    {
      "cell_type": "code",
      "execution_count": 33,
      "metadata": {
        "colab": {
          "base_uri": "https://localhost:8080/"
        },
        "id": "6wWGu4qVj3SD",
        "outputId": "aea7d435-499c-4792-949a-df1d57ce88c0"
      },
      "outputs": [
        {
          "output_type": "stream",
          "name": "stdout",
          "text": [
            "--2023-11-07 19:28:07--  http://nlp.stanford.edu/data/glove.6B.zip\n",
            "Resolving nlp.stanford.edu (nlp.stanford.edu)... 171.64.67.140\n",
            "Connecting to nlp.stanford.edu (nlp.stanford.edu)|171.64.67.140|:80... connected.\n",
            "HTTP request sent, awaiting response... 302 Found\n",
            "Location: https://nlp.stanford.edu/data/glove.6B.zip [following]\n",
            "--2023-11-07 19:28:07--  https://nlp.stanford.edu/data/glove.6B.zip\n",
            "Connecting to nlp.stanford.edu (nlp.stanford.edu)|171.64.67.140|:443... connected.\n",
            "HTTP request sent, awaiting response... 301 Moved Permanently\n",
            "Location: https://downloads.cs.stanford.edu/nlp/data/glove.6B.zip [following]\n",
            "--2023-11-07 19:28:07--  https://downloads.cs.stanford.edu/nlp/data/glove.6B.zip\n",
            "Resolving downloads.cs.stanford.edu (downloads.cs.stanford.edu)... 171.64.64.22\n",
            "Connecting to downloads.cs.stanford.edu (downloads.cs.stanford.edu)|171.64.64.22|:443... connected.\n",
            "HTTP request sent, awaiting response... 200 OK\n",
            "Length: 862182613 (822M) [application/zip]\n",
            "Saving to: ‘glove.6B.zip’\n",
            "\n",
            "glove.6B.zip        100%[===================>] 822.24M  5.02MB/s    in 2m 39s  \n",
            "\n",
            "2023-11-07 19:30:46 (5.18 MB/s) - ‘glove.6B.zip’ saved [862182613/862182613]\n",
            "\n"
          ]
        }
      ],
      "source": [
        "# UNCOMMENT BELOW AND RUN ASAP!\n",
        "# This cell can take up to 5 minutes to run, as it's downloading and unzipping\n",
        "# a large file. Once run, please re-comment it so you don't accidentally run\n",
        "# it twice!\n",
        "\n",
        "!wget http://nlp.stanford.edu/data/glove.6B.zip\n",
        "!unzip -q glove.6B.zip"
      ]
    },
    {
      "cell_type": "code",
      "source": [],
      "metadata": {
        "id": "bB9e5S0rk_iC"
      },
      "execution_count": null,
      "outputs": []
    },
    {
      "cell_type": "code",
      "source": [
        "embeddings_ix = {}\n",
        "\n",
        "with open('./glove.6B.100d.txt', 'r') as f:\n",
        "  for line in f:\n",
        "    word, coefs = line.split(maxsplit=1)\n",
        "    coefs = np.fromstring(coefs, 'f', sep=' ')\n",
        "    embeddings_ix[word] = coefs"
      ],
      "metadata": {
        "id": "m-RnXVamkNrd"
      },
      "execution_count": 34,
      "outputs": []
    },
    {
      "cell_type": "code",
      "source": [
        "df =pd.read_csv('df_with_topics.csv')"
      ],
      "metadata": {
        "id": "f8WJncNwH9Cv"
      },
      "execution_count": 35,
      "outputs": []
    },
    {
      "cell_type": "code",
      "source": [
        "df.manner_of_death = df.manner_of_death.map({'ACCIDENT':1, 'HOMICIDE':0, 'SUICIDE': 0})"
      ],
      "metadata": {
        "id": "NWuXnTVlIscJ"
      },
      "execution_count": 36,
      "outputs": []
    },
    {
      "cell_type": "code",
      "source": [
        "df.dropna(inplace= True)# 36688 vs 37151"
      ],
      "metadata": {
        "id": "XK_HXuqjIseZ"
      },
      "execution_count": 37,
      "outputs": []
    },
    {
      "cell_type": "code",
      "source": [
        "\"\"\"X = df.drop(columns=['manner_of_death','race','best_topic_perc','best_topic_name','best_topic_num','long_topic','inc_date',\n",
        "                     'primary_cause_line_a','primary_cause_line_b','primary_cause_line_c',''])\n",
        "y = df.manner_of_death\"\"\""
      ],
      "metadata": {
        "id": "9pGgEeGZH6-Y"
      },
      "execution_count": 5,
      "outputs": []
    },
    {
      "cell_type": "code",
      "source": [
        "df['full_text'] = df['primary_cause'] +' '+ df['secondary_cause']"
      ],
      "metadata": {
        "id": "_srYrKCzh3MP"
      },
      "execution_count": 38,
      "outputs": []
    },
    {
      "cell_type": "code",
      "source": [
        "full_text = df['full_text']"
      ],
      "metadata": {
        "id": "hXZ-LcvuMpWO"
      },
      "execution_count": 39,
      "outputs": []
    },
    {
      "cell_type": "code",
      "source": [
        "full_text.shape"
      ],
      "metadata": {
        "colab": {
          "base_uri": "https://localhost:8080/"
        },
        "id": "sSFfyDMcMzmY",
        "outputId": "4da5bbb5-74d1-46d7-92f2-69dbab96ccdf"
      },
      "execution_count": 19,
      "outputs": [
        {
          "output_type": "execute_result",
          "data": {
            "text/plain": [
              "(34275,)"
            ]
          },
          "metadata": {},
          "execution_count": 19
        }
      ]
    },
    {
      "cell_type": "code",
      "source": [
        "type(full_text)"
      ],
      "metadata": {
        "colab": {
          "base_uri": "https://localhost:8080/"
        },
        "id": "lOFEMT2SI0vD",
        "outputId": "b28c5aa9-6c03-4e67-883d-ad0776da9f02"
      },
      "execution_count": 20,
      "outputs": [
        {
          "output_type": "execute_result",
          "data": {
            "text/plain": [
              "pandas.core.series.Series"
            ]
          },
          "metadata": {},
          "execution_count": 20
        }
      ]
    },
    {
      "cell_type": "code",
      "source": [
        "X = full_text\n",
        "y= df.manner_of_death"
      ],
      "metadata": {
        "id": "5DfswcFXMPvp"
      },
      "execution_count": 40,
      "outputs": []
    },
    {
      "cell_type": "code",
      "source": [],
      "metadata": {
        "id": "P2Gs0_EgOnHx"
      },
      "execution_count": 28,
      "outputs": []
    },
    {
      "cell_type": "code",
      "source": [
        "y.shape"
      ],
      "metadata": {
        "colab": {
          "base_uri": "https://localhost:8080/"
        },
        "id": "RwI0VAg-I1lA",
        "outputId": "c4afad2b-7886-4cc7-9082-8919d7b7a109"
      },
      "execution_count": 7,
      "outputs": [
        {
          "output_type": "execute_result",
          "data": {
            "text/plain": [
              "(36688,)"
            ]
          },
          "metadata": {},
          "execution_count": 7
        }
      ]
    },
    {
      "cell_type": "code",
      "source": [
        "X_train, X_test, y_train, y_test = train_test_split(X,y,random_state = 512, stratify= y)"
      ],
      "metadata": {
        "id": "HQLaE3OUI2Pa"
      },
      "execution_count": 41,
      "outputs": []
    },
    {
      "cell_type": "code",
      "source": [
        "max_length = 50\n",
        "max_tokens = 20_000\n",
        "\n",
        "# Create an object that can process strings into integet incodings based on our\n",
        "# trainind data vocabulary.\n",
        "text_vectorization = keras.layers.TextVectorization(\n",
        "    max_tokens=max_tokens,\n",
        "    output_mode='int',\n",
        "    output_sequence_length=max_length\n",
        ")\n",
        "text_vectorization.adapt(X_train)\n",
        "X_train_int = text_vectorization(X_train)\n",
        "X_test_int = text_vectorization(X_test)"
      ],
      "metadata": {
        "id": "CjYLu0Zxmy0r"
      },
      "execution_count": 52,
      "outputs": []
    },
    {
      "cell_type": "code",
      "source": [
        "# # Create datasets that turn our text input into integer encodings\n",
        "# int_mapper = lambda x, y: (text_vectorization(x), y)\n",
        "\n",
        "# int_train_ds = X_train.map(int_mapper, num_parallel_calls=4)\n",
        "# # int_val_ds = val_ds.map(int_mapper, num_parallel_calls=4)\n",
        "# # int_test_ds = test_ds.map(int_mapper, num_parallel_calls=4)"
      ],
      "metadata": {
        "id": "_DQroY4IS-_U"
      },
      "execution_count": 53,
      "outputs": []
    },
    {
      "cell_type": "code",
      "source": [
        "embedding_dim = 100\n",
        "\n",
        "vocab = text_vectorization.get_vocabulary()\n",
        "word_ix = dict(enumerate(vocab))\n",
        "word_ix = {word: i for i, word in word_ix.items()}"
      ],
      "metadata": {
        "id": "GPf57_MhkOaN"
      },
      "execution_count": 54,
      "outputs": []
    },
    {
      "cell_type": "code",
      "source": [
        "# Create a huge embedding matrix based on GloVe - no need to train it ourself!\n",
        "# 1 row = 1 word vector\n",
        "embedding_mx = np.zeros((max_tokens, embedding_dim))\n",
        "\n",
        "for word, i in word_ix.items():\n",
        "  if i < max_tokens:\n",
        "    embed_vector = embeddings_ix.get(word)\n",
        "\n",
        "  if embed_vector is not None:\n",
        "    embedding_mx[i, :] = embed_vector"
      ],
      "metadata": {
        "id": "aV0g24DXkOcr"
      },
      "execution_count": 55,
      "outputs": []
    },
    {
      "cell_type": "code",
      "source": [
        "glove_layer = layers.Embedding(\n",
        "    max_tokens,\n",
        "    embedding_dim,\n",
        "    embeddings_initializer=keras.initializers.Constant(embedding_mx),\n",
        "    trainable=False,\n",
        "    mask_zero=True\n",
        ")"
      ],
      "metadata": {
        "id": "csmmvxk4kbfb"
      },
      "execution_count": 56,
      "outputs": []
    },
    {
      "cell_type": "code",
      "source": [
        "inputs = keras.Input(shape=(None,))\n",
        "embedded = glove_layer(inputs)\n",
        "x = layers.Bidirectional(layers.LSTM(32))(embedded)\n",
        "x = layers.Dropout(0.5)(x)\n",
        "outputs = layers.Dense(1, activation='sigmoid')(x)\n",
        "model = keras.Model(inputs, outputs)\n",
        "\n",
        "model.compile(optimizer='rmsprop', loss='bce', metrics=['acc'])\n",
        "model.summary()"
      ],
      "metadata": {
        "colab": {
          "base_uri": "https://localhost:8080/"
        },
        "id": "Y42MAZY8kbiP",
        "outputId": "156d214c-e527-4c49-acf1-3840b24589ec"
      },
      "execution_count": 57,
      "outputs": [
        {
          "output_type": "stream",
          "name": "stdout",
          "text": [
            "Model: \"model_2\"\n",
            "_________________________________________________________________\n",
            " Layer (type)                Output Shape              Param #   \n",
            "=================================================================\n",
            " input_3 (InputLayer)        [(None, None)]            0         \n",
            "                                                                 \n",
            " embedding_1 (Embedding)     (None, None, 100)         2000000   \n",
            "                                                                 \n",
            " bidirectional_2 (Bidirecti  (None, 64)                34048     \n",
            " onal)                                                           \n",
            "                                                                 \n",
            " dropout_2 (Dropout)         (None, 64)                0         \n",
            "                                                                 \n",
            " dense_2 (Dense)             (None, 1)                 65        \n",
            "                                                                 \n",
            "=================================================================\n",
            "Total params: 2034113 (7.76 MB)\n",
            "Trainable params: 34113 (133.25 KB)\n",
            "Non-trainable params: 2000000 (7.63 MB)\n",
            "_________________________________________________________________\n"
          ]
        }
      ]
    },
    {
      "cell_type": "code",
      "source": [
        "model.fit(\n",
        "    X_train_int,y_train,\n",
        "    validation_data=(X_test_int,y_test),\n",
        "    epochs=10\n",
        ")"
      ],
      "metadata": {
        "colab": {
          "base_uri": "https://localhost:8080/"
        },
        "id": "l0GgCsSRkeA6",
        "outputId": "8d0d3fba-9680-4c72-c590-ca9afda5c3a2"
      },
      "execution_count": 58,
      "outputs": [
        {
          "output_type": "stream",
          "name": "stdout",
          "text": [
            "Epoch 1/10\n",
            "860/860 [==============================] - 56s 54ms/step - loss: 0.1249 - acc: 0.9574 - val_loss: 0.0857 - val_acc: 0.9700\n",
            "Epoch 2/10\n",
            "860/860 [==============================] - 42s 49ms/step - loss: 0.0851 - acc: 0.9700 - val_loss: 0.0739 - val_acc: 0.9738\n",
            "Epoch 3/10\n",
            "860/860 [==============================] - 45s 53ms/step - loss: 0.0779 - acc: 0.9718 - val_loss: 0.0707 - val_acc: 0.9751\n",
            "Epoch 4/10\n",
            "860/860 [==============================] - 43s 50ms/step - loss: 0.0736 - acc: 0.9752 - val_loss: 0.0681 - val_acc: 0.9756\n",
            "Epoch 5/10\n",
            "860/860 [==============================] - 42s 49ms/step - loss: 0.0701 - acc: 0.9762 - val_loss: 0.0675 - val_acc: 0.9772\n",
            "Epoch 6/10\n",
            "860/860 [==============================] - 44s 51ms/step - loss: 0.0666 - acc: 0.9763 - val_loss: 0.0667 - val_acc: 0.9772\n",
            "Epoch 7/10\n",
            "860/860 [==============================] - 43s 50ms/step - loss: 0.0647 - acc: 0.9770 - val_loss: 0.0668 - val_acc: 0.9758\n",
            "Epoch 8/10\n",
            "860/860 [==============================] - 45s 52ms/step - loss: 0.0618 - acc: 0.9782 - val_loss: 0.0668 - val_acc: 0.9768\n",
            "Epoch 9/10\n",
            "860/860 [==============================] - 45s 52ms/step - loss: 0.0623 - acc: 0.9782 - val_loss: 0.0667 - val_acc: 0.9778\n",
            "Epoch 10/10\n",
            "860/860 [==============================] - 45s 52ms/step - loss: 0.0609 - acc: 0.9792 - val_loss: 0.0708 - val_acc: 0.9773\n"
          ]
        },
        {
          "output_type": "execute_result",
          "data": {
            "text/plain": [
              "<keras.src.callbacks.History at 0x79197ca101f0>"
            ]
          },
          "metadata": {},
          "execution_count": 58
        }
      ]
    },
    {
      "cell_type": "code",
      "source": [
        "model.save(\"my_model.keras\")"
      ],
      "metadata": {
        "id": "4SxwhvCJkeCr"
      },
      "execution_count": 61,
      "outputs": []
    },
    {
      "cell_type": "code",
      "source": [
        "# Load the model\n",
        "loaded_model = keras.models.load_model(\"my_model.keras\")\n",
        "\n"
      ],
      "metadata": {
        "id": "-wqnhxgDkeFn"
      },
      "execution_count": 62,
      "outputs": []
    },
    {
      "cell_type": "code",
      "source": [
        "text_vectorization(\"BLUNT FORCE TRAUMA\")"
      ],
      "metadata": {
        "colab": {
          "base_uri": "https://localhost:8080/"
        },
        "id": "zIrLjASRbecK",
        "outputId": "d99d325d-3bdb-4309-8d31-fe5abee2635e"
      },
      "execution_count": 66,
      "outputs": [
        {
          "output_type": "execute_result",
          "data": {
            "text/plain": [
              "<tf.Tensor: shape=(50,), dtype=int64, numpy=\n",
              "array([ 28,  27, 120,   0,   0,   0,   0,   0,   0,   0,   0,   0,   0,\n",
              "         0,   0,   0,   0,   0,   0,   0,   0,   0,   0,   0,   0,   0,\n",
              "         0,   0,   0,   0,   0,   0,   0,   0,   0,   0,   0,   0,   0,\n",
              "         0,   0,   0,   0,   0,   0,   0,   0,   0,   0,   0])>"
            ]
          },
          "metadata": {},
          "execution_count": 66
        }
      ]
    },
    {
      "cell_type": "code",
      "source": [
        "# Use the loaded model for predictions\n",
        "tvec = text_vectorization(\"BLUNT FORCE TRAUMA\")\n",
        "\n",
        "predictions = loaded_model.predict([tvec])"
      ],
      "metadata": {
        "colab": {
          "base_uri": "https://localhost:8080/",
          "height": 1000
        },
        "id": "FFqn6tOnkeIZ",
        "outputId": "77074e91-ee00-4953-ba2d-7fbed7c25314"
      },
      "execution_count": 69,
      "outputs": [
        {
          "output_type": "error",
          "ename": "ValueError",
          "evalue": "ignored",
          "traceback": [
            "\u001b[0;31m---------------------------------------------------------------------------\u001b[0m",
            "\u001b[0;31mValueError\u001b[0m                                Traceback (most recent call last)",
            "\u001b[0;32m<ipython-input-69-b81008526731>\u001b[0m in \u001b[0;36m<cell line: 4>\u001b[0;34m()\u001b[0m\n\u001b[1;32m      2\u001b[0m \u001b[0mtvec\u001b[0m \u001b[0;34m=\u001b[0m \u001b[0mtext_vectorization\u001b[0m\u001b[0;34m(\u001b[0m\u001b[0;34m\"BLUNT FORCE TRAUMA\"\u001b[0m\u001b[0;34m)\u001b[0m\u001b[0;34m\u001b[0m\u001b[0;34m\u001b[0m\u001b[0m\n\u001b[1;32m      3\u001b[0m \u001b[0;34m\u001b[0m\u001b[0m\n\u001b[0;32m----> 4\u001b[0;31m \u001b[0mpredictions\u001b[0m \u001b[0;34m=\u001b[0m \u001b[0mloaded_model\u001b[0m\u001b[0;34m.\u001b[0m\u001b[0mpredict\u001b[0m\u001b[0;34m(\u001b[0m\u001b[0;34m[\u001b[0m\u001b[0mtvec\u001b[0m\u001b[0;34m]\u001b[0m\u001b[0;34m*\u001b[0m\u001b[0;36m32\u001b[0m\u001b[0;34m)\u001b[0m\u001b[0;34m\u001b[0m\u001b[0;34m\u001b[0m\u001b[0m\n\u001b[0m",
            "\u001b[0;32m/usr/local/lib/python3.10/dist-packages/keras/src/utils/traceback_utils.py\u001b[0m in \u001b[0;36merror_handler\u001b[0;34m(*args, **kwargs)\u001b[0m\n\u001b[1;32m     68\u001b[0m             \u001b[0;31m# To get the full stack trace, call:\u001b[0m\u001b[0;34m\u001b[0m\u001b[0;34m\u001b[0m\u001b[0m\n\u001b[1;32m     69\u001b[0m             \u001b[0;31m# `tf.debugging.disable_traceback_filtering()`\u001b[0m\u001b[0;34m\u001b[0m\u001b[0;34m\u001b[0m\u001b[0m\n\u001b[0;32m---> 70\u001b[0;31m             \u001b[0;32mraise\u001b[0m \u001b[0me\u001b[0m\u001b[0;34m.\u001b[0m\u001b[0mwith_traceback\u001b[0m\u001b[0;34m(\u001b[0m\u001b[0mfiltered_tb\u001b[0m\u001b[0;34m)\u001b[0m \u001b[0;32mfrom\u001b[0m \u001b[0;32mNone\u001b[0m\u001b[0;34m\u001b[0m\u001b[0;34m\u001b[0m\u001b[0m\n\u001b[0m\u001b[1;32m     71\u001b[0m         \u001b[0;32mfinally\u001b[0m\u001b[0;34m:\u001b[0m\u001b[0;34m\u001b[0m\u001b[0;34m\u001b[0m\u001b[0m\n\u001b[1;32m     72\u001b[0m             \u001b[0;32mdel\u001b[0m \u001b[0mfiltered_tb\u001b[0m\u001b[0;34m\u001b[0m\u001b[0;34m\u001b[0m\u001b[0m\n",
            "\u001b[0;32m/usr/local/lib/python3.10/dist-packages/keras/src/engine/training.py\u001b[0m in \u001b[0;36mtf__predict_function\u001b[0;34m(iterator)\u001b[0m\n\u001b[1;32m     13\u001b[0m                 \u001b[0;32mtry\u001b[0m\u001b[0;34m:\u001b[0m\u001b[0;34m\u001b[0m\u001b[0;34m\u001b[0m\u001b[0m\n\u001b[1;32m     14\u001b[0m                     \u001b[0mdo_return\u001b[0m \u001b[0;34m=\u001b[0m \u001b[0;32mTrue\u001b[0m\u001b[0;34m\u001b[0m\u001b[0;34m\u001b[0m\u001b[0m\n\u001b[0;32m---> 15\u001b[0;31m                     \u001b[0mretval_\u001b[0m \u001b[0;34m=\u001b[0m \u001b[0mag__\u001b[0m\u001b[0;34m.\u001b[0m\u001b[0mconverted_call\u001b[0m\u001b[0;34m(\u001b[0m\u001b[0mag__\u001b[0m\u001b[0;34m.\u001b[0m\u001b[0mld\u001b[0m\u001b[0;34m(\u001b[0m\u001b[0mstep_function\u001b[0m\u001b[0;34m)\u001b[0m\u001b[0;34m,\u001b[0m \u001b[0;34m(\u001b[0m\u001b[0mag__\u001b[0m\u001b[0;34m.\u001b[0m\u001b[0mld\u001b[0m\u001b[0;34m(\u001b[0m\u001b[0mself\u001b[0m\u001b[0;34m)\u001b[0m\u001b[0;34m,\u001b[0m \u001b[0mag__\u001b[0m\u001b[0;34m.\u001b[0m\u001b[0mld\u001b[0m\u001b[0;34m(\u001b[0m\u001b[0miterator\u001b[0m\u001b[0;34m)\u001b[0m\u001b[0;34m)\u001b[0m\u001b[0;34m,\u001b[0m \u001b[0;32mNone\u001b[0m\u001b[0;34m,\u001b[0m \u001b[0mfscope\u001b[0m\u001b[0;34m)\u001b[0m\u001b[0;34m\u001b[0m\u001b[0;34m\u001b[0m\u001b[0m\n\u001b[0m\u001b[1;32m     16\u001b[0m                 \u001b[0;32mexcept\u001b[0m\u001b[0;34m:\u001b[0m\u001b[0;34m\u001b[0m\u001b[0;34m\u001b[0m\u001b[0m\n\u001b[1;32m     17\u001b[0m                     \u001b[0mdo_return\u001b[0m \u001b[0;34m=\u001b[0m \u001b[0;32mFalse\u001b[0m\u001b[0;34m\u001b[0m\u001b[0;34m\u001b[0m\u001b[0m\n",
            "\u001b[0;31mValueError\u001b[0m: in user code:\n\n    File \"/usr/local/lib/python3.10/dist-packages/keras/src/engine/training.py\", line 2416, in predict_function  *\n        return step_function(self, iterator)\n    File \"/usr/local/lib/python3.10/dist-packages/keras/src/engine/training.py\", line 2401, in step_function  **\n        outputs = model.distribute_strategy.run(run_step, args=(data,))\n    File \"/usr/local/lib/python3.10/dist-packages/keras/src/engine/training.py\", line 2389, in run_step  **\n        outputs = model.predict_step(data)\n    File \"/usr/local/lib/python3.10/dist-packages/keras/src/engine/training.py\", line 2357, in predict_step\n        return self(x, training=False)\n    File \"/usr/local/lib/python3.10/dist-packages/keras/src/utils/traceback_utils.py\", line 70, in error_handler\n        raise e.with_traceback(filtered_tb) from None\n    File \"/usr/local/lib/python3.10/dist-packages/keras/src/engine/input_spec.py\", line 219, in assert_input_compatibility\n        raise ValueError(\n\n    ValueError: Layer \"model_2\" expects 1 input(s), but it received 32 input tensors. Inputs received: [<tf.Tensor 'IteratorGetNext:0' shape=(None,) dtype=int64>, <tf.Tensor 'IteratorGetNext:1' shape=(None,) dtype=int64>, <tf.Tensor 'IteratorGetNext:2' shape=(None,) dtype=int64>, <tf.Tensor 'IteratorGetNext:3' shape=(None,) dtype=int64>, <tf.Tensor 'IteratorGetNext:4' shape=(None,) dtype=int64>, <tf.Tensor 'IteratorGetNext:5' shape=(None,) dtype=int64>, <tf.Tensor 'IteratorGetNext:6' shape=(None,) dtype=int64>, <tf.Tensor 'IteratorGetNext:7' shape=(None,) dtype=int64>, <tf.Tensor 'IteratorGetNext:8' shape=(None,) dtype=int64>, <tf.Tensor 'IteratorGetNext:9' shape=(None,) dtype=int64>, <tf.Tensor 'IteratorGetNext:10' shape=(None,) dtype=int64>, <tf.Tensor 'IteratorGetNext:11' shape=(None,) dtype=int64>, <tf.Tensor 'IteratorGetNext:12' shape=(None,) dtype=int64>, <tf.Tensor 'IteratorGetNext:13' shape=(None,) dtype=int64>, <tf.Tensor 'IteratorGetNext:14' shape=(None,) dtype=int64>, <tf.Tensor 'IteratorGetNext:15' shape=(None,) dtype=int64>, <tf.Tensor 'IteratorGetNext:16' shape=(None,) dtype=int64>, <tf.Tensor 'IteratorGetNext:17' shape=(None,) dtype=int64>, <tf.Tensor 'IteratorGetNext:18' shape=(None,) dtype=int64>, <tf.Tensor 'IteratorGetNext:19' shape=(None,) dtype=int64>, <tf.Tensor 'IteratorGetNext:20' shape=(None,) dtype=int64>, <tf.Tensor 'IteratorGetNext:21' shape=(None,) dtype=int64>, <tf.Tensor 'IteratorGetNext:22' shape=(None,) dtype=int64>, <tf.Tensor 'IteratorGet...\n"
          ]
        }
      ]
    },
    {
      "cell_type": "code",
      "source": [],
      "metadata": {
        "id": "QDWbsXOLbOZP"
      },
      "execution_count": null,
      "outputs": []
    }
  ]
}