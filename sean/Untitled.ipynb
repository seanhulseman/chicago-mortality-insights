{
 "cells": [
  {
   "cell_type": "code",
   "execution_count": 8,
   "id": "33617767-762c-4262-b501-f1d9eea7d994",
   "metadata": {
    "tags": []
   },
   "outputs": [],
   "source": [
    "import pandas as pd\n",
    "import matplotlib.pyplot as plt\n",
    "import numpy as np\n",
    "import seaborn as sns\n",
    "from sklearn.model_selection import train_test_split\n",
    "from sklearn.linear_model import LogisticRegression\n",
    "from sklearn.neighbors import KNeighborsClassifier\n",
    "from sklearn.tree import DecisionTreeClassifier\n",
    "from sklearn.preprocessing import StandardScaler\n",
    "from sklearn.ensemble import BaggingClassifier, RandomForestClassifier, AdaBoostClassifier\n",
    "from sklearn.pipeline import Pipeline\n",
    "from sklearn.naive_bayes import MultinomialNB\n",
    "from sklearn.feature_extraction.text import CountVectorizer, TfidfVectorizer\n",
    "from sklearn.model_selection import GridSearchCV"
   ]
  },
  {
   "cell_type": "code",
   "execution_count": 2,
   "id": "16bae189-3dde-4686-ab0f-aaec6b6009fa",
   "metadata": {
    "tags": []
   },
   "outputs": [],
   "source": [
    "df = pd.read_csv('data/df_with_topics_testing.csv')"
   ]
  },
  {
   "cell_type": "code",
   "execution_count": 6,
   "id": "88a5afaa-4156-4598-99d9-80b2ad01d300",
   "metadata": {
    "tags": []
   },
   "outputs": [],
   "source": [
    "df.manner_of_death = df.manner_of_death.map({'ACCIDENT':1, 'HOMICIDE':0, 'SUICIDE': 0})"
   ]
  },
  {
   "cell_type": "code",
   "execution_count": 7,
   "id": "0ed7d350-d7ff-4d80-9c16-bfcf190625e4",
   "metadata": {
    "tags": []
   },
   "outputs": [
    {
     "data": {
      "text/plain": [
       "1    25003\n",
       "0    12148\n",
       "Name: manner_of_death, dtype: int64"
      ]
     },
     "execution_count": 7,
     "metadata": {},
     "output_type": "execute_result"
    }
   ],
   "source": [
    "df.manner_of_death.value_counts()"
   ]
  },
  {
   "cell_type": "code",
   "execution_count": 12,
   "id": "af8e33e1-2d59-4117-a8c3-3dbf5b0e5dd8",
   "metadata": {
    "tags": []
   },
   "outputs": [
    {
     "data": {
      "text/html": [
       "<div>\n",
       "<style scoped>\n",
       "    .dataframe tbody tr th:only-of-type {\n",
       "        vertical-align: middle;\n",
       "    }\n",
       "\n",
       "    .dataframe tbody tr th {\n",
       "        vertical-align: top;\n",
       "    }\n",
       "\n",
       "    .dataframe thead th {\n",
       "        text-align: right;\n",
       "    }\n",
       "</style>\n",
       "<table border=\"1\" class=\"dataframe\">\n",
       "  <thead>\n",
       "    <tr style=\"text-align: right;\">\n",
       "      <th></th>\n",
       "      <th>date_of_incident</th>\n",
       "      <th>date_of_death</th>\n",
       "      <th>age</th>\n",
       "      <th>gender</th>\n",
       "      <th>race</th>\n",
       "      <th>latino</th>\n",
       "      <th>manner_of_death</th>\n",
       "      <th>primary_cause</th>\n",
       "      <th>primary_cause_line_a</th>\n",
       "      <th>primary_cause_line_b</th>\n",
       "      <th>...</th>\n",
       "      <th>death_date</th>\n",
       "      <th>death_time</th>\n",
       "      <th>death_day</th>\n",
       "      <th>inc_date</th>\n",
       "      <th>inc_time</th>\n",
       "      <th>inc_day</th>\n",
       "      <th>long_topic</th>\n",
       "      <th>best_topic_num</th>\n",
       "      <th>best_topic_name</th>\n",
       "      <th>best_topic_perc</th>\n",
       "    </tr>\n",
       "  </thead>\n",
       "  <tbody>\n",
       "    <tr>\n",
       "      <th>0</th>\n",
       "      <td>2023-10-24 00:43:00</td>\n",
       "      <td>2023-10-25 00:11:00</td>\n",
       "      <td>22.0</td>\n",
       "      <td>1</td>\n",
       "      <td>Black</td>\n",
       "      <td>0</td>\n",
       "      <td>1</td>\n",
       "      <td>MULTIPLE BLUNT FORCE INJURIES. MOTOR VEHICLE C...</td>\n",
       "      <td>MULTIPLE BLUNT FORCE INJURIES</td>\n",
       "      <td>MOTOR VEHICLE COLLISION</td>\n",
       "      <td>...</td>\n",
       "      <td>2023-10-25</td>\n",
       "      <td>00:11:00</td>\n",
       "      <td>Wednesday</td>\n",
       "      <td>2023-10-24</td>\n",
       "      <td>00:43:00</td>\n",
       "      <td>Tuesday</td>\n",
       "      <td>[(0, 0.0100428155), (1, 0.01559641), (2, 0.948...</td>\n",
       "      <td>2</td>\n",
       "      <td>vehicle_collision</td>\n",
       "      <td>0.948506</td>\n",
       "    </tr>\n",
       "    <tr>\n",
       "      <th>1</th>\n",
       "      <td>2023-10-24 22:30:00</td>\n",
       "      <td>2023-10-24 21:51:00</td>\n",
       "      <td>35.0</td>\n",
       "      <td>0</td>\n",
       "      <td>Black</td>\n",
       "      <td>0</td>\n",
       "      <td>0</td>\n",
       "      <td>MULTIPLE GUNSHOT WOUNDS</td>\n",
       "      <td>MULTIPLE GUNSHOT WOUNDS</td>\n",
       "      <td>no_text</td>\n",
       "      <td>...</td>\n",
       "      <td>2023-10-24</td>\n",
       "      <td>21:51:00</td>\n",
       "      <td>Tuesday</td>\n",
       "      <td>2023-10-24</td>\n",
       "      <td>22:30:00</td>\n",
       "      <td>Tuesday</td>\n",
       "      <td>[(0, 0.018974014), (1, 0.91878027), (2, 0.0133...</td>\n",
       "      <td>1</td>\n",
       "      <td>gunshot_wounds_fall</td>\n",
       "      <td>0.918780</td>\n",
       "    </tr>\n",
       "    <tr>\n",
       "      <th>2</th>\n",
       "      <td>2023-10-24 21:18:00</td>\n",
       "      <td>2023-10-24 20:36:00</td>\n",
       "      <td>54.0</td>\n",
       "      <td>0</td>\n",
       "      <td>White</td>\n",
       "      <td>0</td>\n",
       "      <td>0</td>\n",
       "      <td>GUNSHOT WOUND OF HEAD</td>\n",
       "      <td>GUNSHOT WOUND OF HEAD</td>\n",
       "      <td>no_text</td>\n",
       "      <td>...</td>\n",
       "      <td>2023-10-24</td>\n",
       "      <td>20:36:00</td>\n",
       "      <td>Tuesday</td>\n",
       "      <td>2023-10-24</td>\n",
       "      <td>21:18:00</td>\n",
       "      <td>Tuesday</td>\n",
       "      <td>[(0, 0.90828776), (1, 0.029466497), (2, 0.0133...</td>\n",
       "      <td>0</td>\n",
       "      <td>one_gunshot_wound</td>\n",
       "      <td>0.908288</td>\n",
       "    </tr>\n",
       "    <tr>\n",
       "      <th>3</th>\n",
       "      <td>2023-10-24 07:48:00</td>\n",
       "      <td>2023-10-24 07:16:00</td>\n",
       "      <td>19.0</td>\n",
       "      <td>0</td>\n",
       "      <td>Black</td>\n",
       "      <td>0</td>\n",
       "      <td>0</td>\n",
       "      <td>MULTIPLE GUNSHOT WOUNDS</td>\n",
       "      <td>MULTIPLE GUNSHOT WOUNDS</td>\n",
       "      <td>no_text</td>\n",
       "      <td>...</td>\n",
       "      <td>2023-10-24</td>\n",
       "      <td>07:16:00</td>\n",
       "      <td>Tuesday</td>\n",
       "      <td>2023-10-24</td>\n",
       "      <td>07:48:00</td>\n",
       "      <td>Tuesday</td>\n",
       "      <td>[(0, 0.018974014), (1, 0.91878027), (2, 0.0133...</td>\n",
       "      <td>1</td>\n",
       "      <td>gunshot_wounds_fall</td>\n",
       "      <td>0.918780</td>\n",
       "    </tr>\n",
       "    <tr>\n",
       "      <th>4</th>\n",
       "      <td>2023-10-23 22:21:00</td>\n",
       "      <td>2023-10-23 21:29:00</td>\n",
       "      <td>41.0</td>\n",
       "      <td>0</td>\n",
       "      <td>Black</td>\n",
       "      <td>0</td>\n",
       "      <td>0</td>\n",
       "      <td>MULTIPLE GUNSHOT WOUNDS</td>\n",
       "      <td>MULTIPLE GUNSHOT WOUNDS</td>\n",
       "      <td>no_text</td>\n",
       "      <td>...</td>\n",
       "      <td>2023-10-23</td>\n",
       "      <td>21:29:00</td>\n",
       "      <td>Monday</td>\n",
       "      <td>2023-10-23</td>\n",
       "      <td>22:21:00</td>\n",
       "      <td>Monday</td>\n",
       "      <td>[(0, 0.018974014), (1, 0.91878027), (2, 0.0133...</td>\n",
       "      <td>1</td>\n",
       "      <td>gunshot_wounds_fall</td>\n",
       "      <td>0.918780</td>\n",
       "    </tr>\n",
       "  </tbody>\n",
       "</table>\n",
       "<p>5 rows × 36 columns</p>\n",
       "</div>"
      ],
      "text/plain": [
       "      date_of_incident        date_of_death   age  gender   race  latino  \\\n",
       "0  2023-10-24 00:43:00  2023-10-25 00:11:00  22.0       1  Black       0   \n",
       "1  2023-10-24 22:30:00  2023-10-24 21:51:00  35.0       0  Black       0   \n",
       "2  2023-10-24 21:18:00  2023-10-24 20:36:00  54.0       0  White       0   \n",
       "3  2023-10-24 07:48:00  2023-10-24 07:16:00  19.0       0  Black       0   \n",
       "4  2023-10-23 22:21:00  2023-10-23 21:29:00  41.0       0  Black       0   \n",
       "\n",
       "   manner_of_death                                      primary_cause  \\\n",
       "0                1  MULTIPLE BLUNT FORCE INJURIES. MOTOR VEHICLE C...   \n",
       "1                0                            MULTIPLE GUNSHOT WOUNDS   \n",
       "2                0                              GUNSHOT WOUND OF HEAD   \n",
       "3                0                            MULTIPLE GUNSHOT WOUNDS   \n",
       "4                0                            MULTIPLE GUNSHOT WOUNDS   \n",
       "\n",
       "            primary_cause_line_a     primary_cause_line_b  ...  death_date  \\\n",
       "0  MULTIPLE BLUNT FORCE INJURIES  MOTOR VEHICLE COLLISION  ...  2023-10-25   \n",
       "1        MULTIPLE GUNSHOT WOUNDS                  no_text  ...  2023-10-24   \n",
       "2          GUNSHOT WOUND OF HEAD                  no_text  ...  2023-10-24   \n",
       "3        MULTIPLE GUNSHOT WOUNDS                  no_text  ...  2023-10-24   \n",
       "4        MULTIPLE GUNSHOT WOUNDS                  no_text  ...  2023-10-23   \n",
       "\n",
       "  death_time  death_day    inc_date  inc_time  inc_day  \\\n",
       "0   00:11:00  Wednesday  2023-10-24  00:43:00  Tuesday   \n",
       "1   21:51:00    Tuesday  2023-10-24  22:30:00  Tuesday   \n",
       "2   20:36:00    Tuesday  2023-10-24  21:18:00  Tuesday   \n",
       "3   07:16:00    Tuesday  2023-10-24  07:48:00  Tuesday   \n",
       "4   21:29:00     Monday  2023-10-23  22:21:00   Monday   \n",
       "\n",
       "                                          long_topic best_topic_num  \\\n",
       "0  [(0, 0.0100428155), (1, 0.01559641), (2, 0.948...              2   \n",
       "1  [(0, 0.018974014), (1, 0.91878027), (2, 0.0133...              1   \n",
       "2  [(0, 0.90828776), (1, 0.029466497), (2, 0.0133...              0   \n",
       "3  [(0, 0.018974014), (1, 0.91878027), (2, 0.0133...              1   \n",
       "4  [(0, 0.018974014), (1, 0.91878027), (2, 0.0133...              1   \n",
       "\n",
       "       best_topic_name  best_topic_perc  \n",
       "0    vehicle_collision         0.948506  \n",
       "1  gunshot_wounds_fall         0.918780  \n",
       "2    one_gunshot_wound         0.908288  \n",
       "3  gunshot_wounds_fall         0.918780  \n",
       "4  gunshot_wounds_fall         0.918780  \n",
       "\n",
       "[5 rows x 36 columns]"
      ]
     },
     "execution_count": 12,
     "metadata": {},
     "output_type": "execute_result"
    }
   ],
   "source": [
    "df.head()"
   ]
  },
  {
   "cell_type": "code",
   "execution_count": 10,
   "id": "02681049-56a8-41db-8437-fcc06682ef1e",
   "metadata": {
    "tags": []
   },
   "outputs": [
    {
     "data": {
      "text/plain": [
       "Index(['date_of_incident', 'date_of_death', 'age', 'gender', 'race', 'latino',\n",
       "       'manner_of_death', 'primary_cause', 'primary_cause_line_a',\n",
       "       'primary_cause_line_b', 'primary_cause_line_c', 'secondary_cause',\n",
       "       'gun_related', 'opioid_related', 'cold_related', 'heat_related',\n",
       "       'commissioner_district', 'incident_city', 'incident_zip_code',\n",
       "       'longitude', 'latitude', 'residence_city', 'residence_zip',\n",
       "       'chicago_community_area', 'covid_related', 'age_range', 'death_date',\n",
       "       'death_time', 'death_day', 'inc_date', 'inc_time', 'inc_day',\n",
       "       'long_topic', 'best_topic_num', 'best_topic_name', 'best_topic_perc'],\n",
       "      dtype='object')"
      ]
     },
     "execution_count": 10,
     "metadata": {},
     "output_type": "execute_result"
    }
   ],
   "source": [
    "df.columns"
   ]
  },
  {
   "cell_type": "code",
   "execution_count": 13,
   "id": "1bfde4cc-750a-460c-9a49-6583d5431c4c",
   "metadata": {
    "tags": []
   },
   "outputs": [],
   "source": [
    "df.dropna(inplace= True)# 36688 vs 37151 "
   ]
  },
  {
   "cell_type": "code",
   "execution_count": 14,
   "id": "05a3c2a2-59a3-4ac3-8fd1-43966ce70547",
   "metadata": {
    "tags": []
   },
   "outputs": [
    {
     "name": "stdout",
     "output_type": "stream",
     "text": [
      "<class 'pandas.core.frame.DataFrame'>\n",
      "Int64Index: 36688 entries, 0 to 37150\n",
      "Data columns (total 36 columns):\n",
      " #   Column                  Non-Null Count  Dtype  \n",
      "---  ------                  --------------  -----  \n",
      " 0   date_of_incident        36688 non-null  object \n",
      " 1   date_of_death           36688 non-null  object \n",
      " 2   age                     36688 non-null  float64\n",
      " 3   gender                  36688 non-null  int64  \n",
      " 4   race                    36688 non-null  object \n",
      " 5   latino                  36688 non-null  int64  \n",
      " 6   manner_of_death         36688 non-null  int64  \n",
      " 7   primary_cause           36688 non-null  object \n",
      " 8   primary_cause_line_a    36688 non-null  object \n",
      " 9   primary_cause_line_b    36688 non-null  object \n",
      " 10  primary_cause_line_c    36688 non-null  object \n",
      " 11  secondary_cause         36688 non-null  object \n",
      " 12  gun_related             36688 non-null  int64  \n",
      " 13  opioid_related          36688 non-null  int64  \n",
      " 14  cold_related            36688 non-null  int64  \n",
      " 15  heat_related            36688 non-null  int64  \n",
      " 16  commissioner_district   36688 non-null  object \n",
      " 17  incident_city           36688 non-null  object \n",
      " 18  incident_zip_code       36688 non-null  object \n",
      " 19  longitude               36688 non-null  float64\n",
      " 20  latitude                36688 non-null  float64\n",
      " 21  residence_city          36688 non-null  object \n",
      " 22  residence_zip           36688 non-null  object \n",
      " 23  chicago_community_area  36688 non-null  object \n",
      " 24  covid_related           36688 non-null  int64  \n",
      " 25  age_range               36688 non-null  object \n",
      " 26  death_date              36688 non-null  object \n",
      " 27  death_time              36688 non-null  object \n",
      " 28  death_day               36688 non-null  object \n",
      " 29  inc_date                36688 non-null  object \n",
      " 30  inc_time                36688 non-null  object \n",
      " 31  inc_day                 36688 non-null  object \n",
      " 32  long_topic              36688 non-null  object \n",
      " 33  best_topic_num          36688 non-null  int64  \n",
      " 34  best_topic_name         36688 non-null  object \n",
      " 35  best_topic_perc         36688 non-null  float64\n",
      "dtypes: float64(4), int64(9), object(23)\n",
      "memory usage: 10.4+ MB\n"
     ]
    }
   ],
   "source": [
    "df.info()"
   ]
  },
  {
   "cell_type": "code",
   "execution_count": 19,
   "id": "9c2234ba-11d2-472a-914b-0049ab94e52f",
   "metadata": {
    "tags": []
   },
   "outputs": [],
   "source": [
    "df.inc_time = df.inc_time.str[:2]"
   ]
  },
  {
   "cell_type": "code",
   "execution_count": null,
   "id": "f53316f2-99c4-4d86-9221-32e925debbbd",
   "metadata": {
    "tags": []
   },
   "outputs": [],
   "source": []
  },
  {
   "cell_type": "code",
   "execution_count": 21,
   "id": "86f7a4e3-40ce-46e7-b949-875196f14063",
   "metadata": {
    "tags": []
   },
   "outputs": [],
   "source": [
    "X = df.drop(columns=['manner_of_death','race','best_topic_perc','best_topic_name','best_topic_num','long_topic','inc_date'])\n",
    "y = df.manner_of_death"
   ]
  },
  {
   "cell_type": "code",
   "execution_count": 30,
   "id": "3418a628-a50f-475f-a16b-b016748c06d9",
   "metadata": {
    "tags": []
   },
   "outputs": [],
   "source": [
    "X_train, X_test, y_train, y_test = train_test_split(X,y,random_state=512, stratify=y)"
   ]
  },
  {
   "cell_type": "code",
   "execution_count": 31,
   "id": "4d4533cb-8485-45f4-88c7-3e2055778a60",
   "metadata": {
    "tags": []
   },
   "outputs": [
    {
     "data": {
      "text/plain": [
       "1    0.671609\n",
       "0    0.328391\n",
       "Name: manner_of_death, dtype: float64"
      ]
     },
     "execution_count": 31,
     "metadata": {},
     "output_type": "execute_result"
    }
   ],
   "source": [
    "y_train.value_counts(normalize=True)"
   ]
  },
  {
   "cell_type": "code",
   "execution_count": 41,
   "id": "15767c96-bbe6-483c-b481-f69eb4815bb5",
   "metadata": {
    "tags": []
   },
   "outputs": [
    {
     "data": {
      "text/plain": [
       "28637    1\n",
       "29180    1\n",
       "19489    0\n",
       "15489    0\n",
       "20338    0\n",
       "        ..\n",
       "9765     1\n",
       "37132    0\n",
       "13043    1\n",
       "8834     1\n",
       "5819     1\n",
       "Name: manner_of_death, Length: 27516, dtype: int64"
      ]
     },
     "execution_count": 41,
     "metadata": {},
     "output_type": "execute_result"
    }
   ],
   "source": [
    "y_train"
   ]
  },
  {
   "cell_type": "code",
   "execution_count": null,
   "id": "58475c39-3a46-447b-9876-2c0b23ef5a26",
   "metadata": {
    "tags": []
   },
   "outputs": [],
   "source": []
  },
  {
   "cell_type": "code",
   "execution_count": 34,
   "id": "c9f4d9bc-6814-49a4-a141-a9ac0d9be99e",
   "metadata": {
    "tags": []
   },
   "outputs": [
    {
     "data": {
      "text/plain": [
       "(27516,)"
      ]
     },
     "execution_count": 34,
     "metadata": {},
     "output_type": "execute_result"
    }
   ],
   "source": [
    "y_train.shape"
   ]
  },
  {
   "cell_type": "code",
   "execution_count": 33,
   "id": "10a29266-7151-4c06-ae12-0ba464d368ae",
   "metadata": {
    "tags": []
   },
   "outputs": [
    {
     "data": {
      "text/plain": [
       "1    0.671609\n",
       "0    0.328391\n",
       "Name: manner_of_death, dtype: float64"
      ]
     },
     "execution_count": 33,
     "metadata": {},
     "output_type": "execute_result"
    }
   ],
   "source": [
    "y_test.value_counts(normalize=True)"
   ]
  },
  {
   "cell_type": "code",
   "execution_count": 35,
   "id": "78ea8f16-cfe0-4265-963e-d81754102805",
   "metadata": {
    "tags": []
   },
   "outputs": [
    {
     "data": {
      "text/plain": [
       "(9172,)"
      ]
     },
     "execution_count": 35,
     "metadata": {},
     "output_type": "execute_result"
    }
   ],
   "source": [
    "y_test.shape"
   ]
  },
  {
   "cell_type": "code",
   "execution_count": 32,
   "id": "a8694e0d-169c-452b-8660-b6a502b33049",
   "metadata": {
    "tags": []
   },
   "outputs": [
    {
     "data": {
      "text/plain": [
       "1    0.671609\n",
       "0    0.328391\n",
       "Name: manner_of_death, dtype: float64"
      ]
     },
     "execution_count": 32,
     "metadata": {},
     "output_type": "execute_result"
    }
   ],
   "source": [
    "y.value_counts(normalize=True)"
   ]
  },
  {
   "cell_type": "code",
   "execution_count": 36,
   "id": "c0dfffb7-9cef-4a83-9a7c-245cda9f8d84",
   "metadata": {
    "tags": []
   },
   "outputs": [
    {
     "data": {
      "text/plain": [
       "(36688,)"
      ]
     },
     "execution_count": 36,
     "metadata": {},
     "output_type": "execute_result"
    }
   ],
   "source": [
    "y.shape"
   ]
  },
  {
   "cell_type": "code",
   "execution_count": 42,
   "id": "a8749324-2e4b-4ca1-bfe1-45879bd678b0",
   "metadata": {
    "tags": []
   },
   "outputs": [],
   "source": [
    "accidents = df[df['manner_of_death'] == 'ACCIDENT']\n",
    "Xaccidents= accidents.drop(columns=['manner_of_death','race','best_topic_perc','best_topic_name','best_topic_num','long_topic','inc_date'])\n",
    "yaccidents = accidents.manner_of_death\n",
    "non_accidents = df[df['manner_of_death'] != 'ACCIDENT']\n",
    "Xnon_accidents= non_accidents.drop(columns=['manner_of_death','race','best_topic_perc','best_topic_name','best_topic_num','long_topic','inc_date'])\n",
    "ynon_accidents = non_accidents.manner_of_death"
   ]
  },
  {
   "cell_type": "code",
   "execution_count": 46,
   "id": "82924e65-a86f-4231-8808-5b071f0a24d1",
   "metadata": {
    "tags": []
   },
   "outputs": [
    {
     "data": {
      "text/plain": [
       "Series([], Name: manner_of_death, dtype: int64)"
      ]
     },
     "execution_count": 46,
     "metadata": {},
     "output_type": "execute_result"
    }
   ],
   "source": [
    "yaccidents"
   ]
  },
  {
   "cell_type": "code",
   "execution_count": null,
   "id": "c0b11a87-aabd-44ae-b74b-512ca6596951",
   "metadata": {
    "tags": []
   },
   "outputs": [],
   "source": [
    "X_train, X_test, y_train, y_test = train_test_split(X,y,random_state=512, stratify=y)"
   ]
  },
  {
   "cell_type": "code",
   "execution_count": null,
   "id": "f8f37876-764a-4a59-9d45-4baaa1ace55e",
   "metadata": {},
   "outputs": [],
   "source": []
  }
 ],
 "metadata": {
  "kernelspec": {
   "display_name": "Python 3 (ipykernel)",
   "language": "python",
   "name": "python3"
  },
  "language_info": {
   "codemirror_mode": {
    "name": "ipython",
    "version": 3
   },
   "file_extension": ".py",
   "mimetype": "text/x-python",
   "name": "python",
   "nbconvert_exporter": "python",
   "pygments_lexer": "ipython3",
   "version": "3.11.4"
  }
 },
 "nbformat": 4,
 "nbformat_minor": 5
}
