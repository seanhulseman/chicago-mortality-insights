{
 "cells": [
  {
   "cell_type": "markdown",
   "id": "95aaf754",
   "metadata": {},
   "source": [
    "Author: Qingxin Wei"
   ]
  },
  {
   "cell_type": "code",
   "execution_count": 17,
   "id": "3b4421ff",
   "metadata": {},
   "outputs": [],
   "source": [
    "import pandas as pd\n",
    "import numpy as np\n",
    "import pickle\n",
    "from sklearn.model_selection import train_test_split\n",
    "from sklearn.metrics import confusion_matrix"
   ]
  },
  {
   "cell_type": "code",
   "execution_count": 4,
   "id": "f9d88a96",
   "metadata": {},
   "outputs": [],
   "source": [
    "# Reading from dataset\n",
    "df = pd.read_csv('./final_data/df_with_topics.csv')"
   ]
  },
  {
   "cell_type": "code",
   "execution_count": 5,
   "id": "59a97d74",
   "metadata": {},
   "outputs": [],
   "source": [
    "# dropping nan value\n",
    "df.dropna(inplace=True)"
   ]
  },
  {
   "cell_type": "code",
   "execution_count": 6,
   "id": "9183e9e3",
   "metadata": {},
   "outputs": [],
   "source": [
    "df['manner_of_death'] = np.where(df['manner_of_death'] == 'ACCIDENT',1,0)"
   ]
  },
  {
   "cell_type": "code",
   "execution_count": 7,
   "id": "e713cf5c",
   "metadata": {},
   "outputs": [],
   "source": [
    "# reproducing training and testing data\n",
    "X = df['primary_cause']\n",
    "y = df['manner_of_death']"
   ]
  },
  {
   "cell_type": "code",
   "execution_count": 10,
   "id": "479db4dd",
   "metadata": {},
   "outputs": [],
   "source": [
    "X_train,X_test,y_train,y_test = train_test_split(X,y,random_state =404)"
   ]
  },
  {
   "cell_type": "code",
   "execution_count": 12,
   "id": "b3112b01",
   "metadata": {},
   "outputs": [],
   "source": [
    "# Unpickle the prediction from RNN model\n",
    "with open('./pickled_data/ans01.pkl','rb') as pickle_in:\n",
    "    prediction = pickle.load(pickle_in)   "
   ]
  },
  {
   "cell_type": "code",
   "execution_count": 18,
   "id": "b244e7b7",
   "metadata": {},
   "outputs": [],
   "source": [
    "# making confusion matrix\n",
    "cm = confusion_matrix(y_test,prediction)"
   ]
  },
  {
   "cell_type": "code",
   "execution_count": 19,
   "id": "e42bb112",
   "metadata": {},
   "outputs": [],
   "source": [
    "cm_df = pd.DataFrame(cm, columns=['pred non_accident', 'pred accident'], index=['actual non_accident', 'actual accident'])"
   ]
  },
  {
   "cell_type": "code",
   "execution_count": 26,
   "id": "26a42efb",
   "metadata": {},
   "outputs": [],
   "source": [
    "cm_df.to_csv('confusion_mx.csv')"
   ]
  },
  {
   "cell_type": "code",
   "execution_count": 23,
   "id": "a3d39929",
   "metadata": {},
   "outputs": [
    {
     "data": {
      "text/plain": [
       "1    0.678914\n",
       "0    0.321086\n",
       "Name: manner_of_death, dtype: float64"
      ]
     },
     "execution_count": 23,
     "metadata": {},
     "output_type": "execute_result"
    }
   ],
   "source": [
    "y_test.value_counts(normalize=True)"
   ]
  },
  {
   "cell_type": "code",
   "execution_count": 24,
   "id": "81f93255",
   "metadata": {},
   "outputs": [
    {
     "data": {
      "text/plain": [
       "0.9773921350103487"
      ]
     },
     "execution_count": 24,
     "metadata": {},
     "output_type": "execute_result"
    }
   ],
   "source": [
    "# precision\n",
    "6139/(142+6139)"
   ]
  },
  {
   "cell_type": "code",
   "execution_count": 25,
   "id": "828a06ed",
   "metadata": {},
   "outputs": [
    {
     "data": {
      "text/plain": [
       "0.985867994218725"
      ]
     },
     "execution_count": 25,
     "metadata": {},
     "output_type": "execute_result"
    }
   ],
   "source": [
    "# recall\n",
    "6139/(88+6139)"
   ]
  },
  {
   "cell_type": "code",
   "execution_count": 27,
   "id": "959a0cea",
   "metadata": {},
   "outputs": [
    {
     "data": {
      "text/html": [
       "<div>\n",
       "<style scoped>\n",
       "    .dataframe tbody tr th:only-of-type {\n",
       "        vertical-align: middle;\n",
       "    }\n",
       "\n",
       "    .dataframe tbody tr th {\n",
       "        vertical-align: top;\n",
       "    }\n",
       "\n",
       "    .dataframe thead th {\n",
       "        text-align: right;\n",
       "    }\n",
       "</style>\n",
       "<table border=\"1\" class=\"dataframe\">\n",
       "  <thead>\n",
       "    <tr style=\"text-align: right;\">\n",
       "      <th></th>\n",
       "      <th>pred non_accident</th>\n",
       "      <th>pred accident</th>\n",
       "    </tr>\n",
       "  </thead>\n",
       "  <tbody>\n",
       "    <tr>\n",
       "      <th>actual non_accident</th>\n",
       "      <td>2803</td>\n",
       "      <td>142</td>\n",
       "    </tr>\n",
       "    <tr>\n",
       "      <th>actual accident</th>\n",
       "      <td>88</td>\n",
       "      <td>6139</td>\n",
       "    </tr>\n",
       "  </tbody>\n",
       "</table>\n",
       "</div>"
      ],
      "text/plain": [
       "                     pred non_accident  pred accident\n",
       "actual non_accident               2803            142\n",
       "actual accident                     88           6139"
      ]
     },
     "execution_count": 27,
     "metadata": {},
     "output_type": "execute_result"
    }
   ],
   "source": [
    "cm_df"
   ]
  }
 ],
 "metadata": {
  "kernelspec": {
   "display_name": "Python 3 (ipykernel)",
   "language": "python",
   "name": "python3"
  },
  "language_info": {
   "codemirror_mode": {
    "name": "ipython",
    "version": 3
   },
   "file_extension": ".py",
   "mimetype": "text/x-python",
   "name": "python",
   "nbconvert_exporter": "python",
   "pygments_lexer": "ipython3",
   "version": "3.11.3"
  }
 },
 "nbformat": 4,
 "nbformat_minor": 5
}
