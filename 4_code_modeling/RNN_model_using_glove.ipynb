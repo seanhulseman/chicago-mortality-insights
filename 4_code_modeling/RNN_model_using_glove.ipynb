{
 "cells": [
  {
   "cell_type": "markdown",
   "metadata": {},
   "source": [
    "Author: Qingxin Wei"
   ]
  },
  {
   "cell_type": "code",
   "execution_count": 1,
   "metadata": {
    "colab": {
     "base_uri": "https://localhost:8080/"
    },
    "id": "f44GUMxi8ZHc",
    "outputId": "fbe4c1af-36cd-4cdf-a1c0-df66d852c78d"
   },
   "outputs": [
    {
     "name": "stdout",
     "output_type": "stream",
     "text": [
      "Mounted at /content/drive\n"
     ]
    }
   ],
   "source": [
    "from google.colab import files,drive\n",
    "drive.mount('/content/drive')"
   ]
  },
  {
   "cell_type": "code",
   "execution_count": 2,
   "metadata": {
    "id": "TU80F-X-81Ju"
   },
   "outputs": [],
   "source": [
    "import os\n",
    "import shutil\n",
    "import pandas as pd\n",
    "import numpy as np\n",
    "from tensorflow import keras\n",
    "from tensorflow.keras import layers\n",
    "from sklearn.model_selection import train_test_split"
   ]
  },
  {
   "cell_type": "code",
   "execution_count": 3,
   "metadata": {
    "id": "S3FBABxc9liN"
   },
   "outputs": [],
   "source": [
    "df = pd.read_csv('/content/drive/MyDrive/Colab_Notebooks/NPL_GLOVE/df_with_topics.csv')"
   ]
  },
  {
   "cell_type": "code",
   "execution_count": 4,
   "metadata": {
    "id": "ucdu_i_K-EFh"
   },
   "outputs": [],
   "source": [
    "df.dropna(inplace=True)"
   ]
  },
  {
   "cell_type": "code",
   "execution_count": 5,
   "metadata": {
    "colab": {
     "base_uri": "https://localhost:8080/"
    },
    "id": "7lw4EjQA-Qvx",
    "outputId": "2f840419-7c3c-4023-da97-73c0348cafa9"
   },
   "outputs": [
    {
     "data": {
      "text/plain": [
       "(36688, 36)"
      ]
     },
     "execution_count": 5,
     "metadata": {},
     "output_type": "execute_result"
    }
   ],
   "source": [
    "df.shape"
   ]
  },
  {
   "cell_type": "code",
   "execution_count": 6,
   "metadata": {
    "colab": {
     "base_uri": "https://localhost:8080/",
     "height": 602
    },
    "id": "iKxa0tkZ-5vu",
    "outputId": "06b0e4a8-5dd3-429e-ced6-e33417e3e66f"
   },
   "outputs": [
    {
     "data": {
      "text/html": [
       "\n",
       "  <div id=\"df-6c520143-82b1-4033-9b34-da6ec5b4b71b\" class=\"colab-df-container\">\n",
       "    <div>\n",
       "<style scoped>\n",
       "    .dataframe tbody tr th:only-of-type {\n",
       "        vertical-align: middle;\n",
       "    }\n",
       "\n",
       "    .dataframe tbody tr th {\n",
       "        vertical-align: top;\n",
       "    }\n",
       "\n",
       "    .dataframe thead th {\n",
       "        text-align: right;\n",
       "    }\n",
       "</style>\n",
       "<table border=\"1\" class=\"dataframe\">\n",
       "  <thead>\n",
       "    <tr style=\"text-align: right;\">\n",
       "      <th></th>\n",
       "      <th>date_of_incident</th>\n",
       "      <th>date_of_death</th>\n",
       "      <th>age</th>\n",
       "      <th>gender</th>\n",
       "      <th>race</th>\n",
       "      <th>latino</th>\n",
       "      <th>manner_of_death</th>\n",
       "      <th>primary_cause</th>\n",
       "      <th>primary_cause_line_a</th>\n",
       "      <th>primary_cause_line_b</th>\n",
       "      <th>...</th>\n",
       "      <th>death_date</th>\n",
       "      <th>death_time</th>\n",
       "      <th>death_day</th>\n",
       "      <th>inc_date</th>\n",
       "      <th>inc_time</th>\n",
       "      <th>inc_day</th>\n",
       "      <th>long_topic</th>\n",
       "      <th>best_topic_num</th>\n",
       "      <th>best_topic_name</th>\n",
       "      <th>best_topic_perc</th>\n",
       "    </tr>\n",
       "  </thead>\n",
       "  <tbody>\n",
       "    <tr>\n",
       "      <th>0</th>\n",
       "      <td>2023-10-24 00:43:00</td>\n",
       "      <td>2023-10-25 00:11:00</td>\n",
       "      <td>22.0</td>\n",
       "      <td>1</td>\n",
       "      <td>Black</td>\n",
       "      <td>0</td>\n",
       "      <td>ACCIDENT</td>\n",
       "      <td>MULTIPLE BLUNT FORCE INJURIES. MOTOR VEHICLE C...</td>\n",
       "      <td>MULTIPLE BLUNT FORCE INJURIES</td>\n",
       "      <td>MOTOR VEHICLE COLLISION</td>\n",
       "      <td>...</td>\n",
       "      <td>2023-10-25</td>\n",
       "      <td>00:11:00</td>\n",
       "      <td>Wednesday</td>\n",
       "      <td>2023-10-24</td>\n",
       "      <td>00:43:00</td>\n",
       "      <td>Tuesday</td>\n",
       "      <td>[(0, 0.0100428155), (1, 0.01559641), (2, 0.948...</td>\n",
       "      <td>2</td>\n",
       "      <td>vehicle_collision</td>\n",
       "      <td>0.948506</td>\n",
       "    </tr>\n",
       "    <tr>\n",
       "      <th>1</th>\n",
       "      <td>2023-10-24 22:30:00</td>\n",
       "      <td>2023-10-24 21:51:00</td>\n",
       "      <td>35.0</td>\n",
       "      <td>0</td>\n",
       "      <td>Black</td>\n",
       "      <td>0</td>\n",
       "      <td>HOMICIDE</td>\n",
       "      <td>MULTIPLE GUNSHOT WOUNDS</td>\n",
       "      <td>MULTIPLE GUNSHOT WOUNDS</td>\n",
       "      <td>no_text</td>\n",
       "      <td>...</td>\n",
       "      <td>2023-10-24</td>\n",
       "      <td>21:51:00</td>\n",
       "      <td>Tuesday</td>\n",
       "      <td>2023-10-24</td>\n",
       "      <td>22:30:00</td>\n",
       "      <td>Tuesday</td>\n",
       "      <td>[(0, 0.018974014), (1, 0.91878027), (2, 0.0133...</td>\n",
       "      <td>1</td>\n",
       "      <td>gunshot_wounds_fall</td>\n",
       "      <td>0.918780</td>\n",
       "    </tr>\n",
       "    <tr>\n",
       "      <th>2</th>\n",
       "      <td>2023-10-24 21:18:00</td>\n",
       "      <td>2023-10-24 20:36:00</td>\n",
       "      <td>54.0</td>\n",
       "      <td>0</td>\n",
       "      <td>White</td>\n",
       "      <td>0</td>\n",
       "      <td>SUICIDE</td>\n",
       "      <td>GUNSHOT WOUND OF HEAD</td>\n",
       "      <td>GUNSHOT WOUND OF HEAD</td>\n",
       "      <td>no_text</td>\n",
       "      <td>...</td>\n",
       "      <td>2023-10-24</td>\n",
       "      <td>20:36:00</td>\n",
       "      <td>Tuesday</td>\n",
       "      <td>2023-10-24</td>\n",
       "      <td>21:18:00</td>\n",
       "      <td>Tuesday</td>\n",
       "      <td>[(0, 0.90828776), (1, 0.029466497), (2, 0.0133...</td>\n",
       "      <td>0</td>\n",
       "      <td>one_gunshot_wound</td>\n",
       "      <td>0.908288</td>\n",
       "    </tr>\n",
       "    <tr>\n",
       "      <th>3</th>\n",
       "      <td>2023-10-24 07:48:00</td>\n",
       "      <td>2023-10-24 07:16:00</td>\n",
       "      <td>19.0</td>\n",
       "      <td>0</td>\n",
       "      <td>Black</td>\n",
       "      <td>0</td>\n",
       "      <td>HOMICIDE</td>\n",
       "      <td>MULTIPLE GUNSHOT WOUNDS</td>\n",
       "      <td>MULTIPLE GUNSHOT WOUNDS</td>\n",
       "      <td>no_text</td>\n",
       "      <td>...</td>\n",
       "      <td>2023-10-24</td>\n",
       "      <td>07:16:00</td>\n",
       "      <td>Tuesday</td>\n",
       "      <td>2023-10-24</td>\n",
       "      <td>07:48:00</td>\n",
       "      <td>Tuesday</td>\n",
       "      <td>[(0, 0.018974014), (1, 0.91878027), (2, 0.0133...</td>\n",
       "      <td>1</td>\n",
       "      <td>gunshot_wounds_fall</td>\n",
       "      <td>0.918780</td>\n",
       "    </tr>\n",
       "    <tr>\n",
       "      <th>4</th>\n",
       "      <td>2023-10-23 22:21:00</td>\n",
       "      <td>2023-10-23 21:29:00</td>\n",
       "      <td>41.0</td>\n",
       "      <td>0</td>\n",
       "      <td>Black</td>\n",
       "      <td>0</td>\n",
       "      <td>HOMICIDE</td>\n",
       "      <td>MULTIPLE GUNSHOT WOUNDS</td>\n",
       "      <td>MULTIPLE GUNSHOT WOUNDS</td>\n",
       "      <td>no_text</td>\n",
       "      <td>...</td>\n",
       "      <td>2023-10-23</td>\n",
       "      <td>21:29:00</td>\n",
       "      <td>Monday</td>\n",
       "      <td>2023-10-23</td>\n",
       "      <td>22:21:00</td>\n",
       "      <td>Monday</td>\n",
       "      <td>[(0, 0.018974014), (1, 0.91878027), (2, 0.0133...</td>\n",
       "      <td>1</td>\n",
       "      <td>gunshot_wounds_fall</td>\n",
       "      <td>0.918780</td>\n",
       "    </tr>\n",
       "  </tbody>\n",
       "</table>\n",
       "<p>5 rows × 36 columns</p>\n",
       "</div>\n",
       "    <div class=\"colab-df-buttons\">\n",
       "\n",
       "  <div class=\"colab-df-container\">\n",
       "    <button class=\"colab-df-convert\" onclick=\"convertToInteractive('df-6c520143-82b1-4033-9b34-da6ec5b4b71b')\"\n",
       "            title=\"Convert this dataframe to an interactive table.\"\n",
       "            style=\"display:none;\">\n",
       "\n",
       "  <svg xmlns=\"http://www.w3.org/2000/svg\" height=\"24px\" viewBox=\"0 -960 960 960\">\n",
       "    <path d=\"M120-120v-720h720v720H120Zm60-500h600v-160H180v160Zm220 220h160v-160H400v160Zm0 220h160v-160H400v160ZM180-400h160v-160H180v160Zm440 0h160v-160H620v160ZM180-180h160v-160H180v160Zm440 0h160v-160H620v160Z\"/>\n",
       "  </svg>\n",
       "    </button>\n",
       "\n",
       "  <style>\n",
       "    .colab-df-container {\n",
       "      display:flex;\n",
       "      gap: 12px;\n",
       "    }\n",
       "\n",
       "    .colab-df-convert {\n",
       "      background-color: #E8F0FE;\n",
       "      border: none;\n",
       "      border-radius: 50%;\n",
       "      cursor: pointer;\n",
       "      display: none;\n",
       "      fill: #1967D2;\n",
       "      height: 32px;\n",
       "      padding: 0 0 0 0;\n",
       "      width: 32px;\n",
       "    }\n",
       "\n",
       "    .colab-df-convert:hover {\n",
       "      background-color: #E2EBFA;\n",
       "      box-shadow: 0px 1px 2px rgba(60, 64, 67, 0.3), 0px 1px 3px 1px rgba(60, 64, 67, 0.15);\n",
       "      fill: #174EA6;\n",
       "    }\n",
       "\n",
       "    .colab-df-buttons div {\n",
       "      margin-bottom: 4px;\n",
       "    }\n",
       "\n",
       "    [theme=dark] .colab-df-convert {\n",
       "      background-color: #3B4455;\n",
       "      fill: #D2E3FC;\n",
       "    }\n",
       "\n",
       "    [theme=dark] .colab-df-convert:hover {\n",
       "      background-color: #434B5C;\n",
       "      box-shadow: 0px 1px 3px 1px rgba(0, 0, 0, 0.15);\n",
       "      filter: drop-shadow(0px 1px 2px rgba(0, 0, 0, 0.3));\n",
       "      fill: #FFFFFF;\n",
       "    }\n",
       "  </style>\n",
       "\n",
       "    <script>\n",
       "      const buttonEl =\n",
       "        document.querySelector('#df-6c520143-82b1-4033-9b34-da6ec5b4b71b button.colab-df-convert');\n",
       "      buttonEl.style.display =\n",
       "        google.colab.kernel.accessAllowed ? 'block' : 'none';\n",
       "\n",
       "      async function convertToInteractive(key) {\n",
       "        const element = document.querySelector('#df-6c520143-82b1-4033-9b34-da6ec5b4b71b');\n",
       "        const dataTable =\n",
       "          await google.colab.kernel.invokeFunction('convertToInteractive',\n",
       "                                                    [key], {});\n",
       "        if (!dataTable) return;\n",
       "\n",
       "        const docLinkHtml = 'Like what you see? Visit the ' +\n",
       "          '<a target=\"_blank\" href=https://colab.research.google.com/notebooks/data_table.ipynb>data table notebook</a>'\n",
       "          + ' to learn more about interactive tables.';\n",
       "        element.innerHTML = '';\n",
       "        dataTable['output_type'] = 'display_data';\n",
       "        await google.colab.output.renderOutput(dataTable, element);\n",
       "        const docLink = document.createElement('div');\n",
       "        docLink.innerHTML = docLinkHtml;\n",
       "        element.appendChild(docLink);\n",
       "      }\n",
       "    </script>\n",
       "  </div>\n",
       "\n",
       "\n",
       "<div id=\"df-a9fb6c83-a45c-4223-b55e-4372536d8dd4\">\n",
       "  <button class=\"colab-df-quickchart\" onclick=\"quickchart('df-a9fb6c83-a45c-4223-b55e-4372536d8dd4')\"\n",
       "            title=\"Suggest charts\"\n",
       "            style=\"display:none;\">\n",
       "\n",
       "<svg xmlns=\"http://www.w3.org/2000/svg\" height=\"24px\"viewBox=\"0 0 24 24\"\n",
       "     width=\"24px\">\n",
       "    <g>\n",
       "        <path d=\"M19 3H5c-1.1 0-2 .9-2 2v14c0 1.1.9 2 2 2h14c1.1 0 2-.9 2-2V5c0-1.1-.9-2-2-2zM9 17H7v-7h2v7zm4 0h-2V7h2v10zm4 0h-2v-4h2v4z\"/>\n",
       "    </g>\n",
       "</svg>\n",
       "  </button>\n",
       "\n",
       "<style>\n",
       "  .colab-df-quickchart {\n",
       "      --bg-color: #E8F0FE;\n",
       "      --fill-color: #1967D2;\n",
       "      --hover-bg-color: #E2EBFA;\n",
       "      --hover-fill-color: #174EA6;\n",
       "      --disabled-fill-color: #AAA;\n",
       "      --disabled-bg-color: #DDD;\n",
       "  }\n",
       "\n",
       "  [theme=dark] .colab-df-quickchart {\n",
       "      --bg-color: #3B4455;\n",
       "      --fill-color: #D2E3FC;\n",
       "      --hover-bg-color: #434B5C;\n",
       "      --hover-fill-color: #FFFFFF;\n",
       "      --disabled-bg-color: #3B4455;\n",
       "      --disabled-fill-color: #666;\n",
       "  }\n",
       "\n",
       "  .colab-df-quickchart {\n",
       "    background-color: var(--bg-color);\n",
       "    border: none;\n",
       "    border-radius: 50%;\n",
       "    cursor: pointer;\n",
       "    display: none;\n",
       "    fill: var(--fill-color);\n",
       "    height: 32px;\n",
       "    padding: 0;\n",
       "    width: 32px;\n",
       "  }\n",
       "\n",
       "  .colab-df-quickchart:hover {\n",
       "    background-color: var(--hover-bg-color);\n",
       "    box-shadow: 0 1px 2px rgba(60, 64, 67, 0.3), 0 1px 3px 1px rgba(60, 64, 67, 0.15);\n",
       "    fill: var(--button-hover-fill-color);\n",
       "  }\n",
       "\n",
       "  .colab-df-quickchart-complete:disabled,\n",
       "  .colab-df-quickchart-complete:disabled:hover {\n",
       "    background-color: var(--disabled-bg-color);\n",
       "    fill: var(--disabled-fill-color);\n",
       "    box-shadow: none;\n",
       "  }\n",
       "\n",
       "  .colab-df-spinner {\n",
       "    border: 2px solid var(--fill-color);\n",
       "    border-color: transparent;\n",
       "    border-bottom-color: var(--fill-color);\n",
       "    animation:\n",
       "      spin 1s steps(1) infinite;\n",
       "  }\n",
       "\n",
       "  @keyframes spin {\n",
       "    0% {\n",
       "      border-color: transparent;\n",
       "      border-bottom-color: var(--fill-color);\n",
       "      border-left-color: var(--fill-color);\n",
       "    }\n",
       "    20% {\n",
       "      border-color: transparent;\n",
       "      border-left-color: var(--fill-color);\n",
       "      border-top-color: var(--fill-color);\n",
       "    }\n",
       "    30% {\n",
       "      border-color: transparent;\n",
       "      border-left-color: var(--fill-color);\n",
       "      border-top-color: var(--fill-color);\n",
       "      border-right-color: var(--fill-color);\n",
       "    }\n",
       "    40% {\n",
       "      border-color: transparent;\n",
       "      border-right-color: var(--fill-color);\n",
       "      border-top-color: var(--fill-color);\n",
       "    }\n",
       "    60% {\n",
       "      border-color: transparent;\n",
       "      border-right-color: var(--fill-color);\n",
       "    }\n",
       "    80% {\n",
       "      border-color: transparent;\n",
       "      border-right-color: var(--fill-color);\n",
       "      border-bottom-color: var(--fill-color);\n",
       "    }\n",
       "    90% {\n",
       "      border-color: transparent;\n",
       "      border-bottom-color: var(--fill-color);\n",
       "    }\n",
       "  }\n",
       "</style>\n",
       "\n",
       "  <script>\n",
       "    async function quickchart(key) {\n",
       "      const quickchartButtonEl =\n",
       "        document.querySelector('#' + key + ' button');\n",
       "      quickchartButtonEl.disabled = true;  // To prevent multiple clicks.\n",
       "      quickchartButtonEl.classList.add('colab-df-spinner');\n",
       "      try {\n",
       "        const charts = await google.colab.kernel.invokeFunction(\n",
       "            'suggestCharts', [key], {});\n",
       "      } catch (error) {\n",
       "        console.error('Error during call to suggestCharts:', error);\n",
       "      }\n",
       "      quickchartButtonEl.classList.remove('colab-df-spinner');\n",
       "      quickchartButtonEl.classList.add('colab-df-quickchart-complete');\n",
       "    }\n",
       "    (() => {\n",
       "      let quickchartButtonEl =\n",
       "        document.querySelector('#df-a9fb6c83-a45c-4223-b55e-4372536d8dd4 button');\n",
       "      quickchartButtonEl.style.display =\n",
       "        google.colab.kernel.accessAllowed ? 'block' : 'none';\n",
       "    })();\n",
       "  </script>\n",
       "</div>\n",
       "    </div>\n",
       "  </div>\n"
      ],
      "text/plain": [
       "      date_of_incident        date_of_death   age  gender   race  latino  \\\n",
       "0  2023-10-24 00:43:00  2023-10-25 00:11:00  22.0       1  Black       0   \n",
       "1  2023-10-24 22:30:00  2023-10-24 21:51:00  35.0       0  Black       0   \n",
       "2  2023-10-24 21:18:00  2023-10-24 20:36:00  54.0       0  White       0   \n",
       "3  2023-10-24 07:48:00  2023-10-24 07:16:00  19.0       0  Black       0   \n",
       "4  2023-10-23 22:21:00  2023-10-23 21:29:00  41.0       0  Black       0   \n",
       "\n",
       "  manner_of_death                                      primary_cause  \\\n",
       "0        ACCIDENT  MULTIPLE BLUNT FORCE INJURIES. MOTOR VEHICLE C...   \n",
       "1        HOMICIDE                            MULTIPLE GUNSHOT WOUNDS   \n",
       "2         SUICIDE                              GUNSHOT WOUND OF HEAD   \n",
       "3        HOMICIDE                            MULTIPLE GUNSHOT WOUNDS   \n",
       "4        HOMICIDE                            MULTIPLE GUNSHOT WOUNDS   \n",
       "\n",
       "            primary_cause_line_a     primary_cause_line_b  ...  death_date  \\\n",
       "0  MULTIPLE BLUNT FORCE INJURIES  MOTOR VEHICLE COLLISION  ...  2023-10-25   \n",
       "1        MULTIPLE GUNSHOT WOUNDS                  no_text  ...  2023-10-24   \n",
       "2          GUNSHOT WOUND OF HEAD                  no_text  ...  2023-10-24   \n",
       "3        MULTIPLE GUNSHOT WOUNDS                  no_text  ...  2023-10-24   \n",
       "4        MULTIPLE GUNSHOT WOUNDS                  no_text  ...  2023-10-23   \n",
       "\n",
       "  death_time  death_day    inc_date  inc_time  inc_day  \\\n",
       "0   00:11:00  Wednesday  2023-10-24  00:43:00  Tuesday   \n",
       "1   21:51:00    Tuesday  2023-10-24  22:30:00  Tuesday   \n",
       "2   20:36:00    Tuesday  2023-10-24  21:18:00  Tuesday   \n",
       "3   07:16:00    Tuesday  2023-10-24  07:48:00  Tuesday   \n",
       "4   21:29:00     Monday  2023-10-23  22:21:00   Monday   \n",
       "\n",
       "                                          long_topic best_topic_num  \\\n",
       "0  [(0, 0.0100428155), (1, 0.01559641), (2, 0.948...              2   \n",
       "1  [(0, 0.018974014), (1, 0.91878027), (2, 0.0133...              1   \n",
       "2  [(0, 0.90828776), (1, 0.029466497), (2, 0.0133...              0   \n",
       "3  [(0, 0.018974014), (1, 0.91878027), (2, 0.0133...              1   \n",
       "4  [(0, 0.018974014), (1, 0.91878027), (2, 0.0133...              1   \n",
       "\n",
       "       best_topic_name  best_topic_perc  \n",
       "0    vehicle_collision         0.948506  \n",
       "1  gunshot_wounds_fall         0.918780  \n",
       "2    one_gunshot_wound         0.908288  \n",
       "3  gunshot_wounds_fall         0.918780  \n",
       "4  gunshot_wounds_fall         0.918780  \n",
       "\n",
       "[5 rows x 36 columns]"
      ]
     },
     "execution_count": 6,
     "metadata": {},
     "output_type": "execute_result"
    }
   ],
   "source": [
    "df.head()"
   ]
  },
  {
   "cell_type": "code",
   "execution_count": 7,
   "metadata": {
    "id": "0vsp7ptj_MMn"
   },
   "outputs": [],
   "source": [
    "df['manner_of_death'] = np.where(df['manner_of_death'] == 'ACCIDENT',1,0)"
   ]
  },
  {
   "cell_type": "code",
   "execution_count": 8,
   "metadata": {
    "id": "Xt-jyfWl-nxC"
   },
   "outputs": [],
   "source": [
    "X = df['primary_cause']\n",
    "y = df['manner_of_death']"
   ]
  },
  {
   "cell_type": "code",
   "execution_count": 9,
   "metadata": {
    "id": "ECMBiN3WBVSp"
   },
   "outputs": [],
   "source": [
    "X_train,X_test,y_train,y_test = train_test_split(X,y,random_state =404)"
   ]
  },
  {
   "cell_type": "code",
   "execution_count": 10,
   "metadata": {
    "id": "SfpASjETOIO7"
   },
   "outputs": [],
   "source": [
    "max_length = 400\n",
    "max_tokens = 20_000\n",
    "\n",
    "# Create an object that can process strings into integet incodings based on our\n",
    "# trainind data vocabulary.\n",
    "text_vectorization = keras.layers.TextVectorization(\n",
    "    max_tokens=max_tokens,\n",
    "    output_mode='int',\n",
    "    output_sequence_length=max_length\n",
    ")\n",
    "\n",
    "text_vectorization.adapt(X_train)"
   ]
  },
  {
   "cell_type": "code",
   "execution_count": 11,
   "metadata": {
    "id": "sI92mbTEV2pk"
   },
   "outputs": [],
   "source": [
    "X_train_int = text_vectorization(X_train)\n",
    "X_test_int = text_vectorization(X_test)"
   ]
  },
  {
   "cell_type": "code",
   "execution_count": 12,
   "metadata": {
    "colab": {
     "base_uri": "https://localhost:8080/"
    },
    "id": "JJocYAOj79gc",
    "outputId": "03d98dbb-78fb-4a7b-ac56-bd5075c0edd5"
   },
   "outputs": [
    {
     "data": {
      "text/plain": [
       "<tf.Tensor: shape=(27516, 400), dtype=int64, numpy=\n",
       "array([[ 72,   9,   4, ...,   0,   0,   0],\n",
       "       [249,  42, 183, ...,   0,   0,   0],\n",
       "       [ 14,   6,  47, ...,   0,   0,   0],\n",
       "       ...,\n",
       "       [  7,  19,   2, ...,   0,   0,   0],\n",
       "       [  7,  10,   2, ...,   0,   0,   0],\n",
       "       [  7,  10,   2, ...,   0,   0,   0]])>"
      ]
     },
     "execution_count": 12,
     "metadata": {},
     "output_type": "execute_result"
    }
   ],
   "source": [
    "X_train_int"
   ]
  },
  {
   "cell_type": "code",
   "execution_count": 13,
   "metadata": {
    "id": "_qFKccPi_k1k"
   },
   "outputs": [],
   "source": [
    "embeddings_ix = {}\n",
    "\n",
    "with open('/content/drive/MyDrive/Colab_Notebooks/glove.6B/glove.6B.100d.txt','r') as f:\n",
    "  for line in f:\n",
    "    word, coefs = line.split(maxsplit = 1)\n",
    "    coefs = np.fromstring(coefs,'f', sep =' ')\n",
    "    embeddings_ix[word] = coefs"
   ]
  },
  {
   "cell_type": "code",
   "execution_count": 14,
   "metadata": {
    "colab": {
     "base_uri": "https://localhost:8080/"
    },
    "id": "FlzolBUnAmpt",
    "outputId": "755fcdce-7672-4fcd-d8a3-4984ec3ab906"
   },
   "outputs": [
    {
     "data": {
      "text/plain": [
       "array([ 0.23088,  0.28283,  0.6318 , -0.59411], dtype=float32)"
      ]
     },
     "execution_count": 14,
     "metadata": {},
     "output_type": "execute_result"
    }
   ],
   "source": [
    "embeddings_ix['cat'][:4]"
   ]
  },
  {
   "cell_type": "code",
   "execution_count": 15,
   "metadata": {
    "id": "FbnxH4MNKAal"
   },
   "outputs": [],
   "source": [
    "embedding_dim = 100\n",
    "\n",
    "vocab = text_vectorization.get_vocabulary()\n",
    "word_ix = dict(enumerate(vocab))\n",
    "word_ix = {word:i for i,word in word_ix.items()}"
   ]
  },
  {
   "cell_type": "code",
   "execution_count": 16,
   "metadata": {
    "id": "aZG__pEvO28Y"
   },
   "outputs": [],
   "source": [
    "embedding_mx = np.zeros((max_tokens,embedding_dim))\n",
    "\n",
    "for word,i in word_ix.items():\n",
    "  if i < max_tokens:\n",
    "    embed_vector = embeddings_ix.get(word)\n",
    "\n",
    "  if embed_vector is not None:\n",
    "    embedding_mx[i,:] = embed_vector"
   ]
  },
  {
   "cell_type": "code",
   "execution_count": 17,
   "metadata": {
    "id": "DBf11e20Q_OU"
   },
   "outputs": [],
   "source": [
    "# \"forzen\" embedding layer\n",
    "glove_layer = layers.Embedding(\n",
    "    max_tokens,\n",
    "    embedding_dim,\n",
    "    embeddings_initializer = keras.initializers.Constant(embedding_mx),\n",
    "    trainable = False,\n",
    "    mask_zero = True\n",
    ")"
   ]
  },
  {
   "cell_type": "code",
   "execution_count": 18,
   "metadata": {
    "colab": {
     "base_uri": "https://localhost:8080/"
    },
    "id": "fNVEdazzSMHY",
    "outputId": "d1b99b75-58d8-4142-ab16-a540f19f25e2"
   },
   "outputs": [
    {
     "name": "stdout",
     "output_type": "stream",
     "text": [
      "Model: \"model\"\n",
      "_________________________________________________________________\n",
      " Layer (type)                Output Shape              Param #   \n",
      "=================================================================\n",
      " input_1 (InputLayer)        [(None, None)]            0         \n",
      "                                                                 \n",
      " embedding (Embedding)       (None, None, 100)         2000000   \n",
      "                                                                 \n",
      " bidirectional (Bidirection  (None, 64)                34048     \n",
      " al)                                                             \n",
      "                                                                 \n",
      " dropout (Dropout)           (None, 64)                0         \n",
      "                                                                 \n",
      " dense (Dense)               (None, 1)                 65        \n",
      "                                                                 \n",
      "=================================================================\n",
      "Total params: 2034113 (7.76 MB)\n",
      "Trainable params: 34113 (133.25 KB)\n",
      "Non-trainable params: 2000000 (7.63 MB)\n",
      "_________________________________________________________________\n"
     ]
    }
   ],
   "source": [
    "inputs = keras.Input(shape=(None,))\n",
    "embedded = glove_layer(inputs)\n",
    "x = layers.Bidirectional(layers.LSTM(32))(embedded)\n",
    "x = layers.Dropout(0.2)(x)\n",
    "outputs = layers.Dense(1, activation='sigmoid')(x)\n",
    "model = keras.Model(inputs, outputs)\n",
    "\n",
    "model.compile(optimizer='rmsprop', loss='bce', metrics=['acc'])\n",
    "model.summary()"
   ]
  },
  {
   "cell_type": "code",
   "execution_count": 19,
   "metadata": {
    "colab": {
     "base_uri": "https://localhost:8080/"
    },
    "id": "3n1iTBezWvNu",
    "outputId": "c430185b-be2d-44e6-900b-b29c73b7689f"
   },
   "outputs": [
    {
     "name": "stdout",
     "output_type": "stream",
     "text": [
      "Epoch 1/5\n",
      "860/860 [==============================] - 407s 462ms/step - loss: 0.1173 - acc: 0.9608 - val_loss: 0.0825 - val_acc: 0.9695\n",
      "Epoch 2/5\n",
      "860/860 [==============================] - 393s 457ms/step - loss: 0.0833 - acc: 0.9692 - val_loss: 0.0809 - val_acc: 0.9706\n",
      "Epoch 3/5\n",
      "860/860 [==============================] - 391s 455ms/step - loss: 0.0770 - acc: 0.9721 - val_loss: 0.0806 - val_acc: 0.9735\n",
      "Epoch 4/5\n",
      "860/860 [==============================] - 392s 456ms/step - loss: 0.0740 - acc: 0.9730 - val_loss: 0.0801 - val_acc: 0.9735\n",
      "Epoch 5/5\n",
      "860/860 [==============================] - 393s 457ms/step - loss: 0.0706 - acc: 0.9749 - val_loss: 0.0765 - val_acc: 0.9749\n"
     ]
    }
   ],
   "source": [
    "hsitory = model.fit(\n",
    "    X_train_int,y_train,\n",
    "    validation_data = (X_test_int,y_test),\n",
    "    epochs =5\n",
    ")"
   ]
  },
  {
   "cell_type": "code",
   "execution_count": 25,
   "metadata": {
    "id": "mb3jH6-lgWQT"
   },
   "outputs": [],
   "source": [
    "import pickle"
   ]
  },
  {
   "cell_type": "code",
   "execution_count": 21,
   "metadata": {
    "id": "wTclpj2tgLGI"
   },
   "outputs": [],
   "source": [
    "# with open ('/content/drive/MyDrive/Colab_Notebooks/NPL_GLOVE/rnn.pkl','wb') as f:\n",
    "#     pickle.dump(model,f)"
   ]
  },
  {
   "cell_type": "code",
   "execution_count": 20,
   "metadata": {
    "colab": {
     "base_uri": "https://localhost:8080/"
    },
    "id": "9cXbQwaPivel",
    "outputId": "1258be3b-6ccf-437e-ad22-ea954a36a806"
   },
   "outputs": [
    {
     "name": "stdout",
     "output_type": "stream",
     "text": [
      "287/287 [==============================] - 31s 100ms/step\n"
     ]
    }
   ],
   "source": [
    "prediction = model.predict(X_test_int)"
   ]
  },
  {
   "cell_type": "code",
   "execution_count": 21,
   "metadata": {
    "colab": {
     "base_uri": "https://localhost:8080/"
    },
    "id": "P5Vx8LhEU94Q",
    "outputId": "bb3fdf22-afdb-49b6-d274-e009fec672cd"
   },
   "outputs": [
    {
     "data": {
      "text/plain": [
       "array([[0.9934284 ],\n",
       "       [0.742874  ],\n",
       "       [0.2928494 ],\n",
       "       ...,\n",
       "       [0.9987847 ],\n",
       "       [0.01989505],\n",
       "       [0.9992734 ]], dtype=float32)"
      ]
     },
     "execution_count": 21,
     "metadata": {},
     "output_type": "execute_result"
    }
   ],
   "source": [
    "prediction"
   ]
  },
  {
   "cell_type": "code",
   "execution_count": 22,
   "metadata": {
    "id": "d3nX9ujR9PwW"
   },
   "outputs": [],
   "source": [
    "ans = [num[0] for num in prediction]"
   ]
  },
  {
   "cell_type": "code",
   "execution_count": 23,
   "metadata": {
    "id": "JoZJso8ZLOne"
   },
   "outputs": [],
   "source": [
    "ans_1_0 = [round(num) for num in ans]"
   ]
  },
  {
   "cell_type": "code",
   "execution_count": 26,
   "metadata": {
    "id": "pdIesay3dSs4"
   },
   "outputs": [],
   "source": [
    "with open ('/content/drive/MyDrive/Colab_Notebooks/NPL_GLOVE/ans.pkl','wb') as f:\n",
    "     pickle.dump(ans,f)"
   ]
  },
  {
   "cell_type": "code",
   "execution_count": 27,
   "metadata": {
    "id": "vuRcAIksdRyf"
   },
   "outputs": [],
   "source": [
    "with open ('/content/drive/MyDrive/Colab_Notebooks/NPL_GLOVE/ans01.pkl','wb') as f:\n",
    "     pickle.dump(ans_1_0,f)"
   ]
  },
  {
   "cell_type": "code",
   "execution_count": 28,
   "metadata": {
    "id": "6quhVaAVLekc"
   },
   "outputs": [],
   "source": [
    "idx = 0\n",
    "wrong = []\n",
    "for p,a in zip(ans_1_0,y_test):\n",
    "  if p!=a:\n",
    "    wrong.append(idx)\n",
    "    idx +=1\n",
    "  else:\n",
    "    idx +=1"
   ]
  },
  {
   "cell_type": "code",
   "execution_count": 33,
   "metadata": {
    "id": "bIQoAptTr6gd"
   },
   "outputs": [],
   "source": [
    "# Predication on Real New Data"
   ]
  },
  {
   "cell_type": "code",
   "execution_count": 28,
   "metadata": {
    "id": "grNkL216sBOH"
   },
   "outputs": [],
   "source": [
    "unseen = pd.read_csv('/content/drive/MyDrive/Colab_Notebooks/NPL_GLOVE/serv_data.csv')"
   ]
  },
  {
   "cell_type": "code",
   "execution_count": 29,
   "metadata": {
    "id": "5RNOecmxsjqu"
   },
   "outputs": [],
   "source": [
    "update = unseen.loc[:,['case_number','MANNER_OF_DEATH']]"
   ]
  },
  {
   "cell_type": "code",
   "execution_count": 30,
   "metadata": {
    "colab": {
     "base_uri": "https://localhost:8080/"
    },
    "id": "HIY_xV2Vw9La",
    "outputId": "d4cf770d-990b-4838-d12a-535db1a7635e"
   },
   "outputs": [
    {
     "name": "stderr",
     "output_type": "stream",
     "text": [
      "<ipython-input-30-5c448131dc4f>:1: DtypeWarning: Columns (29) have mixed types. Specify dtype option on import or set low_memory=False.\n",
      "  pc = pd.read_csv('/content/drive/MyDrive/Colab_Notebooks/NPL_GLOVE/Medical_Examiner_Case_Archive_6Nov23.csv')\n"
     ]
    }
   ],
   "source": [
    "pc = pd.read_csv('/content/drive/MyDrive/Colab_Notebooks/NPL_GLOVE/Medical_Examiner_Case_Archive_6Nov23.csv')"
   ]
  },
  {
   "cell_type": "code",
   "execution_count": 31,
   "metadata": {
    "id": "azPq4ioexEPC"
   },
   "outputs": [],
   "source": [
    "pc_1 = pc.loc[:,['Case Number','Primary Cause','Manner of Death']]"
   ]
  },
  {
   "cell_type": "code",
   "execution_count": 32,
   "metadata": {
    "colab": {
     "base_uri": "https://localhost:8080/",
     "height": 206
    },
    "id": "sgQcVI9Gxx__",
    "outputId": "e9bcef08-b207-4d18-d212-209ebf3b1a83"
   },
   "outputs": [
    {
     "data": {
      "text/html": [
       "\n",
       "  <div id=\"df-2a359343-b39c-420c-8fdc-8e2a7ec710b9\" class=\"colab-df-container\">\n",
       "    <div>\n",
       "<style scoped>\n",
       "    .dataframe tbody tr th:only-of-type {\n",
       "        vertical-align: middle;\n",
       "    }\n",
       "\n",
       "    .dataframe tbody tr th {\n",
       "        vertical-align: top;\n",
       "    }\n",
       "\n",
       "    .dataframe thead th {\n",
       "        text-align: right;\n",
       "    }\n",
       "</style>\n",
       "<table border=\"1\" class=\"dataframe\">\n",
       "  <thead>\n",
       "    <tr style=\"text-align: right;\">\n",
       "      <th></th>\n",
       "      <th>Case Number</th>\n",
       "      <th>Primary Cause</th>\n",
       "      <th>Manner of Death</th>\n",
       "    </tr>\n",
       "  </thead>\n",
       "  <tbody>\n",
       "    <tr>\n",
       "      <th>0</th>\n",
       "      <td>ME2023-06609</td>\n",
       "      <td>NaN</td>\n",
       "      <td>NaN</td>\n",
       "    </tr>\n",
       "    <tr>\n",
       "      <th>1</th>\n",
       "      <td>ME2023-06608</td>\n",
       "      <td>NaN</td>\n",
       "      <td>NaN</td>\n",
       "    </tr>\n",
       "    <tr>\n",
       "      <th>2</th>\n",
       "      <td>ME2023-06607</td>\n",
       "      <td>NaN</td>\n",
       "      <td>NaN</td>\n",
       "    </tr>\n",
       "    <tr>\n",
       "      <th>3</th>\n",
       "      <td>ME2023-06606</td>\n",
       "      <td>NaN</td>\n",
       "      <td>NaN</td>\n",
       "    </tr>\n",
       "    <tr>\n",
       "      <th>4</th>\n",
       "      <td>ME2023-06605</td>\n",
       "      <td>NaN</td>\n",
       "      <td>NaN</td>\n",
       "    </tr>\n",
       "  </tbody>\n",
       "</table>\n",
       "</div>\n",
       "    <div class=\"colab-df-buttons\">\n",
       "\n",
       "  <div class=\"colab-df-container\">\n",
       "    <button class=\"colab-df-convert\" onclick=\"convertToInteractive('df-2a359343-b39c-420c-8fdc-8e2a7ec710b9')\"\n",
       "            title=\"Convert this dataframe to an interactive table.\"\n",
       "            style=\"display:none;\">\n",
       "\n",
       "  <svg xmlns=\"http://www.w3.org/2000/svg\" height=\"24px\" viewBox=\"0 -960 960 960\">\n",
       "    <path d=\"M120-120v-720h720v720H120Zm60-500h600v-160H180v160Zm220 220h160v-160H400v160Zm0 220h160v-160H400v160ZM180-400h160v-160H180v160Zm440 0h160v-160H620v160ZM180-180h160v-160H180v160Zm440 0h160v-160H620v160Z\"/>\n",
       "  </svg>\n",
       "    </button>\n",
       "\n",
       "  <style>\n",
       "    .colab-df-container {\n",
       "      display:flex;\n",
       "      gap: 12px;\n",
       "    }\n",
       "\n",
       "    .colab-df-convert {\n",
       "      background-color: #E8F0FE;\n",
       "      border: none;\n",
       "      border-radius: 50%;\n",
       "      cursor: pointer;\n",
       "      display: none;\n",
       "      fill: #1967D2;\n",
       "      height: 32px;\n",
       "      padding: 0 0 0 0;\n",
       "      width: 32px;\n",
       "    }\n",
       "\n",
       "    .colab-df-convert:hover {\n",
       "      background-color: #E2EBFA;\n",
       "      box-shadow: 0px 1px 2px rgba(60, 64, 67, 0.3), 0px 1px 3px 1px rgba(60, 64, 67, 0.15);\n",
       "      fill: #174EA6;\n",
       "    }\n",
       "\n",
       "    .colab-df-buttons div {\n",
       "      margin-bottom: 4px;\n",
       "    }\n",
       "\n",
       "    [theme=dark] .colab-df-convert {\n",
       "      background-color: #3B4455;\n",
       "      fill: #D2E3FC;\n",
       "    }\n",
       "\n",
       "    [theme=dark] .colab-df-convert:hover {\n",
       "      background-color: #434B5C;\n",
       "      box-shadow: 0px 1px 3px 1px rgba(0, 0, 0, 0.15);\n",
       "      filter: drop-shadow(0px 1px 2px rgba(0, 0, 0, 0.3));\n",
       "      fill: #FFFFFF;\n",
       "    }\n",
       "  </style>\n",
       "\n",
       "    <script>\n",
       "      const buttonEl =\n",
       "        document.querySelector('#df-2a359343-b39c-420c-8fdc-8e2a7ec710b9 button.colab-df-convert');\n",
       "      buttonEl.style.display =\n",
       "        google.colab.kernel.accessAllowed ? 'block' : 'none';\n",
       "\n",
       "      async function convertToInteractive(key) {\n",
       "        const element = document.querySelector('#df-2a359343-b39c-420c-8fdc-8e2a7ec710b9');\n",
       "        const dataTable =\n",
       "          await google.colab.kernel.invokeFunction('convertToInteractive',\n",
       "                                                    [key], {});\n",
       "        if (!dataTable) return;\n",
       "\n",
       "        const docLinkHtml = 'Like what you see? Visit the ' +\n",
       "          '<a target=\"_blank\" href=https://colab.research.google.com/notebooks/data_table.ipynb>data table notebook</a>'\n",
       "          + ' to learn more about interactive tables.';\n",
       "        element.innerHTML = '';\n",
       "        dataTable['output_type'] = 'display_data';\n",
       "        await google.colab.output.renderOutput(dataTable, element);\n",
       "        const docLink = document.createElement('div');\n",
       "        docLink.innerHTML = docLinkHtml;\n",
       "        element.appendChild(docLink);\n",
       "      }\n",
       "    </script>\n",
       "  </div>\n",
       "\n",
       "\n",
       "<div id=\"df-89a5584e-47bd-4b49-9333-28dd096ff021\">\n",
       "  <button class=\"colab-df-quickchart\" onclick=\"quickchart('df-89a5584e-47bd-4b49-9333-28dd096ff021')\"\n",
       "            title=\"Suggest charts\"\n",
       "            style=\"display:none;\">\n",
       "\n",
       "<svg xmlns=\"http://www.w3.org/2000/svg\" height=\"24px\"viewBox=\"0 0 24 24\"\n",
       "     width=\"24px\">\n",
       "    <g>\n",
       "        <path d=\"M19 3H5c-1.1 0-2 .9-2 2v14c0 1.1.9 2 2 2h14c1.1 0 2-.9 2-2V5c0-1.1-.9-2-2-2zM9 17H7v-7h2v7zm4 0h-2V7h2v10zm4 0h-2v-4h2v4z\"/>\n",
       "    </g>\n",
       "</svg>\n",
       "  </button>\n",
       "\n",
       "<style>\n",
       "  .colab-df-quickchart {\n",
       "      --bg-color: #E8F0FE;\n",
       "      --fill-color: #1967D2;\n",
       "      --hover-bg-color: #E2EBFA;\n",
       "      --hover-fill-color: #174EA6;\n",
       "      --disabled-fill-color: #AAA;\n",
       "      --disabled-bg-color: #DDD;\n",
       "  }\n",
       "\n",
       "  [theme=dark] .colab-df-quickchart {\n",
       "      --bg-color: #3B4455;\n",
       "      --fill-color: #D2E3FC;\n",
       "      --hover-bg-color: #434B5C;\n",
       "      --hover-fill-color: #FFFFFF;\n",
       "      --disabled-bg-color: #3B4455;\n",
       "      --disabled-fill-color: #666;\n",
       "  }\n",
       "\n",
       "  .colab-df-quickchart {\n",
       "    background-color: var(--bg-color);\n",
       "    border: none;\n",
       "    border-radius: 50%;\n",
       "    cursor: pointer;\n",
       "    display: none;\n",
       "    fill: var(--fill-color);\n",
       "    height: 32px;\n",
       "    padding: 0;\n",
       "    width: 32px;\n",
       "  }\n",
       "\n",
       "  .colab-df-quickchart:hover {\n",
       "    background-color: var(--hover-bg-color);\n",
       "    box-shadow: 0 1px 2px rgba(60, 64, 67, 0.3), 0 1px 3px 1px rgba(60, 64, 67, 0.15);\n",
       "    fill: var(--button-hover-fill-color);\n",
       "  }\n",
       "\n",
       "  .colab-df-quickchart-complete:disabled,\n",
       "  .colab-df-quickchart-complete:disabled:hover {\n",
       "    background-color: var(--disabled-bg-color);\n",
       "    fill: var(--disabled-fill-color);\n",
       "    box-shadow: none;\n",
       "  }\n",
       "\n",
       "  .colab-df-spinner {\n",
       "    border: 2px solid var(--fill-color);\n",
       "    border-color: transparent;\n",
       "    border-bottom-color: var(--fill-color);\n",
       "    animation:\n",
       "      spin 1s steps(1) infinite;\n",
       "  }\n",
       "\n",
       "  @keyframes spin {\n",
       "    0% {\n",
       "      border-color: transparent;\n",
       "      border-bottom-color: var(--fill-color);\n",
       "      border-left-color: var(--fill-color);\n",
       "    }\n",
       "    20% {\n",
       "      border-color: transparent;\n",
       "      border-left-color: var(--fill-color);\n",
       "      border-top-color: var(--fill-color);\n",
       "    }\n",
       "    30% {\n",
       "      border-color: transparent;\n",
       "      border-left-color: var(--fill-color);\n",
       "      border-top-color: var(--fill-color);\n",
       "      border-right-color: var(--fill-color);\n",
       "    }\n",
       "    40% {\n",
       "      border-color: transparent;\n",
       "      border-right-color: var(--fill-color);\n",
       "      border-top-color: var(--fill-color);\n",
       "    }\n",
       "    60% {\n",
       "      border-color: transparent;\n",
       "      border-right-color: var(--fill-color);\n",
       "    }\n",
       "    80% {\n",
       "      border-color: transparent;\n",
       "      border-right-color: var(--fill-color);\n",
       "      border-bottom-color: var(--fill-color);\n",
       "    }\n",
       "    90% {\n",
       "      border-color: transparent;\n",
       "      border-bottom-color: var(--fill-color);\n",
       "    }\n",
       "  }\n",
       "</style>\n",
       "\n",
       "  <script>\n",
       "    async function quickchart(key) {\n",
       "      const quickchartButtonEl =\n",
       "        document.querySelector('#' + key + ' button');\n",
       "      quickchartButtonEl.disabled = true;  // To prevent multiple clicks.\n",
       "      quickchartButtonEl.classList.add('colab-df-spinner');\n",
       "      try {\n",
       "        const charts = await google.colab.kernel.invokeFunction(\n",
       "            'suggestCharts', [key], {});\n",
       "      } catch (error) {\n",
       "        console.error('Error during call to suggestCharts:', error);\n",
       "      }\n",
       "      quickchartButtonEl.classList.remove('colab-df-spinner');\n",
       "      quickchartButtonEl.classList.add('colab-df-quickchart-complete');\n",
       "    }\n",
       "    (() => {\n",
       "      let quickchartButtonEl =\n",
       "        document.querySelector('#df-89a5584e-47bd-4b49-9333-28dd096ff021 button');\n",
       "      quickchartButtonEl.style.display =\n",
       "        google.colab.kernel.accessAllowed ? 'block' : 'none';\n",
       "    })();\n",
       "  </script>\n",
       "</div>\n",
       "    </div>\n",
       "  </div>\n"
      ],
      "text/plain": [
       "    Case Number Primary Cause Manner of Death\n",
       "0  ME2023-06609           NaN             NaN\n",
       "1  ME2023-06608           NaN             NaN\n",
       "2  ME2023-06607           NaN             NaN\n",
       "3  ME2023-06606           NaN             NaN\n",
       "4  ME2023-06605           NaN             NaN"
      ]
     },
     "execution_count": 32,
     "metadata": {},
     "output_type": "execute_result"
    }
   ],
   "source": [
    "pc_1.head()"
   ]
  },
  {
   "cell_type": "code",
   "execution_count": 33,
   "metadata": {
    "colab": {
     "base_uri": "https://localhost:8080/",
     "height": 206
    },
    "id": "ZN4McRZGx6ma",
    "outputId": "536875b6-c44e-4c67-fa71-0ac6ba0b45a7"
   },
   "outputs": [
    {
     "data": {
      "text/html": [
       "\n",
       "  <div id=\"df-a3a0feba-0e83-465c-abfd-428b8efc4347\" class=\"colab-df-container\">\n",
       "    <div>\n",
       "<style scoped>\n",
       "    .dataframe tbody tr th:only-of-type {\n",
       "        vertical-align: middle;\n",
       "    }\n",
       "\n",
       "    .dataframe tbody tr th {\n",
       "        vertical-align: top;\n",
       "    }\n",
       "\n",
       "    .dataframe thead th {\n",
       "        text-align: right;\n",
       "    }\n",
       "</style>\n",
       "<table border=\"1\" class=\"dataframe\">\n",
       "  <thead>\n",
       "    <tr style=\"text-align: right;\">\n",
       "      <th></th>\n",
       "      <th>case_number</th>\n",
       "      <th>MANNER_OF_DEATH</th>\n",
       "    </tr>\n",
       "  </thead>\n",
       "  <tbody>\n",
       "    <tr>\n",
       "      <th>0</th>\n",
       "      <td>ME2023-06353</td>\n",
       "      <td>ACCIDENT</td>\n",
       "    </tr>\n",
       "    <tr>\n",
       "      <th>1</th>\n",
       "      <td>ME2023-06352</td>\n",
       "      <td>SUICIDE</td>\n",
       "    </tr>\n",
       "    <tr>\n",
       "      <th>2</th>\n",
       "      <td>ME2023-06347</td>\n",
       "      <td>HOMICIDE</td>\n",
       "    </tr>\n",
       "    <tr>\n",
       "      <th>3</th>\n",
       "      <td>ME2023-06344</td>\n",
       "      <td>ACCIDENT</td>\n",
       "    </tr>\n",
       "    <tr>\n",
       "      <th>4</th>\n",
       "      <td>ME2023-06343</td>\n",
       "      <td>ACCIDENT</td>\n",
       "    </tr>\n",
       "  </tbody>\n",
       "</table>\n",
       "</div>\n",
       "    <div class=\"colab-df-buttons\">\n",
       "\n",
       "  <div class=\"colab-df-container\">\n",
       "    <button class=\"colab-df-convert\" onclick=\"convertToInteractive('df-a3a0feba-0e83-465c-abfd-428b8efc4347')\"\n",
       "            title=\"Convert this dataframe to an interactive table.\"\n",
       "            style=\"display:none;\">\n",
       "\n",
       "  <svg xmlns=\"http://www.w3.org/2000/svg\" height=\"24px\" viewBox=\"0 -960 960 960\">\n",
       "    <path d=\"M120-120v-720h720v720H120Zm60-500h600v-160H180v160Zm220 220h160v-160H400v160Zm0 220h160v-160H400v160ZM180-400h160v-160H180v160Zm440 0h160v-160H620v160ZM180-180h160v-160H180v160Zm440 0h160v-160H620v160Z\"/>\n",
       "  </svg>\n",
       "    </button>\n",
       "\n",
       "  <style>\n",
       "    .colab-df-container {\n",
       "      display:flex;\n",
       "      gap: 12px;\n",
       "    }\n",
       "\n",
       "    .colab-df-convert {\n",
       "      background-color: #E8F0FE;\n",
       "      border: none;\n",
       "      border-radius: 50%;\n",
       "      cursor: pointer;\n",
       "      display: none;\n",
       "      fill: #1967D2;\n",
       "      height: 32px;\n",
       "      padding: 0 0 0 0;\n",
       "      width: 32px;\n",
       "    }\n",
       "\n",
       "    .colab-df-convert:hover {\n",
       "      background-color: #E2EBFA;\n",
       "      box-shadow: 0px 1px 2px rgba(60, 64, 67, 0.3), 0px 1px 3px 1px rgba(60, 64, 67, 0.15);\n",
       "      fill: #174EA6;\n",
       "    }\n",
       "\n",
       "    .colab-df-buttons div {\n",
       "      margin-bottom: 4px;\n",
       "    }\n",
       "\n",
       "    [theme=dark] .colab-df-convert {\n",
       "      background-color: #3B4455;\n",
       "      fill: #D2E3FC;\n",
       "    }\n",
       "\n",
       "    [theme=dark] .colab-df-convert:hover {\n",
       "      background-color: #434B5C;\n",
       "      box-shadow: 0px 1px 3px 1px rgba(0, 0, 0, 0.15);\n",
       "      filter: drop-shadow(0px 1px 2px rgba(0, 0, 0, 0.3));\n",
       "      fill: #FFFFFF;\n",
       "    }\n",
       "  </style>\n",
       "\n",
       "    <script>\n",
       "      const buttonEl =\n",
       "        document.querySelector('#df-a3a0feba-0e83-465c-abfd-428b8efc4347 button.colab-df-convert');\n",
       "      buttonEl.style.display =\n",
       "        google.colab.kernel.accessAllowed ? 'block' : 'none';\n",
       "\n",
       "      async function convertToInteractive(key) {\n",
       "        const element = document.querySelector('#df-a3a0feba-0e83-465c-abfd-428b8efc4347');\n",
       "        const dataTable =\n",
       "          await google.colab.kernel.invokeFunction('convertToInteractive',\n",
       "                                                    [key], {});\n",
       "        if (!dataTable) return;\n",
       "\n",
       "        const docLinkHtml = 'Like what you see? Visit the ' +\n",
       "          '<a target=\"_blank\" href=https://colab.research.google.com/notebooks/data_table.ipynb>data table notebook</a>'\n",
       "          + ' to learn more about interactive tables.';\n",
       "        element.innerHTML = '';\n",
       "        dataTable['output_type'] = 'display_data';\n",
       "        await google.colab.output.renderOutput(dataTable, element);\n",
       "        const docLink = document.createElement('div');\n",
       "        docLink.innerHTML = docLinkHtml;\n",
       "        element.appendChild(docLink);\n",
       "      }\n",
       "    </script>\n",
       "  </div>\n",
       "\n",
       "\n",
       "<div id=\"df-8ff2f2be-c5dc-4b07-a62a-5b6ac024e6d7\">\n",
       "  <button class=\"colab-df-quickchart\" onclick=\"quickchart('df-8ff2f2be-c5dc-4b07-a62a-5b6ac024e6d7')\"\n",
       "            title=\"Suggest charts\"\n",
       "            style=\"display:none;\">\n",
       "\n",
       "<svg xmlns=\"http://www.w3.org/2000/svg\" height=\"24px\"viewBox=\"0 0 24 24\"\n",
       "     width=\"24px\">\n",
       "    <g>\n",
       "        <path d=\"M19 3H5c-1.1 0-2 .9-2 2v14c0 1.1.9 2 2 2h14c1.1 0 2-.9 2-2V5c0-1.1-.9-2-2-2zM9 17H7v-7h2v7zm4 0h-2V7h2v10zm4 0h-2v-4h2v4z\"/>\n",
       "    </g>\n",
       "</svg>\n",
       "  </button>\n",
       "\n",
       "<style>\n",
       "  .colab-df-quickchart {\n",
       "      --bg-color: #E8F0FE;\n",
       "      --fill-color: #1967D2;\n",
       "      --hover-bg-color: #E2EBFA;\n",
       "      --hover-fill-color: #174EA6;\n",
       "      --disabled-fill-color: #AAA;\n",
       "      --disabled-bg-color: #DDD;\n",
       "  }\n",
       "\n",
       "  [theme=dark] .colab-df-quickchart {\n",
       "      --bg-color: #3B4455;\n",
       "      --fill-color: #D2E3FC;\n",
       "      --hover-bg-color: #434B5C;\n",
       "      --hover-fill-color: #FFFFFF;\n",
       "      --disabled-bg-color: #3B4455;\n",
       "      --disabled-fill-color: #666;\n",
       "  }\n",
       "\n",
       "  .colab-df-quickchart {\n",
       "    background-color: var(--bg-color);\n",
       "    border: none;\n",
       "    border-radius: 50%;\n",
       "    cursor: pointer;\n",
       "    display: none;\n",
       "    fill: var(--fill-color);\n",
       "    height: 32px;\n",
       "    padding: 0;\n",
       "    width: 32px;\n",
       "  }\n",
       "\n",
       "  .colab-df-quickchart:hover {\n",
       "    background-color: var(--hover-bg-color);\n",
       "    box-shadow: 0 1px 2px rgba(60, 64, 67, 0.3), 0 1px 3px 1px rgba(60, 64, 67, 0.15);\n",
       "    fill: var(--button-hover-fill-color);\n",
       "  }\n",
       "\n",
       "  .colab-df-quickchart-complete:disabled,\n",
       "  .colab-df-quickchart-complete:disabled:hover {\n",
       "    background-color: var(--disabled-bg-color);\n",
       "    fill: var(--disabled-fill-color);\n",
       "    box-shadow: none;\n",
       "  }\n",
       "\n",
       "  .colab-df-spinner {\n",
       "    border: 2px solid var(--fill-color);\n",
       "    border-color: transparent;\n",
       "    border-bottom-color: var(--fill-color);\n",
       "    animation:\n",
       "      spin 1s steps(1) infinite;\n",
       "  }\n",
       "\n",
       "  @keyframes spin {\n",
       "    0% {\n",
       "      border-color: transparent;\n",
       "      border-bottom-color: var(--fill-color);\n",
       "      border-left-color: var(--fill-color);\n",
       "    }\n",
       "    20% {\n",
       "      border-color: transparent;\n",
       "      border-left-color: var(--fill-color);\n",
       "      border-top-color: var(--fill-color);\n",
       "    }\n",
       "    30% {\n",
       "      border-color: transparent;\n",
       "      border-left-color: var(--fill-color);\n",
       "      border-top-color: var(--fill-color);\n",
       "      border-right-color: var(--fill-color);\n",
       "    }\n",
       "    40% {\n",
       "      border-color: transparent;\n",
       "      border-right-color: var(--fill-color);\n",
       "      border-top-color: var(--fill-color);\n",
       "    }\n",
       "    60% {\n",
       "      border-color: transparent;\n",
       "      border-right-color: var(--fill-color);\n",
       "    }\n",
       "    80% {\n",
       "      border-color: transparent;\n",
       "      border-right-color: var(--fill-color);\n",
       "      border-bottom-color: var(--fill-color);\n",
       "    }\n",
       "    90% {\n",
       "      border-color: transparent;\n",
       "      border-bottom-color: var(--fill-color);\n",
       "    }\n",
       "  }\n",
       "</style>\n",
       "\n",
       "  <script>\n",
       "    async function quickchart(key) {\n",
       "      const quickchartButtonEl =\n",
       "        document.querySelector('#' + key + ' button');\n",
       "      quickchartButtonEl.disabled = true;  // To prevent multiple clicks.\n",
       "      quickchartButtonEl.classList.add('colab-df-spinner');\n",
       "      try {\n",
       "        const charts = await google.colab.kernel.invokeFunction(\n",
       "            'suggestCharts', [key], {});\n",
       "      } catch (error) {\n",
       "        console.error('Error during call to suggestCharts:', error);\n",
       "      }\n",
       "      quickchartButtonEl.classList.remove('colab-df-spinner');\n",
       "      quickchartButtonEl.classList.add('colab-df-quickchart-complete');\n",
       "    }\n",
       "    (() => {\n",
       "      let quickchartButtonEl =\n",
       "        document.querySelector('#df-8ff2f2be-c5dc-4b07-a62a-5b6ac024e6d7 button');\n",
       "      quickchartButtonEl.style.display =\n",
       "        google.colab.kernel.accessAllowed ? 'block' : 'none';\n",
       "    })();\n",
       "  </script>\n",
       "</div>\n",
       "    </div>\n",
       "  </div>\n"
      ],
      "text/plain": [
       "    case_number MANNER_OF_DEATH\n",
       "0  ME2023-06353        ACCIDENT\n",
       "1  ME2023-06352         SUICIDE\n",
       "2  ME2023-06347        HOMICIDE\n",
       "3  ME2023-06344        ACCIDENT\n",
       "4  ME2023-06343        ACCIDENT"
      ]
     },
     "execution_count": 33,
     "metadata": {},
     "output_type": "execute_result"
    }
   ],
   "source": [
    "update.head()"
   ]
  },
  {
   "cell_type": "code",
   "execution_count": 34,
   "metadata": {
    "id": "Hn76pz4IxkZs"
   },
   "outputs": [],
   "source": [
    "# merging by case number to get the primary cause information from medical dataset\n",
    "new_set_of_data = pd.merge(update,pc_1,how ='left',left_on = 'case_number',right_on='Case Number')"
   ]
  },
  {
   "cell_type": "code",
   "execution_count": 36,
   "metadata": {
    "id": "hyGa8MeNsVRk"
   },
   "outputs": [],
   "source": [
    "unseen['MANNER_OF_DEATH'] = np.where(unseen['MANNER_OF_DEATH'] == 'ACCIDENT',1,0)"
   ]
  },
  {
   "cell_type": "code",
   "execution_count": 37,
   "metadata": {
    "colab": {
     "base_uri": "https://localhost:8080/"
    },
    "id": "P77l-QuIz1e9",
    "outputId": "1b670f87-71c7-4b25-9a2c-19d94fcd6ff3"
   },
   "outputs": [
    {
     "data": {
      "text/plain": [
       "case_number        0\n",
       "MANNER_OF_DEATH    0\n",
       "Case Number        0\n",
       "Primary Cause      0\n",
       "Manner of Death    0\n",
       "dtype: int64"
      ]
     },
     "execution_count": 37,
     "metadata": {},
     "output_type": "execute_result"
    }
   ],
   "source": [
    "new_set_of_data.isna().sum()"
   ]
  },
  {
   "cell_type": "code",
   "execution_count": 38,
   "metadata": {
    "id": "_e_iqCm30XWi"
   },
   "outputs": [],
   "source": [
    "X = new_set_of_data['Primary Cause']"
   ]
  },
  {
   "cell_type": "code",
   "execution_count": 39,
   "metadata": {
    "id": "9ii8naNr0oaF"
   },
   "outputs": [],
   "source": [
    "# Preprocessing on X"
   ]
  },
  {
   "cell_type": "code",
   "execution_count": 40,
   "metadata": {
    "id": "JiI2T0gd2Thw"
   },
   "outputs": [],
   "source": [
    "X_int = text_vectorization(X)"
   ]
  },
  {
   "cell_type": "code",
   "execution_count": 41,
   "metadata": {
    "colab": {
     "base_uri": "https://localhost:8080/"
    },
    "id": "-GBg1n-Q2d3Y",
    "outputId": "f04113f2-5ecb-4837-8d6b-0b7160229272"
   },
   "outputs": [
    {
     "name": "stdout",
     "output_type": "stream",
     "text": [
      "3/3 [==============================] - 0s 154ms/step\n"
     ]
    }
   ],
   "source": [
    "# making prediction on actual unseen data\n",
    "final_preds = model.predict(X_int)"
   ]
  },
  {
   "cell_type": "code",
   "execution_count": 42,
   "metadata": {
    "id": "2MlnE2P72wE3"
   },
   "outputs": [],
   "source": [
    "final_prediction = [num[0] for num in final_preds]"
   ]
  },
  {
   "cell_type": "code",
   "execution_count": 43,
   "metadata": {
    "id": "khud1fhd2-RX"
   },
   "outputs": [],
   "source": [
    "final_0_1 = [round(num) for num in final_prediction]"
   ]
  },
  {
   "cell_type": "code",
   "execution_count": 44,
   "metadata": {
    "id": "44zulue23OXc"
   },
   "outputs": [],
   "source": [
    "real_results = np.where(update['MANNER_OF_DEATH']== 'ACCIDENT',1,0)"
   ]
  },
  {
   "cell_type": "code",
   "execution_count": 45,
   "metadata": {
    "id": "IsUBjdcU3jQ2"
   },
   "outputs": [],
   "source": [
    "# tracking the index of the wrong prediction\n",
    "idx = 0\n",
    "wrong = []\n",
    "for p,a in zip(final_0_1,real_results):\n",
    "  if p!=a:\n",
    "    wrong.append(idx)\n",
    "    idx +=1\n",
    "  else:\n",
    "    idx +=1"
   ]
  },
  {
   "cell_type": "code",
   "execution_count": 46,
   "metadata": {
    "colab": {
     "base_uri": "https://localhost:8080/"
    },
    "id": "BMf6GW8V3tsq",
    "outputId": "e233cf0c-4b06-413a-9eb3-6e4d37d48eec"
   },
   "outputs": [
    {
     "data": {
      "text/plain": [
       "[50, 71, 87, 90]"
      ]
     },
     "execution_count": 46,
     "metadata": {},
     "output_type": "execute_result"
    }
   ],
   "source": [
    "wrong"
   ]
  },
  {
   "cell_type": "code",
   "execution_count": 47,
   "metadata": {
    "id": "skmQihL64cuI"
   },
   "outputs": [],
   "source": [
    "wrong_1 = [new_set_of_data['Primary Cause'][50],new_set_of_data['MANNER_OF_DEATH'][50],final_prediction[50]]"
   ]
  },
  {
   "cell_type": "code",
   "execution_count": 49,
   "metadata": {
    "id": "YRRi9bu65jhT"
   },
   "outputs": [],
   "source": [
    "wrong_2 = [new_set_of_data['Primary Cause'][71],new_set_of_data['MANNER_OF_DEATH'][71],final_prediction[71]]"
   ]
  },
  {
   "cell_type": "code",
   "execution_count": 50,
   "metadata": {
    "id": "gLZxm9595vYe"
   },
   "outputs": [],
   "source": [
    "wrong_3 = [new_set_of_data['Primary Cause'][87],new_set_of_data['MANNER_OF_DEATH'][87],final_prediction[87]]"
   ]
  },
  {
   "cell_type": "code",
   "execution_count": 51,
   "metadata": {
    "id": "z0bsA1F2ezVS"
   },
   "outputs": [],
   "source": [
    "wrong_4 = [new_set_of_data['Primary Cause'][90],new_set_of_data['MANNER_OF_DEATH'][90],final_prediction[90]]"
   ]
  },
  {
   "cell_type": "code",
   "execution_count": 53,
   "metadata": {
    "id": "FONK2vdg8d2e"
   },
   "outputs": [],
   "source": [
    "data ={\n",
    "    'Primary Cause': [wrong_1[0],wrong_2[0],wrong_3[0],wrong_4[0]],\n",
    "    'Actual Manner of Death':[wrong_1[1],wrong_2[1],wrong_3[1],wrong_4[1]],\n",
    "    \"Confidence Level of Model's Predication\" : [wrong_1[2],wrong_2[2],wrong_3[2],wrong_4[2]]\n",
    "}"
   ]
  },
  {
   "cell_type": "code",
   "execution_count": 54,
   "metadata": {
    "id": "0eGvljUJ9tI7"
   },
   "outputs": [],
   "source": [
    "final_df = pd.DataFrame(data)"
   ]
  },
  {
   "cell_type": "code",
   "execution_count": 57,
   "metadata": {
    "id": "Mo5xyPQ29x9o"
   },
   "outputs": [],
   "source": [
    "final_df.to_csv('/content/drive/MyDrive/Colab_Notebooks/NPL_GLOVE/final_results_on_unseen_data.csv')"
   ]
  },
  {
   "cell_type": "code",
   "execution_count": 55,
   "metadata": {
    "colab": {
     "base_uri": "https://localhost:8080/",
     "height": 244
    },
    "id": "KLsR5-9w-0XC",
    "outputId": "6f17d844-00a4-44a5-9eaf-782bbf5597eb"
   },
   "outputs": [
    {
     "data": {
      "text/html": [
       "\n",
       "  <div id=\"df-8f7d0b6c-ea7a-498f-8953-7879ab60e38c\" class=\"colab-df-container\">\n",
       "    <div>\n",
       "<style scoped>\n",
       "    .dataframe tbody tr th:only-of-type {\n",
       "        vertical-align: middle;\n",
       "    }\n",
       "\n",
       "    .dataframe tbody tr th {\n",
       "        vertical-align: top;\n",
       "    }\n",
       "\n",
       "    .dataframe thead th {\n",
       "        text-align: right;\n",
       "    }\n",
       "</style>\n",
       "<table border=\"1\" class=\"dataframe\">\n",
       "  <thead>\n",
       "    <tr style=\"text-align: right;\">\n",
       "      <th></th>\n",
       "      <th>Primary Cause</th>\n",
       "      <th>Actual Manner of Death</th>\n",
       "      <th>Confidence Level of Model's Predication</th>\n",
       "    </tr>\n",
       "  </thead>\n",
       "  <tbody>\n",
       "    <tr>\n",
       "      <th>0</th>\n",
       "      <td>COMBINED DRUG (TRAMADOL, GABAPENTIN, AND MORPH...</td>\n",
       "      <td>SUICIDE</td>\n",
       "      <td>0.559559</td>\n",
       "    </tr>\n",
       "    <tr>\n",
       "      <th>1</th>\n",
       "      <td>COMBINED ESZOPICLONE/ZOPICLONE, ZOLPIDEM, TRAZ...</td>\n",
       "      <td>SUICIDE</td>\n",
       "      <td>0.724511</td>\n",
       "    </tr>\n",
       "    <tr>\n",
       "      <th>2</th>\n",
       "      <td>DROWNING. NEGLECT IN BATHTUB</td>\n",
       "      <td>HOMICIDE</td>\n",
       "      <td>0.963549</td>\n",
       "    </tr>\n",
       "    <tr>\n",
       "      <th>3</th>\n",
       "      <td>COMPLICATIONS OF CRANIOCEREBRAL INJURIES</td>\n",
       "      <td>HOMICIDE</td>\n",
       "      <td>0.774583</td>\n",
       "    </tr>\n",
       "  </tbody>\n",
       "</table>\n",
       "</div>\n",
       "    <div class=\"colab-df-buttons\">\n",
       "\n",
       "  <div class=\"colab-df-container\">\n",
       "    <button class=\"colab-df-convert\" onclick=\"convertToInteractive('df-8f7d0b6c-ea7a-498f-8953-7879ab60e38c')\"\n",
       "            title=\"Convert this dataframe to an interactive table.\"\n",
       "            style=\"display:none;\">\n",
       "\n",
       "  <svg xmlns=\"http://www.w3.org/2000/svg\" height=\"24px\" viewBox=\"0 -960 960 960\">\n",
       "    <path d=\"M120-120v-720h720v720H120Zm60-500h600v-160H180v160Zm220 220h160v-160H400v160Zm0 220h160v-160H400v160ZM180-400h160v-160H180v160Zm440 0h160v-160H620v160ZM180-180h160v-160H180v160Zm440 0h160v-160H620v160Z\"/>\n",
       "  </svg>\n",
       "    </button>\n",
       "\n",
       "  <style>\n",
       "    .colab-df-container {\n",
       "      display:flex;\n",
       "      gap: 12px;\n",
       "    }\n",
       "\n",
       "    .colab-df-convert {\n",
       "      background-color: #E8F0FE;\n",
       "      border: none;\n",
       "      border-radius: 50%;\n",
       "      cursor: pointer;\n",
       "      display: none;\n",
       "      fill: #1967D2;\n",
       "      height: 32px;\n",
       "      padding: 0 0 0 0;\n",
       "      width: 32px;\n",
       "    }\n",
       "\n",
       "    .colab-df-convert:hover {\n",
       "      background-color: #E2EBFA;\n",
       "      box-shadow: 0px 1px 2px rgba(60, 64, 67, 0.3), 0px 1px 3px 1px rgba(60, 64, 67, 0.15);\n",
       "      fill: #174EA6;\n",
       "    }\n",
       "\n",
       "    .colab-df-buttons div {\n",
       "      margin-bottom: 4px;\n",
       "    }\n",
       "\n",
       "    [theme=dark] .colab-df-convert {\n",
       "      background-color: #3B4455;\n",
       "      fill: #D2E3FC;\n",
       "    }\n",
       "\n",
       "    [theme=dark] .colab-df-convert:hover {\n",
       "      background-color: #434B5C;\n",
       "      box-shadow: 0px 1px 3px 1px rgba(0, 0, 0, 0.15);\n",
       "      filter: drop-shadow(0px 1px 2px rgba(0, 0, 0, 0.3));\n",
       "      fill: #FFFFFF;\n",
       "    }\n",
       "  </style>\n",
       "\n",
       "    <script>\n",
       "      const buttonEl =\n",
       "        document.querySelector('#df-8f7d0b6c-ea7a-498f-8953-7879ab60e38c button.colab-df-convert');\n",
       "      buttonEl.style.display =\n",
       "        google.colab.kernel.accessAllowed ? 'block' : 'none';\n",
       "\n",
       "      async function convertToInteractive(key) {\n",
       "        const element = document.querySelector('#df-8f7d0b6c-ea7a-498f-8953-7879ab60e38c');\n",
       "        const dataTable =\n",
       "          await google.colab.kernel.invokeFunction('convertToInteractive',\n",
       "                                                    [key], {});\n",
       "        if (!dataTable) return;\n",
       "\n",
       "        const docLinkHtml = 'Like what you see? Visit the ' +\n",
       "          '<a target=\"_blank\" href=https://colab.research.google.com/notebooks/data_table.ipynb>data table notebook</a>'\n",
       "          + ' to learn more about interactive tables.';\n",
       "        element.innerHTML = '';\n",
       "        dataTable['output_type'] = 'display_data';\n",
       "        await google.colab.output.renderOutput(dataTable, element);\n",
       "        const docLink = document.createElement('div');\n",
       "        docLink.innerHTML = docLinkHtml;\n",
       "        element.appendChild(docLink);\n",
       "      }\n",
       "    </script>\n",
       "  </div>\n",
       "\n",
       "\n",
       "<div id=\"df-89c43492-bb79-46fe-898e-b71d0f5cb67e\">\n",
       "  <button class=\"colab-df-quickchart\" onclick=\"quickchart('df-89c43492-bb79-46fe-898e-b71d0f5cb67e')\"\n",
       "            title=\"Suggest charts\"\n",
       "            style=\"display:none;\">\n",
       "\n",
       "<svg xmlns=\"http://www.w3.org/2000/svg\" height=\"24px\"viewBox=\"0 0 24 24\"\n",
       "     width=\"24px\">\n",
       "    <g>\n",
       "        <path d=\"M19 3H5c-1.1 0-2 .9-2 2v14c0 1.1.9 2 2 2h14c1.1 0 2-.9 2-2V5c0-1.1-.9-2-2-2zM9 17H7v-7h2v7zm4 0h-2V7h2v10zm4 0h-2v-4h2v4z\"/>\n",
       "    </g>\n",
       "</svg>\n",
       "  </button>\n",
       "\n",
       "<style>\n",
       "  .colab-df-quickchart {\n",
       "      --bg-color: #E8F0FE;\n",
       "      --fill-color: #1967D2;\n",
       "      --hover-bg-color: #E2EBFA;\n",
       "      --hover-fill-color: #174EA6;\n",
       "      --disabled-fill-color: #AAA;\n",
       "      --disabled-bg-color: #DDD;\n",
       "  }\n",
       "\n",
       "  [theme=dark] .colab-df-quickchart {\n",
       "      --bg-color: #3B4455;\n",
       "      --fill-color: #D2E3FC;\n",
       "      --hover-bg-color: #434B5C;\n",
       "      --hover-fill-color: #FFFFFF;\n",
       "      --disabled-bg-color: #3B4455;\n",
       "      --disabled-fill-color: #666;\n",
       "  }\n",
       "\n",
       "  .colab-df-quickchart {\n",
       "    background-color: var(--bg-color);\n",
       "    border: none;\n",
       "    border-radius: 50%;\n",
       "    cursor: pointer;\n",
       "    display: none;\n",
       "    fill: var(--fill-color);\n",
       "    height: 32px;\n",
       "    padding: 0;\n",
       "    width: 32px;\n",
       "  }\n",
       "\n",
       "  .colab-df-quickchart:hover {\n",
       "    background-color: var(--hover-bg-color);\n",
       "    box-shadow: 0 1px 2px rgba(60, 64, 67, 0.3), 0 1px 3px 1px rgba(60, 64, 67, 0.15);\n",
       "    fill: var(--button-hover-fill-color);\n",
       "  }\n",
       "\n",
       "  .colab-df-quickchart-complete:disabled,\n",
       "  .colab-df-quickchart-complete:disabled:hover {\n",
       "    background-color: var(--disabled-bg-color);\n",
       "    fill: var(--disabled-fill-color);\n",
       "    box-shadow: none;\n",
       "  }\n",
       "\n",
       "  .colab-df-spinner {\n",
       "    border: 2px solid var(--fill-color);\n",
       "    border-color: transparent;\n",
       "    border-bottom-color: var(--fill-color);\n",
       "    animation:\n",
       "      spin 1s steps(1) infinite;\n",
       "  }\n",
       "\n",
       "  @keyframes spin {\n",
       "    0% {\n",
       "      border-color: transparent;\n",
       "      border-bottom-color: var(--fill-color);\n",
       "      border-left-color: var(--fill-color);\n",
       "    }\n",
       "    20% {\n",
       "      border-color: transparent;\n",
       "      border-left-color: var(--fill-color);\n",
       "      border-top-color: var(--fill-color);\n",
       "    }\n",
       "    30% {\n",
       "      border-color: transparent;\n",
       "      border-left-color: var(--fill-color);\n",
       "      border-top-color: var(--fill-color);\n",
       "      border-right-color: var(--fill-color);\n",
       "    }\n",
       "    40% {\n",
       "      border-color: transparent;\n",
       "      border-right-color: var(--fill-color);\n",
       "      border-top-color: var(--fill-color);\n",
       "    }\n",
       "    60% {\n",
       "      border-color: transparent;\n",
       "      border-right-color: var(--fill-color);\n",
       "    }\n",
       "    80% {\n",
       "      border-color: transparent;\n",
       "      border-right-color: var(--fill-color);\n",
       "      border-bottom-color: var(--fill-color);\n",
       "    }\n",
       "    90% {\n",
       "      border-color: transparent;\n",
       "      border-bottom-color: var(--fill-color);\n",
       "    }\n",
       "  }\n",
       "</style>\n",
       "\n",
       "  <script>\n",
       "    async function quickchart(key) {\n",
       "      const quickchartButtonEl =\n",
       "        document.querySelector('#' + key + ' button');\n",
       "      quickchartButtonEl.disabled = true;  // To prevent multiple clicks.\n",
       "      quickchartButtonEl.classList.add('colab-df-spinner');\n",
       "      try {\n",
       "        const charts = await google.colab.kernel.invokeFunction(\n",
       "            'suggestCharts', [key], {});\n",
       "      } catch (error) {\n",
       "        console.error('Error during call to suggestCharts:', error);\n",
       "      }\n",
       "      quickchartButtonEl.classList.remove('colab-df-spinner');\n",
       "      quickchartButtonEl.classList.add('colab-df-quickchart-complete');\n",
       "    }\n",
       "    (() => {\n",
       "      let quickchartButtonEl =\n",
       "        document.querySelector('#df-89c43492-bb79-46fe-898e-b71d0f5cb67e button');\n",
       "      quickchartButtonEl.style.display =\n",
       "        google.colab.kernel.accessAllowed ? 'block' : 'none';\n",
       "    })();\n",
       "  </script>\n",
       "</div>\n",
       "    </div>\n",
       "  </div>\n"
      ],
      "text/plain": [
       "                                       Primary Cause Actual Manner of Death  \\\n",
       "0  COMBINED DRUG (TRAMADOL, GABAPENTIN, AND MORPH...                SUICIDE   \n",
       "1  COMBINED ESZOPICLONE/ZOPICLONE, ZOLPIDEM, TRAZ...                SUICIDE   \n",
       "2                       DROWNING. NEGLECT IN BATHTUB               HOMICIDE   \n",
       "3           COMPLICATIONS OF CRANIOCEREBRAL INJURIES               HOMICIDE   \n",
       "\n",
       "   Confidence Level of Model's Predication  \n",
       "0                                 0.559559  \n",
       "1                                 0.724511  \n",
       "2                                 0.963549  \n",
       "3                                 0.774583  "
      ]
     },
     "execution_count": 55,
     "metadata": {},
     "output_type": "execute_result"
    }
   ],
   "source": [
    "# predictions that were wrong on actual unseen data\n",
    "final_df"
   ]
  },
  {
   "cell_type": "code",
   "execution_count": 56,
   "metadata": {
    "colab": {
     "base_uri": "https://localhost:8080/"
    },
    "id": "8kQUTet4-5IX",
    "outputId": "c9f2253a-5a4d-4689-fdda-185ac9a16461"
   },
   "outputs": [
    {
     "data": {
      "text/plain": [
       "1    0.868132\n",
       "0    0.131868\n",
       "dtype: float64"
      ]
     },
     "execution_count": 56,
     "metadata": {},
     "output_type": "execute_result"
    }
   ],
   "source": [
    "# baseline of unseen data\n",
    "pd.Series(real_results).value_counts(normalize =True)"
   ]
  }
 ],
 "metadata": {
  "accelerator": "GPU",
  "colab": {
   "gpuType": "T4",
   "provenance": []
  },
  "kernelspec": {
   "display_name": "Python 3 (ipykernel)",
   "language": "python",
   "name": "python3"
  },
  "language_info": {
   "codemirror_mode": {
    "name": "ipython",
    "version": 3
   },
   "file_extension": ".py",
   "mimetype": "text/x-python",
   "name": "python",
   "nbconvert_exporter": "python",
   "pygments_lexer": "ipython3",
   "version": "3.11.3"
  }
 },
 "nbformat": 4,
 "nbformat_minor": 1
}
